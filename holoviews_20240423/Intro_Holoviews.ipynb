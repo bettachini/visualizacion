{
  "cells": [
    {
      "cell_type": "code",
      "source": [
        "import pandas as pd\n",
        "import numpy as np\n",
        "import holoviews as hv\n",
        "from holoviews import opts, dim"
      ],
      "metadata": {
        "id": "SbZJ56hnsHX2"
      },
      "execution_count": null,
      "outputs": []
    },
    {
      "cell_type": "markdown",
      "source": [
        "![](https://holoviews.org/_static/logo_horizontal_theme.png)\n",
        "## ¿Qué es Holoviews?\n",
        "\n",
        "[HoloViews](https://holoviews.org/index.html) es una librería de gráficos de alto nivel que forma parte del ecosistema [HoloViz](). Permite la especificación de gráficos y es independiente de lo que se utiliza para representarlos. Usaremos Bokeh como nuestro renderizador.\n",
        "\n",
        "Para configurar esto, importamos HoloViews (como hv) y luego configuramos la extensión de Holoviews para que sea Bokeh usando hv.extension('bokeh') en la parte superior del cuaderno.\n",
        "\n",
        "## ¿Cómo funciona?\n",
        "Supongamos que tenemos un dataset en formato [tidy](https://es.wikipedia.org/wiki/Tidy_data), es decir, cada fila es un registro y cada variable es un atributo de cada registro. Ya está lógicamente organizado; cada fila es una observación y cada columna una variable. Tratemos de pensar, en primer término, de forma conceptual y no en términos de cómo vamos a escribir un código: ¿cómo hacemos para generar un gráfico de dispersión a partir de ese dataset en formato tidy?\n",
        "\n",
        "- En primer lugar, obviamete, es necesario especificar qué tipo de **elemento** gráfico queremos convertir nuestro conjunto de datos.\n",
        "- Luego, necesitamos **anotar** las columnas del dataset. Es decir, debemos anotar qué columna determinará la coordenada x en el diagrama de dispersión y cuál determinará la coordenada y.\n",
        "- Después de haber tomado estas decisiones, es decir, qué tipo de elemento gráfico queremos producir y qué columnas dan las coordenadas x y cuáles dan las coordenadas y, el scatter fundamental está completo. Todo lo demás supone customizar cuestiones de estilo y diseño gráficos.\n",
        "\n",
        "La idea, entonces, de HoloViews, es mediante el agregado de anotaciones mínimas al dataset (tidy, deben estar ordenados en formati tudy!) habilitar la visualización. Luego, se puede customizar la visualización, pero la idea es que ese proceso de anotación sea suficiente para describir la estrutura básica de un gráfico. En concreto, las anotaciones necesarias:\n",
        "\n",
        "- Qué tipo de elemento de trazado está creando (por ejemplo, dispersión, caja y bigotes, mapa de calor, etc.).\n",
        "- Qué columnas especifican las dimensiones de los datos, necesarios para configurar los ejes.\n",
        "\n",
        "Una vez que realice esas anotaciones, HoloViews puede encargarse de la representación, utilizando Matplotlib, Bokeh o Plotly. Los objetos de  HoloViews son \"conceptuales\" e independientes de los detalles de la representación. Podemos modificar todas las propiedades graficas de la visualización pero la estructura fundamental está definida en la anotación.\n",
        "\n",
        "## Importando HoloViews\n",
        "HoloViews se importa como `hv`, como se ve en la celda en la parte superior de este notebook. Debido a que HoloViews es independiente del renderizador final, necesitamos especificar una extensión, lo cual hicimos anteriormente al ejecutar `hv.extension('bokeh')`. Nuestros gráficos ahora se renderizarán usando Bokeh.\n",
        "\n",
        "\n",
        ">**Aclaración para Colab:** como van a ver a continuación por algún glitch en Colab es necesario agregar en cada celda la instrucción  `hv.extension('bokeh')`. Si no, no van a poder ver el gráfico. Esto no ocurre cuando trabajan con Jupyter notebooks locales.\n"
      ],
      "metadata": {
        "id": "aUeLJaLoHffm"
      }
    },
    {
      "cell_type": "markdown",
      "source": [
        "## Importando los datos\n",
        "Vamos a cargar un dataset con focos de incendios georreferenciados. Existen diversas fuentes para la georreferenciación de focos de incendios. Para el presente notebook, se utilizó la información basada en focos de calor producida por el FIRMS, particularmente el producto MODIS/Aqua+Terra Thermal Anomalies/Fire locations 1km FIRMS V0061 NRT (MCD14DL) en formato vectorial. Cada localización de un foco de calor representa el centro de un píxel de aproximadamente un 1km de lado, que contiene uno o más incendios o fuegos activos. Se trata de uno de los productos más básicos en los cuales se detectan potenciales incendios y otras anomalías térmicas.\n",
        "\n",
        "Ahora para trabajar con esta fuente se unificó en una sola tabla todos los registros desde el 01-01-2018 al 31-12-2022. La fuente brinda, entre otras, información sobre\n",
        "\n",
        "- la latitud y longitud del centroide correspondiente a cada pixel en que se registra las anomalías\n",
        "- la fecha y hora en que se tomó el dato\n",
        "una medida FRP (Fire Radiative Power) que mide el poder de irradiación en el foco en MegaWatts\n",
        "- una métrica sobre la “confiabilidad” del dato que varía de 0 a 100.\n",
        "\n",
        "Hay más información sobre las diferentes columnas del dataset en [este link](https://www.earthdata.nasa.gov/learn/find-data/near-real-time/firms/mcd14dl-nrt#ed-firms-attributes).\n"
      ],
      "metadata": {
        "id": "bzCnD6gOLD4Z"
      }
    },
    {
      "cell_type": "code",
      "execution_count": null,
      "metadata": {
        "id": "npQnG0c6qV0S"
      },
      "outputs": [],
      "source": [
        "fires = pd.read_csv(\"https://github.com/gefero/FCEyN_Viz/raw/main/data/modis_focus_unified_depto.csv\").dropna() # eliminamos algunos na que andan dando vuelta"
      ]
    },
    {
      "cell_type": "markdown",
      "source": [
        "\n",
        "A su vez, a este dataset, le agregamos tres columnas:\n",
        "\n",
        "- `link`: codigo de provincia y departamento\n",
        "- `provincia_cna18`: etiqueta de provincia\n",
        "- `depto_cna18`: etiqueta de departamento"
      ],
      "metadata": {
        "id": "UZK41SRGMiG0"
      }
    },
    {
      "cell_type": "markdown",
      "metadata": {
        "id": "KDKvNNVjqifQ"
      },
      "source": [
        "Generamos algunas variables de fecha que vamos a usar más adelante"
      ]
    },
    {
      "cell_type": "code",
      "execution_count": null,
      "metadata": {
        "id": "dKOcndbDqcp_",
        "colab": {
          "base_uri": "https://localhost:8080/",
          "height": 206
        },
        "outputId": "01568f33-ec3c-4e79-98aa-5fa8f608fdb6"
      },
      "outputs": [
        {
          "output_type": "execute_result",
          "data": {
            "text/plain": [
              "   brightness  scan  track    acq_date  acq_time satellite instrument  \\\n",
              "0       313.7   1.3    1.1  2019-01-01      1436     Terra      MODIS   \n",
              "1       320.3   1.0    1.0  2019-01-01      1436     Terra      MODIS   \n",
              "2       315.2   1.4    1.2  2019-01-01      1436     Terra      MODIS   \n",
              "3       312.1   1.4    1.2  2019-01-01      1436     Terra      MODIS   \n",
              "4       320.6   1.4    1.2  2019-01-01      1437     Terra      MODIS   \n",
              "\n",
              "   confidence  bright_t31   frp daynight     link      provincia_cna18  \\\n",
              "0          24       292.1  10.1        D  86014.0  santiago del estero   \n",
              "1          54       304.1   9.0        D  86133.0  santiago del estero   \n",
              "2          40       291.9  12.6        D  22007.0                chaco   \n",
              "3          11       289.7   7.9        D  22007.0                chaco   \n",
              "4           8       298.8  17.4        D  86119.0  santiago del estero   \n",
              "\n",
              "       depto_cna18  day  month  year       ym  \n",
              "0          alberdi    1      1  2019  2019-01  \n",
              "1       pellegrini    1      1  2019  2019-01  \n",
              "2  almirante brown    1      1  2019  2019-01  \n",
              "3  almirante brown    1      1  2019  2019-01  \n",
              "4           moreno    1      1  2019  2019-01  "
            ],
            "text/html": [
              "\n",
              "  <div id=\"df-6642535f-4a78-42e4-86e8-45ce510af944\">\n",
              "    <div class=\"colab-df-container\">\n",
              "      <div>\n",
              "<style scoped>\n",
              "    .dataframe tbody tr th:only-of-type {\n",
              "        vertical-align: middle;\n",
              "    }\n",
              "\n",
              "    .dataframe tbody tr th {\n",
              "        vertical-align: top;\n",
              "    }\n",
              "\n",
              "    .dataframe thead th {\n",
              "        text-align: right;\n",
              "    }\n",
              "</style>\n",
              "<table border=\"1\" class=\"dataframe\">\n",
              "  <thead>\n",
              "    <tr style=\"text-align: right;\">\n",
              "      <th></th>\n",
              "      <th>brightness</th>\n",
              "      <th>scan</th>\n",
              "      <th>track</th>\n",
              "      <th>acq_date</th>\n",
              "      <th>acq_time</th>\n",
              "      <th>satellite</th>\n",
              "      <th>instrument</th>\n",
              "      <th>confidence</th>\n",
              "      <th>bright_t31</th>\n",
              "      <th>frp</th>\n",
              "      <th>daynight</th>\n",
              "      <th>link</th>\n",
              "      <th>provincia_cna18</th>\n",
              "      <th>depto_cna18</th>\n",
              "      <th>day</th>\n",
              "      <th>month</th>\n",
              "      <th>year</th>\n",
              "      <th>ym</th>\n",
              "    </tr>\n",
              "  </thead>\n",
              "  <tbody>\n",
              "    <tr>\n",
              "      <th>0</th>\n",
              "      <td>313.7</td>\n",
              "      <td>1.3</td>\n",
              "      <td>1.1</td>\n",
              "      <td>2019-01-01</td>\n",
              "      <td>1436</td>\n",
              "      <td>Terra</td>\n",
              "      <td>MODIS</td>\n",
              "      <td>24</td>\n",
              "      <td>292.1</td>\n",
              "      <td>10.1</td>\n",
              "      <td>D</td>\n",
              "      <td>86014.0</td>\n",
              "      <td>santiago del estero</td>\n",
              "      <td>alberdi</td>\n",
              "      <td>1</td>\n",
              "      <td>1</td>\n",
              "      <td>2019</td>\n",
              "      <td>2019-01</td>\n",
              "    </tr>\n",
              "    <tr>\n",
              "      <th>1</th>\n",
              "      <td>320.3</td>\n",
              "      <td>1.0</td>\n",
              "      <td>1.0</td>\n",
              "      <td>2019-01-01</td>\n",
              "      <td>1436</td>\n",
              "      <td>Terra</td>\n",
              "      <td>MODIS</td>\n",
              "      <td>54</td>\n",
              "      <td>304.1</td>\n",
              "      <td>9.0</td>\n",
              "      <td>D</td>\n",
              "      <td>86133.0</td>\n",
              "      <td>santiago del estero</td>\n",
              "      <td>pellegrini</td>\n",
              "      <td>1</td>\n",
              "      <td>1</td>\n",
              "      <td>2019</td>\n",
              "      <td>2019-01</td>\n",
              "    </tr>\n",
              "    <tr>\n",
              "      <th>2</th>\n",
              "      <td>315.2</td>\n",
              "      <td>1.4</td>\n",
              "      <td>1.2</td>\n",
              "      <td>2019-01-01</td>\n",
              "      <td>1436</td>\n",
              "      <td>Terra</td>\n",
              "      <td>MODIS</td>\n",
              "      <td>40</td>\n",
              "      <td>291.9</td>\n",
              "      <td>12.6</td>\n",
              "      <td>D</td>\n",
              "      <td>22007.0</td>\n",
              "      <td>chaco</td>\n",
              "      <td>almirante brown</td>\n",
              "      <td>1</td>\n",
              "      <td>1</td>\n",
              "      <td>2019</td>\n",
              "      <td>2019-01</td>\n",
              "    </tr>\n",
              "    <tr>\n",
              "      <th>3</th>\n",
              "      <td>312.1</td>\n",
              "      <td>1.4</td>\n",
              "      <td>1.2</td>\n",
              "      <td>2019-01-01</td>\n",
              "      <td>1436</td>\n",
              "      <td>Terra</td>\n",
              "      <td>MODIS</td>\n",
              "      <td>11</td>\n",
              "      <td>289.7</td>\n",
              "      <td>7.9</td>\n",
              "      <td>D</td>\n",
              "      <td>22007.0</td>\n",
              "      <td>chaco</td>\n",
              "      <td>almirante brown</td>\n",
              "      <td>1</td>\n",
              "      <td>1</td>\n",
              "      <td>2019</td>\n",
              "      <td>2019-01</td>\n",
              "    </tr>\n",
              "    <tr>\n",
              "      <th>4</th>\n",
              "      <td>320.6</td>\n",
              "      <td>1.4</td>\n",
              "      <td>1.2</td>\n",
              "      <td>2019-01-01</td>\n",
              "      <td>1437</td>\n",
              "      <td>Terra</td>\n",
              "      <td>MODIS</td>\n",
              "      <td>8</td>\n",
              "      <td>298.8</td>\n",
              "      <td>17.4</td>\n",
              "      <td>D</td>\n",
              "      <td>86119.0</td>\n",
              "      <td>santiago del estero</td>\n",
              "      <td>moreno</td>\n",
              "      <td>1</td>\n",
              "      <td>1</td>\n",
              "      <td>2019</td>\n",
              "      <td>2019-01</td>\n",
              "    </tr>\n",
              "  </tbody>\n",
              "</table>\n",
              "</div>\n",
              "      <button class=\"colab-df-convert\" onclick=\"convertToInteractive('df-6642535f-4a78-42e4-86e8-45ce510af944')\"\n",
              "              title=\"Convert this dataframe to an interactive table.\"\n",
              "              style=\"display:none;\">\n",
              "        \n",
              "  <svg xmlns=\"http://www.w3.org/2000/svg\" height=\"24px\"viewBox=\"0 0 24 24\"\n",
              "       width=\"24px\">\n",
              "    <path d=\"M0 0h24v24H0V0z\" fill=\"none\"/>\n",
              "    <path d=\"M18.56 5.44l.94 2.06.94-2.06 2.06-.94-2.06-.94-.94-2.06-.94 2.06-2.06.94zm-11 1L8.5 8.5l.94-2.06 2.06-.94-2.06-.94L8.5 2.5l-.94 2.06-2.06.94zm10 10l.94 2.06.94-2.06 2.06-.94-2.06-.94-.94-2.06-.94 2.06-2.06.94z\"/><path d=\"M17.41 7.96l-1.37-1.37c-.4-.4-.92-.59-1.43-.59-.52 0-1.04.2-1.43.59L10.3 9.45l-7.72 7.72c-.78.78-.78 2.05 0 2.83L4 21.41c.39.39.9.59 1.41.59.51 0 1.02-.2 1.41-.59l7.78-7.78 2.81-2.81c.8-.78.8-2.07 0-2.86zM5.41 20L4 18.59l7.72-7.72 1.47 1.35L5.41 20z\"/>\n",
              "  </svg>\n",
              "      </button>\n",
              "      \n",
              "  <style>\n",
              "    .colab-df-container {\n",
              "      display:flex;\n",
              "      flex-wrap:wrap;\n",
              "      gap: 12px;\n",
              "    }\n",
              "\n",
              "    .colab-df-convert {\n",
              "      background-color: #E8F0FE;\n",
              "      border: none;\n",
              "      border-radius: 50%;\n",
              "      cursor: pointer;\n",
              "      display: none;\n",
              "      fill: #1967D2;\n",
              "      height: 32px;\n",
              "      padding: 0 0 0 0;\n",
              "      width: 32px;\n",
              "    }\n",
              "\n",
              "    .colab-df-convert:hover {\n",
              "      background-color: #E2EBFA;\n",
              "      box-shadow: 0px 1px 2px rgba(60, 64, 67, 0.3), 0px 1px 3px 1px rgba(60, 64, 67, 0.15);\n",
              "      fill: #174EA6;\n",
              "    }\n",
              "\n",
              "    [theme=dark] .colab-df-convert {\n",
              "      background-color: #3B4455;\n",
              "      fill: #D2E3FC;\n",
              "    }\n",
              "\n",
              "    [theme=dark] .colab-df-convert:hover {\n",
              "      background-color: #434B5C;\n",
              "      box-shadow: 0px 1px 3px 1px rgba(0, 0, 0, 0.15);\n",
              "      filter: drop-shadow(0px 1px 2px rgba(0, 0, 0, 0.3));\n",
              "      fill: #FFFFFF;\n",
              "    }\n",
              "  </style>\n",
              "\n",
              "      <script>\n",
              "        const buttonEl =\n",
              "          document.querySelector('#df-6642535f-4a78-42e4-86e8-45ce510af944 button.colab-df-convert');\n",
              "        buttonEl.style.display =\n",
              "          google.colab.kernel.accessAllowed ? 'block' : 'none';\n",
              "\n",
              "        async function convertToInteractive(key) {\n",
              "          const element = document.querySelector('#df-6642535f-4a78-42e4-86e8-45ce510af944');\n",
              "          const dataTable =\n",
              "            await google.colab.kernel.invokeFunction('convertToInteractive',\n",
              "                                                     [key], {});\n",
              "          if (!dataTable) return;\n",
              "\n",
              "          const docLinkHtml = 'Like what you see? Visit the ' +\n",
              "            '<a target=\"_blank\" href=https://colab.research.google.com/notebooks/data_table.ipynb>data table notebook</a>'\n",
              "            + ' to learn more about interactive tables.';\n",
              "          element.innerHTML = '';\n",
              "          dataTable['output_type'] = 'display_data';\n",
              "          await google.colab.output.renderOutput(dataTable, element);\n",
              "          const docLink = document.createElement('div');\n",
              "          docLink.innerHTML = docLinkHtml;\n",
              "          element.appendChild(docLink);\n",
              "        }\n",
              "      </script>\n",
              "    </div>\n",
              "  </div>\n",
              "  "
            ]
          },
          "metadata": {},
          "execution_count": 3
        }
      ],
      "source": [
        "fires['day'] = pd.DatetimeIndex(fires['acq_date']).day\n",
        "fires['month'] = pd.DatetimeIndex(fires['acq_date']).month\n",
        "fires['year'] = pd.DatetimeIndex(fires['acq_date']).year\n",
        "fires['ym'] = pd.to_datetime(fires['acq_date']).dt.strftime('%Y-%m')\n",
        "fires.head()"
      ]
    },
    {
      "cell_type": "markdown",
      "source": [],
      "metadata": {
        "id": "PieMWJGC3Q05"
      }
    },
    {
      "cell_type": "markdown",
      "metadata": {
        "id": "WFn7LY_3qo4l"
      },
      "source": [
        "## Un ejemplo inicial simple: scatterplot\n",
        "Hagamos un gráfico de dispersión y veamos cómo se relaciona la sintaxis con las ideas detrás de anotar conjuntos de datos.\n"
      ]
    },
    {
      "cell_type": "code",
      "execution_count": null,
      "metadata": {
        "colab": {
          "base_uri": "https://localhost:8080/",
          "height": 317
        },
        "id": "bM5s2Anrql80",
        "outputId": "465c1c72-e925-491f-d982-1e83881e2672"
      },
      "outputs": [],
      "source": [
        "hv.extension('bokeh')\n",
        "hv.Points(data=fires,\n",
        "                    kdims=['bright_t31', 'frp'],\n",
        "                    vdims=['satellite'])"
      ]
    },
    {
      "cell_type": "code",
      "source": [],
      "metadata": {
        "id": "ppR9H6EZhSxu"
      },
      "execution_count": null,
      "outputs": []
    },
    {
      "cell_type": "markdown",
      "source": [
        "Usamos `hv.Points` para invocar un elemento (`Element`) de visualización. Un `Element` es simplemente una forma de convertir la naturaleza tabular de los datos en una representación gráfica, en este caso, un diagrama de dispersión de puntos.\n",
        "\n",
        "Es decir, queremos hacer un gráfico en el que cada glifo se encuentre en un gráfico bidimensional y los valores de los ejes x e y sean independientes.\n",
        "\n",
        "Los tipos de elementos disponibles se pueden encontrar en la [galería de referencia de HoloViews](https://holoviews.org/reference/index.html).\n",
        "\n",
        "Existe otra forma de generar un gráfico similar y es usando `hv.Scatter`. La diferencia fundamental es que `hv.Scatter` se usa para visualizar datos donde la variable y es dependiente, a diferencia de Points."
      ],
      "metadata": {
        "id": "bBBLEiRvNo4k"
      }
    },
    {
      "cell_type": "markdown",
      "source": [
        "## Especificación de dimensiones\n",
        "Hay dos tipos de dimensiones, dimensiones clave y dimensiones de valor, especificadas con los argumentos `kdims` y `vdims`, respectivamente. Podemos pensar en las dimensiones `kdims` y `vdims` como claves y valores de un diccionario (que, a su vez, puede tener `kdims` multidimensionales). Las `kdims` dimensiones de indexación, que indican en qué parte del gráfico residirán los datos de una fila. Las dimensiones de `vdims` dan información sobre cada punto de datos. En el diagrama de arriba, las dimensiones clave son la temperatura del pixel (`bright_t31`) y  la radiación emitida (`frp`). Esas columnas determinaron dónde se colocaron los elementos del gráfico.\n",
        "\n",
        "Además, teníamos una dimensión de valor, especificada por `vdims`, que tiene información adicional asociada con cada punto de datos (el satélite con el que fue tomada la información). Esta información no se usó en el diagrama anterior, pero la pondremos en uso momentáneamente.\n",
        "\n",
        "## Customizando gráficos\n",
        "Un `Element` contiene información de dos aspectos básicos:\n",
        "\n",
        "- los datos, lo más cerca posible de su forma original, para que puedan ser analizados y accedidos como mejor le parezca\n",
        "- Metadatos que especifican cuáles son sus datos, lo que permite a HoloViews construir una representación visual adecuada para ellos.\n",
        "\n",
        "Lo que los `Element` no contienen son los detalles interminables que uno podría querer modificar sobre la representación visual, como anchos de línea, colores, fuentes y espaciado.\n",
        "\n",
        "Después de especificar un `Element`, podemos modificar las opciones de visualización y estilos usando la funcionalidad `hv.opts`. Para investigar qué opciones de estilo están disponibles para cada tipo de elemento de trazado, puede ingresar, por ejemplo"
      ],
      "metadata": {
        "id": "tmyu7nSwPvg3"
      }
    },
    {
      "cell_type": "code",
      "source": [
        "hv.help(hv.Points)"
      ],
      "metadata": {
        "colab": {
          "base_uri": "https://localhost:8080/"
        },
        "id": "IdeHQBHUQ9oz",
        "outputId": "6a1947c7-ed49-46e3-c1fa-58445aadc33c"
      },
      "execution_count": null,
      "outputs": [
        {
          "output_type": "stream",
          "name": "stdout",
          "text": [
            "Points\n",
            "\n",
            "Online example: http://holoviews.org/reference/elements/bokeh/Points.html\n",
            "\n",
            "\u001b[1;35m-------------\n",
            "Style Options\n",
            "-------------\u001b[0m\n",
            "\n",
            "\talpha, angle, cmap, color, fill_alpha, fill_color, hover_alpha, hover_color, hover_fill_alpha, hover_fill_color, hover_line_alpha, hover_line_cap, hover_line_color, hover_line_dash, hover_line_join, hover_line_width, line_alpha, line_cap, line_color, line_dash, line_join, line_width, marker, muted_alpha, muted_color, muted_fill_alpha, muted_fill_color, muted_line_alpha, muted_line_cap, muted_line_color, muted_line_dash, muted_line_join, muted_line_width, nonselection_alpha, nonselection_color, nonselection_fill_alpha, nonselection_fill_color, nonselection_line_alpha, nonselection_line_cap, nonselection_line_color, nonselection_line_dash, nonselection_line_join, nonselection_line_width, palette, selection_alpha, selection_color, selection_fill_alpha, selection_fill_color, selection_line_alpha, selection_line_cap, selection_line_color, selection_line_dash, selection_line_join, selection_line_width, size, visible\n",
            "\n",
            "(Consult bokeh's documentation for more information.)\n",
            "\n",
            "\u001b[1;35m------------\n",
            "Plot Options\n",
            "------------\u001b[0m\n",
            "\n",
            "The plot options are the parameters of the plotting class:\n",
            "\n",
            "\u001b[1;32mParameters of 'PointPlot'\n",
            "=========================\n",
            "\u001b[0m\n",
            "\u001b[1;31mParameters changed from their default values are marked in red.\u001b[0m\n",
            "\u001b[1;36mSoft bound values are marked in cyan.\u001b[0m\n",
            "C/V= Constant/Variable, RO/RW = ReadOnly/ReadWrite, AN=Allow None\n",
            "\n",
            "\u001b[1;34mName                                       Value                         Type         Bounds     Mode  \u001b[0m\n",
            "\n",
            "fontsize                             {'title': '12pt'}                Parameter                V RW AN \n",
            "fontscale                                   None                        Number                 V RW AN \n",
            "show_title                                  True                       Boolean        (0, 1)     V RW  \n",
            "title                          '{label} {group} {dimensions}'           String                   V RW  \n",
            "normalize                                   True                       Boolean        (0, 1)     V RW  \n",
            "projection                                  None                      Parameter                V RW AN \n",
            "apply_ranges                                True                       Boolean        (0, 1)     V RW  \n",
            "apply_extents                               True                       Boolean        (0, 1)     V RW  \n",
            "bgcolor                                     None                    ClassSelector              V RW AN \n",
            "default_span                                2.0                     ClassSelector                V RW  \n",
            "hooks                                        []                        HookList     (0, None)    V RW  \n",
            "invert_axes                                False                       Boolean        (0, 1)     V RW  \n",
            "invert_xaxis                               False                       Boolean        (0, 1)     V RW  \n",
            "invert_yaxis                               False                       Boolean        (0, 1)     V RW  \n",
            "logx                                       False                       Boolean        (0, 1)     V RW  \n",
            "logy                                       False                       Boolean        (0, 1)     V RW  \n",
            "padding                                     0.1                     ClassSelector                V RW  \n",
            "show_legend                                 True                       Boolean        (0, 1)     V RW  \n",
            "show_grid                                  False                       Boolean        (0, 1)     V RW  \n",
            "xaxis                                     'bottom'                  ObjectSelector               V RW  \n",
            "yaxis                                      'left'                   ObjectSelector               V RW  \n",
            "xlabel                                      None                        String                 V RW AN \n",
            "ylabel                                      None                        String                 V RW AN \n",
            "xlim                                     (nan, nan)                     Tuple                    V RW  \n",
            "ylim                                     (nan, nan)                     Tuple                    V RW  \n",
            "zlim                                     (nan, nan)                     Tuple                    V RW  \n",
            "xrotation                                   None                       Integer       (0, 360)  V RW AN \n",
            "yrotation                                   None                       Integer       (0, 360)  V RW AN \n",
            "xticks                                      None                      Parameter                V RW AN \n",
            "yticks                                      None                      Parameter                V RW AN \n",
            "shared_datasource                           True                       Boolean        (0, 1)     V RW  \n",
            "title_format                                None                        String                 V RW AN \n",
            "toolbar                                   'right'                   ObjectSelector               V RW  \n",
            "width                                       300                        Integer      (0, None)  V RW AN \n",
            "height                                      300                        Integer      (0, None)  V RW AN \n",
            "active_tools                       ['pan', 'wheel_zoom']                 List       (0, None)    V RW  \n",
            "align                                     'start'                   ObjectSelector               V RW  \n",
            "border                                       10                         Number                   V RW  \n",
            "aspect                                      None                      Parameter                V RW AN \n",
            "data_aspect                                 None                        Number                 V RW AN \n",
            "frame_width                                 None                       Integer      (0, None)  V RW AN \n",
            "frame_height                                None                       Integer      (0, None)  V RW AN \n",
            "min_width                                   None                       Integer      (0, None)  V RW AN \n",
            "min_height                                  None                       Integer      (0, None)  V RW AN \n",
            "max_width                                   None                       Integer      (0, None)  V RW AN \n",
            "max_height                                  None                       Integer      (0, None)  V RW AN \n",
            "margin                                      None                      Parameter                V RW AN \n",
            "responsive                                 False                    ObjectSelector               V RW  \n",
            "gridstyle                                    {}                          Dict                    V RW  \n",
            "labelled                                 ['x', 'y']                      List       (0, None)    V RW  \n",
            "lod                       {'factor': 10, 'interval': 300, 'thre...       Dict                    V RW  \n",
            "show_frame                                  True                       Boolean        (0, 1)     V RW  \n",
            "shared_axes                                 True                       Boolean        (0, 1)     V RW  \n",
            "default_tools             ['save', 'pan', 'wheel_zoom', 'box_zo...       List       (0, None)    V RW  \n",
            "tools                                        []                          List       (0, None)    V RW  \n",
            "xformatter                                  None                    ClassSelector              V RW AN \n",
            "yformatter                                  None                    ClassSelector              V RW AN \n",
            "color_levels                                None                    ClassSelector              V RW AN \n",
            "cformatter                                  None                    ClassSelector              V RW AN \n",
            "clabel                                      None                        String                 V RW AN \n",
            "clim                                     (nan, nan)                     Tuple                    V RW  \n",
            "clim_percentile                            False                    ClassSelector                V RW  \n",
            "cnorm                                     'linear'                  ObjectSelector               V RW  \n",
            "colorbar                                   False                       Boolean        (0, 1)     V RW  \n",
            "colorbar_position                         'right'                   ObjectSelector               V RW  \n",
            "colorbar_opts                                {}                          Dict                    V RW  \n",
            "clipping_colors                              {}                          Dict                    V RW  \n",
            "logz                                       False                       Boolean        (0, 1)     V RW  \n",
            "rescale_discrete_levels                     True                       Boolean        (0, 1)     V RW  \n",
            "symmetric                                  False                       Boolean        (0, 1)     V RW  \n",
            "legend_cols                                False                       Integer                   V RW  \n",
            "legend_labels                               None                         Dict                  V RW AN \n",
            "legend_muted                               False                       Boolean        (0, 1)     V RW  \n",
            "legend_offset                              (0, 0)                    NumericTuple                V RW  \n",
            "legend_position                         'top_right'                 ObjectSelector               V RW  \n",
            "legend_opts                                  {}                          Dict                    V RW  \n",
            "jitter                                      None                        Number      (0, None)  V RW AN \n",
            "selected                                    None                         List       (0, None)  V RW AN \n",
            "color_index                                 None                    ClassSelector              V RW AN \n",
            "size_index                                  None                    ClassSelector              V RW AN \n",
            "scaling_method                             'area'                   ObjectSelector               V RW  \n",
            "scaling_factor                               1                          Number      (0, None)    V RW  \n",
            "size_fn                              <ufunc 'absolute'>                Callable                  V RW  \n",
            "\n",
            "\u001b[1;32mParameter docstrings:\n",
            "=====================\u001b[0m\n",
            "\n",
            "\u001b[1;34mfontsize:                Specifies various fontsizes of the displayed text.\u001b[0m\n",
            "\u001b[1;34m                         \u001b[0m\n",
            "\u001b[1;34m                         Finer control is available by supplying a dictionary where any\u001b[0m\n",
            "\u001b[1;34m                         unmentioned keys reverts to the default sizes, e.g:\u001b[0m\n",
            "\u001b[1;34m                         \u001b[0m\n",
            "\u001b[1;34m                            {'ticks': '20pt', 'title': '15pt', 'ylabel': '5px', 'xlabel': '5px'}\u001b[0m\n",
            "\u001b[1;31mfontscale:               Scales the size of all fonts.\u001b[0m\n",
            "\u001b[1;34mshow_title:              Whether to display the plot title.\u001b[0m\n",
            "\u001b[1;31mtitle:                   The formatting string for the title of this plot, allows defining\u001b[0m\n",
            "\u001b[1;31m                         a label group separator and dimension labels.\u001b[0m\n",
            "\u001b[1;34mnormalize:               Whether to compute ranges across all Elements at this level\u001b[0m\n",
            "\u001b[1;34m                         of plotting. Allows selecting normalization at different levels\u001b[0m\n",
            "\u001b[1;34m                         for nested data containers.\u001b[0m\n",
            "\u001b[1;31mprojection:              Allows supplying a custom projection to transform the axis\u001b[0m\n",
            "\u001b[1;31m                         coordinates during display. Example projections include '3d'\u001b[0m\n",
            "\u001b[1;31m                         and 'polar' projections supported by some backends. Depending\u001b[0m\n",
            "\u001b[1;31m                         on the backend custom, projection objects may be supplied.\u001b[0m\n",
            "\u001b[1;34mapply_ranges:            Whether to compute the plot bounds from the data itself.\u001b[0m\n",
            "\u001b[1;31mapply_extents:           Whether to apply extent overrides on the Elements\u001b[0m\n",
            "\u001b[1;34mbgcolor:                 If set bgcolor overrides the background color of the axis.\u001b[0m\n",
            "\u001b[1;31mdefault_span:            Defines the span of an axis if the axis range is zero, i.e. if\u001b[0m\n",
            "\u001b[1;31m                         the lower and upper end of an axis are equal or no range is\u001b[0m\n",
            "\u001b[1;31m                         defined at all. For example if there is a single datapoint at\u001b[0m\n",
            "\u001b[1;31m                         0 a default_span of 2.0 will result in axis ranges spanning\u001b[0m\n",
            "\u001b[1;31m                         from -1 to 1.\u001b[0m\n",
            "\u001b[1;34mhooks:                   Optional list of hooks called when finalizing a plot. The\u001b[0m\n",
            "\u001b[1;34m                         hook is passed the plot object and the displayed element, and\u001b[0m\n",
            "\u001b[1;34m                         other plotting handles can be accessed via plot.handles.\u001b[0m\n",
            "\u001b[1;31minvert_axes:             Whether to invert the x- and y-axis\u001b[0m\n",
            "\u001b[1;34minvert_xaxis:            Whether to invert the plot x-axis.\u001b[0m\n",
            "\u001b[1;31minvert_yaxis:            Whether to invert the plot y-axis.\u001b[0m\n",
            "\u001b[1;34mlogx:                    Whether the x-axis of the plot will be a log axis.\u001b[0m\n",
            "\u001b[1;31mlogy:                    Whether the y-axis of the plot will be a log axis.\u001b[0m\n",
            "\u001b[1;34mpadding:                 Fraction by which to increase auto-ranged extents to make\u001b[0m\n",
            "\u001b[1;34m                         datapoints more visible around borders.\u001b[0m\n",
            "\u001b[1;34m                         \u001b[0m\n",
            "\u001b[1;34m                         To compute padding, the axis whose screen size is largest is\u001b[0m\n",
            "\u001b[1;34m                         chosen, and the range of that axis is increased by the\u001b[0m\n",
            "\u001b[1;34m                         specified fraction along each axis.  Other axes are then\u001b[0m\n",
            "\u001b[1;34m                         padded ensuring that the amount of screen space devoted to\u001b[0m\n",
            "\u001b[1;34m                         padding is equal for all axes. If specified as a tuple, the\u001b[0m\n",
            "\u001b[1;34m                         int or float values in the tuple will be used for padding in\u001b[0m\n",
            "\u001b[1;34m                         each axis, in order (x,y or x,y,z).\u001b[0m\n",
            "\u001b[1;34m                         \u001b[0m\n",
            "\u001b[1;34m                         For example, for padding=0.2 on a 800x800-pixel plot, an x-axis\u001b[0m\n",
            "\u001b[1;34m                         with the range [0,10] will be padded by 20% to be [-1,11], while\u001b[0m\n",
            "\u001b[1;34m                         a y-axis with a range [0,1000] will be padded to be [-100,1100],\u001b[0m\n",
            "\u001b[1;34m                         which should make the padding be approximately the same number of\u001b[0m\n",
            "\u001b[1;34m                         pixels. But if the same plot is changed to have a height of only\u001b[0m\n",
            "\u001b[1;34m                         200, the y-range will then be [-400,1400] so that the y-axis\u001b[0m\n",
            "\u001b[1;34m                         padding will still match that of the x-axis.\u001b[0m\n",
            "\u001b[1;34m                         \u001b[0m\n",
            "\u001b[1;34m                         It is also possible to declare non-equal padding value for the\u001b[0m\n",
            "\u001b[1;34m                         lower and upper bound of an axis by supplying nested tuples,\u001b[0m\n",
            "\u001b[1;34m                         e.g. padding=(0.1, (0, 0.1)) will pad the x-axis lower and\u001b[0m\n",
            "\u001b[1;34m                         upper bound as well as the y-axis upper bound by a fraction of\u001b[0m\n",
            "\u001b[1;34m                         0.1 while the y-axis lower bound is not padded at all.\u001b[0m\n",
            "\u001b[1;31mshow_legend:             Whether to show legend for the plot.\u001b[0m\n",
            "\u001b[1;34mshow_grid:               Whether to show a Cartesian grid on the plot.\u001b[0m\n",
            "\u001b[1;31mxaxis:                   Whether and where to display the xaxis.\u001b[0m\n",
            "\u001b[1;31m                         The \"bare\" options allow suppressing all axis labels, including ticks and xlabel.\u001b[0m\n",
            "\u001b[1;31m                         Valid options are 'top', 'bottom', 'bare', 'top-bare' and 'bottom-bare'.\u001b[0m\n",
            "\u001b[1;34myaxis:                   Whether and where to display the yaxis.\u001b[0m\n",
            "\u001b[1;34m                         The \"bare\" options allow suppressing all axis labels, including ticks and ylabel.\u001b[0m\n",
            "\u001b[1;34m                         Valid options are 'left', 'right', 'bare', 'left-bare' and 'right-bare'.\u001b[0m\n",
            "\u001b[1;31mxlabel:                  An explicit override of the x-axis label, if set takes precedence\u001b[0m\n",
            "\u001b[1;31m                         over the dimension label.\u001b[0m\n",
            "\u001b[1;34mylabel:                  An explicit override of the y-axis label, if set takes precedence\u001b[0m\n",
            "\u001b[1;34m                         over the dimension label.\u001b[0m\n",
            "\u001b[1;31mxlim:                    User-specified x-axis range limits for the plot, as a tuple (low,high).\u001b[0m\n",
            "\u001b[1;31m                         If specified, takes precedence over data and dimension ranges.\u001b[0m\n",
            "\u001b[1;34mylim:                    User-specified x-axis range limits for the plot, as a tuple (low,high).\u001b[0m\n",
            "\u001b[1;34m                         If specified, takes precedence over data and dimension ranges.\u001b[0m\n",
            "\u001b[1;31mzlim:                    User-specified z-axis range limits for the plot, as a tuple (low,high).\u001b[0m\n",
            "\u001b[1;31m                         If specified, takes precedence over data and dimension ranges.\u001b[0m\n",
            "\u001b[1;34mxrotation:               Rotation angle of the xticks.\u001b[0m\n",
            "\u001b[1;31myrotation:               Rotation angle of the yticks.\u001b[0m\n",
            "\u001b[1;34mxticks:                  Ticks along x-axis specified as an integer, explicit list of\u001b[0m\n",
            "\u001b[1;34m                         tick locations, or bokeh Ticker object. If set to None default\u001b[0m\n",
            "\u001b[1;34m                         bokeh ticking behavior is applied.\u001b[0m\n",
            "\u001b[1;31myticks:                  Ticks along y-axis specified as an integer, explicit list of\u001b[0m\n",
            "\u001b[1;31m                         tick locations, or bokeh Ticker object. If set to None\u001b[0m\n",
            "\u001b[1;31m                         default bokeh ticking behavior is applied.\u001b[0m\n",
            "\u001b[1;34mshared_datasource:       Whether Elements drawing the data from the same object should\u001b[0m\n",
            "\u001b[1;34m                         share their Bokeh data source allowing for linked brushing\u001b[0m\n",
            "\u001b[1;34m                         and other linked behaviors.\u001b[0m\n",
            "\u001b[1;31mtitle_format:            Alias for title.\u001b[0m\n",
            "\u001b[1;34mtoolbar:                 The toolbar location, must be one of 'above', 'below',\u001b[0m\n",
            "\u001b[1;34m                         'left', 'right', None.\u001b[0m\n",
            "\u001b[1;31mwidth:                   The width of the component (in pixels). This can be either\u001b[0m\n",
            "\u001b[1;31m                         fixed or preferred width, depending on width sizing policy.\u001b[0m\n",
            "\u001b[1;34mheight:                  The height of the component (in pixels).  This can be either\u001b[0m\n",
            "\u001b[1;34m                         fixed or preferred height, depending on height sizing policy.\u001b[0m\n",
            "\u001b[1;31mactive_tools:            Allows specifying which tools are active by default. Note\u001b[0m\n",
            "\u001b[1;31m                         that only one tool per gesture type can be active, e.g.\u001b[0m\n",
            "\u001b[1;31m                         both 'pan' and 'box_zoom' are drag tools, so if both are\u001b[0m\n",
            "\u001b[1;31m                         listed only the last one will be active.\u001b[0m\n",
            "\u001b[1;34malign:                   Alignment (vertical or horizontal) of the plot in a layout.\u001b[0m\n",
            "\u001b[1;31mborder:                  Minimum border around plot.\u001b[0m\n",
            "\u001b[1;34maspect:                  The aspect ratio mode of the plot. By default, a plot may\u001b[0m\n",
            "\u001b[1;34m                         select its own appropriate aspect ratio but sometimes it may\u001b[0m\n",
            "\u001b[1;34m                         be necessary to force a square aspect ratio (e.g. to display\u001b[0m\n",
            "\u001b[1;34m                         the plot as an element of a grid). The modes 'auto' and\u001b[0m\n",
            "\u001b[1;34m                         'equal' correspond to the axis modes of the same name in\u001b[0m\n",
            "\u001b[1;34m                         matplotlib, a numeric value specifying the ratio between plot\u001b[0m\n",
            "\u001b[1;34m                         width and height may also be passed. To control the aspect\u001b[0m\n",
            "\u001b[1;34m                         ratio between the axis scales use the data_aspect option\u001b[0m\n",
            "\u001b[1;34m                         instead.\u001b[0m\n",
            "\u001b[1;31mdata_aspect:             Defines the aspect of the axis scaling, i.e. the ratio of\u001b[0m\n",
            "\u001b[1;31m                         y-unit to x-unit.\u001b[0m\n",
            "\u001b[1;34mframe_width:             The width of the component (in pixels). This can be either\u001b[0m\n",
            "\u001b[1;34m                         fixed or preferred width, depending on width sizing policy.\u001b[0m\n",
            "\u001b[1;31mframe_height:            The height of the component (in pixels).  This can be either\u001b[0m\n",
            "\u001b[1;31m                         fixed or preferred height, depending on height sizing policy.\u001b[0m\n",
            "\u001b[1;34mmin_width:               Minimal width of the component (in pixels) if width is adjustable.\u001b[0m\n",
            "\u001b[1;31mmin_height:              Minimal height of the component (in pixels) if height is adjustable.\u001b[0m\n",
            "\u001b[1;34mmax_width:               Minimal width of the component (in pixels) if width is adjustable.\u001b[0m\n",
            "\u001b[1;31mmax_height:              Minimal height of the component (in pixels) if height is adjustable.\u001b[0m\n",
            "\u001b[1;34mmargin:                  Allows to create additional space around the component. May\u001b[0m\n",
            "\u001b[1;34m                         be specified as a two-tuple of the form (vertical, horizontal)\u001b[0m\n",
            "\u001b[1;34m                         or a four-tuple (top, right, bottom, left).\u001b[0m\n",
            "\u001b[1;31mresponsive:              < No docstring available >\u001b[0m\n",
            "\u001b[1;34mgridstyle:               Allows customizing the grid style, e.g. grid_line_color defines\u001b[0m\n",
            "\u001b[1;34m                         the line color for both grids while xgrid_line_color exclusively\u001b[0m\n",
            "\u001b[1;34m                         customizes the x-axis grid lines.\u001b[0m\n",
            "\u001b[1;31mlabelled:                Whether to plot the 'x' and 'y' labels.\u001b[0m\n",
            "\u001b[1;34mlod:                     Bokeh plots offer \"Level of Detail\" (LOD) capability to\u001b[0m\n",
            "\u001b[1;34m                         accommodate large (but not huge) amounts of data. The available\u001b[0m\n",
            "\u001b[1;34m                         options are:\u001b[0m\n",
            "\u001b[1;34m                         \u001b[0m\n",
            "\u001b[1;34m                           * factor    : Decimation factor to use when applying\u001b[0m\n",
            "\u001b[1;34m                                         decimation.\u001b[0m\n",
            "\u001b[1;34m                           * interval  : Interval (in ms) downsampling will be enabled\u001b[0m\n",
            "\u001b[1;34m                                         after an interactive event.\u001b[0m\n",
            "\u001b[1;34m                           * threshold : Number of samples before downsampling is enabled.\u001b[0m\n",
            "\u001b[1;34m                           * timeout   : Timeout (in ms) for checking whether interactive\u001b[0m\n",
            "\u001b[1;34m                                         tool events are still occurring.\u001b[0m\n",
            "\u001b[1;31mshow_frame:              Whether or not to show a complete frame around the plot.\u001b[0m\n",
            "\u001b[1;34mshared_axes:             Whether to invert the share axes across plots\u001b[0m\n",
            "\u001b[1;34m                         for linked panning and zooming.\u001b[0m\n",
            "\u001b[1;31mdefault_tools:           A list of plugin tools to use on the plot.\u001b[0m\n",
            "\u001b[1;34mtools:                   A list of plugin tools to use on the plot.\u001b[0m\n",
            "\u001b[1;31mxformatter:              Formatter for ticks along the x-axis.\u001b[0m\n",
            "\u001b[1;34myformatter:              Formatter for ticks along the x-axis.\u001b[0m\n",
            "\u001b[1;31mcolor_levels:            Number of discrete colors to use when colormapping or a set of color\u001b[0m\n",
            "\u001b[1;31m                         intervals defining the range of values to map each color to.\u001b[0m\n",
            "\u001b[1;34mcformatter:              Formatter for ticks along the colorbar axis.\u001b[0m\n",
            "\u001b[1;31mclabel:                  An explicit override of the color bar label. If set, takes precedence\u001b[0m\n",
            "\u001b[1;31m                         over the title key in colorbar_opts.\u001b[0m\n",
            "\u001b[1;34mclim:                    User-specified colorbar axis range limits for the plot, as a tuple (low,high).\u001b[0m\n",
            "\u001b[1;34m                         If specified, takes precedence over data and dimension ranges.\u001b[0m\n",
            "\u001b[1;31mclim_percentile:         Percentile value to compute colorscale robust to outliers. If\u001b[0m\n",
            "\u001b[1;31m                         True, uses 2nd and 98th percentile; otherwise uses the specified\u001b[0m\n",
            "\u001b[1;31m                         numerical percentile value.\u001b[0m\n",
            "\u001b[1;34mcnorm:                   Color normalization to be applied during colormapping.\u001b[0m\n",
            "\u001b[1;31mcolorbar:                Whether to display a colorbar.\u001b[0m\n",
            "\u001b[1;34mcolorbar_position:       Allows selecting between a number of predefined colorbar position\u001b[0m\n",
            "\u001b[1;34m                         options. The predefined options may be customized in the\u001b[0m\n",
            "\u001b[1;34m                         colorbar_specs class attribute.\u001b[0m\n",
            "\u001b[1;31mcolorbar_opts:           Allows setting specific styling options for the colorbar overriding\u001b[0m\n",
            "\u001b[1;31m                         the options defined in the colorbar_specs class attribute. Includes\u001b[0m\n",
            "\u001b[1;31m                         location, orientation, height, width, scale_alpha, title, title_props,\u001b[0m\n",
            "\u001b[1;31m                         margin, padding, background_fill_color and more.\u001b[0m\n",
            "\u001b[1;34mclipping_colors:         Dictionary to specify colors for clipped values, allows\u001b[0m\n",
            "\u001b[1;34m                         setting color for NaN values and for values above and below\u001b[0m\n",
            "\u001b[1;34m                         the min and max value. The min, max or NaN color may specify\u001b[0m\n",
            "\u001b[1;34m                         an RGB(A) color as a color hex string of the form #FFFFFF or\u001b[0m\n",
            "\u001b[1;34m                         #FFFFFFFF or a length 3 or length 4 tuple specifying values in\u001b[0m\n",
            "\u001b[1;34m                         the range 0-1 or a named HTML color.\u001b[0m\n",
            "\u001b[1;31mlogz:                    Whether to apply log scaling to the z-axis.\u001b[0m\n",
            "\u001b[1;34mrescale_discrete_levels: If ``cnorm='eq_hist`` and there are only a few discrete values,\u001b[0m\n",
            "\u001b[1;34m                         then ``rescale_discrete_levels=True`` decreases the lower\u001b[0m\n",
            "\u001b[1;34m                         limit of the autoranged span so that the values are rendering\u001b[0m\n",
            "\u001b[1;34m                         towards the (more visible) top of the palette, thus\u001b[0m\n",
            "\u001b[1;34m                         avoiding washout of the lower values.  Has no effect if\u001b[0m\n",
            "\u001b[1;34m                         ``cnorm!=`eq_hist``.\u001b[0m\n",
            "\u001b[1;31msymmetric:               Whether to make the colormap symmetric around zero.\u001b[0m\n",
            "\u001b[1;34mlegend_cols:             Whether to lay out the legend as columns.\u001b[0m\n",
            "\u001b[1;31mlegend_labels:           Label overrides.\u001b[0m\n",
            "\u001b[1;34mlegend_muted:            Controls whether the legend entries are muted by default.\u001b[0m\n",
            "\u001b[1;31mlegend_offset:           If legend is placed outside the axis, this determines the\u001b[0m\n",
            "\u001b[1;31m                         (width, height) offset in pixels from the original position.\u001b[0m\n",
            "\u001b[1;34mlegend_position:         Allows selecting between a number of predefined legend position\u001b[0m\n",
            "\u001b[1;34m                         options. The predefined options may be customized in the\u001b[0m\n",
            "\u001b[1;34m                         legend_specs class attribute.\u001b[0m\n",
            "\u001b[1;31mlegend_opts:             Allows setting specific styling options for the colorbar.\u001b[0m\n",
            "\u001b[1;34mjitter:                  The amount of jitter to apply to offset the points along the x-axis.\u001b[0m\n",
            "\u001b[1;31mselected:                The current selection as a list of integers corresponding\u001b[0m\n",
            "\u001b[1;31m                         to the selected items.\u001b[0m\n",
            "\u001b[1;34mcolor_index:             Deprecated in favor of color style mapping, e.g. `color=dim('color')`\u001b[0m\n",
            "\u001b[1;31msize_index:              Deprecated in favor of size style mapping, e.g. `size=dim('size')`\u001b[0m\n",
            "\u001b[1;34mscaling_method:          Deprecated in favor of size style mapping, e.g.\u001b[0m\n",
            "\u001b[1;34m                         size=dim('size')**2.\u001b[0m\n",
            "\u001b[1;31mscaling_factor:          Scaling factor which is applied to either the width or area\u001b[0m\n",
            "\u001b[1;31m                         of each point, depending on the value of `scaling_method`.\u001b[0m\n",
            "\u001b[1;34msize_fn:                 Function applied to size values before applying scaling,\u001b[0m\n",
            "\u001b[1;34m                         to remove values lower than zero.\u001b[0m\n"
          ]
        }
      ]
    },
    {
      "cell_type": "markdown",
      "source": [
        "y obtenemos información detallada sobre qué opciones están disponibles para estilizar elementos `hv.Points`. Probemos un estilo diferente para el gráfico anterior usando `.opts()`."
      ],
      "metadata": {
        "id": "hPdXHIsjRGf5"
      }
    },
    {
      "cell_type": "code",
      "source": [
        "hv.extension('bokeh')\n",
        "hv.Points(\n",
        "    data=fires,\n",
        "    kdims=['bright_t31', 'frp'],\n",
        "    vdims=['satellite']).opts(\n",
        "      alpha=0.7,\n",
        "      color='#1f77b3',\n",
        "      frame_height=400,\n",
        "      frame_width=400,\n",
        "      show_grid=True,\n",
        ")\n"
      ],
      "metadata": {
        "colab": {
          "base_uri": "https://localhost:8080/",
          "height": 482
        },
        "id": "KuRSLliiRP35",
        "outputId": "77cc3cbe-89c5-4e1b-c82b-f91b545f97b9"
      },
      "execution_count": null,
      "outputs": []
    },
    {
      "cell_type": "markdown",
      "source": [
        "Pueden setearse opciones gráficas por default usando `hv.opts.defaults()`."
      ],
      "metadata": {
        "id": "Hx9m3DApRS83"
      }
    },
    {
      "cell_type": "markdown",
      "source": [
        "## Agrupación por dimensiones de valor\n",
        "Nos había quedado una `vdim` en el elemento que creamos. Naturalmente, nos gustaría separar los datos por satélite. Para hacer esto, podemos hacer una operación `groupby` en el `Element`. Así es, ¡podemos hacer operaciones de agrupación en elementos gráficos!"
      ],
      "metadata": {
        "id": "iQpKsRuXTXV2"
      }
    },
    {
      "cell_type": "code",
      "source": [
        "hv.extension('bokeh')\n",
        "\n",
        "hv.Points(\n",
        "    data=fires,\n",
        " kdims=['bright_t31', 'frp'],\n",
        "    vdims=['satellite', 'provincia_cna18']\n",
        ").groupby(\n",
        "    ['satellite', 'provincia_cna18']\n",
        ")"
      ],
      "metadata": {
        "colab": {
          "base_uri": "https://localhost:8080/",
          "height": 317
        },
        "id": "rKYz1c0nTi8k",
        "outputId": "f1eaa531-6840-4fc5-9660-9702ec8c0449"
      },
      "execution_count": null,
      "outputs": []
    },
    {
      "cell_type": "markdown",
      "source": [
        "Ahora tenemos un menú desplegable a la derecha del gráfico donde podemos seleccionar el satélite que queremos. Por defecto, después de aplicar la operación `groupby`, HoloViews nos da un objeto `HoloMap`. Los valores en la columna por la que solíamos agrupar ahora se pueden seleccionar a través de una interfaz gráfica (un menú desplegable).\n",
        "\n",
        "Para tener una idea de qué está pasando por detrás, pensemos en ese objeto `HoloMap` como si fuera un diccionario... que de hecho, lo es. Entonces, lo que está pasando es algo como lo que sigue.\n",
        "\n",
        "Primero generamos un diccionario cuya `kdim` es el satelite y sus valores son diferentes elementos `hv.Point`"
      ],
      "metadata": {
        "id": "Sizk4wHJU2YZ"
      }
    },
    {
      "cell_type": "code",
      "source": [
        "dicc = {sat:hv.Points(fire,\n",
        "                            kdims=['bright_t31', 'frp'],\n",
        "                            vdims=['satellite'])\n",
        "        for sat, fire  in fires[['bright_t31','frp','satellite']].groupby('satellite')}"
      ],
      "metadata": {
        "id": "nkI-kpr1agF4"
      },
      "execution_count": null,
      "outputs": []
    },
    {
      "cell_type": "markdown",
      "source": [
        "Luego, lo pasamos argumento a un `hv.HoloMap`"
      ],
      "metadata": {
        "id": "3f3wr8xCbg8a"
      }
    },
    {
      "cell_type": "code",
      "source": [
        "hv.extension('bokeh')\n",
        "hv.HoloMap(dicc, kdims='satellite')"
      ],
      "metadata": {
        "colab": {
          "base_uri": "https://localhost:8080/",
          "height": 317
        },
        "id": "JbgfESQZbCs9",
        "outputId": "7af257ba-788e-477e-df50-ed794512db8a"
      },
      "execution_count": null,
      "outputs": []
    },
    {
      "cell_type": "markdown",
      "source": [
        "\n",
        "Volvamos al hilo incial. Podemos agrupar por satélite y colocar cada plot uno al lado del otro, creando un `layout`. Podemos usar el método `layout()` para hacer esto."
      ],
      "metadata": {
        "id": "r3vWf9z1aQro"
      }
    },
    {
      "cell_type": "code",
      "source": [
        "hv.extension('bokeh')\n",
        "\n",
        "hv.Points(\n",
        "    data=fires,\n",
        " kdims=['bright_t31', 'frp'],\n",
        "    vdims=['satellite']\n",
        ").groupby(\n",
        "    ['satellite']\n",
        ").opts(\n",
        "    frame_height=400,\n",
        "    frame_width=400,\n",
        ").layout(\n",
        ")"
      ],
      "metadata": {
        "colab": {
          "base_uri": "https://localhost:8080/",
          "height": 521
        },
        "id": "-e_DMeNnVC34",
        "outputId": "d8081482-18a1-442a-ea63-2330dda54649"
      },
      "execution_count": null,
      "outputs": []
    },
    {
      "cell_type": "markdown",
      "source": [
        "Podríamos pensar en otro tipo de layout. Por ejemplo, supongamos que queremos agregar dos histogramas al costado del scatter inicial. Podemos utilizar el operador `+` para genera el layout"
      ],
      "metadata": {
        "id": "nXV0ndjScDPS"
      }
    },
    {
      "cell_type": "code",
      "source": [
        "hv.extension('bokeh')\n",
        "gr = (hv.Points(\n",
        "    data=fires,\n",
        "    kdims=['bright_t31', 'frp'],\n",
        "    vdims=['satellite']) +\n",
        "    hv.Histogram(np.histogram(fires['frp'], bins=100), kdims=['frp']) +\n",
        "    hv.Histogram(np.histogram(fires['bright_t31'], bins=100), kdims=['confidence'])).cols(2)\n",
        "\n",
        "print(gr)"
      ],
      "metadata": {
        "colab": {
          "base_uri": "https://localhost:8080/",
          "height": 86
        },
        "id": "-ur2gixFcdr7",
        "outputId": "5770b002-3ccd-4875-e697-c330b0ed77e2"
      },
      "execution_count": null,
      "outputs": []
    },
    {
      "cell_type": "markdown",
      "source": [
        "Puede vere que el objet `gr` es un `layout` de tres elementos o niveles.\n",
        "\n",
        "- un hv.Point\n",
        "- dos hv.Histogram\n",
        "\n",
        "cada uno definido con sus `kdims` y `vdims` respectivas."
      ],
      "metadata": {
        "id": "gSteHdAAcvol"
      }
    },
    {
      "cell_type": "code",
      "source": [
        "hv.extension('bokeh')\n",
        "gr"
      ],
      "metadata": {
        "colab": {
          "base_uri": "https://localhost:8080/",
          "height": 647
        },
        "id": "QFzun4thdI30",
        "outputId": "f7e7cb01-b181-495e-9b14-12acd11827e6"
      },
      "execution_count": null,
      "outputs": []
    },
    {
      "cell_type": "markdown",
      "source": [
        "Finalmente, es posible que deseemos superponer las parcelas para cada especie que dividimos por satélite. Para eso podemos usar el operador `.overlay()`"
      ],
      "metadata": {
        "id": "986XGKONVx9n"
      }
    },
    {
      "cell_type": "code",
      "source": [
        "hv.extension('bokeh')\n",
        "\n",
        "hv.Points(\n",
        "    data=fires,\n",
        " kdims=['bright_t31', 'frp'],\n",
        "    vdims=['satellite','provincia_cna18']\n",
        ").groupby(\n",
        "    ['satellite']\n",
        ").opts(\n",
        "    frame_height=400,\n",
        "    frame_width=400,\n",
        ").overlay(\n",
        ")"
      ],
      "metadata": {
        "colab": {
          "base_uri": "https://localhost:8080/",
          "height": 482
        },
        "id": "j4OlRvQ3VeI7",
        "outputId": "689f7d31-8418-4749-9d92-0690dfdefbbb"
      },
      "execution_count": null,
      "outputs": []
    },
    {
      "cell_type": "markdown",
      "source": [
        "Podemos seguir agregando funcionalidades. Podemos agregar tooltips mediante `opts()` y, de esta forma, obtener información adicional de las `vdims`.\n",
        "\n"
      ],
      "metadata": {
        "id": "R49sNc6lXAcC"
      }
    },
    {
      "cell_type": "code",
      "source": [
        "hv.extension('bokeh')\n",
        "\n",
        "hv.Points(\n",
        "    data=fires,\n",
        " kdims=['bright_t31', 'frp'],\n",
        "vdims=['satellite','provincia_cna18']\n",
        ").groupby(\n",
        "    ['satellite']\n",
        ").opts(\n",
        "    frame_height=400,\n",
        "    frame_width=400,\n",
        "    tools=['hover'] # Agregamos los tooltips\n",
        ").overlay(\n",
        ")"
      ],
      "metadata": {
        "colab": {
          "base_uri": "https://localhost:8080/",
          "height": 482
        },
        "id": "LLXnz5FtXVvm",
        "outputId": "c3ba4ed0-40b2-4c8a-a50e-910845ca8ba9"
      },
      "execution_count": null,
      "outputs": []
    },
    {
      "cell_type": "markdown",
      "source": [
        "Como ejemplo final, tomemos el dataset completo, permitamos que el año se seleccione a través de un HoloMap y, además, coloreemos por satélite para cada año."
      ],
      "metadata": {
        "id": "vUuv51iVX2BD"
      }
    },
    {
      "cell_type": "code",
      "source": [
        "hv.extension('bokeh')\n",
        "\n",
        "hv.Points(\n",
        "    data=fires,\n",
        " kdims=['bright_t31', 'frp'],\n",
        "vdims=['satellite','provincia_cna18']\n",
        ").groupby(\n",
        "    ['satellite', 'provincia_cna18']\n",
        ").opts(\n",
        "    frame_height=400,\n",
        "    frame_width=400,\n",
        "    tools=['hover'] # Agregamos los tooltips\n",
        ").overlay('satellite') # hacemos overlay solamente sobre la variable satellite"
      ],
      "metadata": {
        "colab": {
          "base_uri": "https://localhost:8080/",
          "height": 501
        },
        "id": "SO0xOPkwYFzs",
        "outputId": "6723cb39-b5c9-497d-d991-9104f440d852"
      },
      "execution_count": null,
      "outputs": []
    },
    {
      "cell_type": "markdown",
      "source": [
        "## Trabajando con agregados\n",
        "Como vimos hasta aquí estuvimos trabajando sobre los datos \"crudos\", es decir, si hacer ningún tipo de operación de agregado sobre los mismos. Pero, ¿qué pasaría si quisiéramos ver la evolución en el tiempo de la intensidad media de los incendios por provincia? Como ya vimos, nuestro dataset está en formato tidy lo cual nos va a resultar útil.\n",
        "\n",
        "Primero, vamos a crear un objeto de HoloViews llamado `Dataset` que declara las `kdims` y las `vdims` con las que desea trabajar:"
      ],
      "metadata": {
        "id": "T39wrwQ7tF8E"
      }
    },
    {
      "cell_type": "code",
      "source": [
        "fprov = hv.Dataset(fires[['ym', 'day', 'provincia_cna18', 'frp', 'confidence']],\n",
        "                   kdims=[('provincia_cna18','Provincia'),('ym','Año-mes')],\n",
        "                   vdims=[('frp', 'Intensidad'), ('confidence', 'Confianza de medición')])"
      ],
      "metadata": {
        "id": "dO07cDTzsubN"
      },
      "execution_count": null,
      "outputs": []
    },
    {
      "cell_type": "markdown",
      "source": [
        "Aquí hemos usado una sintaxis opcional basada en tuplas `(nombre, etiqueta)` para especificar una descripción más significativa para los `vdims`, mientras usamos las descripciones cortas originales para los dos `kdims`. Ahora pedimos a HoloViews que promedie todas las dimensiones restantes:"
      ],
      "metadata": {
        "id": "bqF3ZCu2ww1H"
      }
    },
    {
      "cell_type": "code",
      "source": [
        "fprov = fprov.aggregate(function=np.mean)\n",
        "fprov"
      ],
      "metadata": {
        "colab": {
          "base_uri": "https://localhost:8080/"
        },
        "id": "5ikHo6rosudq",
        "outputId": "c0e2dd52-b3a4-4cfc-9834-e563565b9edc"
      },
      "execution_count": null,
      "outputs": [
        {
          "output_type": "execute_result",
          "data": {
            "text/plain": [
              ":Dataset   [provincia_cna18,ym]   (frp,confidence)"
            ]
          },
          "metadata": {},
          "execution_count": 96
        }
      ]
    },
    {
      "cell_type": "markdown",
      "source": [
        "Vemos los `kdims` (entre corchetes) como los `vdims` (entre paréntesis) del `Dataset`. Debido a que puede contener combinaciones arbitrarias de dimensiones, un `Dataset` no se puede visualizar inmediatamente. No existe un mapeo único y claro de estas cuatro dimensiones en una página bidimensional, de ahí la representación textual que se muestra arriba.\n",
        "\n",
        "Para que estos datos sean visibles, necesitaremos proporcionar un poco más de metadatos, seleccionando uno de los `Elements` que puede ayudar a responder las preguntas que queremos hacer sobre los datos. Quizás la representación más obvia de este conjunto de datos es una curva que muestra la incidencia de cada año, para cada provincia.\n",
        "\n",
        "Podríamos extraer columnas individuales una por una del conjunto de datos original, pero ahora que hemos declarado información sobre las dimensiones, el enfoque más limpio es asignar las dimensiones de nuestro conjunto de datos a las dimensiones de un elemento usando `.to`."
      ],
      "metadata": {
        "id": "Lt5wDZA7x8xA"
      }
    },
    {
      "cell_type": "code",
      "source": [
        "hv.extension('bokeh')\n",
        "\n",
        "layout = (fprov.to(hv.Curve, ['ym'], 'frp') + fprov.to(hv.Curve, ['ym'], 'confidence')).cols(1)\n",
        "layout.opts(\n",
        "    opts.Curve(width=600, height=250,\n",
        "               xrotation=45,\n",
        "              framewise=True, #cada plot se normaliza de forma independiente,\n",
        "               tools=['hover']))"
      ],
      "metadata": {
        "id": "AsYAgrPfsugf",
        "colab": {
          "base_uri": "https://localhost:8080/",
          "height": 580
        },
        "outputId": "86fedaf0-77f1-4b33-bade-17488dde043e"
      },
      "execution_count": null,
      "outputs": []
    },
    {
      "cell_type": "markdown",
      "source": [
        "Aquí especificamos dos elementos de `Curve` que muestran la evolución de la intensidad de los incendios y de la confianza de las mediciones realizadas (`kdim`) y los dispusimos en una columna vertical. Si bien solo especificamos solo el nombre corto para las dimensiones de valor, el plot muestra los nombres más largos (\"Intesidad\", \"Confianza de la medición\") que declaramos en el `Dataset`.\n",
        "\n",
        "También se generó automáticamente un menú desplegable para seleccionar qué provoncia ver. Cada curva ignora las `vdim` no utilizadas, porque las medidas adicionales no se afectan entre sí, pero HoloViews tiene que hacer algo con cada dimensión clave para cada gráfico de este tipo. Si la provincia (o cualquier otra `kdim`) no se utiliza, dibuja o agrega de alguna manera, entonces HoloViews tiene que dejar que el usuario elija un valor para él, de ahí el widget de selección."
      ],
      "metadata": {
        "id": "CFTWjzhH7b8G"
      }
    },
    {
      "cell_type": "markdown",
      "source": [
        "## Salvando un gráfico de HoloViews\n",
        "Podemos guardar un gráfico de `HoloViews` (o diseño, `HoloMap`, etc.) usando la función `hv.save()`. La función va a determinar cómo desea guardar su objeto HoloViews según el sufijo del nombre del archivo de salida.\n",
        "\n",
        "Como ejemplo, tomemos el gráfico anterior que ya estaba guardado en una variable (`layout`):"
      ],
      "metadata": {
        "id": "Lul0a9tCFs4t"
      }
    },
    {
      "cell_type": "code",
      "source": [
        "hv.save(layout, 'layout.html')"
      ],
      "metadata": {
        "id": "MufDKkTl9kA9",
        "colab": {
          "base_uri": "https://localhost:8080/"
        },
        "outputId": "63eeca11-d44e-4745-8d10-24518ba00504"
      },
      "execution_count": null,
      "outputs": [
        {
          "output_type": "stream",
          "name": "stdout",
          "text": []
        }
      ]
    },
    {
      "cell_type": "markdown",
      "source": [
        "## ¿Cómo seguir?\n",
        "Hasta acá solamente vimos un `Element` de HoloViews. Bueno, más o menos, porque usamos algún `hv.Histogram` y un `hv.Curve`. Pero como se imaginarán hay muchos más elementos para trabajar. Vamos a mencionar dos más o menos habituales.\n",
        "\n",
        "### Boxplot\n",
        "Estos se generan con el elemento `hv.BoxWhisker`. Si hay múltiples `kdims`, los ejes se anidan automáticamente."
      ],
      "metadata": {
        "id": "pETsyb7AIUCN"
      }
    },
    {
      "cell_type": "code",
      "source": [
        "hv.extension('bokeh')\n",
        "\n",
        "hv.BoxWhisker(\n",
        "    data=fires,\n",
        "    kdims=['year','satellite'],\n",
        "    vdims=['confidence'],\n",
        ").opts(\n",
        "    width=400,\n",
        "    height=400\n",
        ")"
      ],
      "metadata": {
        "colab": {
          "base_uri": "https://localhost:8080/",
          "height": 417
        },
        "id": "HNdc2z-XIny-",
        "outputId": "973f6929-5e59-480e-d374-3a5c377399a1"
      },
      "execution_count": null,
      "outputs": []
    },
    {
      "cell_type": "markdown",
      "source": [
        "### Striplots\n",
        "Usamos `hv.Scatter()` para generar strip plots. Usamos el argumento `jitter`.\n"
      ],
      "metadata": {
        "id": "KBTU3gsPKAPB"
      }
    },
    {
      "cell_type": "code",
      "source": [
        "hv.extension('bokeh')\n",
        "fires['year_str'] = fires['year'].astype(str)\n",
        "\n",
        "hv.Scatter(\n",
        "    data=fires,\n",
        "    kdims=[('year_str', 'Año')],\n",
        "    vdims=['confidence','satellite'],\n",
        ").groupby(\n",
        "    'satellite'\n",
        ").opts(\n",
        "    color='satellite',\n",
        "    jitter=0.4,\n",
        "    show_legend=False,\n",
        "    width=400,\n",
        "    height=250,\n",
        ").layout()\n"
      ],
      "metadata": {
        "colab": {
          "base_uri": "https://localhost:8080/",
          "height": 297
        },
        "id": "ckQ-5uMlJIoM",
        "outputId": "9d10145f-6d26-40ba-eefe-5ced6de378f9"
      },
      "execution_count": null,
      "outputs": []
    },
    {
      "cell_type": "code",
      "source": [],
      "metadata": {
        "id": "KkXMl8pDKaGL"
      },
      "execution_count": null,
      "outputs": []
    }
  ],
  "metadata": {
    "colab": {
      "provenance": []
    },
    "kernelspec": {
      "display_name": "Python 3",
      "name": "python3"
    },
    "language_info": {
      "name": "python"
    }
  },
  "nbformat": 4,
  "nbformat_minor": 0
}