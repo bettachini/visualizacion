{
 "cells": [
  {
   "cell_type": "markdown",
   "metadata": {},
   "source": [
    "## Librerias"
   ]
  },
  {
   "cell_type": "code",
   "execution_count": 3,
   "metadata": {},
   "outputs": [],
   "source": [
    "import json\n",
    "import pandas as pd\n",
    "import networkx as nx\n",
    "\n",
    "from community import community_louvain\n"
   ]
  },
  {
   "cell_type": "code",
   "execution_count": 2,
   "metadata": {},
   "outputs": [],
   "source": [
    "import json\n",
    "\n",
    "import chardet\n",
    "\n",
    "# First, read the file in binary mode\n",
    "with open('mc3.json', 'rb') as file:\n",
    "    raw_data = file.read()\n",
    "\n",
    "# Detect encoding\n",
    "encoding = chardet.detect(raw_data)['encoding']\n",
    "\n",
    "# Now, open the file with the detected encoding\n",
    "with open('mc3.json', 'r', encoding=encoding) as file:\n",
    "    data = json.load(file)\n",
    "# 44.9s"
   ]
  },
  {
   "cell_type": "code",
   "execution_count": 9,
   "metadata": {},
   "outputs": [],
   "source": [
    "# Create a NetworkX graph from the data\n",
    "# G = nx.node_link_graph(data, directed=True, multigraph=True)\n",
    "G = nx.node_link_graph(data)"
   ]
  },
  {
   "cell_type": "code",
   "execution_count": 20,
   "metadata": {},
   "outputs": [
    {
     "name": "stdout",
     "output_type": "stream",
     "text": [
      "                                           Degree Centrality   \n",
      "SouthSeafood Express Corp                           0.000033  \\\n",
      "ScaniaSeafood Holdings Ltd. Liability Co            0.000017   \n",
      "Tainamarine Fishing Co                              0.000033   \n",
      "KambalaAqua Delivery Plc                            0.000050   \n",
      "ArawakCharter Boat Transit Plc                      0.000050   \n",
      "Francis-Yoder                                       0.000314   \n",
      "ArawakFish Cargo Ges.m.b.H.                         0.000050   \n",
      "Maacama Ocean Worldwide LLC                         0.000017   \n",
      "WestRiver Shipping KgaA                             0.000017   \n",
      "Oka Charter Boat Transport OJSC                     0.000017   \n",
      "V. Miesel Shipping                                  0.000050   \n",
      "Vasquez-Gonzalez                                    0.000182   \n",
      "Dyer-Campbell                                       0.000430   \n",
      "Dry CreekWorldLogistics Ltd. Liability Co           0.000017   \n",
      "Clark, Johnson and Patrick                          0.000231   \n",
      "Cannon-Dominguez                                    0.000066   \n",
      "GvardeyskAmerica Shipping Plc                       0.000099   \n",
      "AguaLeska Transit N.V.                              0.000050   \n",
      "Hartman Group                                       0.000050   \n",
      "Osborne and Sons                                    0.000033   \n",
      "\n",
      "                                           Eigenvector Centrality   \n",
      "SouthSeafood Express Corp                                0.958218  \\\n",
      "ScaniaSeafood Holdings Ltd. Liability Co                 0.195643   \n",
      "Tainamarine Fishing Co                                   0.178011   \n",
      "KambalaAqua Delivery Plc                                 0.053649   \n",
      "ArawakCharter Boat Transit Plc                           0.053649   \n",
      "Francis-Yoder                                            0.031947   \n",
      "ArawakFish Cargo Ges.m.b.H.                              0.030902   \n",
      "Maacama Ocean Worldwide LLC                              0.030901   \n",
      "WestRiver Shipping KgaA                                  0.030901   \n",
      "Oka Charter Boat Transport OJSC                          0.030901   \n",
      "V. Miesel Shipping                                       0.028400   \n",
      "Vasquez-Gonzalez                                         0.006935   \n",
      "Dyer-Campbell                                            0.006315   \n",
      "Dry CreekWorldLogistics Ltd. Liability Co                0.005831   \n",
      "Clark, Johnson and Patrick                               0.005767   \n",
      "Cannon-Dominguez                                         0.004061   \n",
      "GvardeyskAmerica Shipping Plc                            0.003949   \n",
      "AguaLeska Transit N.V.                                   0.003695   \n",
      "Hartman Group                                            0.003674   \n",
      "Osborne and Sons                                         0.003673   \n",
      "\n",
      "                                           Betweenness Centrality  \n",
      "SouthSeafood Express Corp                            0.000000e+00  \n",
      "ScaniaSeafood Holdings Ltd. Liability Co             0.000000e+00  \n",
      "Tainamarine Fishing Co                               8.191151e-10  \n",
      "KambalaAqua Delivery Plc                             0.000000e+00  \n",
      "ArawakCharter Boat Transit Plc                       0.000000e+00  \n",
      "Francis-Yoder                                        0.000000e+00  \n",
      "ArawakFish Cargo Ges.m.b.H.                          2.457345e-09  \n",
      "Maacama Ocean Worldwide LLC                          0.000000e+00  \n",
      "WestRiver Shipping KgaA                              0.000000e+00  \n",
      "Oka Charter Boat Transport OJSC                      0.000000e+00  \n",
      "V. Miesel Shipping                                   3.276460e-09  \n",
      "Vasquez-Gonzalez                                     1.228673e-08  \n",
      "Dyer-Campbell                                        0.000000e+00  \n",
      "Dry CreekWorldLogistics Ltd. Liability Co            0.000000e+00  \n",
      "Clark, Johnson and Patrick                           0.000000e+00  \n",
      "Cannon-Dominguez                                     0.000000e+00  \n",
      "GvardeyskAmerica Shipping Plc                        1.037546e-08  \n",
      "AguaLeska Transit N.V.                               2.184307e-09  \n",
      "Hartman Group                                        0.000000e+00  \n",
      "Osborne and Sons                                     0.000000e+00  \n"
     ]
    }
   ],
   "source": [
    "# Convert multigraph to a simple graph\n",
    "simple_G = nx.DiGraph(G)  # This merges multiple edges into single ones\n",
    "\n",
    "# Now calculate the centrality\n",
    "eigenvector_centrality = nx.eigenvector_centrality(simple_G, max_iter=1000)\n",
    "# Calculate Degree Centrality\n",
    "degree_centrality = nx.degree_centrality(G)\n",
    "# Calculate Eigenvector Centrality\n",
    "# eigenvector_centrality = nx.eigenvector_centrality(G, max_iter=1000)\n",
    "# Calculate Betweenness Centrality\n",
    "betweenness_centrality = nx.betweenness_centrality(G)\n",
    "\n",
    "# Convert to DataFrame for better analysis and visualization\n",
    "centrality_df = pd.DataFrame({\n",
    "    'Degree Centrality': pd.Series(degree_centrality),\n",
    "    'Eigenvector Centrality': pd.Series(eigenvector_centrality),\n",
    "    'Betweenness Centrality': pd.Series(betweenness_centrality)\n",
    "})\n",
    "\n",
    "# Display top 10 nodes by Eigenvector Centrality\n",
    "top_influencers = centrality_df.sort_values(by='Eigenvector Centrality', ascending=False).head(20)\n",
    "print(top_influencers)\n"
   ]
  },
  {
   "cell_type": "code",
   "execution_count": 21,
   "metadata": {},
   "outputs": [],
   "source": [
    "centrality_df.to_csv('centrality.csv')"
   ]
  },
  {
   "cell_type": "code",
   "execution_count": null,
   "metadata": {},
   "outputs": [],
   "source": [
    "print(f\"Number of nodes: {G.number_of_nodes()}\")\n",
    "print(f\"Number of edges: {G.number_of_edges()}\")\n",
    "# print(f\"Number of connected components: {nx.number_connected_components(G)}\") NetworkXNotImplemented: not implemented for directed type\n"
   ]
  },
  {
   "cell_type": "code",
   "execution_count": null,
   "metadata": {},
   "outputs": [],
   "source": [
    "# Filter nodes by type, for example, Companies\n",
    "companies = [n for n, d in G.nodes(data=True) if d['type'] == 'Entity.Organization.Company']\n",
    "\n",
    "# Explore edges of a specific type, e.g., Shareholdership\n",
    "shareholder_edges = [(u, v) for u, v, d in G.edges(data=True) if d['type'] == 'Event.Owns.Shareholdership']\n"
   ]
  },
  {
   "cell_type": "code",
   "execution_count": 25,
   "metadata": {},
   "outputs": [
    {
     "name": "stdout",
     "output_type": "stream",
     "text": [
      "Number of weakly connected components: 4782\n"
     ]
    }
   ],
   "source": [
    "# Counting weakly connected components in a directed graph\n",
    "print(f\"Number of weakly connected components: {len(list(nx.weakly_connected_components(G)))}\")"
   ]
  },
  {
   "cell_type": "code",
   "execution_count": 11,
   "metadata": {},
   "outputs": [],
   "source": [
    "# Detect communities\n",
    "# Assuming G is your directed graph\n",
    "G_undirected = G.to_undirected()\n",
    "\n",
    "# Apply the Louvain method to the undirected graph\n",
    "partition = community_louvain.best_partition(G_undirected)\n"
   ]
  },
  {
   "cell_type": "code",
   "execution_count": 19,
   "metadata": {},
   "outputs": [
    {
     "data": {
      "text/plain": [
       "4812"
      ]
     },
     "execution_count": 19,
     "metadata": {},
     "output_type": "execute_result"
    }
   ],
   "source": [
    "partition['SouthSeafood Express Corp']\n"
   ]
  },
  {
   "cell_type": "code",
   "execution_count": 42,
   "metadata": {},
   "outputs": [],
   "source": [
    "# Convert list of dictionaries to DataFrame\n",
    "df_nodes = pd.DataFrame(data['nodes'])\n",
    "df_links = pd.DataFrame(data['links'])\n"
   ]
  },
  {
   "cell_type": "code",
   "execution_count": 41,
   "metadata": {},
   "outputs": [],
   "source": [
    "def parse_dates(x):\n",
    "    for fmt in (\"%Y-%m-%dT%H:%M:%S\", \"%Y-%m-%d\"):\n",
    "        try:\n",
    "            return pd.to_datetime(x, format=fmt)\n",
    "        except ValueError:\n",
    "            continue\n",
    "    return pd.NaT  # Return Not a Time for unparseable formats\n"
   ]
  },
  {
   "cell_type": "code",
   "execution_count": 44,
   "metadata": {},
   "outputs": [],
   "source": [
    "df_nodes['founding_date'] = pd.to_datetime(df_nodes['founding_date'])\n",
    "df_nodes['_last_edited_date'] = pd.to_datetime(df_nodes['_last_edited_date'])\n",
    "df_nodes['_date_added'] = pd.to_datetime(df_nodes['_date_added'])\n",
    "df_nodes['dob'] = df_nodes['dob'].apply(parse_dates)\n"
   ]
  },
  {
   "cell_type": "code",
   "execution_count": 45,
   "metadata": {},
   "outputs": [],
   "source": [
    "df_links['start_date'] = df_links['start_date'].apply(parse_dates)\n",
    "df_links['end_date'] = df_links['end_date'].apply(parse_dates)\n",
    "df_links['_last_edited_date'] = pd.to_datetime(df_links['_last_edited_date'])\n",
    "df_links['_date_added'] = pd.to_datetime(df_links['_date_added'])"
   ]
  },
  {
   "cell_type": "code",
   "execution_count": 52,
   "metadata": {},
   "outputs": [
    {
     "data": {
      "text/plain": [
       "(75817, 11)"
      ]
     },
     "execution_count": 52,
     "metadata": {},
     "output_type": "execute_result"
    }
   ],
   "source": [
    "df_links.shape"
   ]
  },
  {
   "cell_type": "code",
   "execution_count": 62,
   "metadata": {},
   "outputs": [
    {
     "name": "stdout",
     "output_type": "stream",
     "text": [
      "0\n",
      "2\n"
     ]
    }
   ],
   "source": [
    "print((df_links['source']=='SouthSeafood Express Corp').sum())\n",
    "print((df_links['target']=='SouthSeafood Express Corp').sum())"
   ]
  },
  {
   "cell_type": "code",
   "execution_count": 54,
   "metadata": {},
   "outputs": [
    {
     "data": {
      "text/html": [
       "<div>\n",
       "<style scoped>\n",
       "    .dataframe tbody tr th:only-of-type {\n",
       "        vertical-align: middle;\n",
       "    }\n",
       "\n",
       "    .dataframe tbody tr th {\n",
       "        vertical-align: top;\n",
       "    }\n",
       "\n",
       "    .dataframe thead th {\n",
       "        text-align: right;\n",
       "    }\n",
       "</style>\n",
       "<table border=\"1\" class=\"dataframe\">\n",
       "  <thead>\n",
       "    <tr style=\"text-align: right;\">\n",
       "      <th></th>\n",
       "      <th>type</th>\n",
       "      <th>country</th>\n",
       "      <th>ProductServices</th>\n",
       "      <th>PointOfContact</th>\n",
       "      <th>HeadOfOrg</th>\n",
       "      <th>founding_date</th>\n",
       "      <th>revenue</th>\n",
       "      <th>TradeDescription</th>\n",
       "      <th>_last_edited_by</th>\n",
       "      <th>_last_edited_date</th>\n",
       "      <th>_date_added</th>\n",
       "      <th>_raw_source</th>\n",
       "      <th>_algorithm</th>\n",
       "      <th>id</th>\n",
       "      <th>dob</th>\n",
       "    </tr>\n",
       "  </thead>\n",
       "  <tbody>\n",
       "    <tr>\n",
       "      <th>60463</th>\n",
       "      <td>Entity.Organization.FishingCompany</td>\n",
       "      <td>Oceanus</td>\n",
       "      <td>Fishing and other related activities</td>\n",
       "      <td>Luce du Adam</td>\n",
       "      <td>Achille Forza</td>\n",
       "      <td>2032-11-05</td>\n",
       "      <td>6529.36</td>\n",
       "      <td>Offering comprehensive fishing solutions and r...</td>\n",
       "      <td>Pelagia Alethea Mordoch</td>\n",
       "      <td>2035-01-01</td>\n",
       "      <td>2035-01-01</td>\n",
       "      <td>Existing Corporate Structure Data</td>\n",
       "      <td>Automatic Import</td>\n",
       "      <td>SouthSeafood Express Corp</td>\n",
       "      <td>NaT</td>\n",
       "    </tr>\n",
       "  </tbody>\n",
       "</table>\n",
       "</div>"
      ],
      "text/plain": [
       "                                     type  country   \n",
       "60463  Entity.Organization.FishingCompany  Oceanus  \\\n",
       "\n",
       "                            ProductServices PointOfContact      HeadOfOrg   \n",
       "60463  Fishing and other related activities   Luce du Adam  Achille Forza  \\\n",
       "\n",
       "      founding_date  revenue   \n",
       "60463    2032-11-05  6529.36  \\\n",
       "\n",
       "                                        TradeDescription   \n",
       "60463  Offering comprehensive fishing solutions and r...  \\\n",
       "\n",
       "               _last_edited_by _last_edited_date _date_added   \n",
       "60463  Pelagia Alethea Mordoch        2035-01-01  2035-01-01  \\\n",
       "\n",
       "                             _raw_source        _algorithm   \n",
       "60463  Existing Corporate Structure Data  Automatic Import  \\\n",
       "\n",
       "                              id dob  \n",
       "60463  SouthSeafood Express Corp NaT  "
      ]
     },
     "execution_count": 54,
     "metadata": {},
     "output_type": "execute_result"
    }
   ],
   "source": [
    "df_nodes[df_nodes['id']=='SouthSeafood Express Corp']\n"
   ]
  },
  {
   "cell_type": "code",
   "execution_count": 51,
   "metadata": {},
   "outputs": [
    {
     "data": {
      "text/html": [
       "<div>\n",
       "<style scoped>\n",
       "    .dataframe tbody tr th:only-of-type {\n",
       "        vertical-align: middle;\n",
       "    }\n",
       "\n",
       "    .dataframe tbody tr th {\n",
       "        vertical-align: top;\n",
       "    }\n",
       "\n",
       "    .dataframe thead th {\n",
       "        text-align: right;\n",
       "    }\n",
       "</style>\n",
       "<table border=\"1\" class=\"dataframe\">\n",
       "  <thead>\n",
       "    <tr style=\"text-align: right;\">\n",
       "      <th></th>\n",
       "      <th>start_date</th>\n",
       "      <th>type</th>\n",
       "      <th>_last_edited_by</th>\n",
       "      <th>_last_edited_date</th>\n",
       "      <th>_date_added</th>\n",
       "      <th>_raw_source</th>\n",
       "      <th>_algorithm</th>\n",
       "      <th>source</th>\n",
       "      <th>target</th>\n",
       "      <th>key</th>\n",
       "      <th>end_date</th>\n",
       "    </tr>\n",
       "  </thead>\n",
       "  <tbody>\n",
       "    <tr>\n",
       "      <th>75663</th>\n",
       "      <td>2033-10-29</td>\n",
       "      <td>Event.Owns.Shareholdership</td>\n",
       "      <td>Pelagia Alethea Mordoch</td>\n",
       "      <td>2035-01-01</td>\n",
       "      <td>2035-01-01</td>\n",
       "      <td>Existing Corporate Structure Data</td>\n",
       "      <td>Automatic Import</td>\n",
       "      <td>AguaLeska Transit N.V.</td>\n",
       "      <td>SouthSeafood Express Corp</td>\n",
       "      <td>0</td>\n",
       "      <td>2035-05-25</td>\n",
       "    </tr>\n",
       "    <tr>\n",
       "      <th>75699</th>\n",
       "      <td>2035-05-25</td>\n",
       "      <td>Event.Owns.Shareholdership</td>\n",
       "      <td>Niklaus Oberon</td>\n",
       "      <td>2035-06-15</td>\n",
       "      <td>2035-06-15</td>\n",
       "      <td>Oceanus Corporations Monthly - May '35</td>\n",
       "      <td>Manual Entry</td>\n",
       "      <td>Tainamarine Fishing Co</td>\n",
       "      <td>SouthSeafood Express Corp</td>\n",
       "      <td>0</td>\n",
       "      <td>NaT</td>\n",
       "    </tr>\n",
       "  </tbody>\n",
       "</table>\n",
       "</div>"
      ],
      "text/plain": [
       "      start_date                        type          _last_edited_by   \n",
       "75663 2033-10-29  Event.Owns.Shareholdership  Pelagia Alethea Mordoch  \\\n",
       "75699 2035-05-25  Event.Owns.Shareholdership           Niklaus Oberon   \n",
       "\n",
       "      _last_edited_date _date_added                             _raw_source   \n",
       "75663        2035-01-01  2035-01-01       Existing Corporate Structure Data  \\\n",
       "75699        2035-06-15  2035-06-15  Oceanus Corporations Monthly - May '35   \n",
       "\n",
       "             _algorithm                  source                     target   \n",
       "75663  Automatic Import  AguaLeska Transit N.V.  SouthSeafood Express Corp  \\\n",
       "75699      Manual Entry  Tainamarine Fishing Co  SouthSeafood Express Corp   \n",
       "\n",
       "       key   end_date  \n",
       "75663    0 2035-05-25  \n",
       "75699    0        NaT  "
      ]
     },
     "execution_count": 51,
     "metadata": {},
     "output_type": "execute_result"
    }
   ],
   "source": [
    "df_links[df_links['target']=='SouthSeafood Express Corp']"
   ]
  },
  {
   "cell_type": "code",
   "execution_count": 55,
   "metadata": {},
   "outputs": [],
   "source": [
    "# Define the cutoff date\n",
    "cutoff_date = pd.Timestamp('2035-05-25')\n",
    "\n",
    "# Filter the dataframes\n",
    "links_before = df_links[df_links['start_date'] < cutoff_date]\n",
    "links_after = df_links[df_links['start_date'] >= cutoff_date]"
   ]
  },
  {
   "cell_type": "code",
   "execution_count": 56,
   "metadata": {},
   "outputs": [],
   "source": [
    "# Initialize two graphs\n",
    "G_before = nx.Graph()  # or nx.DiGraph() if directed\n",
    "G_after = nx.Graph()  # or nx.DiGraph() if directed\n",
    "\n",
    "# Add nodes to both graphs\n",
    "for node in data['nodes']:\n",
    "    G_before.add_node(node['id'], **node)\n",
    "    G_after.add_node(node['id'], **node)\n",
    "\n",
    "# Add filtered edges to the 'before' graph\n",
    "for _, link in links_before.iterrows():\n",
    "    G_before.add_edge(link['source'], link['target'], **link)\n",
    "\n",
    "# Add filtered edges to the 'after' graph\n",
    "for _, link in links_after.iterrows():\n",
    "    G_after.add_edge(link['source'], link['target'], **link)\n"
   ]
  },
  {
   "cell_type": "code",
   "execution_count": 61,
   "metadata": {},
   "outputs": [],
   "source": [
    "# Convert multigraph to a simple graph\n",
    "simple_G_before = nx.DiGraph(G_before)  # This merges multiple edges into single ones\n",
    "simple_G_after = nx.DiGraph(G_after)  # This merges multiple edges into single ones\n",
    "\n",
    "# Now calculate the centrality\n",
    "eigenvector_centrality_simple_G_before = nx.eigenvector_centrality(simple_G_before, max_iter=1000)\n",
    "eigenvector_centrality_simple_G_after = nx.eigenvector_centrality(simple_G_after, max_iter=1000)\n",
    "# Calculate Degree Centrality\n",
    "degree_centrality_G_before = nx.degree_centrality(G_before)\n",
    "degree_centrality_G_after = nx.degree_centrality(G_after)\n",
    "\n",
    "# Calculate Eigenvector Centrality\n",
    "# eigenvector_centrality = nx.eigenvector_centrality(G, max_iter=1000)\n",
    "# Calculate Betweenness Centrality\n",
    "betweenness_centrality_G_before = nx.betweenness_centrality(G_before)\n",
    "betweenness_centrality_G_after = nx.betweenness_centrality(G_after)\n",
    "\n",
    "# Convert to DataFrame for better analysis and visualization\n",
    "centrality_df = pd.DataFrame({\n",
    "    'Degree_Centrality_before': pd.Series(degree_centrality_G_before),\n",
    "    'Eigenvector_Centrality_before': pd.Series(eigenvector_centrality_simple_G_before),\n",
    "    'Betweenness Centrality_before': pd.Series(betweenness_centrality_G_before),\n",
    "    'Degree_Centrality_after': pd.Series(degree_centrality_G_after),\n",
    "    'Eigenvector_Centrality_after': pd.Series(eigenvector_centrality_simple_G_after),\n",
    "    'Betweenness Centrality_after': pd.Series(betweenness_centrality_G_after)\n",
    "})\n",
    "centrality_df.to_csv('centrality_after_before_change_ownership_seafood.csv')\n"
   ]
  },
  {
   "cell_type": "code",
   "execution_count": 58,
   "metadata": {},
   "outputs": [
    {
     "name": "stdout",
     "output_type": "stream",
     "text": [
      "                  Degree_Centrality_before  Degree_Centrality_after   \n",
      "Anna Davis                        0.001504                 0.000017  \\\n",
      "Anne Villanueva                   0.001504                 0.000017   \n",
      "Jennifer Gardner                  0.001504                 0.000017   \n",
      "Sandra Young                      0.001504                 0.000017   \n",
      "Melissa Davis                     0.001487                 0.000017   \n",
      "Cynthia Anderson                  0.001487                 0.000017   \n",
      "Katie Evans                       0.001487                 0.000017   \n",
      "Wesley Phillips                   0.001487                 0.000017   \n",
      "Alan Richardson                   0.001487                 0.000017   \n",
      "Joseph Brown                      0.001487                 0.000017   \n",
      "Jason Anderson                    0.001487                 0.000017   \n",
      "Aaron Delgado                     0.001487                 0.000017   \n",
      "Kelsey Ortega                     0.001487                 0.000017   \n",
      "Breanna Price                     0.001487                 0.000017   \n",
      "Alexandra Clay                    0.001487                 0.000017   \n",
      "Zachary Taylor                    0.001487                 0.000017   \n",
      "Kenneth Gonzales                  0.001487                 0.000017   \n",
      "Erica Ford                        0.001487                 0.000017   \n",
      "Catherine Macias                  0.001487                 0.000017   \n",
      "Sydney Jones                      0.001487                 0.000017   \n",
      "\n",
      "                  Eigenvector_Centrality_before  Eigenvector_Centrality_after  \n",
      "Anna Davis                             0.149886                      0.121394  \n",
      "Anne Villanueva                        0.149886                      0.121394  \n",
      "Jennifer Gardner                       0.149886                      0.121394  \n",
      "Sandra Young                           0.149886                      0.121394  \n",
      "Melissa Davis                          0.149810                      0.121394  \n",
      "Cynthia Anderson                       0.149810                      0.121394  \n",
      "Katie Evans                            0.149810                      0.121394  \n",
      "Wesley Phillips                        0.149810                      0.121394  \n",
      "Alan Richardson                        0.149810                      0.121394  \n",
      "Joseph Brown                           0.149810                      0.121394  \n",
      "Jason Anderson                         0.149810                      0.121394  \n",
      "Aaron Delgado                          0.149810                      0.121394  \n",
      "Kelsey Ortega                          0.149810                      0.121394  \n",
      "Breanna Price                          0.149810                      0.121394  \n",
      "Alexandra Clay                         0.149810                      0.121394  \n",
      "Zachary Taylor                         0.149810                      0.121394  \n",
      "Kenneth Gonzales                       0.149810                      0.121394  \n",
      "Erica Ford                             0.149810                      0.121394  \n",
      "Catherine Macias                       0.149810                      0.121394  \n",
      "Sydney Jones                           0.149810                      0.121394  \n"
     ]
    }
   ],
   "source": [
    "# Display top 10 nodes by Eigenvector Centrality\n",
    "top_influencers = centrality_df.sort_values(by='Eigenvector_Centrality_before', ascending=False).head(20)\n",
    "print(top_influencers)\n"
   ]
  },
  {
   "cell_type": "code",
   "execution_count": 59,
   "metadata": {},
   "outputs": [
    {
     "name": "stdout",
     "output_type": "stream",
     "text": [
      "                      Degree_Centrality_before  Degree_Centrality_after   \n",
      "Polák Procházka a.s.                  0.000000                 0.000562  \\\n",
      "Kelsey Ortega                         0.001487                 0.000017   \n",
      "Alan Richardson                       0.001487                 0.000017   \n",
      "Dana Moore                            0.000281                 0.000017   \n",
      "Sharon Moon                           0.000463                 0.000017   \n",
      "Anne Villanueva                       0.001504                 0.000017   \n",
      "Joseph Gentry                         0.001487                 0.000017   \n",
      "Cynthia Anderson                      0.001487                 0.000017   \n",
      "Anna Davis                            0.001504                 0.000017   \n",
      "Katie Evans                           0.001487                 0.000017   \n",
      "Jennifer Gardner                      0.001504                 0.000017   \n",
      "Wesley Phillips                       0.001487                 0.000017   \n",
      "Joseph Brown                          0.001487                 0.000017   \n",
      "Joel Richards                         0.000017                 0.000017   \n",
      "Jason Anderson                        0.001487                 0.000017   \n",
      "Melissa Davis                         0.001487                 0.000017   \n",
      "Joshua Kent                           0.001487                 0.000017   \n",
      "Aaron Delgado                         0.001487                 0.000017   \n",
      "Breanna Price                         0.001487                 0.000017   \n",
      "Sandra Young                          0.001504                 0.000017   \n",
      "\n",
      "                      Eigenvector_Centrality_before   \n",
      "Polák Procházka a.s.                  4.213984e-161  \\\n",
      "Kelsey Ortega                          1.498104e-01   \n",
      "Alan Richardson                        1.498104e-01   \n",
      "Dana Moore                             1.017150e-02   \n",
      "Sharon Moon                            1.197087e-02   \n",
      "Anne Villanueva                        1.498857e-01   \n",
      "Joseph Gentry                          1.498104e-01   \n",
      "Cynthia Anderson                       1.498104e-01   \n",
      "Anna Davis                             1.498858e-01   \n",
      "Katie Evans                            1.498104e-01   \n",
      "Jennifer Gardner                       1.498857e-01   \n",
      "Wesley Phillips                        1.498104e-01   \n",
      "Joseph Brown                           1.498104e-01   \n",
      "Joel Richards                          2.830145e-19   \n",
      "Jason Anderson                         1.498104e-01   \n",
      "Melissa Davis                          1.498104e-01   \n",
      "Joshua Kent                            1.498104e-01   \n",
      "Aaron Delgado                          1.498104e-01   \n",
      "Breanna Price                          1.498104e-01   \n",
      "Sandra Young                           1.498857e-01   \n",
      "\n",
      "                      Eigenvector_Centrality_after  \n",
      "Polák Procházka a.s.                      0.705882  \n",
      "Kelsey Ortega                             0.121394  \n",
      "Alan Richardson                           0.121394  \n",
      "Dana Moore                                0.121394  \n",
      "Sharon Moon                               0.121394  \n",
      "Anne Villanueva                           0.121394  \n",
      "Joseph Gentry                             0.121394  \n",
      "Cynthia Anderson                          0.121394  \n",
      "Anna Davis                                0.121394  \n",
      "Katie Evans                               0.121394  \n",
      "Jennifer Gardner                          0.121394  \n",
      "Wesley Phillips                           0.121394  \n",
      "Joseph Brown                              0.121394  \n",
      "Joel Richards                             0.121394  \n",
      "Jason Anderson                            0.121394  \n",
      "Melissa Davis                             0.121394  \n",
      "Joshua Kent                               0.121394  \n",
      "Aaron Delgado                             0.121394  \n",
      "Breanna Price                             0.121394  \n",
      "Sandra Young                              0.121394  \n"
     ]
    }
   ],
   "source": [
    "# Display top 10 nodes by Eigenvector Centrality\n",
    "top_influencers = centrality_df.sort_values(by='Eigenvector_Centrality_after', ascending=False).head(20)\n",
    "print(top_influencers)\n"
   ]
  },
  {
   "cell_type": "code",
   "execution_count": null,
   "metadata": {},
   "outputs": [],
   "source": [
    "Jennifer Gardner"
   ]
  },
  {
   "cell_type": "markdown",
   "metadata": {},
   "source": [
    "## EDA"
   ]
  },
  {
   "cell_type": "code",
   "execution_count": 67,
   "metadata": {},
   "outputs": [
    {
     "data": {
      "text/html": [
       "<div>\n",
       "<style scoped>\n",
       "    .dataframe tbody tr th:only-of-type {\n",
       "        vertical-align: middle;\n",
       "    }\n",
       "\n",
       "    .dataframe tbody tr th {\n",
       "        vertical-align: top;\n",
       "    }\n",
       "\n",
       "    .dataframe thead th {\n",
       "        text-align: right;\n",
       "    }\n",
       "</style>\n",
       "<table border=\"1\" class=\"dataframe\">\n",
       "  <thead>\n",
       "    <tr style=\"text-align: right;\">\n",
       "      <th></th>\n",
       "      <th>type</th>\n",
       "      <th>country</th>\n",
       "      <th>ProductServices</th>\n",
       "      <th>PointOfContact</th>\n",
       "      <th>HeadOfOrg</th>\n",
       "      <th>founding_date</th>\n",
       "      <th>revenue</th>\n",
       "      <th>TradeDescription</th>\n",
       "      <th>_last_edited_by</th>\n",
       "      <th>_last_edited_date</th>\n",
       "      <th>_date_added</th>\n",
       "      <th>_raw_source</th>\n",
       "      <th>_algorithm</th>\n",
       "      <th>id</th>\n",
       "      <th>dob</th>\n",
       "    </tr>\n",
       "  </thead>\n",
       "  <tbody>\n",
       "    <tr>\n",
       "      <th>count</th>\n",
       "      <td>60520</td>\n",
       "      <td>60520</td>\n",
       "      <td>8871</td>\n",
       "      <td>8846</td>\n",
       "      <td>8862</td>\n",
       "      <td>8871</td>\n",
       "      <td>8.855000e+03</td>\n",
       "      <td>8871</td>\n",
       "      <td>60520</td>\n",
       "      <td>60520</td>\n",
       "      <td>60520</td>\n",
       "      <td>60520</td>\n",
       "      <td>60520</td>\n",
       "      <td>60520</td>\n",
       "      <td>51649</td>\n",
       "    </tr>\n",
       "    <tr>\n",
       "      <th>unique</th>\n",
       "      <td>8</td>\n",
       "      <td>86</td>\n",
       "      <td>3219</td>\n",
       "      <td>8532</td>\n",
       "      <td>8795</td>\n",
       "      <td>NaN</td>\n",
       "      <td>NaN</td>\n",
       "      <td>4124</td>\n",
       "      <td>3</td>\n",
       "      <td>NaN</td>\n",
       "      <td>NaN</td>\n",
       "      <td>13</td>\n",
       "      <td>2</td>\n",
       "      <td>60520</td>\n",
       "      <td>NaN</td>\n",
       "    </tr>\n",
       "    <tr>\n",
       "      <th>top</th>\n",
       "      <td>Entity.Person</td>\n",
       "      <td>Oceanus</td>\n",
       "      <td>Unknown</td>\n",
       "      <td>Emily Williams</td>\n",
       "      <td>James Smith</td>\n",
       "      <td>NaN</td>\n",
       "      <td>NaN</td>\n",
       "      <td>Unknown</td>\n",
       "      <td>Pelagia Alethea Mordoch</td>\n",
       "      <td>NaN</td>\n",
       "      <td>NaN</td>\n",
       "      <td>Existing Corporate Structure Data</td>\n",
       "      <td>Automatic Import</td>\n",
       "      <td>Abbott, Mcbride and Edwards</td>\n",
       "      <td>NaN</td>\n",
       "    </tr>\n",
       "    <tr>\n",
       "      <th>freq</th>\n",
       "      <td>50356</td>\n",
       "      <td>4952</td>\n",
       "      <td>4741</td>\n",
       "      <td>6</td>\n",
       "      <td>3</td>\n",
       "      <td>NaN</td>\n",
       "      <td>NaN</td>\n",
       "      <td>4738</td>\n",
       "      <td>60089</td>\n",
       "      <td>NaN</td>\n",
       "      <td>NaN</td>\n",
       "      <td>60091</td>\n",
       "      <td>60089</td>\n",
       "      <td>1</td>\n",
       "      <td>NaN</td>\n",
       "    </tr>\n",
       "    <tr>\n",
       "      <th>mean</th>\n",
       "      <td>NaN</td>\n",
       "      <td>NaN</td>\n",
       "      <td>NaN</td>\n",
       "      <td>NaN</td>\n",
       "      <td>NaN</td>\n",
       "      <td>1991-04-22 15:54:58.072370688</td>\n",
       "      <td>2.786319e+05</td>\n",
       "      <td>NaN</td>\n",
       "      <td>NaN</td>\n",
       "      <td>2035-01-02 10:34:13.403833344</td>\n",
       "      <td>2035-01-02 10:28:32.200925440</td>\n",
       "      <td>NaN</td>\n",
       "      <td>NaN</td>\n",
       "      <td>NaN</td>\n",
       "      <td>1987-05-31 15:59:42.156479232</td>\n",
       "    </tr>\n",
       "    <tr>\n",
       "      <th>min</th>\n",
       "      <td>NaN</td>\n",
       "      <td>NaN</td>\n",
       "      <td>NaN</td>\n",
       "      <td>NaN</td>\n",
       "      <td>NaN</td>\n",
       "      <td>1945-01-01 00:00:00</td>\n",
       "      <td>0.000000e+00</td>\n",
       "      <td>NaN</td>\n",
       "      <td>NaN</td>\n",
       "      <td>2035-01-01 00:00:00</td>\n",
       "      <td>2035-01-01 00:00:00</td>\n",
       "      <td>NaN</td>\n",
       "      <td>NaN</td>\n",
       "      <td>NaN</td>\n",
       "      <td>1970-01-02 00:00:00</td>\n",
       "    </tr>\n",
       "    <tr>\n",
       "      <th>25%</th>\n",
       "      <td>NaN</td>\n",
       "      <td>NaN</td>\n",
       "      <td>NaN</td>\n",
       "      <td>NaN</td>\n",
       "      <td>NaN</td>\n",
       "      <td>1968-01-11 00:00:00</td>\n",
       "      <td>0.000000e+00</td>\n",
       "      <td>NaN</td>\n",
       "      <td>NaN</td>\n",
       "      <td>2035-01-01 00:00:00</td>\n",
       "      <td>2035-01-01 00:00:00</td>\n",
       "      <td>NaN</td>\n",
       "      <td>NaN</td>\n",
       "      <td>NaN</td>\n",
       "      <td>1978-02-03 00:00:00</td>\n",
       "    </tr>\n",
       "    <tr>\n",
       "      <th>50%</th>\n",
       "      <td>NaN</td>\n",
       "      <td>NaN</td>\n",
       "      <td>NaN</td>\n",
       "      <td>NaN</td>\n",
       "      <td>NaN</td>\n",
       "      <td>1991-07-03 00:00:00</td>\n",
       "      <td>8.233590e+03</td>\n",
       "      <td>NaN</td>\n",
       "      <td>NaN</td>\n",
       "      <td>2035-01-01 00:00:00</td>\n",
       "      <td>2035-01-01 00:00:00</td>\n",
       "      <td>NaN</td>\n",
       "      <td>NaN</td>\n",
       "      <td>NaN</td>\n",
       "      <td>1986-02-14 00:00:00</td>\n",
       "    </tr>\n",
       "    <tr>\n",
       "      <th>75%</th>\n",
       "      <td>NaN</td>\n",
       "      <td>NaN</td>\n",
       "      <td>NaN</td>\n",
       "      <td>NaN</td>\n",
       "      <td>NaN</td>\n",
       "      <td>2014-09-04 12:00:00</td>\n",
       "      <td>2.634055e+04</td>\n",
       "      <td>NaN</td>\n",
       "      <td>NaN</td>\n",
       "      <td>2035-01-01 00:00:00</td>\n",
       "      <td>2035-01-01 00:00:00</td>\n",
       "      <td>NaN</td>\n",
       "      <td>NaN</td>\n",
       "      <td>NaN</td>\n",
       "      <td>1995-05-25 00:00:00</td>\n",
       "    </tr>\n",
       "    <tr>\n",
       "      <th>max</th>\n",
       "      <td>NaN</td>\n",
       "      <td>NaN</td>\n",
       "      <td>NaN</td>\n",
       "      <td>NaN</td>\n",
       "      <td>NaN</td>\n",
       "      <td>2035-12-29 00:00:00</td>\n",
       "      <td>3.106123e+08</td>\n",
       "      <td>NaN</td>\n",
       "      <td>NaN</td>\n",
       "      <td>2036-01-15 00:00:00</td>\n",
       "      <td>2036-01-15 00:00:00</td>\n",
       "      <td>NaN</td>\n",
       "      <td>NaN</td>\n",
       "      <td>NaN</td>\n",
       "      <td>2017-03-20 00:00:00</td>\n",
       "    </tr>\n",
       "    <tr>\n",
       "      <th>std</th>\n",
       "      <td>NaN</td>\n",
       "      <td>NaN</td>\n",
       "      <td>NaN</td>\n",
       "      <td>NaN</td>\n",
       "      <td>NaN</td>\n",
       "      <td>NaN</td>\n",
       "      <td>4.698536e+06</td>\n",
       "      <td>NaN</td>\n",
       "      <td>NaN</td>\n",
       "      <td>NaN</td>\n",
       "      <td>NaN</td>\n",
       "      <td>NaN</td>\n",
       "      <td>NaN</td>\n",
       "      <td>NaN</td>\n",
       "      <td>NaN</td>\n",
       "    </tr>\n",
       "  </tbody>\n",
       "</table>\n",
       "</div>"
      ],
      "text/plain": [
       "                 type  country ProductServices  PointOfContact    HeadOfOrg   \n",
       "count           60520    60520            8871            8846         8862  \\\n",
       "unique              8       86            3219            8532         8795   \n",
       "top     Entity.Person  Oceanus         Unknown  Emily Williams  James Smith   \n",
       "freq            50356     4952            4741               6            3   \n",
       "mean              NaN      NaN             NaN             NaN          NaN   \n",
       "min               NaN      NaN             NaN             NaN          NaN   \n",
       "25%               NaN      NaN             NaN             NaN          NaN   \n",
       "50%               NaN      NaN             NaN             NaN          NaN   \n",
       "75%               NaN      NaN             NaN             NaN          NaN   \n",
       "max               NaN      NaN             NaN             NaN          NaN   \n",
       "std               NaN      NaN             NaN             NaN          NaN   \n",
       "\n",
       "                        founding_date       revenue TradeDescription   \n",
       "count                            8871  8.855000e+03             8871  \\\n",
       "unique                            NaN           NaN             4124   \n",
       "top                               NaN           NaN          Unknown   \n",
       "freq                              NaN           NaN             4738   \n",
       "mean    1991-04-22 15:54:58.072370688  2.786319e+05              NaN   \n",
       "min               1945-01-01 00:00:00  0.000000e+00              NaN   \n",
       "25%               1968-01-11 00:00:00  0.000000e+00              NaN   \n",
       "50%               1991-07-03 00:00:00  8.233590e+03              NaN   \n",
       "75%               2014-09-04 12:00:00  2.634055e+04              NaN   \n",
       "max               2035-12-29 00:00:00  3.106123e+08              NaN   \n",
       "std                               NaN  4.698536e+06              NaN   \n",
       "\n",
       "                _last_edited_by              _last_edited_date   \n",
       "count                     60520                          60520  \\\n",
       "unique                        3                            NaN   \n",
       "top     Pelagia Alethea Mordoch                            NaN   \n",
       "freq                      60089                            NaN   \n",
       "mean                        NaN  2035-01-02 10:34:13.403833344   \n",
       "min                         NaN            2035-01-01 00:00:00   \n",
       "25%                         NaN            2035-01-01 00:00:00   \n",
       "50%                         NaN            2035-01-01 00:00:00   \n",
       "75%                         NaN            2035-01-01 00:00:00   \n",
       "max                         NaN            2036-01-15 00:00:00   \n",
       "std                         NaN                            NaN   \n",
       "\n",
       "                          _date_added                        _raw_source   \n",
       "count                           60520                              60520  \\\n",
       "unique                            NaN                                 13   \n",
       "top                               NaN  Existing Corporate Structure Data   \n",
       "freq                              NaN                              60091   \n",
       "mean    2035-01-02 10:28:32.200925440                                NaN   \n",
       "min               2035-01-01 00:00:00                                NaN   \n",
       "25%               2035-01-01 00:00:00                                NaN   \n",
       "50%               2035-01-01 00:00:00                                NaN   \n",
       "75%               2035-01-01 00:00:00                                NaN   \n",
       "max               2036-01-15 00:00:00                                NaN   \n",
       "std                               NaN                                NaN   \n",
       "\n",
       "              _algorithm                           id   \n",
       "count              60520                        60520  \\\n",
       "unique                 2                        60520   \n",
       "top     Automatic Import  Abbott, Mcbride and Edwards   \n",
       "freq               60089                            1   \n",
       "mean                 NaN                          NaN   \n",
       "min                  NaN                          NaN   \n",
       "25%                  NaN                          NaN   \n",
       "50%                  NaN                          NaN   \n",
       "75%                  NaN                          NaN   \n",
       "max                  NaN                          NaN   \n",
       "std                  NaN                          NaN   \n",
       "\n",
       "                                  dob  \n",
       "count                           51649  \n",
       "unique                            NaN  \n",
       "top                               NaN  \n",
       "freq                              NaN  \n",
       "mean    1987-05-31 15:59:42.156479232  \n",
       "min               1970-01-02 00:00:00  \n",
       "25%               1978-02-03 00:00:00  \n",
       "50%               1986-02-14 00:00:00  \n",
       "75%               1995-05-25 00:00:00  \n",
       "max               2017-03-20 00:00:00  \n",
       "std                               NaN  "
      ]
     },
     "execution_count": 67,
     "metadata": {},
     "output_type": "execute_result"
    }
   ],
   "source": [
    "df_nodes.describe(include='all')"
   ]
  },
  {
   "cell_type": "code",
   "execution_count": 63,
   "metadata": {},
   "outputs": [
    {
     "data": {
      "text/html": [
       "<div>\n",
       "<style scoped>\n",
       "    .dataframe tbody tr th:only-of-type {\n",
       "        vertical-align: middle;\n",
       "    }\n",
       "\n",
       "    .dataframe tbody tr th {\n",
       "        vertical-align: top;\n",
       "    }\n",
       "\n",
       "    .dataframe thead th {\n",
       "        text-align: right;\n",
       "    }\n",
       "</style>\n",
       "<table border=\"1\" class=\"dataframe\">\n",
       "  <thead>\n",
       "    <tr style=\"text-align: right;\">\n",
       "      <th></th>\n",
       "      <th>start_date</th>\n",
       "      <th>type</th>\n",
       "      <th>_last_edited_by</th>\n",
       "      <th>_last_edited_date</th>\n",
       "      <th>_date_added</th>\n",
       "      <th>_raw_source</th>\n",
       "      <th>_algorithm</th>\n",
       "      <th>source</th>\n",
       "      <th>target</th>\n",
       "      <th>key</th>\n",
       "      <th>end_date</th>\n",
       "    </tr>\n",
       "  </thead>\n",
       "  <tbody>\n",
       "    <tr>\n",
       "      <th>count</th>\n",
       "      <td>75727</td>\n",
       "      <td>75817</td>\n",
       "      <td>75817</td>\n",
       "      <td>75817</td>\n",
       "      <td>75817</td>\n",
       "      <td>75817</td>\n",
       "      <td>75817</td>\n",
       "      <td>75817</td>\n",
       "      <td>75817</td>\n",
       "      <td>75817.000000</td>\n",
       "      <td>348</td>\n",
       "    </tr>\n",
       "    <tr>\n",
       "      <th>unique</th>\n",
       "      <td>NaN</td>\n",
       "      <td>4</td>\n",
       "      <td>2</td>\n",
       "      <td>NaN</td>\n",
       "      <td>NaN</td>\n",
       "      <td>13</td>\n",
       "      <td>2</td>\n",
       "      <td>51996</td>\n",
       "      <td>8926</td>\n",
       "      <td>NaN</td>\n",
       "      <td>NaN</td>\n",
       "    </tr>\n",
       "    <tr>\n",
       "      <th>top</th>\n",
       "      <td>NaN</td>\n",
       "      <td>Event.Owns.Shareholdership</td>\n",
       "      <td>Pelagia Alethea Mordoch</td>\n",
       "      <td>NaN</td>\n",
       "      <td>NaN</td>\n",
       "      <td>Existing Corporate Structure Data</td>\n",
       "      <td>Automatic Import</td>\n",
       "      <td>Jennifer Gardner</td>\n",
       "      <td>Downs Group</td>\n",
       "      <td>NaN</td>\n",
       "      <td>NaN</td>\n",
       "    </tr>\n",
       "    <tr>\n",
       "      <th>freq</th>\n",
       "      <td>NaN</td>\n",
       "      <td>39378</td>\n",
       "      <td>74711</td>\n",
       "      <td>NaN</td>\n",
       "      <td>NaN</td>\n",
       "      <td>74711</td>\n",
       "      <td>74711</td>\n",
       "      <td>92</td>\n",
       "      <td>120</td>\n",
       "      <td>NaN</td>\n",
       "      <td>NaN</td>\n",
       "    </tr>\n",
       "    <tr>\n",
       "      <th>mean</th>\n",
       "      <td>2022-09-05 09:36:25.328878592</td>\n",
       "      <td>NaN</td>\n",
       "      <td>NaN</td>\n",
       "      <td>2035-01-03 20:36:40.730706688</td>\n",
       "      <td>2035-01-03 00:05:41.875832576</td>\n",
       "      <td>NaN</td>\n",
       "      <td>NaN</td>\n",
       "      <td>NaN</td>\n",
       "      <td>NaN</td>\n",
       "      <td>0.208067</td>\n",
       "      <td>2035-06-11 03:02:04.137931008</td>\n",
       "    </tr>\n",
       "    <tr>\n",
       "      <th>min</th>\n",
       "      <td>1952-05-31 00:00:00</td>\n",
       "      <td>NaN</td>\n",
       "      <td>NaN</td>\n",
       "      <td>2035-01-01 00:00:00</td>\n",
       "      <td>2035-01-01 00:00:00</td>\n",
       "      <td>NaN</td>\n",
       "      <td>NaN</td>\n",
       "      <td>NaN</td>\n",
       "      <td>NaN</td>\n",
       "      <td>0.000000</td>\n",
       "      <td>2035-01-01 00:00:00</td>\n",
       "    </tr>\n",
       "    <tr>\n",
       "      <th>25%</th>\n",
       "      <td>2015-06-07 00:00:00</td>\n",
       "      <td>NaN</td>\n",
       "      <td>NaN</td>\n",
       "      <td>2035-01-01 00:00:00</td>\n",
       "      <td>2035-01-01 00:00:00</td>\n",
       "      <td>NaN</td>\n",
       "      <td>NaN</td>\n",
       "      <td>NaN</td>\n",
       "      <td>NaN</td>\n",
       "      <td>0.000000</td>\n",
       "      <td>2035-03-16 00:00:00</td>\n",
       "    </tr>\n",
       "    <tr>\n",
       "      <th>50%</th>\n",
       "      <td>2023-12-12 00:00:00</td>\n",
       "      <td>NaN</td>\n",
       "      <td>NaN</td>\n",
       "      <td>2035-01-01 00:00:00</td>\n",
       "      <td>2035-01-01 00:00:00</td>\n",
       "      <td>NaN</td>\n",
       "      <td>NaN</td>\n",
       "      <td>NaN</td>\n",
       "      <td>NaN</td>\n",
       "      <td>0.000000</td>\n",
       "      <td>2035-05-19 00:00:00</td>\n",
       "    </tr>\n",
       "    <tr>\n",
       "      <th>75%</th>\n",
       "      <td>2030-09-21 12:00:00</td>\n",
       "      <td>NaN</td>\n",
       "      <td>NaN</td>\n",
       "      <td>2035-01-01 00:00:00</td>\n",
       "      <td>2035-01-01 00:00:00</td>\n",
       "      <td>NaN</td>\n",
       "      <td>NaN</td>\n",
       "      <td>NaN</td>\n",
       "      <td>NaN</td>\n",
       "      <td>0.000000</td>\n",
       "      <td>2035-08-10 00:00:00</td>\n",
       "    </tr>\n",
       "    <tr>\n",
       "      <th>max</th>\n",
       "      <td>2035-12-29 00:00:00</td>\n",
       "      <td>NaN</td>\n",
       "      <td>NaN</td>\n",
       "      <td>2036-01-15 00:00:00</td>\n",
       "      <td>2036-01-15 00:00:00</td>\n",
       "      <td>NaN</td>\n",
       "      <td>NaN</td>\n",
       "      <td>NaN</td>\n",
       "      <td>NaN</td>\n",
       "      <td>2.000000</td>\n",
       "      <td>2035-12-29 00:00:00</td>\n",
       "    </tr>\n",
       "    <tr>\n",
       "      <th>std</th>\n",
       "      <td>NaN</td>\n",
       "      <td>NaN</td>\n",
       "      <td>NaN</td>\n",
       "      <td>NaN</td>\n",
       "      <td>NaN</td>\n",
       "      <td>NaN</td>\n",
       "      <td>NaN</td>\n",
       "      <td>NaN</td>\n",
       "      <td>NaN</td>\n",
       "      <td>0.413652</td>\n",
       "      <td>NaN</td>\n",
       "    </tr>\n",
       "  </tbody>\n",
       "</table>\n",
       "</div>"
      ],
      "text/plain": [
       "                           start_date                        type   \n",
       "count                           75727                       75817  \\\n",
       "unique                            NaN                           4   \n",
       "top                               NaN  Event.Owns.Shareholdership   \n",
       "freq                              NaN                       39378   \n",
       "mean    2022-09-05 09:36:25.328878592                         NaN   \n",
       "min               1952-05-31 00:00:00                         NaN   \n",
       "25%               2015-06-07 00:00:00                         NaN   \n",
       "50%               2023-12-12 00:00:00                         NaN   \n",
       "75%               2030-09-21 12:00:00                         NaN   \n",
       "max               2035-12-29 00:00:00                         NaN   \n",
       "std                               NaN                         NaN   \n",
       "\n",
       "                _last_edited_by              _last_edited_date   \n",
       "count                     75817                          75817  \\\n",
       "unique                        2                            NaN   \n",
       "top     Pelagia Alethea Mordoch                            NaN   \n",
       "freq                      74711                            NaN   \n",
       "mean                        NaN  2035-01-03 20:36:40.730706688   \n",
       "min                         NaN            2035-01-01 00:00:00   \n",
       "25%                         NaN            2035-01-01 00:00:00   \n",
       "50%                         NaN            2035-01-01 00:00:00   \n",
       "75%                         NaN            2035-01-01 00:00:00   \n",
       "max                         NaN            2036-01-15 00:00:00   \n",
       "std                         NaN                            NaN   \n",
       "\n",
       "                          _date_added                        _raw_source   \n",
       "count                           75817                              75817  \\\n",
       "unique                            NaN                                 13   \n",
       "top                               NaN  Existing Corporate Structure Data   \n",
       "freq                              NaN                              74711   \n",
       "mean    2035-01-03 00:05:41.875832576                                NaN   \n",
       "min               2035-01-01 00:00:00                                NaN   \n",
       "25%               2035-01-01 00:00:00                                NaN   \n",
       "50%               2035-01-01 00:00:00                                NaN   \n",
       "75%               2035-01-01 00:00:00                                NaN   \n",
       "max               2036-01-15 00:00:00                                NaN   \n",
       "std                               NaN                                NaN   \n",
       "\n",
       "              _algorithm            source       target           key   \n",
       "count              75817             75817        75817  75817.000000  \\\n",
       "unique                 2             51996         8926           NaN   \n",
       "top     Automatic Import  Jennifer Gardner  Downs Group           NaN   \n",
       "freq               74711                92          120           NaN   \n",
       "mean                 NaN               NaN          NaN      0.208067   \n",
       "min                  NaN               NaN          NaN      0.000000   \n",
       "25%                  NaN               NaN          NaN      0.000000   \n",
       "50%                  NaN               NaN          NaN      0.000000   \n",
       "75%                  NaN               NaN          NaN      0.000000   \n",
       "max                  NaN               NaN          NaN      2.000000   \n",
       "std                  NaN               NaN          NaN      0.413652   \n",
       "\n",
       "                             end_date  \n",
       "count                             348  \n",
       "unique                            NaN  \n",
       "top                               NaN  \n",
       "freq                              NaN  \n",
       "mean    2035-06-11 03:02:04.137931008  \n",
       "min               2035-01-01 00:00:00  \n",
       "25%               2035-03-16 00:00:00  \n",
       "50%               2035-05-19 00:00:00  \n",
       "75%               2035-08-10 00:00:00  \n",
       "max               2035-12-29 00:00:00  \n",
       "std                               NaN  "
      ]
     },
     "execution_count": 63,
     "metadata": {},
     "output_type": "execute_result"
    }
   ],
   "source": [
    "df_links.describe(include='all')\n"
   ]
  },
  {
   "cell_type": "code",
   "execution_count": 64,
   "metadata": {},
   "outputs": [
    {
     "data": {
      "text/plain": [
       "source\n",
       "Jennifer Gardner    92\n",
       "Anna Davis          92\n",
       "Sandra Young        92\n",
       "Anne Villanueva     92\n",
       "Kelsey Ortega       91\n",
       "                    ..\n",
       "Beverly Obrien       1\n",
       "Brandon Stevens      1\n",
       "Megan Mcguire        1\n",
       "Robert Love          1\n",
       "Mandy Ramos          1\n",
       "Name: count, Length: 51996, dtype: int64"
      ]
     },
     "execution_count": 64,
     "metadata": {},
     "output_type": "execute_result"
    }
   ],
   "source": [
    "df_links['source'].value_counts()"
   ]
  },
  {
   "cell_type": "code",
   "execution_count": 65,
   "metadata": {},
   "outputs": [
    {
     "data": {
      "text/plain": [
       "target\n",
       "Downs Group                      120\n",
       "Mills, Atkinson and Chavez        92\n",
       "Walton-Blair                      81\n",
       "Mosley and Sons                   75\n",
       "Keith, Cervantes and Torres       75\n",
       "                                ... \n",
       "Molina, Rodriguez and Jackson      1\n",
       "Mills, Gallegos and Mcdaniel       1\n",
       "Miller-Marks                       1\n",
       "Henry, Edwards and Bartlett        1\n",
       "Robert Mccarthy II                 1\n",
       "Name: count, Length: 8926, dtype: int64"
      ]
     },
     "execution_count": 65,
     "metadata": {},
     "output_type": "execute_result"
    }
   ],
   "source": [
    "df_links['target'].value_counts()"
   ]
  },
  {
   "cell_type": "code",
   "execution_count": 66,
   "metadata": {},
   "outputs": [
    {
     "data": {
      "text/plain": [
       "count                            75727\n",
       "mean     2022-09-05 09:36:25.328878592\n",
       "min                1952-05-31 00:00:00\n",
       "25%                2015-06-07 00:00:00\n",
       "50%                2023-12-12 00:00:00\n",
       "75%                2030-09-21 12:00:00\n",
       "max                2035-12-29 00:00:00\n",
       "Name: start_date, dtype: object"
      ]
     },
     "execution_count": 66,
     "metadata": {},
     "output_type": "execute_result"
    }
   ],
   "source": [
    "df_links['start_date'].describe()"
   ]
  },
  {
   "cell_type": "code",
   "execution_count": 70,
   "metadata": {},
   "outputs": [
    {
     "data": {
      "text/html": [
       "<div>\n",
       "<style scoped>\n",
       "    .dataframe tbody tr th:only-of-type {\n",
       "        vertical-align: middle;\n",
       "    }\n",
       "\n",
       "    .dataframe tbody tr th {\n",
       "        vertical-align: top;\n",
       "    }\n",
       "\n",
       "    .dataframe thead th {\n",
       "        text-align: right;\n",
       "    }\n",
       "</style>\n",
       "<table border=\"1\" class=\"dataframe\">\n",
       "  <thead>\n",
       "    <tr style=\"text-align: right;\">\n",
       "      <th></th>\n",
       "      <th>type</th>\n",
       "      <th>country</th>\n",
       "      <th>ProductServices</th>\n",
       "      <th>PointOfContact</th>\n",
       "      <th>HeadOfOrg</th>\n",
       "      <th>founding_date</th>\n",
       "      <th>revenue</th>\n",
       "      <th>TradeDescription</th>\n",
       "      <th>_last_edited_by</th>\n",
       "      <th>_last_edited_date</th>\n",
       "      <th>_date_added</th>\n",
       "      <th>_raw_source</th>\n",
       "      <th>_algorithm</th>\n",
       "      <th>id</th>\n",
       "      <th>dob</th>\n",
       "    </tr>\n",
       "  </thead>\n",
       "  <tbody>\n",
       "    <tr>\n",
       "      <th>60467</th>\n",
       "      <td>Entity.Organization.FishingCompany</td>\n",
       "      <td>Oceanus</td>\n",
       "      <td>Fish and seafood products</td>\n",
       "      <td>Jeffrey Wilson</td>\n",
       "      <td>Mario Sandoval</td>\n",
       "      <td>2035-05-20</td>\n",
       "      <td>77826.74</td>\n",
       "      <td>Offering an extensive range of premium fish an...</td>\n",
       "      <td>Niklaus Oberon</td>\n",
       "      <td>2035-06-15</td>\n",
       "      <td>2035-06-15</td>\n",
       "      <td>Oceanus Corporations Monthly - May '35</td>\n",
       "      <td>Manual Entry</td>\n",
       "      <td>Tainamarine Fishing Co</td>\n",
       "      <td>NaT</td>\n",
       "    </tr>\n",
       "  </tbody>\n",
       "</table>\n",
       "</div>"
      ],
      "text/plain": [
       "                                     type  country            ProductServices   \n",
       "60467  Entity.Organization.FishingCompany  Oceanus  Fish and seafood products  \\\n",
       "\n",
       "       PointOfContact       HeadOfOrg founding_date   revenue   \n",
       "60467  Jeffrey Wilson  Mario Sandoval    2035-05-20  77826.74  \\\n",
       "\n",
       "                                        TradeDescription _last_edited_by   \n",
       "60467  Offering an extensive range of premium fish an...  Niklaus Oberon  \\\n",
       "\n",
       "      _last_edited_date _date_added                             _raw_source   \n",
       "60467        2035-06-15  2035-06-15  Oceanus Corporations Monthly - May '35  \\\n",
       "\n",
       "         _algorithm                      id dob  \n",
       "60467  Manual Entry  Tainamarine Fishing Co NaT  "
      ]
     },
     "execution_count": 70,
     "metadata": {},
     "output_type": "execute_result"
    }
   ],
   "source": [
    "df_nodes[df_nodes['id']=='Tainamarine Fishing Co']"
   ]
  },
  {
   "cell_type": "code",
   "execution_count": 71,
   "metadata": {},
   "outputs": [
    {
     "data": {
      "text/html": [
       "<div>\n",
       "<style scoped>\n",
       "    .dataframe tbody tr th:only-of-type {\n",
       "        vertical-align: middle;\n",
       "    }\n",
       "\n",
       "    .dataframe tbody tr th {\n",
       "        vertical-align: top;\n",
       "    }\n",
       "\n",
       "    .dataframe thead th {\n",
       "        text-align: right;\n",
       "    }\n",
       "</style>\n",
       "<table border=\"1\" class=\"dataframe\">\n",
       "  <thead>\n",
       "    <tr style=\"text-align: right;\">\n",
       "      <th></th>\n",
       "      <th>start_date</th>\n",
       "      <th>type</th>\n",
       "      <th>_last_edited_by</th>\n",
       "      <th>_last_edited_date</th>\n",
       "      <th>_date_added</th>\n",
       "      <th>_raw_source</th>\n",
       "      <th>_algorithm</th>\n",
       "      <th>source</th>\n",
       "      <th>target</th>\n",
       "      <th>key</th>\n",
       "      <th>end_date</th>\n",
       "    </tr>\n",
       "  </thead>\n",
       "  <tbody>\n",
       "    <tr>\n",
       "      <th>75700</th>\n",
       "      <td>2035-05-20</td>\n",
       "      <td>Event.Owns.Shareholdership</td>\n",
       "      <td>Niklaus Oberon</td>\n",
       "      <td>2035-06-15</td>\n",
       "      <td>2035-06-15</td>\n",
       "      <td>Oceanus Corporations Monthly - May '35</td>\n",
       "      <td>Manual Entry</td>\n",
       "      <td>V. Miesel Shipping</td>\n",
       "      <td>Tainamarine Fishing Co</td>\n",
       "      <td>0</td>\n",
       "      <td>NaT</td>\n",
       "    </tr>\n",
       "  </tbody>\n",
       "</table>\n",
       "</div>"
      ],
      "text/plain": [
       "      start_date                        type _last_edited_by   \n",
       "75700 2035-05-20  Event.Owns.Shareholdership  Niklaus Oberon  \\\n",
       "\n",
       "      _last_edited_date _date_added                             _raw_source   \n",
       "75700        2035-06-15  2035-06-15  Oceanus Corporations Monthly - May '35  \\\n",
       "\n",
       "         _algorithm              source                  target  key end_date  \n",
       "75700  Manual Entry  V. Miesel Shipping  Tainamarine Fishing Co    0      NaT  "
      ]
     },
     "execution_count": 71,
     "metadata": {},
     "output_type": "execute_result"
    }
   ],
   "source": [
    "df_links[df_links['target']=='Tainamarine Fishing Co']"
   ]
  },
  {
   "cell_type": "code",
   "execution_count": 79,
   "metadata": {},
   "outputs": [
    {
     "data": {
      "text/plain": [
       "[]"
      ]
     },
     "execution_count": 79,
     "metadata": {},
     "output_type": "execute_result"
    }
   ],
   "source": [
    "list(simple_G.neighbors(\"SouthSeafood Express Corp\"))\n"
   ]
  },
  {
   "cell_type": "code",
   "execution_count": 94,
   "metadata": {},
   "outputs": [
    {
     "data": {
      "text/plain": [
       "array(['Entity.Organization.Company',\n",
       "       'Entity.Organization.LogisticsCompany',\n",
       "       'Entity.Organization.FishingCompany',\n",
       "       'Entity.Organization.FinancialCompany',\n",
       "       'Entity.Organization.NewsCompany', 'Entity.Organization.NGO',\n",
       "       'Entity.Person', 'Entity.Person.CEO'], dtype=object)"
      ]
     },
     "execution_count": 94,
     "metadata": {},
     "output_type": "execute_result"
    }
   ],
   "source": [
    "df_nodes['type'].unique()\n",
    "array(['Entity.Organization.Company',\n",
    "       'Entity.Organization.LogisticsCompany',\n",
    "       'Entity.Organization.FishingCompany',\n",
    "       'Entity.Organization.FinancialCompany',\n",
    "       'Entity.Organization.NewsCompany', 'Entity.Organization.NGO',\n",
    "       'Entity.Person', 'Entity.Person.CEO'], dtype=object)"
   ]
  },
  {
   "cell_type": "code",
   "execution_count": 100,
   "metadata": {},
   "outputs": [
    {
     "data": {
      "image/png": "[encoded data removed]",
      "text/plain": [
       "<Figure size 640x480 with 1 Axes>"
      ]
     },
     "metadata": {},
     "output_type": "display_data"
    }
   ],
   "source": [
    "import networkx as nx\n",
    "import matplotlib.pyplot as plt\n",
    "\n",
    "# Create a directed graph\n",
    "G = nx.node_link_graph(data)\n",
    "\n",
    "# Set the initial node\n",
    "initial_node = \"SouthSeafood Express Corp\"\n",
    "depth = 3  # Set the desired depth\n",
    "\n",
    "# Create a subgraph by iteratively adding neighbors\n",
    "subgraph = nx.DiGraph()\n",
    "subgraph.add_node(initial_node, type=df_nodes[df_nodes['id'] == initial_node]['type'].values[0])  # Add the initial node to the subgraph\n",
    "nodes_to_explore = [(initial_node, 0)]  # Initialize with the initial node and depth 0\n",
    "\n",
    "# Explore neighbors up to the specified depth\n",
    "while nodes_to_explore:\n",
    "    node, node_depth = nodes_to_explore.pop(0)  # Get the next node to explore\n",
    "    if node_depth < depth:\n",
    "        neighbors = list(G.neighbors(node)) + list(G.predecessors(node))  # Get neighbors and predecessors\n",
    "        for neighbor in neighbors:\n",
    "            if neighbor not in subgraph.nodes:\n",
    "                node_type = df_nodes[df_nodes['id'] == neighbor]['type'].values[0]\n",
    "                subgraph.add_node(neighbor, type=node_type)  # Add node with its type\n",
    "                subgraph.add_edge(node, neighbor)\n",
    "                nodes_to_explore.append((neighbor, node_depth + 1))\n",
    "\n",
    "# Define color mapping based on node type\n",
    "color_mapping = {\n",
    "    'Entity.Organization.Company': 'lightblue',\n",
    "    'Entity.Organization.LogisticsCompany': 'lightgreen',\n",
    "    'Entity.Organization.FishingCompany': 'lightcoral',\n",
    "    'Entity.Organization.FinancialCompany': 'lightyellow',\n",
    "    'Entity.Organization.NewsCompany': 'lightpink',\n",
    "    'Entity.Organization.NGO': 'lightgrey',\n",
    "    'Entity.Person': 'lightcyan',\n",
    "    'Entity.Person.CEO': 'lightorange'\n",
    "}\n",
    "\n",
    "# Draw the subgraph with node colors based on type\n",
    "pos = nx.spring_layout(subgraph)  # Layout for the nodes\n",
    "node_colors = [color_mapping[subgraph.nodes[node]['type']] for node in subgraph.nodes]\n",
    "nx.draw(subgraph, pos, with_labels=True, node_color=node_colors, node_size=500, font_size=10, font_weight='bold')\n",
    "plt.title(f\"Neighbors of {initial_node} up to Depth {depth}\")\n",
    "plt.show()\n"
   ]
  },
  {
   "cell_type": "code",
   "execution_count": 128,
   "metadata": {},
   "outputs": [
    {
     "data": {
      "application/vnd.plotly.v1+json": {
       "config": {
        "plotlyServerURL": "https://plot.ly"
       },
       "data": [
        {
         "hoverinfo": "none",
         "line": {
          "color": "#888",
          "width": 0.5
         },
         "mode": "lines",
         "type": "scatter",
         "x": [
          -0.1782662511076912,
          0.24081369168902134,
          null,
          -0.1782662511076912,
          -0.5939572006313882,
          null,
          0.24081369168902134,
          0.16417781500127843,
          null,
          0.24081369168902134,
          0.31859910571821753,
          null,
          -0.5939572006313882,
          -0.7457799014455815,
          null,
          0.16417781500127843,
          0.8953563770665134,
          null,
          0.16417781500127843,
          -1,
          null,
          0.16417781500127843,
          0.605325617816195,
          null,
          0.16417781500127843,
          0.7952717220398166,
          null,
          0.31859910571821753,
          0.4254414254731881,
          null,
          -0.7457799014455815,
          -0.9269824016195697,
          null
         ],
         "y": [
          0.06073736791561288,
          -0.3989272856969985,
          null,
          0.06073736791561288,
          0.5206007491351503,
          null,
          -0.3989272856969985,
          0.05702803725981184,
          null,
          -0.3989272856969985,
          -0.8525863849947958,
          null,
          0.5206007491351503,
          0.5573048635196948,
          null,
          0.05702803725981184,
          0.23815710425882178,
          null,
          0.05702803725981184,
          -0.33919959083134693,
          null,
          0.05702803725981184,
          0.8317102606033803,
          null,
          0.05702803725981184,
          -0.38521765801151775,
          null,
          -0.8525863849947958,
          -0.9427731548985081,
          null,
          0.5573048635196948,
          0.653165691740695,
          null
         ]
        },
        {
         "hoverinfo": "text",
         "hovertext": [
          "<b>SouthSeafood Express Corp</b><br>type: Entity.Organization.FishingCompany<br>country: Oceanus<br>ProductServices: Fishing and other related activities<br>PointOfContact: Luce du Adam<br>HeadOfOrg: Achille Forza<br>founding_date: 2032-11-05 00:00:00<br>revenue: 6529.36<br>TradeDescription: Offering comprehensive fishing solutions and related activities, ensuring sustainable practices and top-quality seafood products harvested from pristine waters worldwide.<br>_last_edited_by: Pelagia Alethea Mordoch<br>_last_edited_date: 2035-01-01 00:00:00<br>_date_added: 2035-01-01 00:00:00<br>_raw_source: Existing Corporate Structure Data<br>_algorithm: Automatic Import<br>id: SouthSeafood Express Corp<br>dob: NaT",
          "<b>AguaLeska Transit N.V.</b><br>type: Entity.Organization.FishingCompany<br>country: Oceanus<br>ProductServices: Fish and seafood products<br>PointOfContact: Mary Gaines<br>HeadOfOrg: Angela Vasquez<br>founding_date: 2032-08-30 00:00:00<br>revenue: 49556.34<br>TradeDescription: As a leading provider of fish and seafood products, this company offers an extensive selection of meticulously sourced offerings to satisfy the diverse culinary preferences of consumers and businesses.<br>_last_edited_by: Pelagia Alethea Mordoch<br>_last_edited_date: 2035-01-01 00:00:00<br>_date_added: 2035-01-01 00:00:00<br>_raw_source: Existing Corporate Structure Data<br>_algorithm: Automatic Import<br>id: AguaLeska Transit N.V.<br>dob: NaT",
          "<b>Tainamarine Fishing Co</b><br>type: Entity.Organization.FishingCompany<br>country: Oceanus<br>ProductServices: Fish and seafood products<br>PointOfContact: Jeffrey Wilson<br>HeadOfOrg: Mario Sandoval<br>founding_date: 2035-05-20 00:00:00<br>revenue: 77826.74<br>TradeDescription: Offering an extensive range of premium fish and seafood products sourced from sustainable fisheries, ensuring exceptional quality and freshness for culinary enthusiasts worldwide.<br>_last_edited_by: Niklaus Oberon<br>_last_edited_date: 2035-06-15 00:00:00<br>_date_added: 2035-06-15 00:00:00<br>_raw_source: Oceanus Corporations Monthly - May '35<br>_algorithm: Manual Entry<br>id: Tainamarine Fishing Co<br>dob: NaT",
          "<b>StichtingMarine Shipping Company</b><br>type: Entity.Organization.FishingCompany<br>country: Oceanus<br>ProductServices: Fish and seafood products<br>PointOfContact: Tammy Lane<br>HeadOfOrg: Andrea Gallagher<br>founding_date: 2031-05-01 00:00:00<br>revenue: 9652.46<br>TradeDescription: Bringing the finest selection of responsibly sourced fish and seafood products to your table, ensuring freshness, quality, and culinary excellence in every bite.<br>_last_edited_by: Pelagia Alethea Mordoch<br>_last_edited_date: 2035-01-01 00:00:00<br>_date_added: 2035-01-01 00:00:00<br>_raw_source: Existing Corporate Structure Data<br>_algorithm: Automatic Import<br>id: StichtingMarine Shipping Company<br>dob: NaT",
          "<b>Liam Conti</b><br>type: Entity.Person<br>country: Oceanus<br>ProductServices: nan<br>PointOfContact: nan<br>HeadOfOrg: nan<br>founding_date: NaT<br>revenue: nan<br>TradeDescription: nan<br>_last_edited_by: Pelagia Alethea Mordoch<br>_last_edited_date: 2035-01-01 00:00:00<br>_date_added: 2035-01-01 00:00:00<br>_raw_source: Existing Corporate Structure Data<br>_algorithm: Automatic Import<br>id: Liam Conti<br>dob: 2010-08-16 00:00:00",
          "<b>V. Miesel Shipping</b><br>type: Entity.Organization.Company<br>country: Nalakimani<br>ProductServices: Seafood products<br>PointOfContact: Elise Hauser<br>HeadOfOrg: Helena Abraham Valverde<br>founding_date: 2035-05-18 00:00:00<br>revenue: 29757.05<br>TradeDescription: Your trusted source for a diverse selection of high-quality seafood products, meticulously sourced and prepared to elevate culinary experiences worldwide.<br>_last_edited_by: Niklaus Oberon<br>_last_edited_date: 2035-06-15 00:00:00<br>_date_added: 2035-06-15 00:00:00<br>_raw_source: Oceanus Corporations Monthly - May '35<br>_algorithm: Manual Entry<br>id: V. Miesel Shipping<br>dob: NaT",
          "<b>Namorna Transit Ltd</b><br>type: Entity.Organization.Company<br>country: Nalakimani<br>ProductServices: Seafood products<br>PointOfContact: Sanaa El-Amin<br>HeadOfOrg: Donald Carson<br>founding_date: 2035-05-18 00:00:00<br>revenue: 29862.48<br>TradeDescription: Bringing the bounty of the ocean to your table with an extensive range of meticulously sourced and quality-assured seafood products.<br>_last_edited_by: Niklaus Oberon<br>_last_edited_date: 2035-06-15 00:00:00<br>_date_added: 2035-06-15 00:00:00<br>_raw_source: Oceanus Corporations Monthly - May '35<br>_algorithm: Manual Entry<br>id: Namorna Transit Ltd<br>dob: NaT",
          "<b>SavanetaCreek Solutions NV</b><br>type: Entity.Organization.LogisticsCompany<br>country: Oceanus<br>ProductServices: Shipping, freight trucking and other related transportation services<br>PointOfContact: Rafael Sanchez<br>HeadOfOrg: Fintan Park<br>founding_date: 2031-01-15 00:00:00<br>revenue: 5214.44<br>TradeDescription: Your all-encompassing logistics partner, offering seamless shipping, freight trucking, and a range of related transportation services to efficiently move goods across diverse landscapes and waterways.<br>_last_edited_by: Pelagia Alethea Mordoch<br>_last_edited_date: 2035-01-01 00:00:00<br>_date_added: 2035-01-01 00:00:00<br>_raw_source: Existing Corporate Structure Data<br>_algorithm: Automatic Import<br>id: SavanetaCreek Solutions NV<br>dob: NaT",
          "<b>Fintan Park</b><br>type: Entity.Person<br>country: Oceanus<br>ProductServices: nan<br>PointOfContact: nan<br>HeadOfOrg: nan<br>founding_date: NaT<br>revenue: nan<br>TradeDescription: nan<br>_last_edited_by: Pelagia Alethea Mordoch<br>_last_edited_date: 2035-01-01 00:00:00<br>_date_added: 2035-01-01 00:00:00<br>_raw_source: Existing Corporate Structure Data<br>_algorithm: Automatic Import<br>id: Fintan Park<br>dob: 2006-06-22 00:00:00",
          "<b>Sanaa El-Amin</b><br>type: Entity.Person<br>country: Oceanus<br>ProductServices: nan<br>PointOfContact: nan<br>HeadOfOrg: nan<br>founding_date: NaT<br>revenue: nan<br>TradeDescription: nan<br>_last_edited_by: Pelagia Alethea Mordoch<br>_last_edited_date: 2035-01-01 00:00:00<br>_date_added: 2035-01-01 00:00:00<br>_raw_source: Existing Corporate Structure Data<br>_algorithm: Automatic Import<br>id: Sanaa El-Amin<br>dob: 1999-01-22 00:00:00",
          "<b>Nadia Conti</b><br>type: Entity.Person<br>country: Oceanus<br>ProductServices: nan<br>PointOfContact: nan<br>HeadOfOrg: nan<br>founding_date: NaT<br>revenue: nan<br>TradeDescription: nan<br>_last_edited_by: Pelagia Alethea Mordoch<br>_last_edited_date: 2035-01-01 00:00:00<br>_date_added: 2035-01-01 00:00:00<br>_raw_source: Existing Corporate Structure Data<br>_algorithm: Automatic Import<br>id: Nadia Conti<br>dob: 1988-04-06 00:00:00",
          "<b>Elise Hauser</b><br>type: Entity.Person<br>country: Oceanus<br>ProductServices: nan<br>PointOfContact: nan<br>HeadOfOrg: nan<br>founding_date: NaT<br>revenue: nan<br>TradeDescription: nan<br>_last_edited_by: Niklaus Oberon<br>_last_edited_date: 2035-06-15 00:00:00<br>_date_added: 2035-06-15 00:00:00<br>_raw_source: Oceanus Corporations Monthly - May '35<br>_algorithm: Manual Entry<br>id: Elise Hauser<br>dob: 2006-03-22 00:00:00"
         ],
         "marker": {
          "color": [
           "lightcoral",
           "lightcoral",
           "lightcoral",
           "lightcoral",
           "lightcyan",
           "lightblue",
           "lightblue",
           "lightgreen",
           "lightcyan",
           "lightcyan",
           "lightcyan",
           "lightcyan"
          ],
          "colorbar": {
           "thickness": 15,
           "title": {
            "side": "right",
            "text": "Node Connections"
           },
           "xanchor": "left"
          },
          "colorscale": [
           [
            0,
            "rgb(255,255,217)"
           ],
           [
            0.125,
            "rgb(237,248,177)"
           ],
           [
            0.25,
            "rgb(199,233,180)"
           ],
           [
            0.375,
            "rgb(127,205,187)"
           ],
           [
            0.5,
            "rgb(65,182,196)"
           ],
           [
            0.625,
            "rgb(29,145,192)"
           ],
           [
            0.75,
            "rgb(34,94,168)"
           ],
           [
            0.875,
            "rgb(37,52,148)"
           ],
           [
            1,
            "rgb(8,29,88)"
           ]
          ],
          "line": {
           "width": 2
          },
          "showscale": false,
          "size": 10
         },
         "mode": "markers+text",
         "text": [
          "SouthSeafood Express Corp",
          "AguaLeska Transit N.V.",
          "Tainamarine Fishing Co",
          "StichtingMarine Shipping Company",
          "Liam Conti",
          "V. Miesel Shipping",
          "Namorna Transit Ltd",
          "SavanetaCreek Solutions NV",
          "Fintan Park",
          "Sanaa El-Amin",
          "Nadia Conti",
          "Elise Hauser"
         ],
         "type": "scatter",
         "x": [
          -0.1782662511076912,
          0.24081369168902134,
          -0.5939572006313882,
          0.16417781500127843,
          0.31859910571821753,
          -0.7457799014455815,
          0.8953563770665134,
          -1,
          0.605325617816195,
          0.7952717220398166,
          0.4254414254731881,
          -0.9269824016195697
         ],
         "y": [
          0.06073736791561288,
          -0.3989272856969985,
          0.5206007491351503,
          0.05702803725981184,
          -0.8525863849947958,
          0.5573048635196948,
          0.23815710425882178,
          -0.33919959083134693,
          0.8317102606033803,
          -0.38521765801151775,
          -0.9427731548985081,
          0.653165691740695
         ]
        }
       ],
       "layout": {
        "annotations": [
         {
          "showarrow": false,
          "text": "Python code: <a href='https://plotly.com/python/'>Plotly Python</a>",
          "x": 0.005,
          "xref": "paper",
          "y": -0.002,
          "yref": "paper"
         }
        ],
        "hoverlabel": {
         "bgcolor": "rgba(255, 255, 255, 0.8)"
        },
        "hovermode": "closest",
        "margin": {
         "b": 20,
         "l": 5,
         "r": 5,
         "t": 40
        },
        "showlegend": false,
        "template": {
         "data": {
          "bar": [
           {
            "error_x": {
             "color": "#2a3f5f"
            },
            "error_y": {
             "color": "#2a3f5f"
            },
            "marker": {
             "line": {
              "color": "#E5ECF6",
              "width": 0.5
             },
             "pattern": {
              "fillmode": "overlay",
              "size": 10,
              "solidity": 0.2
             }
            },
            "type": "bar"
           }
          ],
          "barpolar": [
           {
            "marker": {
             "line": {
              "color": "#E5ECF6",
              "width": 0.5
             },
             "pattern": {
              "fillmode": "overlay",
              "size": 10,
              "solidity": 0.2
             }
            },
            "type": "barpolar"
           }
          ],
          "carpet": [
           {
            "aaxis": {
             "endlinecolor": "#2a3f5f",
             "gridcolor": "white",
             "linecolor": "white",
             "minorgridcolor": "white",
             "startlinecolor": "#2a3f5f"
            },
            "baxis": {
             "endlinecolor": "#2a3f5f",
             "gridcolor": "white",
             "linecolor": "white",
             "minorgridcolor": "white",
             "startlinecolor": "#2a3f5f"
            },
            "type": "carpet"
           }
          ],
          "choropleth": [
           {
            "colorbar": {
             "outlinewidth": 0,
             "ticks": ""
            },
            "type": "choropleth"
           }
          ],
          "contour": [
           {
            "colorbar": {
             "outlinewidth": 0,
             "ticks": ""
            },
            "colorscale": [
             [
              0,
              "#0d0887"
             ],
             [
              0.1111111111111111,
              "#46039f"
             ],
             [
              0.2222222222222222,
              "#7201a8"
             ],
             [
              0.3333333333333333,
              "#9c179e"
             ],
             [
              0.4444444444444444,
              "#bd3786"
             ],
             [
              0.5555555555555556,
              "#d8576b"
             ],
             [
              0.6666666666666666,
              "#ed7953"
             ],
             [
              0.7777777777777778,
              "#fb9f3a"
             ],
             [
              0.8888888888888888,
              "#fdca26"
             ],
             [
              1,
              "#f0f921"
             ]
            ],
            "type": "contour"
           }
          ],
          "contourcarpet": [
           {
            "colorbar": {
             "outlinewidth": 0,
             "ticks": ""
            },
            "type": "contourcarpet"
           }
          ],
          "heatmap": [
           {
            "colorbar": {
             "outlinewidth": 0,
             "ticks": ""
            },
            "colorscale": [
             [
              0,
              "#0d0887"
             ],
             [
              0.1111111111111111,
              "#46039f"
             ],
             [
              0.2222222222222222,
              "#7201a8"
             ],
             [
              0.3333333333333333,
              "#9c179e"
             ],
             [
              0.4444444444444444,
              "#bd3786"
             ],
             [
              0.5555555555555556,
              "#d8576b"
             ],
             [
              0.6666666666666666,
              "#ed7953"
             ],
             [
              0.7777777777777778,
              "#fb9f3a"
             ],
             [
              0.8888888888888888,
              "#fdca26"
             ],
             [
              1,
              "#f0f921"
             ]
            ],
            "type": "heatmap"
           }
          ],
          "heatmapgl": [
           {
            "colorbar": {
             "outlinewidth": 0,
             "ticks": ""
            },
            "colorscale": [
             [
              0,
              "#0d0887"
             ],
             [
              0.1111111111111111,
              "#46039f"
             ],
             [
              0.2222222222222222,
              "#7201a8"
             ],
             [
              0.3333333333333333,
              "#9c179e"
             ],
             [
              0.4444444444444444,
              "#bd3786"
             ],
             [
              0.5555555555555556,
              "#d8576b"
             ],
             [
              0.6666666666666666,
              "#ed7953"
             ],
             [
              0.7777777777777778,
              "#fb9f3a"
             ],
             [
              0.8888888888888888,
              "#fdca26"
             ],
             [
              1,
              "#f0f921"
             ]
            ],
            "type": "heatmapgl"
           }
          ],
          "histogram": [
           {
            "marker": {
             "pattern": {
              "fillmode": "overlay",
              "size": 10,
              "solidity": 0.2
             }
            },
            "type": "histogram"
           }
          ],
          "histogram2d": [
           {
            "colorbar": {
             "outlinewidth": 0,
             "ticks": ""
            },
            "colorscale": [
             [
              0,
              "#0d0887"
             ],
             [
              0.1111111111111111,
              "#46039f"
             ],
             [
              0.2222222222222222,
              "#7201a8"
             ],
             [
              0.3333333333333333,
              "#9c179e"
             ],
             [
              0.4444444444444444,
              "#bd3786"
             ],
             [
              0.5555555555555556,
              "#d8576b"
             ],
             [
              0.6666666666666666,
              "#ed7953"
             ],
             [
              0.7777777777777778,
              "#fb9f3a"
             ],
             [
              0.8888888888888888,
              "#fdca26"
             ],
             [
              1,
              "#f0f921"
             ]
            ],
            "type": "histogram2d"
           }
          ],
          "histogram2dcontour": [
           {
            "colorbar": {
             "outlinewidth": 0,
             "ticks": ""
            },
            "colorscale": [
             [
              0,
              "#0d0887"
             ],
             [
              0.1111111111111111,
              "#46039f"
             ],
             [
              0.2222222222222222,
              "#7201a8"
             ],
             [
              0.3333333333333333,
              "#9c179e"
             ],
             [
              0.4444444444444444,
              "#bd3786"
             ],
             [
              0.5555555555555556,
              "#d8576b"
             ],
             [
              0.6666666666666666,
              "#ed7953"
             ],
             [
              0.7777777777777778,
              "#fb9f3a"
             ],
             [
              0.8888888888888888,
              "#fdca26"
             ],
             [
              1,
              "#f0f921"
             ]
            ],
            "type": "histogram2dcontour"
           }
          ],
          "mesh3d": [
           {
            "colorbar": {
             "outlinewidth": 0,
             "ticks": ""
            },
            "type": "mesh3d"
           }
          ],
          "parcoords": [
           {
            "line": {
             "colorbar": {
              "outlinewidth": 0,
              "ticks": ""
             }
            },
            "type": "parcoords"
           }
          ],
          "pie": [
           {
            "automargin": true,
            "type": "pie"
           }
          ],
          "scatter": [
           {
            "fillpattern": {
             "fillmode": "overlay",
             "size": 10,
             "solidity": 0.2
            },
            "type": "scatter"
           }
          ],
          "scatter3d": [
           {
            "line": {
             "colorbar": {
              "outlinewidth": 0,
              "ticks": ""
             }
            },
            "marker": {
             "colorbar": {
              "outlinewidth": 0,
              "ticks": ""
             }
            },
            "type": "scatter3d"
           }
          ],
          "scattercarpet": [
           {
            "marker": {
             "colorbar": {
              "outlinewidth": 0,
              "ticks": ""
             }
            },
            "type": "scattercarpet"
           }
          ],
          "scattergeo": [
           {
            "marker": {
             "colorbar": {
              "outlinewidth": 0,
              "ticks": ""
             }
            },
            "type": "scattergeo"
           }
          ],
          "scattergl": [
           {
            "marker": {
             "colorbar": {
              "outlinewidth": 0,
              "ticks": ""
             }
            },
            "type": "scattergl"
           }
          ],
          "scattermapbox": [
           {
            "marker": {
             "colorbar": {
              "outlinewidth": 0,
              "ticks": ""
             }
            },
            "type": "scattermapbox"
           }
          ],
          "scatterpolar": [
           {
            "marker": {
             "colorbar": {
              "outlinewidth": 0,
              "ticks": ""
             }
            },
            "type": "scatterpolar"
           }
          ],
          "scatterpolargl": [
           {
            "marker": {
             "colorbar": {
              "outlinewidth": 0,
              "ticks": ""
             }
            },
            "type": "scatterpolargl"
           }
          ],
          "scatterternary": [
           {
            "marker": {
             "colorbar": {
              "outlinewidth": 0,
              "ticks": ""
             }
            },
            "type": "scatterternary"
           }
          ],
          "surface": [
           {
            "colorbar": {
             "outlinewidth": 0,
             "ticks": ""
            },
            "colorscale": [
             [
              0,
              "#0d0887"
             ],
             [
              0.1111111111111111,
              "#46039f"
             ],
             [
              0.2222222222222222,
              "#7201a8"
             ],
             [
              0.3333333333333333,
              "#9c179e"
             ],
             [
              0.4444444444444444,
              "#bd3786"
             ],
             [
              0.5555555555555556,
              "#d8576b"
             ],
             [
              0.6666666666666666,
              "#ed7953"
             ],
             [
              0.7777777777777778,
              "#fb9f3a"
             ],
             [
              0.8888888888888888,
              "#fdca26"
             ],
             [
              1,
              "#f0f921"
             ]
            ],
            "type": "surface"
           }
          ],
          "table": [
           {
            "cells": {
             "fill": {
              "color": "#EBF0F8"
             },
             "line": {
              "color": "white"
             }
            },
            "header": {
             "fill": {
              "color": "#C8D4E3"
             },
             "line": {
              "color": "white"
             }
            },
            "type": "table"
           }
          ]
         },
         "layout": {
          "annotationdefaults": {
           "arrowcolor": "#2a3f5f",
           "arrowhead": 0,
           "arrowwidth": 1
          },
          "autotypenumbers": "strict",
          "coloraxis": {
           "colorbar": {
            "outlinewidth": 0,
            "ticks": ""
           }
          },
          "colorscale": {
           "diverging": [
            [
             0,
             "#8e0152"
            ],
            [
             0.1,
             "#c51b7d"
            ],
            [
             0.2,
             "#de77ae"
            ],
            [
             0.3,
             "#f1b6da"
            ],
            [
             0.4,
             "#fde0ef"
            ],
            [
             0.5,
             "#f7f7f7"
            ],
            [
             0.6,
             "#e6f5d0"
            ],
            [
             0.7,
             "#b8e186"
            ],
            [
             0.8,
             "#7fbc41"
            ],
            [
             0.9,
             "#4d9221"
            ],
            [
             1,
             "#276419"
            ]
           ],
           "sequential": [
            [
             0,
             "#0d0887"
            ],
            [
             0.1111111111111111,
             "#46039f"
            ],
            [
             0.2222222222222222,
             "#7201a8"
            ],
            [
             0.3333333333333333,
             "#9c179e"
            ],
            [
             0.4444444444444444,
             "#bd3786"
            ],
            [
             0.5555555555555556,
             "#d8576b"
            ],
            [
             0.6666666666666666,
             "#ed7953"
            ],
            [
             0.7777777777777778,
             "#fb9f3a"
            ],
            [
             0.8888888888888888,
             "#fdca26"
            ],
            [
             1,
             "#f0f921"
            ]
           ],
           "sequentialminus": [
            [
             0,
             "#0d0887"
            ],
            [
             0.1111111111111111,
             "#46039f"
            ],
            [
             0.2222222222222222,
             "#7201a8"
            ],
            [
             0.3333333333333333,
             "#9c179e"
            ],
            [
             0.4444444444444444,
             "#bd3786"
            ],
            [
             0.5555555555555556,
             "#d8576b"
            ],
            [
             0.6666666666666666,
             "#ed7953"
            ],
            [
             0.7777777777777778,
             "#fb9f3a"
            ],
            [
             0.8888888888888888,
             "#fdca26"
            ],
            [
             1,
             "#f0f921"
            ]
           ]
          },
          "colorway": [
           "#636efa",
           "#EF553B",
           "#00cc96",
           "#ab63fa",
           "#FFA15A",
           "#19d3f3",
           "#FF6692",
           "#B6E880",
           "#FF97FF",
           "#FECB52"
          ],
          "font": {
           "color": "#2a3f5f"
          },
          "geo": {
           "bgcolor": "white",
           "lakecolor": "white",
           "landcolor": "#E5ECF6",
           "showlakes": true,
           "showland": true,
           "subunitcolor": "white"
          },
          "hoverlabel": {
           "align": "left"
          },
          "hovermode": "closest",
          "mapbox": {
           "style": "light"
          },
          "paper_bgcolor": "white",
          "plot_bgcolor": "#E5ECF6",
          "polar": {
           "angularaxis": {
            "gridcolor": "white",
            "linecolor": "white",
            "ticks": ""
           },
           "bgcolor": "#E5ECF6",
           "radialaxis": {
            "gridcolor": "white",
            "linecolor": "white",
            "ticks": ""
           }
          },
          "scene": {
           "xaxis": {
            "backgroundcolor": "#E5ECF6",
            "gridcolor": "white",
            "gridwidth": 2,
            "linecolor": "white",
            "showbackground": true,
            "ticks": "",
            "zerolinecolor": "white"
           },
           "yaxis": {
            "backgroundcolor": "#E5ECF6",
            "gridcolor": "white",
            "gridwidth": 2,
            "linecolor": "white",
            "showbackground": true,
            "ticks": "",
            "zerolinecolor": "white"
           },
           "zaxis": {
            "backgroundcolor": "#E5ECF6",
            "gridcolor": "white",
            "gridwidth": 2,
            "linecolor": "white",
            "showbackground": true,
            "ticks": "",
            "zerolinecolor": "white"
           }
          },
          "shapedefaults": {
           "line": {
            "color": "#2a3f5f"
           }
          },
          "ternary": {
           "aaxis": {
            "gridcolor": "white",
            "linecolor": "white",
            "ticks": ""
           },
           "baxis": {
            "gridcolor": "white",
            "linecolor": "white",
            "ticks": ""
           },
           "bgcolor": "#E5ECF6",
           "caxis": {
            "gridcolor": "white",
            "linecolor": "white",
            "ticks": ""
           }
          },
          "title": {
           "x": 0.05
          },
          "xaxis": {
           "automargin": true,
           "gridcolor": "white",
           "linecolor": "white",
           "ticks": "",
           "title": {
            "standoff": 15
           },
           "zerolinecolor": "white",
           "zerolinewidth": 2
          },
          "yaxis": {
           "automargin": true,
           "gridcolor": "white",
           "linecolor": "white",
           "ticks": "",
           "title": {
            "standoff": 15
           },
           "zerolinecolor": "white",
           "zerolinewidth": 2
          }
         }
        },
        "title": {
         "font": {
          "size": 16
         },
         "text": "<br>Network graph made with Plotly"
        },
        "xaxis": {
         "showgrid": false,
         "showticklabels": false,
         "zeroline": false
        },
        "yaxis": {
         "showgrid": false,
         "showticklabels": false,
         "zeroline": false
        }
       }
      }
     },
     "metadata": {},
     "output_type": "display_data"
    }
   ],
   "source": [
    "import networkx as nx\n",
    "import matplotlib.pyplot as plt\n",
    "import plotly.graph_objects as go\n",
    "\n",
    "# Create a directed graph\n",
    "G = nx.node_link_graph(data)\n",
    "\n",
    "# Set the initial node\n",
    "initial_node = \"SouthSeafood Express Corp\"\n",
    "depth = 3  # Set the desired depth\n",
    "\n",
    "# Create a subgraph by iteratively adding neighbors\n",
    "subgraph = nx.DiGraph()\n",
    "subgraph.add_node(initial_node, type=df_nodes[df_nodes['id'] == initial_node]['type'].values[0])  # Add the initial node to the subgraph\n",
    "nodes_to_explore = [(initial_node, 0)]  # Initialize with the initial node and depth 0\n",
    "\n",
    "# Explore neighbors up to the specified depth\n",
    "while nodes_to_explore:\n",
    "    node, node_depth = nodes_to_explore.pop(0)  # Get the next node to explore\n",
    "    if node_depth < depth:\n",
    "        neighbors = list(G.neighbors(node)) + list(G.predecessors(node))  # Get neighbors and predecessors\n",
    "        for neighbor in neighbors:\n",
    "            if neighbor not in subgraph.nodes:\n",
    "                node_type = df_nodes[df_nodes['id'] == neighbor]['type'].values[0]\n",
    "                subgraph.add_node(neighbor, type=node_type)  # Add node with its type\n",
    "                subgraph.add_edge(node, neighbor)\n",
    "                nodes_to_explore.append((neighbor, node_depth + 1))\n",
    "\n",
    "# Define color mapping based on node type\n",
    "color_mapping = {\n",
    "    'Entity.Organization.Company': 'lightblue',\n",
    "    'Entity.Organization.LogisticsCompany': 'lightgreen',\n",
    "    'Entity.Organization.FishingCompany': 'lightcoral',\n",
    "    'Entity.Organization.FinancialCompany': 'lightyellow',\n",
    "    'Entity.Organization.NewsCompany': 'lightpink',\n",
    "    'Entity.Organization.NGO': 'lightgrey',\n",
    "    'Entity.Person': 'lightcyan',\n",
    "    'Entity.Person.CEO': 'lightorange'\n",
    "}\n",
    "\n",
    "# Create edge traces\n",
    "edge_trace = go.Scatter(\n",
    "    x=[],\n",
    "    y=[],\n",
    "    line=dict(width=0.5, color='#888'),\n",
    "    hoverinfo='none',\n",
    "    mode='lines')\n",
    "\n",
    "# Add edge coordinates\n",
    "for edge in subgraph.edges():\n",
    "    x0, y0 = pos[edge[0]]\n",
    "    x1, y1 = pos[edge[1]]\n",
    "    edge_trace['x'] += (x0, x1, None)\n",
    "    edge_trace['y'] += (y0, y1, None)\n",
    "\n",
    "# Create node traces\n",
    "node_trace = go.Scatter(\n",
    "    x=[],\n",
    "    y=[],\n",
    "    text=[],\n",
    "    hovertext=[],  # Initialize hovertext as an empty list\n",
    "    mode='markers+text',  # Add text directly on markers\n",
    "    hoverinfo='text',\n",
    "    marker=dict(\n",
    "        showscale=False,\n",
    "        colorscale='YlGnBu',\n",
    "        color=[],\n",
    "        size=10,\n",
    "        colorbar=dict(\n",
    "            thickness=15,\n",
    "            title='Node Connections',\n",
    "            xanchor='left',\n",
    "            titleside='right'\n",
    "        ),\n",
    "        line_width=2))\n",
    "\n",
    "# Add node coordinates and tooltips\n",
    "for node in subgraph.nodes():\n",
    "    x, y = pos[node]  # Assuming you have pos defined\n",
    "    node_trace['x'] += (x,)\n",
    "    node_trace['y'] += (y,)\n",
    "    node_trace['text'] += (node,)  # Only the name of the node\n",
    "    node_data = df_nodes[df_nodes['id'] == node].to_dict('records')[0]\n",
    "    node_trace['hovertext'] += (f\"<b>{node}</b><br>{'<br>'.join([f'{key}: {value}' for key, value in node_data.items()])}\",)  # Additional data when hovering\n",
    "    node_trace['marker']['color'] += (color_mapping[subgraph.nodes[node]['type']],)\n",
    "\n",
    "# Create figure\n",
    "fig = go.Figure(data=[edge_trace, node_trace],\n",
    "                layout=go.Layout(\n",
    "                    title='<br>Network graph made with Plotly',\n",
    "                    titlefont_size=16,\n",
    "                    showlegend=False,\n",
    "                    hovermode='closest',\n",
    "                    hoverlabel=dict(\n",
    "                        bgcolor='rgba(255, 255, 255, 0.8)',  # Transparent background color for hover label\n",
    "                    ),\n",
    "                    margin=dict(b=20, l=5, r=5, t=40),\n",
    "                    annotations=[dict(\n",
    "                        text=\"Python code: <a href='https://plotly.com/python/'>Plotly Python</a>\",\n",
    "                        showarrow=False,\n",
    "                        xref=\"paper\", yref=\"paper\",\n",
    "                        x=0.005, y=-0.002)],\n",
    "                    xaxis=dict(showgrid=False, zeroline=False, showticklabels=False),\n",
    "                    yaxis=dict(showgrid=False, zeroline=False, showticklabels=False))\n",
    "                )\n",
    "\n",
    "# Show plot\n",
    "fig.show()\n"
   ]
  },
  {
   "cell_type": "code",
   "execution_count": 119,
   "metadata": {},
   "outputs": [
    {
     "data": {
      "image/png": "[encoded data removed]",
      "text/plain": [
       "<Figure size 1000x800 with 1 Axes>"
      ]
     },
     "metadata": {},
     "output_type": "display_data"
    }
   ],
   "source": [
    "import networkx as nx\n",
    "import matplotlib.pyplot as plt\n",
    "\n",
    "# Create a directed graph\n",
    "G = nx.node_link_graph(data)\n",
    "\n",
    "# Set the initial node\n",
    "initial_node = \"SouthSeafood Express Corp\"\n",
    "depth = 3  # Set the desired depth\n",
    "\n",
    "# Create a subgraph by iteratively adding neighbors\n",
    "subgraph = nx.DiGraph()\n",
    "subgraph.add_node(initial_node, type=df_nodes[df_nodes['id'] == initial_node]['type'].values[0])  # Add the initial node to the subgraph\n",
    "nodes_to_explore = [(initial_node, 0)]  # Initialize with the initial node and depth 0\n",
    "\n",
    "# Explore neighbors up to the specified depth\n",
    "while nodes_to_explore:\n",
    "    node, node_depth = nodes_to_explore.pop(0)  # Get the next node to explore\n",
    "    if node_depth < depth:\n",
    "        neighbors = list(G.neighbors(node)) + list(G.predecessors(node))  # Get neighbors and predecessors\n",
    "        for neighbor in neighbors:\n",
    "            if neighbor not in subgraph.nodes:\n",
    "                node_type = df_nodes[df_nodes['id'] == neighbor]['type'].values[0]\n",
    "                subgraph.add_node(neighbor, type=node_type)  # Add node with its type\n",
    "                subgraph.add_edge(node, neighbor)\n",
    "                nodes_to_explore.append((neighbor, node_depth + 1))\n",
    "\n",
    "# Define color mapping based on node type\n",
    "color_mapping = {\n",
    "    'Entity.Organization.Company': 'lightblue',\n",
    "    'Entity.Organization.LogisticsCompany': 'lightgreen',\n",
    "    'Entity.Organization.FishingCompany': 'lightcoral',\n",
    "    'Entity.Organization.FinancialCompany': 'lightyellow',\n",
    "    'Entity.Organization.NewsCompany': 'lightpink',\n",
    "    'Entity.Organization.NGO': 'lightgrey',\n",
    "    'Entity.Person': 'lightcyan',\n",
    "    'Entity.Person.CEO': 'lightorange'\n",
    "}\n",
    "\n",
    "# Draw the subgraph with node colors based on type\n",
    "plt.figure(figsize=(10, 8))\n",
    "pos = nx.spring_layout(subgraph)  # Layout for the nodes\n",
    "node_colors = [color_mapping[subgraph.nodes[node]['type']] for node in subgraph.nodes]\n",
    "nx.draw(subgraph, pos, with_labels=True, node_color=node_colors, node_size=500, font_size=10, font_weight='bold')\n",
    "\n",
    "# Create tooltips for each node\n",
    "tooltips = {node: f\"{node}: {df_nodes[df_nodes['id'] == node].to_dict('records')[0]}\" for node in subgraph.nodes}\n",
    "\n",
    "# Add tooltips\n",
    "for node, (x, y) in pos.items():\n",
    "    plt.text(x, y, node, bbox=dict(facecolor='white', alpha=0.8), fontsize=8, ha='center', va='center')\n",
    "\n",
    "plt.title(f\"Neighbors of {initial_node} up to Depth {depth}\")\n",
    "plt.show()\n"
   ]
  },
  {
   "cell_type": "code",
   "execution_count": 88,
   "metadata": {},
   "outputs": [
    {
     "data": {
      "text/html": [
       "<div>\n",
       "<style scoped>\n",
       "    .dataframe tbody tr th:only-of-type {\n",
       "        vertical-align: middle;\n",
       "    }\n",
       "\n",
       "    .dataframe tbody tr th {\n",
       "        vertical-align: top;\n",
       "    }\n",
       "\n",
       "    .dataframe thead th {\n",
       "        text-align: right;\n",
       "    }\n",
       "</style>\n",
       "<table border=\"1\" class=\"dataframe\">\n",
       "  <thead>\n",
       "    <tr style=\"text-align: right;\">\n",
       "      <th></th>\n",
       "      <th>type</th>\n",
       "      <th>country</th>\n",
       "      <th>ProductServices</th>\n",
       "      <th>PointOfContact</th>\n",
       "      <th>HeadOfOrg</th>\n",
       "      <th>founding_date</th>\n",
       "      <th>revenue</th>\n",
       "      <th>TradeDescription</th>\n",
       "      <th>_last_edited_by</th>\n",
       "      <th>_last_edited_date</th>\n",
       "      <th>_date_added</th>\n",
       "      <th>_raw_source</th>\n",
       "      <th>_algorithm</th>\n",
       "      <th>id</th>\n",
       "      <th>dob</th>\n",
       "    </tr>\n",
       "  </thead>\n",
       "  <tbody>\n",
       "    <tr>\n",
       "      <th>60428</th>\n",
       "      <td>Entity.Organization.FishingCompany</td>\n",
       "      <td>Oceanus</td>\n",
       "      <td>Fish and seafood products</td>\n",
       "      <td>Mary Gaines</td>\n",
       "      <td>Angela Vasquez</td>\n",
       "      <td>2032-08-30</td>\n",
       "      <td>49556.34</td>\n",
       "      <td>As a leading provider of fish and seafood prod...</td>\n",
       "      <td>Pelagia Alethea Mordoch</td>\n",
       "      <td>2035-01-01</td>\n",
       "      <td>2035-01-01</td>\n",
       "      <td>Existing Corporate Structure Data</td>\n",
       "      <td>Automatic Import</td>\n",
       "      <td>AguaLeska Transit N.V.</td>\n",
       "      <td>NaT</td>\n",
       "    </tr>\n",
       "    <tr>\n",
       "      <th>60448</th>\n",
       "      <td>Entity.Organization.Company</td>\n",
       "      <td>Nalakimani</td>\n",
       "      <td>Seafood products</td>\n",
       "      <td>Sanaa El-Amin</td>\n",
       "      <td>Donald Carson</td>\n",
       "      <td>2035-05-18</td>\n",
       "      <td>29862.48</td>\n",
       "      <td>Bringing the bounty of the ocean to your table...</td>\n",
       "      <td>Niklaus Oberon</td>\n",
       "      <td>2035-06-15</td>\n",
       "      <td>2035-06-15</td>\n",
       "      <td>Oceanus Corporations Monthly - May '35</td>\n",
       "      <td>Manual Entry</td>\n",
       "      <td>Namorna Transit Ltd</td>\n",
       "      <td>NaT</td>\n",
       "    </tr>\n",
       "    <tr>\n",
       "      <th>60460</th>\n",
       "      <td>Entity.Organization.LogisticsCompany</td>\n",
       "      <td>Oceanus</td>\n",
       "      <td>Shipping, freight trucking and other related t...</td>\n",
       "      <td>Rafael Sanchez</td>\n",
       "      <td>Fintan Park</td>\n",
       "      <td>2031-01-15</td>\n",
       "      <td>5214.44</td>\n",
       "      <td>Your all-encompassing logistics partner, offer...</td>\n",
       "      <td>Pelagia Alethea Mordoch</td>\n",
       "      <td>2035-01-01</td>\n",
       "      <td>2035-01-01</td>\n",
       "      <td>Existing Corporate Structure Data</td>\n",
       "      <td>Automatic Import</td>\n",
       "      <td>SavanetaCreek Solutions NV</td>\n",
       "      <td>NaT</td>\n",
       "    </tr>\n",
       "    <tr>\n",
       "      <th>60463</th>\n",
       "      <td>Entity.Organization.FishingCompany</td>\n",
       "      <td>Oceanus</td>\n",
       "      <td>Fishing and other related activities</td>\n",
       "      <td>Luce du Adam</td>\n",
       "      <td>Achille Forza</td>\n",
       "      <td>2032-11-05</td>\n",
       "      <td>6529.36</td>\n",
       "      <td>Offering comprehensive fishing solutions and r...</td>\n",
       "      <td>Pelagia Alethea Mordoch</td>\n",
       "      <td>2035-01-01</td>\n",
       "      <td>2035-01-01</td>\n",
       "      <td>Existing Corporate Structure Data</td>\n",
       "      <td>Automatic Import</td>\n",
       "      <td>SouthSeafood Express Corp</td>\n",
       "      <td>NaT</td>\n",
       "    </tr>\n",
       "    <tr>\n",
       "      <th>60465</th>\n",
       "      <td>Entity.Organization.FishingCompany</td>\n",
       "      <td>Oceanus</td>\n",
       "      <td>Fish and seafood products</td>\n",
       "      <td>Tammy Lane</td>\n",
       "      <td>Andrea Gallagher</td>\n",
       "      <td>2031-05-01</td>\n",
       "      <td>9652.46</td>\n",
       "      <td>Bringing the finest selection of responsibly s...</td>\n",
       "      <td>Pelagia Alethea Mordoch</td>\n",
       "      <td>2035-01-01</td>\n",
       "      <td>2035-01-01</td>\n",
       "      <td>Existing Corporate Structure Data</td>\n",
       "      <td>Automatic Import</td>\n",
       "      <td>StichtingMarine Shipping Company</td>\n",
       "      <td>NaT</td>\n",
       "    </tr>\n",
       "    <tr>\n",
       "      <th>60467</th>\n",
       "      <td>Entity.Organization.FishingCompany</td>\n",
       "      <td>Oceanus</td>\n",
       "      <td>Fish and seafood products</td>\n",
       "      <td>Jeffrey Wilson</td>\n",
       "      <td>Mario Sandoval</td>\n",
       "      <td>2035-05-20</td>\n",
       "      <td>77826.74</td>\n",
       "      <td>Offering an extensive range of premium fish an...</td>\n",
       "      <td>Niklaus Oberon</td>\n",
       "      <td>2035-06-15</td>\n",
       "      <td>2035-06-15</td>\n",
       "      <td>Oceanus Corporations Monthly - May '35</td>\n",
       "      <td>Manual Entry</td>\n",
       "      <td>Tainamarine Fishing Co</td>\n",
       "      <td>NaT</td>\n",
       "    </tr>\n",
       "    <tr>\n",
       "      <th>60468</th>\n",
       "      <td>Entity.Organization.Company</td>\n",
       "      <td>Nalakimani</td>\n",
       "      <td>Seafood products</td>\n",
       "      <td>Elise Hauser</td>\n",
       "      <td>Helena Abraham Valverde</td>\n",
       "      <td>2035-05-18</td>\n",
       "      <td>29757.05</td>\n",
       "      <td>Your trusted source for a diverse selection of...</td>\n",
       "      <td>Niklaus Oberon</td>\n",
       "      <td>2035-06-15</td>\n",
       "      <td>2035-06-15</td>\n",
       "      <td>Oceanus Corporations Monthly - May '35</td>\n",
       "      <td>Manual Entry</td>\n",
       "      <td>V. Miesel Shipping</td>\n",
       "      <td>NaT</td>\n",
       "    </tr>\n",
       "    <tr>\n",
       "      <th>60476</th>\n",
       "      <td>Entity.Person</td>\n",
       "      <td>Oceanus</td>\n",
       "      <td>NaN</td>\n",
       "      <td>NaN</td>\n",
       "      <td>NaN</td>\n",
       "      <td>NaT</td>\n",
       "      <td>NaN</td>\n",
       "      <td>NaN</td>\n",
       "      <td>Pelagia Alethea Mordoch</td>\n",
       "      <td>2035-01-01</td>\n",
       "      <td>2035-01-01</td>\n",
       "      <td>Existing Corporate Structure Data</td>\n",
       "      <td>Automatic Import</td>\n",
       "      <td>Liam Conti</td>\n",
       "      <td>2010-08-16</td>\n",
       "    </tr>\n",
       "    <tr>\n",
       "      <th>60477</th>\n",
       "      <td>Entity.Person</td>\n",
       "      <td>Oceanus</td>\n",
       "      <td>NaN</td>\n",
       "      <td>NaN</td>\n",
       "      <td>NaN</td>\n",
       "      <td>NaT</td>\n",
       "      <td>NaN</td>\n",
       "      <td>NaN</td>\n",
       "      <td>Pelagia Alethea Mordoch</td>\n",
       "      <td>2035-01-01</td>\n",
       "      <td>2035-01-01</td>\n",
       "      <td>Existing Corporate Structure Data</td>\n",
       "      <td>Automatic Import</td>\n",
       "      <td>Nadia Conti</td>\n",
       "      <td>1988-04-06</td>\n",
       "    </tr>\n",
       "    <tr>\n",
       "      <th>60478</th>\n",
       "      <td>Entity.Person</td>\n",
       "      <td>Oceanus</td>\n",
       "      <td>NaN</td>\n",
       "      <td>NaN</td>\n",
       "      <td>NaN</td>\n",
       "      <td>NaT</td>\n",
       "      <td>NaN</td>\n",
       "      <td>NaN</td>\n",
       "      <td>Pelagia Alethea Mordoch</td>\n",
       "      <td>2035-01-01</td>\n",
       "      <td>2035-01-01</td>\n",
       "      <td>Existing Corporate Structure Data</td>\n",
       "      <td>Automatic Import</td>\n",
       "      <td>Fintan Park</td>\n",
       "      <td>2006-06-22</td>\n",
       "    </tr>\n",
       "    <tr>\n",
       "      <th>60480</th>\n",
       "      <td>Entity.Person</td>\n",
       "      <td>Oceanus</td>\n",
       "      <td>NaN</td>\n",
       "      <td>NaN</td>\n",
       "      <td>NaN</td>\n",
       "      <td>NaT</td>\n",
       "      <td>NaN</td>\n",
       "      <td>NaN</td>\n",
       "      <td>Pelagia Alethea Mordoch</td>\n",
       "      <td>2035-01-01</td>\n",
       "      <td>2035-01-01</td>\n",
       "      <td>Existing Corporate Structure Data</td>\n",
       "      <td>Automatic Import</td>\n",
       "      <td>Sanaa El-Amin</td>\n",
       "      <td>1999-01-22</td>\n",
       "    </tr>\n",
       "    <tr>\n",
       "      <th>60482</th>\n",
       "      <td>Entity.Person</td>\n",
       "      <td>Oceanus</td>\n",
       "      <td>NaN</td>\n",
       "      <td>NaN</td>\n",
       "      <td>NaN</td>\n",
       "      <td>NaT</td>\n",
       "      <td>NaN</td>\n",
       "      <td>NaN</td>\n",
       "      <td>Niklaus Oberon</td>\n",
       "      <td>2035-06-15</td>\n",
       "      <td>2035-06-15</td>\n",
       "      <td>Oceanus Corporations Monthly - May '35</td>\n",
       "      <td>Manual Entry</td>\n",
       "      <td>Elise Hauser</td>\n",
       "      <td>2006-03-22</td>\n",
       "    </tr>\n",
       "  </tbody>\n",
       "</table>\n",
       "</div>"
      ],
      "text/plain": [
       "                                       type     country   \n",
       "60428    Entity.Organization.FishingCompany     Oceanus  \\\n",
       "60448           Entity.Organization.Company  Nalakimani   \n",
       "60460  Entity.Organization.LogisticsCompany     Oceanus   \n",
       "60463    Entity.Organization.FishingCompany     Oceanus   \n",
       "60465    Entity.Organization.FishingCompany     Oceanus   \n",
       "60467    Entity.Organization.FishingCompany     Oceanus   \n",
       "60468           Entity.Organization.Company  Nalakimani   \n",
       "60476                         Entity.Person     Oceanus   \n",
       "60477                         Entity.Person     Oceanus   \n",
       "60478                         Entity.Person     Oceanus   \n",
       "60480                         Entity.Person     Oceanus   \n",
       "60482                         Entity.Person     Oceanus   \n",
       "\n",
       "                                         ProductServices  PointOfContact   \n",
       "60428                          Fish and seafood products     Mary Gaines  \\\n",
       "60448                                   Seafood products   Sanaa El-Amin   \n",
       "60460  Shipping, freight trucking and other related t...  Rafael Sanchez   \n",
       "60463               Fishing and other related activities    Luce du Adam   \n",
       "60465                          Fish and seafood products      Tammy Lane   \n",
       "60467                          Fish and seafood products  Jeffrey Wilson   \n",
       "60468                                   Seafood products    Elise Hauser   \n",
       "60476                                                NaN             NaN   \n",
       "60477                                                NaN             NaN   \n",
       "60478                                                NaN             NaN   \n",
       "60480                                                NaN             NaN   \n",
       "60482                                                NaN             NaN   \n",
       "\n",
       "                     HeadOfOrg founding_date   revenue   \n",
       "60428           Angela Vasquez    2032-08-30  49556.34  \\\n",
       "60448            Donald Carson    2035-05-18  29862.48   \n",
       "60460              Fintan Park    2031-01-15   5214.44   \n",
       "60463            Achille Forza    2032-11-05   6529.36   \n",
       "60465         Andrea Gallagher    2031-05-01   9652.46   \n",
       "60467           Mario Sandoval    2035-05-20  77826.74   \n",
       "60468  Helena Abraham Valverde    2035-05-18  29757.05   \n",
       "60476                      NaN           NaT       NaN   \n",
       "60477                      NaN           NaT       NaN   \n",
       "60478                      NaN           NaT       NaN   \n",
       "60480                      NaN           NaT       NaN   \n",
       "60482                      NaN           NaT       NaN   \n",
       "\n",
       "                                        TradeDescription   \n",
       "60428  As a leading provider of fish and seafood prod...  \\\n",
       "60448  Bringing the bounty of the ocean to your table...   \n",
       "60460  Your all-encompassing logistics partner, offer...   \n",
       "60463  Offering comprehensive fishing solutions and r...   \n",
       "60465  Bringing the finest selection of responsibly s...   \n",
       "60467  Offering an extensive range of premium fish an...   \n",
       "60468  Your trusted source for a diverse selection of...   \n",
       "60476                                                NaN   \n",
       "60477                                                NaN   \n",
       "60478                                                NaN   \n",
       "60480                                                NaN   \n",
       "60482                                                NaN   \n",
       "\n",
       "               _last_edited_by _last_edited_date _date_added   \n",
       "60428  Pelagia Alethea Mordoch        2035-01-01  2035-01-01  \\\n",
       "60448           Niklaus Oberon        2035-06-15  2035-06-15   \n",
       "60460  Pelagia Alethea Mordoch        2035-01-01  2035-01-01   \n",
       "60463  Pelagia Alethea Mordoch        2035-01-01  2035-01-01   \n",
       "60465  Pelagia Alethea Mordoch        2035-01-01  2035-01-01   \n",
       "60467           Niklaus Oberon        2035-06-15  2035-06-15   \n",
       "60468           Niklaus Oberon        2035-06-15  2035-06-15   \n",
       "60476  Pelagia Alethea Mordoch        2035-01-01  2035-01-01   \n",
       "60477  Pelagia Alethea Mordoch        2035-01-01  2035-01-01   \n",
       "60478  Pelagia Alethea Mordoch        2035-01-01  2035-01-01   \n",
       "60480  Pelagia Alethea Mordoch        2035-01-01  2035-01-01   \n",
       "60482           Niklaus Oberon        2035-06-15  2035-06-15   \n",
       "\n",
       "                                  _raw_source        _algorithm   \n",
       "60428       Existing Corporate Structure Data  Automatic Import  \\\n",
       "60448  Oceanus Corporations Monthly - May '35      Manual Entry   \n",
       "60460       Existing Corporate Structure Data  Automatic Import   \n",
       "60463       Existing Corporate Structure Data  Automatic Import   \n",
       "60465       Existing Corporate Structure Data  Automatic Import   \n",
       "60467  Oceanus Corporations Monthly - May '35      Manual Entry   \n",
       "60468  Oceanus Corporations Monthly - May '35      Manual Entry   \n",
       "60476       Existing Corporate Structure Data  Automatic Import   \n",
       "60477       Existing Corporate Structure Data  Automatic Import   \n",
       "60478       Existing Corporate Structure Data  Automatic Import   \n",
       "60480       Existing Corporate Structure Data  Automatic Import   \n",
       "60482  Oceanus Corporations Monthly - May '35      Manual Entry   \n",
       "\n",
       "                                     id        dob  \n",
       "60428            AguaLeska Transit N.V.        NaT  \n",
       "60448               Namorna Transit Ltd        NaT  \n",
       "60460        SavanetaCreek Solutions NV        NaT  \n",
       "60463         SouthSeafood Express Corp        NaT  \n",
       "60465  StichtingMarine Shipping Company        NaT  \n",
       "60467            Tainamarine Fishing Co        NaT  \n",
       "60468                V. Miesel Shipping        NaT  \n",
       "60476                        Liam Conti 2010-08-16  \n",
       "60477                       Nadia Conti 1988-04-06  \n",
       "60478                       Fintan Park 2006-06-22  \n",
       "60480                     Sanaa El-Amin 1999-01-22  \n",
       "60482                      Elise Hauser 2006-03-22  "
      ]
     },
     "execution_count": 88,
     "metadata": {},
     "output_type": "execute_result"
    }
   ],
   "source": [
    "df_nodes[df_nodes['id'] in list(subgraph.nodes)]"
   ]
  },
  {
   "cell_type": "code",
   "execution_count": 86,
   "metadata": {},
   "outputs": [
    {
     "data": {
      "text/plain": [
       "['SouthSeafood Express Corp',\n",
       " 'AguaLeska Transit N.V.',\n",
       " 'Tainamarine Fishing Co',\n",
       " 'StichtingMarine Shipping Company',\n",
       " 'Liam Conti',\n",
       " 'V. Miesel Shipping',\n",
       " 'Namorna Transit Ltd',\n",
       " 'SavanetaCreek Solutions NV',\n",
       " 'Fintan Park',\n",
       " 'Sanaa El-Amin',\n",
       " 'Nadia Conti',\n",
       " 'Elise Hauser']"
      ]
     },
     "execution_count": 86,
     "metadata": {},
     "output_type": "execute_result"
    }
   ],
   "source": [
    "nodes_to_explore\n",
    "list(subgraph.nodes())"
   ]
  }
 ],
 "metadata": {
  "kernelspec": {
   "display_name": "Python 3",
   "language": "python",
   "name": "python3"
  },
  "language_info": {
   "codemirror_mode": {
    "name": "ipython",
    "version": 3
   },
   "file_extension": ".py",
   "mimetype": "text/x-python",
   "name": "python",
   "nbconvert_exporter": "python",
   "pygments_lexer": "ipython3",
   "version": "3.11.4"
  }
 },
 "nbformat": 4,
 "nbformat_minor": 2
}
