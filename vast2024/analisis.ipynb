{
 "cells": [
  {
   "cell_type": "code",
   "execution_count": 10,
   "metadata": {},
   "outputs": [],
   "source": [
    "import pandas as pd\n",
    "import networkx as nx\n",
    "import plotly.express as px\n"
   ]
  },
  {
   "cell_type": "code",
   "execution_count": 11,
   "metadata": {},
   "outputs": [],
   "source": [
    "df_nodes = pd.read_csv('nodes.csv')\n",
    "df_edges = pd.read_csv('links.csv')"
   ]
  },
  {
   "cell_type": "code",
   "execution_count": 12,
   "metadata": {},
   "outputs": [
    {
     "data": {
      "text/html": [
       "<div>\n",
       "<style scoped>\n",
       "    .dataframe tbody tr th:only-of-type {\n",
       "        vertical-align: middle;\n",
       "    }\n",
       "\n",
       "    .dataframe tbody tr th {\n",
       "        vertical-align: top;\n",
       "    }\n",
       "\n",
       "    .dataframe thead th {\n",
       "        text-align: right;\n",
       "    }\n",
       "</style>\n",
       "<table border=\"1\" class=\"dataframe\">\n",
       "  <thead>\n",
       "    <tr style=\"text-align: right;\">\n",
       "      <th></th>\n",
       "      <th>Unnamed: 0</th>\n",
       "      <th>type</th>\n",
       "      <th>country</th>\n",
       "      <th>ProductServices</th>\n",
       "      <th>PointOfContact</th>\n",
       "      <th>HeadOfOrg</th>\n",
       "      <th>founding_date</th>\n",
       "      <th>revenue</th>\n",
       "      <th>TradeDescription</th>\n",
       "      <th>_last_edited_by</th>\n",
       "      <th>_last_edited_date</th>\n",
       "      <th>_date_added</th>\n",
       "      <th>_raw_source</th>\n",
       "      <th>_algorithm</th>\n",
       "      <th>id</th>\n",
       "      <th>dob</th>\n",
       "    </tr>\n",
       "  </thead>\n",
       "  <tbody>\n",
       "    <tr>\n",
       "      <th>0</th>\n",
       "      <td>0</td>\n",
       "      <td>Entity.Organization.Company</td>\n",
       "      <td>Uziland</td>\n",
       "      <td>Unknown</td>\n",
       "      <td>Rebecca Lewis</td>\n",
       "      <td>Émilie-Susan Benoit</td>\n",
       "      <td>1954-04-24</td>\n",
       "      <td>5994.73</td>\n",
       "      <td>Unknown</td>\n",
       "      <td>Pelagia Alethea Mordoch</td>\n",
       "      <td>2035-01-01</td>\n",
       "      <td>2035-01-01</td>\n",
       "      <td>Existing Corporate Structure Data</td>\n",
       "      <td>Automatic Import</td>\n",
       "      <td>Abbott, Mcbride and Edwards</td>\n",
       "      <td>NaN</td>\n",
       "    </tr>\n",
       "    <tr>\n",
       "      <th>1</th>\n",
       "      <td>1</td>\n",
       "      <td>Entity.Organization.Company</td>\n",
       "      <td>Mawalara</td>\n",
       "      <td>Furniture and home accessories</td>\n",
       "      <td>Michael Lopez</td>\n",
       "      <td>Honoré Lemoine</td>\n",
       "      <td>2009-06-12</td>\n",
       "      <td>71766.67</td>\n",
       "      <td>Abbott-Gomez is a leading manufacturer and sup...</td>\n",
       "      <td>Pelagia Alethea Mordoch</td>\n",
       "      <td>2035-01-01</td>\n",
       "      <td>2035-01-01</td>\n",
       "      <td>Existing Corporate Structure Data</td>\n",
       "      <td>Automatic Import</td>\n",
       "      <td>Abbott-Gomez</td>\n",
       "      <td>NaN</td>\n",
       "    </tr>\n",
       "    <tr>\n",
       "      <th>2</th>\n",
       "      <td>2</td>\n",
       "      <td>Entity.Organization.Company</td>\n",
       "      <td>Uzifrica</td>\n",
       "      <td>Food products</td>\n",
       "      <td>Steven Robertson</td>\n",
       "      <td>Jules Labbé</td>\n",
       "      <td>2029-12-15</td>\n",
       "      <td>0.00</td>\n",
       "      <td>Abbott-Harrison is a leading manufacturer of h...</td>\n",
       "      <td>Pelagia Alethea Mordoch</td>\n",
       "      <td>2035-01-01</td>\n",
       "      <td>2035-01-01</td>\n",
       "      <td>Existing Corporate Structure Data</td>\n",
       "      <td>Automatic Import</td>\n",
       "      <td>Abbott-Harrison</td>\n",
       "      <td>NaN</td>\n",
       "    </tr>\n",
       "    <tr>\n",
       "      <th>3</th>\n",
       "      <td>3</td>\n",
       "      <td>Entity.Organization.Company</td>\n",
       "      <td>Islavaragon</td>\n",
       "      <td>Unknown</td>\n",
       "      <td>Anthony Wyatt</td>\n",
       "      <td>Dr. Víctor Hurtado</td>\n",
       "      <td>1972-02-16</td>\n",
       "      <td>0.00</td>\n",
       "      <td>Unknown</td>\n",
       "      <td>Pelagia Alethea Mordoch</td>\n",
       "      <td>2035-01-01</td>\n",
       "      <td>2035-01-01</td>\n",
       "      <td>Existing Corporate Structure Data</td>\n",
       "      <td>Automatic Import</td>\n",
       "      <td>Abbott-Ibarra</td>\n",
       "      <td>NaN</td>\n",
       "    </tr>\n",
       "    <tr>\n",
       "      <th>4</th>\n",
       "      <td>4</td>\n",
       "      <td>Entity.Organization.Company</td>\n",
       "      <td>Oceanus</td>\n",
       "      <td>Unknown</td>\n",
       "      <td>Tracy Schmidt</td>\n",
       "      <td>Jacques Le Roux de Leclercq</td>\n",
       "      <td>1954-04-06</td>\n",
       "      <td>4746.67</td>\n",
       "      <td>Unknown</td>\n",
       "      <td>Pelagia Alethea Mordoch</td>\n",
       "      <td>2035-01-01</td>\n",
       "      <td>2035-01-01</td>\n",
       "      <td>Existing Corporate Structure Data</td>\n",
       "      <td>Automatic Import</td>\n",
       "      <td>Abbott-Sullivan</td>\n",
       "      <td>NaN</td>\n",
       "    </tr>\n",
       "  </tbody>\n",
       "</table>\n",
       "</div>"
      ],
      "text/plain": [
       "   Unnamed: 0                         type      country  \\\n",
       "0           0  Entity.Organization.Company      Uziland   \n",
       "1           1  Entity.Organization.Company     Mawalara   \n",
       "2           2  Entity.Organization.Company     Uzifrica   \n",
       "3           3  Entity.Organization.Company  Islavaragon   \n",
       "4           4  Entity.Organization.Company      Oceanus   \n",
       "\n",
       "                  ProductServices    PointOfContact  \\\n",
       "0                         Unknown     Rebecca Lewis   \n",
       "1  Furniture and home accessories     Michael Lopez   \n",
       "2                   Food products  Steven Robertson   \n",
       "3                         Unknown     Anthony Wyatt   \n",
       "4                         Unknown     Tracy Schmidt   \n",
       "\n",
       "                     HeadOfOrg founding_date   revenue  \\\n",
       "0          Émilie-Susan Benoit    1954-04-24   5994.73   \n",
       "1               Honoré Lemoine    2009-06-12  71766.67   \n",
       "2                  Jules Labbé    2029-12-15      0.00   \n",
       "3           Dr. Víctor Hurtado    1972-02-16      0.00   \n",
       "4  Jacques Le Roux de Leclercq    1954-04-06   4746.67   \n",
       "\n",
       "                                    TradeDescription          _last_edited_by  \\\n",
       "0                                            Unknown  Pelagia Alethea Mordoch   \n",
       "1  Abbott-Gomez is a leading manufacturer and sup...  Pelagia Alethea Mordoch   \n",
       "2  Abbott-Harrison is a leading manufacturer of h...  Pelagia Alethea Mordoch   \n",
       "3                                            Unknown  Pelagia Alethea Mordoch   \n",
       "4                                            Unknown  Pelagia Alethea Mordoch   \n",
       "\n",
       "  _last_edited_date _date_added                        _raw_source  \\\n",
       "0        2035-01-01  2035-01-01  Existing Corporate Structure Data   \n",
       "1        2035-01-01  2035-01-01  Existing Corporate Structure Data   \n",
       "2        2035-01-01  2035-01-01  Existing Corporate Structure Data   \n",
       "3        2035-01-01  2035-01-01  Existing Corporate Structure Data   \n",
       "4        2035-01-01  2035-01-01  Existing Corporate Structure Data   \n",
       "\n",
       "         _algorithm                           id  dob  \n",
       "0  Automatic Import  Abbott, Mcbride and Edwards  NaN  \n",
       "1  Automatic Import                 Abbott-Gomez  NaN  \n",
       "2  Automatic Import              Abbott-Harrison  NaN  \n",
       "3  Automatic Import                Abbott-Ibarra  NaN  \n",
       "4  Automatic Import              Abbott-Sullivan  NaN  "
      ]
     },
     "execution_count": 12,
     "metadata": {},
     "output_type": "execute_result"
    }
   ],
   "source": [
    "\n",
    "df_nodes.head()"
   ]
  },
  {
   "cell_type": "code",
   "execution_count": 13,
   "metadata": {},
   "outputs": [
    {
     "data": {
      "text/html": [
       "<div>\n",
       "<style scoped>\n",
       "    .dataframe tbody tr th:only-of-type {\n",
       "        vertical-align: middle;\n",
       "    }\n",
       "\n",
       "    .dataframe tbody tr th {\n",
       "        vertical-align: top;\n",
       "    }\n",
       "\n",
       "    .dataframe thead th {\n",
       "        text-align: right;\n",
       "    }\n",
       "</style>\n",
       "<table border=\"1\" class=\"dataframe\">\n",
       "  <thead>\n",
       "    <tr style=\"text-align: right;\">\n",
       "      <th></th>\n",
       "      <th>Unnamed: 0</th>\n",
       "      <th>start_date</th>\n",
       "      <th>type</th>\n",
       "      <th>_last_edited_by</th>\n",
       "      <th>_last_edited_date</th>\n",
       "      <th>_date_added</th>\n",
       "      <th>_raw_source</th>\n",
       "      <th>_algorithm</th>\n",
       "      <th>source</th>\n",
       "      <th>target</th>\n",
       "      <th>key</th>\n",
       "      <th>end_date</th>\n",
       "    </tr>\n",
       "  </thead>\n",
       "  <tbody>\n",
       "    <tr>\n",
       "      <th>0</th>\n",
       "      <td>0</td>\n",
       "      <td>2016-10-29</td>\n",
       "      <td>Event.Owns.Shareholdership</td>\n",
       "      <td>Pelagia Alethea Mordoch</td>\n",
       "      <td>2035-01-01</td>\n",
       "      <td>2035-01-01</td>\n",
       "      <td>Existing Corporate Structure Data</td>\n",
       "      <td>Automatic Import</td>\n",
       "      <td>Avery Inc</td>\n",
       "      <td>Allen, Nichols and Thompson</td>\n",
       "      <td>0</td>\n",
       "      <td>NaN</td>\n",
       "    </tr>\n",
       "    <tr>\n",
       "      <th>1</th>\n",
       "      <td>1</td>\n",
       "      <td>2035-06-03</td>\n",
       "      <td>Event.Owns.Shareholdership</td>\n",
       "      <td>Niklaus Oberon</td>\n",
       "      <td>2035-07-15</td>\n",
       "      <td>2035-07-15</td>\n",
       "      <td>Oceanus Corporations Monthly - Jun '35</td>\n",
       "      <td>Manual Entry</td>\n",
       "      <td>Berger-Hayes</td>\n",
       "      <td>Jensen, Morris and Downs</td>\n",
       "      <td>0</td>\n",
       "      <td>NaN</td>\n",
       "    </tr>\n",
       "    <tr>\n",
       "      <th>2</th>\n",
       "      <td>2</td>\n",
       "      <td>2028-11-20</td>\n",
       "      <td>Event.Owns.Shareholdership</td>\n",
       "      <td>Pelagia Alethea Mordoch</td>\n",
       "      <td>2035-01-01</td>\n",
       "      <td>2035-01-01</td>\n",
       "      <td>Existing Corporate Structure Data</td>\n",
       "      <td>Automatic Import</td>\n",
       "      <td>Bowers Group</td>\n",
       "      <td>Barnett Inc</td>\n",
       "      <td>0</td>\n",
       "      <td>NaN</td>\n",
       "    </tr>\n",
       "    <tr>\n",
       "      <th>3</th>\n",
       "      <td>3</td>\n",
       "      <td>2024-09-04</td>\n",
       "      <td>Event.Owns.Shareholdership</td>\n",
       "      <td>Pelagia Alethea Mordoch</td>\n",
       "      <td>2035-01-01</td>\n",
       "      <td>2035-01-01</td>\n",
       "      <td>Existing Corporate Structure Data</td>\n",
       "      <td>Automatic Import</td>\n",
       "      <td>Bowman-Howe</td>\n",
       "      <td>Bennett Ltd</td>\n",
       "      <td>0</td>\n",
       "      <td>NaN</td>\n",
       "    </tr>\n",
       "    <tr>\n",
       "      <th>4</th>\n",
       "      <td>4</td>\n",
       "      <td>2034-11-12</td>\n",
       "      <td>Event.Owns.Shareholdership</td>\n",
       "      <td>Pelagia Alethea Mordoch</td>\n",
       "      <td>2035-01-01</td>\n",
       "      <td>2035-01-01</td>\n",
       "      <td>Existing Corporate Structure Data</td>\n",
       "      <td>Automatic Import</td>\n",
       "      <td>Boyd and Sons</td>\n",
       "      <td>Armstrong, Bennett and Deleon</td>\n",
       "      <td>0</td>\n",
       "      <td>NaN</td>\n",
       "    </tr>\n",
       "  </tbody>\n",
       "</table>\n",
       "</div>"
      ],
      "text/plain": [
       "   Unnamed: 0  start_date                        type  \\\n",
       "0           0  2016-10-29  Event.Owns.Shareholdership   \n",
       "1           1  2035-06-03  Event.Owns.Shareholdership   \n",
       "2           2  2028-11-20  Event.Owns.Shareholdership   \n",
       "3           3  2024-09-04  Event.Owns.Shareholdership   \n",
       "4           4  2034-11-12  Event.Owns.Shareholdership   \n",
       "\n",
       "           _last_edited_by _last_edited_date _date_added  \\\n",
       "0  Pelagia Alethea Mordoch        2035-01-01  2035-01-01   \n",
       "1           Niklaus Oberon        2035-07-15  2035-07-15   \n",
       "2  Pelagia Alethea Mordoch        2035-01-01  2035-01-01   \n",
       "3  Pelagia Alethea Mordoch        2035-01-01  2035-01-01   \n",
       "4  Pelagia Alethea Mordoch        2035-01-01  2035-01-01   \n",
       "\n",
       "                              _raw_source        _algorithm         source  \\\n",
       "0       Existing Corporate Structure Data  Automatic Import      Avery Inc   \n",
       "1  Oceanus Corporations Monthly - Jun '35      Manual Entry   Berger-Hayes   \n",
       "2       Existing Corporate Structure Data  Automatic Import   Bowers Group   \n",
       "3       Existing Corporate Structure Data  Automatic Import    Bowman-Howe   \n",
       "4       Existing Corporate Structure Data  Automatic Import  Boyd and Sons   \n",
       "\n",
       "                          target  key end_date  \n",
       "0    Allen, Nichols and Thompson    0      NaN  \n",
       "1       Jensen, Morris and Downs    0      NaN  \n",
       "2                    Barnett Inc    0      NaN  \n",
       "3                    Bennett Ltd    0      NaN  \n",
       "4  Armstrong, Bennett and Deleon    0      NaN  "
      ]
     },
     "execution_count": 13,
     "metadata": {},
     "output_type": "execute_result"
    }
   ],
   "source": [
    "df_edges.head()"
   ]
  },
  {
   "cell_type": "code",
   "execution_count": 14,
   "metadata": {},
   "outputs": [],
   "source": [
    "#converter para date founding_date, _last_edited_date e _date_added\n",
    "df_nodes['founding_date'] = pd.to_datetime(df_nodes['founding_date'])\n",
    "df_edges['start_date'] = pd.to_datetime(df_edges['start_date'])\n",
    "df_edges['end_date'] = pd.to_datetime(df_edges['end_date'])"
   ]
  },
  {
   "cell_type": "code",
   "execution_count": 15,
   "metadata": {},
   "outputs": [
    {
     "name": "stdout",
     "output_type": "stream",
     "text": [
      "2035-12-29 00:00:00\n",
      "1945-01-01 00:00:00\n",
      "2035-12-29 00:00:00\n",
      "1952-05-31 00:00:00\n",
      "2035-12-29 00:00:00\n",
      "2035-01-01 00:00:00\n"
     ]
    }
   ],
   "source": [
    "#max e min founding_date, start_date e end_date\n",
    "print(df_nodes['founding_date'].max())\n",
    "print(df_nodes['founding_date'].min())\n",
    "print(df_edges['start_date'].max())\n",
    "print(df_edges['start_date'].min())\n",
    "print(df_edges['end_date'].max())\n",
    "print(df_edges['end_date'].min())\n",
    "\n"
   ]
  },
  {
   "cell_type": "code",
   "execution_count": 16,
   "metadata": {},
   "outputs": [],
   "source": [
    "def create_dynamic_graphs(df_nodes, df_edges, periods):\n",
    "    graphs = {}\n",
    "    for period in periods:\n",
    "        G = nx.DiGraph()\n",
    "        \n",
    "        # Filtrar nós selecionados, se a lista selected_nodes estiver definida\n",
    "\n",
    "        df_nodes_period = df_nodes[df_nodes['founding_date'] <= period]\n",
    "        \n",
    "        # Adicionar nós ao grafo G\n",
    "        for _, row in df_nodes_period.iterrows():\n",
    "            G.add_node(row['id'], **row.to_dict())\n",
    "        \n",
    "        # Filtrar e adicionar arestas com base em start_date e end_date\n",
    "        df_edges_period = df_edges[(df_edges['start_date'] <= period) & \n",
    "                                   ((df_edges['end_date'].isna()) | (df_edges['end_date'] >= period))]\n",
    "        \n",
    "        for _, row in df_edges_period.iterrows():\n",
    "            G.add_edge(row['source'], row['target'], **row.to_dict())\n",
    "        \n",
    "        graphs[period] = G\n",
    "    \n",
    "    return graphs"
   ]
  },
  {
   "cell_type": "code",
   "execution_count": null,
   "metadata": {},
   "outputs": [],
   "source": []
  },
  {
   "cell_type": "code",
   "execution_count": 8,
   "metadata": {},
   "outputs": [
    {
     "name": "stderr",
     "output_type": "stream",
     "text": [
      "C:\\Users\\maico\\AppData\\Local\\Temp\\ipykernel_45848\\3661856242.py:2: FutureWarning: 'Q' is deprecated and will be removed in a future version, please use 'QE' instead.\n",
      "  periods = pd.date_range(start='2032-01-01', end='2035-12-29', freq='Q').strftime('%Y-%m').tolist()\n"
     ]
    }
   ],
   "source": [
    "# Definindo os períodos de interesse\n",
    "periods = pd.date_range(start='2032-01-01', end='2035-12-29', freq='Q').strftime('%Y-%m').tolist()\n",
    "\n",
    "# Criando grafos para cada período\n",
    "graphs = create_dynamic_graphs(df_nodes, df_edges, periods)"
   ]
  },
  {
   "cell_type": "code",
   "execution_count": 9,
   "metadata": {},
   "outputs": [
    {
     "ename": "KeyboardInterrupt",
     "evalue": "",
     "output_type": "error",
     "traceback": [
      "\u001b[1;31m---------------------------------------------------------------------------\u001b[0m",
      "\u001b[1;31mKeyboardInterrupt\u001b[0m                         Traceback (most recent call last)",
      "Cell \u001b[1;32mIn[9], line 7\u001b[0m\n\u001b[0;32m      5\u001b[0m eigenvector_centrality \u001b[38;5;241m=\u001b[39m nx\u001b[38;5;241m.\u001b[39meigenvector_centrality(G, max_iter\u001b[38;5;241m=\u001b[39m\u001b[38;5;241m1000\u001b[39m)\n\u001b[0;32m      6\u001b[0m degree_centrality \u001b[38;5;241m=\u001b[39m nx\u001b[38;5;241m.\u001b[39mdegree_centrality(G)\n\u001b[1;32m----> 7\u001b[0m betweenness_centrality \u001b[38;5;241m=\u001b[39m \u001b[43mnx\u001b[49m\u001b[38;5;241;43m.\u001b[39;49m\u001b[43mbetweenness_centrality\u001b[49m\u001b[43m(\u001b[49m\u001b[43mG\u001b[49m\u001b[43m)\u001b[49m\n\u001b[0;32m      9\u001b[0m \u001b[38;5;66;03m# Obter as métricas de centralidade específicas para o nodo 'SouthSeafood Express Corp'\u001b[39;00m\n\u001b[0;32m     10\u001b[0m \u001b[38;5;28;01mif\u001b[39;00m \u001b[38;5;124m'\u001b[39m\u001b[38;5;124mSouthSeafood Express Corp\u001b[39m\u001b[38;5;124m'\u001b[39m \u001b[38;5;129;01min\u001b[39;00m G:\n",
      "File \u001b[1;32m<class 'networkx.utils.decorators.argmap'> compilation 14:4\u001b[0m, in \u001b[0;36margmap_betweenness_centrality_10\u001b[1;34m(G, k, normalized, weight, endpoints, seed, backend, **backend_kwargs)\u001b[0m\n\u001b[0;32m      2\u001b[0m \u001b[38;5;28;01mimport\u001b[39;00m \u001b[38;5;21;01mcollections\u001b[39;00m\n\u001b[0;32m      3\u001b[0m \u001b[38;5;28;01mimport\u001b[39;00m \u001b[38;5;21;01mgzip\u001b[39;00m\n\u001b[1;32m----> 4\u001b[0m \u001b[38;5;28;01mimport\u001b[39;00m \u001b[38;5;21;01minspect\u001b[39;00m\n\u001b[0;32m      5\u001b[0m \u001b[38;5;28;01mimport\u001b[39;00m \u001b[38;5;21;01mitertools\u001b[39;00m\n\u001b[0;32m      6\u001b[0m \u001b[38;5;28;01mimport\u001b[39;00m \u001b[38;5;21;01mre\u001b[39;00m\n",
      "File \u001b[1;32mc:\\Users\\maico\\.conda\\envs\\vi_env\\Lib\\site-packages\\networkx\\utils\\backends.py:633\u001b[0m, in \u001b[0;36m_dispatchable.__call__\u001b[1;34m(self, backend, *args, **kwargs)\u001b[0m\n\u001b[0;32m    628\u001b[0m \u001b[38;5;250m\u001b[39m\u001b[38;5;124;03m\"\"\"Returns the result of the original function, or the backend function if\u001b[39;00m\n\u001b[0;32m    629\u001b[0m \u001b[38;5;124;03mthe backend is specified and that backend implements `func`.\"\"\"\u001b[39;00m\n\u001b[0;32m    631\u001b[0m \u001b[38;5;28;01mif\u001b[39;00m \u001b[38;5;129;01mnot\u001b[39;00m backends:\n\u001b[0;32m    632\u001b[0m     \u001b[38;5;66;03m# Fast path if no backends are installed\u001b[39;00m\n\u001b[1;32m--> 633\u001b[0m     \u001b[38;5;28;01mreturn\u001b[39;00m \u001b[38;5;28;43mself\u001b[39;49m\u001b[38;5;241;43m.\u001b[39;49m\u001b[43morig_func\u001b[49m\u001b[43m(\u001b[49m\u001b[38;5;241;43m*\u001b[39;49m\u001b[43margs\u001b[49m\u001b[43m,\u001b[49m\u001b[43m \u001b[49m\u001b[38;5;241;43m*\u001b[39;49m\u001b[38;5;241;43m*\u001b[39;49m\u001b[43mkwargs\u001b[49m\u001b[43m)\u001b[49m\n\u001b[0;32m    635\u001b[0m \u001b[38;5;66;03m# Use `backend_name` in this function instead of `backend`\u001b[39;00m\n\u001b[0;32m    636\u001b[0m backend_name \u001b[38;5;241m=\u001b[39m backend\n",
      "File \u001b[1;32mc:\\Users\\maico\\.conda\\envs\\vi_env\\Lib\\site-packages\\networkx\\algorithms\\centrality\\betweenness.py:136\u001b[0m, in \u001b[0;36mbetweenness_centrality\u001b[1;34m(G, k, normalized, weight, endpoints, seed)\u001b[0m\n\u001b[0;32m    133\u001b[0m \u001b[38;5;28;01mfor\u001b[39;00m s \u001b[38;5;129;01min\u001b[39;00m nodes:\n\u001b[0;32m    134\u001b[0m     \u001b[38;5;66;03m# single source shortest paths\u001b[39;00m\n\u001b[0;32m    135\u001b[0m     \u001b[38;5;28;01mif\u001b[39;00m weight \u001b[38;5;129;01mis\u001b[39;00m \u001b[38;5;28;01mNone\u001b[39;00m:  \u001b[38;5;66;03m# use BFS\u001b[39;00m\n\u001b[1;32m--> 136\u001b[0m         S, P, sigma, _ \u001b[38;5;241m=\u001b[39m \u001b[43m_single_source_shortest_path_basic\u001b[49m\u001b[43m(\u001b[49m\u001b[43mG\u001b[49m\u001b[43m,\u001b[49m\u001b[43m \u001b[49m\u001b[43ms\u001b[49m\u001b[43m)\u001b[49m\n\u001b[0;32m    137\u001b[0m     \u001b[38;5;28;01melse\u001b[39;00m:  \u001b[38;5;66;03m# use Dijkstra's algorithm\u001b[39;00m\n\u001b[0;32m    138\u001b[0m         S, P, sigma, _ \u001b[38;5;241m=\u001b[39m _single_source_dijkstra_path_basic(G, s, weight)\n",
      "File \u001b[1;32mc:\\Users\\maico\\.conda\\envs\\vi_env\\Lib\\site-packages\\networkx\\algorithms\\centrality\\betweenness.py:259\u001b[0m, in \u001b[0;36m_single_source_shortest_path_basic\u001b[1;34m(G, s)\u001b[0m\n\u001b[0;32m    257\u001b[0m P \u001b[38;5;241m=\u001b[39m {}\n\u001b[0;32m    258\u001b[0m \u001b[38;5;28;01mfor\u001b[39;00m v \u001b[38;5;129;01min\u001b[39;00m G:\n\u001b[1;32m--> 259\u001b[0m     P[v] \u001b[38;5;241m=\u001b[39m []\n\u001b[0;32m    260\u001b[0m sigma \u001b[38;5;241m=\u001b[39m \u001b[38;5;28mdict\u001b[39m\u001b[38;5;241m.\u001b[39mfromkeys(G, \u001b[38;5;241m0.0\u001b[39m)  \u001b[38;5;66;03m# sigma[v]=0 for v in G\u001b[39;00m\n\u001b[0;32m    261\u001b[0m D \u001b[38;5;241m=\u001b[39m {}\n",
      "\u001b[1;31mKeyboardInterrupt\u001b[0m: "
     ]
    }
   ],
   "source": [
    "centrality_data = []\n",
    "# Iterar sobre cada período e calcular as métricas de centralidade para o node específico\n",
    "for period, G in graphs.items():\n",
    "    # Calcular as métricas de centralidade\n",
    "    eigenvector_centrality = nx.eigenvector_centrality(G, max_iter=1000)\n",
    "    degree_centrality = nx.degree_centrality(G)\n",
    "    betweenness_centrality = nx.betweenness_centrality(G)\n",
    "    \n",
    "    # Obter as métricas de centralidade específicas para o nodo 'SouthSeafood Express Corp'\n",
    "    if 'SouthSeafood Express Corp' in G:\n",
    "        node = 'SouthSeafood Express Corp'\n",
    "        centrality_data.append({\n",
    "            'period': period,\n",
    "            'node': node,\n",
    "            'eigenvector': eigenvector_centrality.get(node, 0),\n",
    "            'degree': degree_centrality.get(node, 0),\n",
    "            'betweenness': betweenness_centrality.get(node, 0)\n",
    "        })\n",
    "\n",
    "# Criar um DataFrame com os dados de centralidade específicos para 'SouthSeafood Express Corp'\n",
    "centrality_df = pd.DataFrame(centrality_data)\n",
    "print(centrality_df)\n"
   ]
  },
  {
   "cell_type": "code",
   "execution_count": null,
   "metadata": {},
   "outputs": [],
   "source": [
    "centrality_data = []\n",
    "\n",
    "for period, G in graphs.items():\n",
    "    eigenvector_centrality = nx.eigenvector_centrality(G, max_iter=1000)\n",
    "    degree_centrality = nx.degree_centrality(G)\n",
    "    betweenness_centrality = nx.betweenness_centrality(G)\n",
    "    \n",
    "    for node in G.nodes():\n",
    "        centrality_data.append({\n",
    "            'period': period,\n",
    "            'node': node,\n",
    "            'eigenvector': eigenvector_centrality.get(node, 0),\n",
    "            'degree': degree_centrality.get(node, 0),\n",
    "            'betweenness': betweenness_centrality.get(node, 0)\n",
    "        })\n",
    "\n",
    "centrality_df = pd.DataFrame(centrality_data)\n"
   ]
  },
  {
   "cell_type": "code",
   "execution_count": 17,
   "metadata": {},
   "outputs": [],
   "source": [
    "#centrality_df.to_csv('centrality_new.csv', index=False)\n",
    "centrality_df = pd.read_csv('centrality_new.csv')\n",
    "centrality_df['period'] = pd.to_datetime(centrality_df['period'])"
   ]
  },
  {
   "cell_type": "code",
   "execution_count": 18,
   "metadata": {},
   "outputs": [
    {
     "data": {
      "text/html": [
       "<div>\n",
       "<style scoped>\n",
       "    .dataframe tbody tr th:only-of-type {\n",
       "        vertical-align: middle;\n",
       "    }\n",
       "\n",
       "    .dataframe tbody tr th {\n",
       "        vertical-align: top;\n",
       "    }\n",
       "\n",
       "    .dataframe thead th {\n",
       "        text-align: right;\n",
       "    }\n",
       "</style>\n",
       "<table border=\"1\" class=\"dataframe\">\n",
       "  <thead>\n",
       "    <tr style=\"text-align: right;\">\n",
       "      <th></th>\n",
       "      <th>period</th>\n",
       "      <th>node</th>\n",
       "      <th>eigenvector</th>\n",
       "      <th>degree</th>\n",
       "      <th>betweenness</th>\n",
       "    </tr>\n",
       "  </thead>\n",
       "  <tbody>\n",
       "    <tr>\n",
       "      <th>0</th>\n",
       "      <td>1945-03-01</td>\n",
       "      <td>Coleman-Lindsey</td>\n",
       "      <td>3.333333e-01</td>\n",
       "      <td>0.000000</td>\n",
       "      <td>0.0</td>\n",
       "    </tr>\n",
       "    <tr>\n",
       "      <th>1</th>\n",
       "      <td>1945-03-01</td>\n",
       "      <td>Davis-Ramsey</td>\n",
       "      <td>3.333333e-01</td>\n",
       "      <td>0.000000</td>\n",
       "      <td>0.0</td>\n",
       "    </tr>\n",
       "    <tr>\n",
       "      <th>2</th>\n",
       "      <td>1945-03-01</td>\n",
       "      <td>Henderson LLC</td>\n",
       "      <td>3.333333e-01</td>\n",
       "      <td>0.000000</td>\n",
       "      <td>0.0</td>\n",
       "    </tr>\n",
       "    <tr>\n",
       "      <th>3</th>\n",
       "      <td>1945-03-01</td>\n",
       "      <td>Hernandez Group</td>\n",
       "      <td>3.333333e-01</td>\n",
       "      <td>0.000000</td>\n",
       "      <td>0.0</td>\n",
       "    </tr>\n",
       "    <tr>\n",
       "      <th>4</th>\n",
       "      <td>1945-03-01</td>\n",
       "      <td>Howell LLC</td>\n",
       "      <td>3.333333e-01</td>\n",
       "      <td>0.000000</td>\n",
       "      <td>0.0</td>\n",
       "    </tr>\n",
       "    <tr>\n",
       "      <th>...</th>\n",
       "      <td>...</td>\n",
       "      <td>...</td>\n",
       "      <td>...</td>\n",
       "      <td>...</td>\n",
       "      <td>...</td>\n",
       "    </tr>\n",
       "    <tr>\n",
       "      <th>2230079</th>\n",
       "      <td>2035-09-01</td>\n",
       "      <td>Braydon Mccarthy</td>\n",
       "      <td>4.355468e-08</td>\n",
       "      <td>0.000033</td>\n",
       "      <td>0.0</td>\n",
       "    </tr>\n",
       "    <tr>\n",
       "      <th>2230080</th>\n",
       "      <td>2035-09-01</td>\n",
       "      <td>Lauren Wagner</td>\n",
       "      <td>4.355468e-08</td>\n",
       "      <td>0.000017</td>\n",
       "      <td>0.0</td>\n",
       "    </tr>\n",
       "    <tr>\n",
       "      <th>2230081</th>\n",
       "      <td>2035-09-01</td>\n",
       "      <td>Emily Yates</td>\n",
       "      <td>4.355468e-08</td>\n",
       "      <td>0.000017</td>\n",
       "      <td>0.0</td>\n",
       "    </tr>\n",
       "    <tr>\n",
       "      <th>2230082</th>\n",
       "      <td>2035-09-01</td>\n",
       "      <td>Patrick Mueller</td>\n",
       "      <td>4.355468e-08</td>\n",
       "      <td>0.000017</td>\n",
       "      <td>0.0</td>\n",
       "    </tr>\n",
       "    <tr>\n",
       "      <th>2230083</th>\n",
       "      <td>2035-09-01</td>\n",
       "      <td>Mandy Ramos</td>\n",
       "      <td>4.355468e-08</td>\n",
       "      <td>0.000017</td>\n",
       "      <td>0.0</td>\n",
       "    </tr>\n",
       "  </tbody>\n",
       "</table>\n",
       "<p>2230084 rows × 5 columns</p>\n",
       "</div>"
      ],
      "text/plain": [
       "            period              node   eigenvector    degree  betweenness\n",
       "0       1945-03-01   Coleman-Lindsey  3.333333e-01  0.000000          0.0\n",
       "1       1945-03-01      Davis-Ramsey  3.333333e-01  0.000000          0.0\n",
       "2       1945-03-01     Henderson LLC  3.333333e-01  0.000000          0.0\n",
       "3       1945-03-01   Hernandez Group  3.333333e-01  0.000000          0.0\n",
       "4       1945-03-01        Howell LLC  3.333333e-01  0.000000          0.0\n",
       "...            ...               ...           ...       ...          ...\n",
       "2230079 2035-09-01  Braydon Mccarthy  4.355468e-08  0.000033          0.0\n",
       "2230080 2035-09-01     Lauren Wagner  4.355468e-08  0.000017          0.0\n",
       "2230081 2035-09-01       Emily Yates  4.355468e-08  0.000017          0.0\n",
       "2230082 2035-09-01   Patrick Mueller  4.355468e-08  0.000017          0.0\n",
       "2230083 2035-09-01       Mandy Ramos  4.355468e-08  0.000017          0.0\n",
       "\n",
       "[2230084 rows x 5 columns]"
      ]
     },
     "execution_count": 18,
     "metadata": {},
     "output_type": "execute_result"
    }
   ],
   "source": [
    "centrality_df"
   ]
  },
  {
   "cell_type": "code",
   "execution_count": 19,
   "metadata": {},
   "outputs": [],
   "source": [
    "# Filtrar para incluir apenas dados anuais (primeiro dia do ano)\n",
    "#centrality_df = centrality_df[centrality_df['period'].dt.month == 1]\n",
    "\n",
    "# Garantir que a coluna 'period' esteja no formato de string para plotly\n",
    "#centrality_df['period'] = centrality_df['period'].dt.to_period('Y').astype(str)"
   ]
  },
  {
   "cell_type": "code",
   "execution_count": 20,
   "metadata": {},
   "outputs": [
    {
     "data": {
      "text/html": [
       "<div>\n",
       "<style scoped>\n",
       "    .dataframe tbody tr th:only-of-type {\n",
       "        vertical-align: middle;\n",
       "    }\n",
       "\n",
       "    .dataframe tbody tr th {\n",
       "        vertical-align: top;\n",
       "    }\n",
       "\n",
       "    .dataframe thead th {\n",
       "        text-align: right;\n",
       "    }\n",
       "</style>\n",
       "<table border=\"1\" class=\"dataframe\">\n",
       "  <thead>\n",
       "    <tr style=\"text-align: right;\">\n",
       "      <th></th>\n",
       "      <th>period</th>\n",
       "      <th>node</th>\n",
       "      <th>eigenvector</th>\n",
       "      <th>degree</th>\n",
       "      <th>betweenness</th>\n",
       "    </tr>\n",
       "  </thead>\n",
       "  <tbody>\n",
       "    <tr>\n",
       "      <th>1891556</th>\n",
       "      <td>2033-03-01</td>\n",
       "      <td>SouthSeafood Express Corp</td>\n",
       "      <td>9.139300e-08</td>\n",
       "      <td>0.000000</td>\n",
       "      <td>0.0</td>\n",
       "    </tr>\n",
       "    <tr>\n",
       "      <th>1946127</th>\n",
       "      <td>2033-09-01</td>\n",
       "      <td>SouthSeafood Express Corp</td>\n",
       "      <td>9.186164e-08</td>\n",
       "      <td>0.000000</td>\n",
       "      <td>0.0</td>\n",
       "    </tr>\n",
       "    <tr>\n",
       "      <th>2002076</th>\n",
       "      <td>2034-03-01</td>\n",
       "      <td>SouthSeafood Express Corp</td>\n",
       "      <td>4.200923e-02</td>\n",
       "      <td>0.000017</td>\n",
       "      <td>0.0</td>\n",
       "    </tr>\n",
       "    <tr>\n",
       "      <th>2059437</th>\n",
       "      <td>2034-09-01</td>\n",
       "      <td>SouthSeafood Express Corp</td>\n",
       "      <td>4.196987e-02</td>\n",
       "      <td>0.000017</td>\n",
       "      <td>0.0</td>\n",
       "    </tr>\n",
       "    <tr>\n",
       "      <th>2118320</th>\n",
       "      <td>2035-03-01</td>\n",
       "      <td>SouthSeafood Express Corp</td>\n",
       "      <td>4.195030e-02</td>\n",
       "      <td>0.000017</td>\n",
       "      <td>0.0</td>\n",
       "    </tr>\n",
       "    <tr>\n",
       "      <th>2178541</th>\n",
       "      <td>2035-09-01</td>\n",
       "      <td>SouthSeafood Express Corp</td>\n",
       "      <td>9.301349e-01</td>\n",
       "      <td>0.000017</td>\n",
       "      <td>0.0</td>\n",
       "    </tr>\n",
       "  </tbody>\n",
       "</table>\n",
       "</div>"
      ],
      "text/plain": [
       "            period                       node   eigenvector    degree  \\\n",
       "1891556 2033-03-01  SouthSeafood Express Corp  9.139300e-08  0.000000   \n",
       "1946127 2033-09-01  SouthSeafood Express Corp  9.186164e-08  0.000000   \n",
       "2002076 2034-03-01  SouthSeafood Express Corp  4.200923e-02  0.000017   \n",
       "2059437 2034-09-01  SouthSeafood Express Corp  4.196987e-02  0.000017   \n",
       "2118320 2035-03-01  SouthSeafood Express Corp  4.195030e-02  0.000017   \n",
       "2178541 2035-09-01  SouthSeafood Express Corp  9.301349e-01  0.000017   \n",
       "\n",
       "         betweenness  \n",
       "1891556          0.0  \n",
       "1946127          0.0  \n",
       "2002076          0.0  \n",
       "2059437          0.0  \n",
       "2118320          0.0  \n",
       "2178541          0.0  "
      ]
     },
     "execution_count": 20,
     "metadata": {},
     "output_type": "execute_result"
    }
   ],
   "source": [
    "centrality_df[centrality_df['node'] == 'SouthSeafood Express Corp']"
   ]
  },
  {
   "cell_type": "code",
   "execution_count": 21,
   "metadata": {},
   "outputs": [],
   "source": [
    "# Opcional: Filtrar para incluir apenas os nós mais importantes\n",
    "centrality_df = centrality_df[centrality_df['period'] > '2004-01-01']\n",
    "important_nodes = centrality_df.groupby('node')['eigenvector'].mean().sort_values(ascending=False).head(10).index\n",
    "centrality_df_filtered = centrality_df[centrality_df['node'].isin(important_nodes)]\n"
   ]
  },
  {
   "cell_type": "code",
   "execution_count": null,
   "metadata": {},
   "outputs": [],
   "source": []
  },
  {
   "cell_type": "code",
   "execution_count": 22,
   "metadata": {},
   "outputs": [
    {
     "data": {
      "application/vnd.plotly.v1+json": {
       "config": {
        "plotlyServerURL": "https://plot.ly"
       },
       "data": [
        {
         "hovertemplate": "node=Dyer-Campbell<br>period=%{x}<br>eigenvector=%{y}<extra></extra>",
         "legendgroup": "Dyer-Campbell",
         "line": {
          "color": "#636efa",
          "dash": "solid"
         },
         "marker": {
          "symbol": "circle"
         },
         "mode": "lines",
         "name": "Dyer-Campbell",
         "orientation": "v",
         "showlegend": true,
         "type": "scatter",
         "x": [
          "2004-03-01T00:00:00",
          "2004-09-01T00:00:00",
          "2005-03-01T00:00:00",
          "2005-09-01T00:00:00",
          "2006-03-01T00:00:00",
          "2006-09-01T00:00:00",
          "2007-03-01T00:00:00",
          "2007-09-01T00:00:00",
          "2008-03-01T00:00:00",
          "2008-09-01T00:00:00",
          "2009-03-01T00:00:00",
          "2009-09-01T00:00:00",
          "2010-03-01T00:00:00",
          "2010-09-01T00:00:00",
          "2011-03-01T00:00:00",
          "2011-09-01T00:00:00",
          "2012-03-01T00:00:00",
          "2012-09-01T00:00:00",
          "2013-03-01T00:00:00",
          "2013-09-01T00:00:00",
          "2014-03-01T00:00:00",
          "2014-09-01T00:00:00",
          "2015-03-01T00:00:00",
          "2015-09-01T00:00:00",
          "2016-03-01T00:00:00",
          "2016-09-01T00:00:00",
          "2017-03-01T00:00:00",
          "2017-09-01T00:00:00",
          "2018-03-01T00:00:00",
          "2018-09-01T00:00:00",
          "2019-03-01T00:00:00",
          "2019-09-01T00:00:00",
          "2020-03-01T00:00:00",
          "2020-09-01T00:00:00",
          "2021-03-01T00:00:00",
          "2021-09-01T00:00:00",
          "2022-03-01T00:00:00",
          "2022-09-01T00:00:00",
          "2023-03-01T00:00:00",
          "2023-09-01T00:00:00",
          "2024-03-01T00:00:00",
          "2024-09-01T00:00:00",
          "2025-03-01T00:00:00",
          "2025-09-01T00:00:00",
          "2026-03-01T00:00:00",
          "2026-09-01T00:00:00",
          "2027-03-01T00:00:00",
          "2027-09-01T00:00:00",
          "2028-03-01T00:00:00",
          "2028-09-01T00:00:00",
          "2029-03-01T00:00:00",
          "2029-09-01T00:00:00",
          "2030-03-01T00:00:00",
          "2030-09-01T00:00:00",
          "2031-03-01T00:00:00",
          "2031-09-01T00:00:00",
          "2032-03-01T00:00:00",
          "2032-09-01T00:00:00",
          "2033-03-01T00:00:00",
          "2033-09-01T00:00:00",
          "2034-03-01T00:00:00",
          "2034-09-01T00:00:00",
          "2035-03-01T00:00:00",
          "2035-09-01T00:00:00"
         ],
         "xaxis": "x",
         "y": [
          0.00002978917629678399,
          0.000020061783127975333,
          0.000010059389552238296,
          0.0014242459643718,
          0.0011271469809439,
          0.0009499560792991,
          0.0007871526055175,
          0.0006882083620016,
          0.001242755381433,
          0.0011411738265566,
          0.0010317651025866,
          0.001940372595784,
          0.053105095611858,
          0.0472044103074312,
          0.083159086263111,
          0.0779632677973754,
          0.0741740111595061,
          0.6998035241665836,
          0.6993337921900659,
          0.6984833685108236,
          0.697703018508395,
          0.6963300513707714,
          0.5121500569636748,
          0.5119451731664817,
          0.5101569125301079,
          0.6984781403645318,
          0.6986155971154372,
          0.6985596501714499,
          0.7011619272266562,
          0.7011311094222111,
          0.7011014672734822,
          0.7012305367281072,
          0.0984043644360358,
          0.0983836647118302,
          0.0983830119677423,
          0.0983740016329513,
          0.0983639995367054,
          0.0983863516605879,
          0.0983848664272318,
          0.0983909880981621,
          0.0982588477175755,
          0.0741361219927883,
          0.0741497696848993,
          0.0741489147342542,
          0.0741556533702284,
          0.0740448893475936,
          0.0739185230308853,
          0.0739176418388267,
          0.069749049304355,
          0.0684689907668131,
          0.0679083256927562,
          0.0679134449627778,
          0.0679051062841725,
          0.0672666253187074,
          0.0665922751936331,
          0.0665954042094793,
          0.0653691180849228,
          0.0651893677476287,
          0.0633428420442503,
          0.059074841694209,
          0.0428987515178403,
          0.0428585506170526,
          0.042842685094812,
          0.0159332163397407
         ],
         "yaxis": "y"
        },
        {
         "hovertemplate": "node=Hancock and Sons<br>period=%{x}<br>eigenvector=%{y}<extra></extra>",
         "legendgroup": "Hancock and Sons",
         "line": {
          "color": "#EF553B",
          "dash": "solid"
         },
         "marker": {
          "symbol": "circle"
         },
         "mode": "lines",
         "name": "Hancock and Sons",
         "orientation": "v",
         "showlegend": true,
         "type": "scatter",
         "x": [
          "2004-03-01T00:00:00",
          "2004-09-01T00:00:00",
          "2005-03-01T00:00:00",
          "2005-09-01T00:00:00",
          "2006-03-01T00:00:00",
          "2006-09-01T00:00:00",
          "2007-03-01T00:00:00",
          "2007-09-01T00:00:00",
          "2008-03-01T00:00:00",
          "2008-09-01T00:00:00",
          "2009-03-01T00:00:00",
          "2009-09-01T00:00:00",
          "2010-03-01T00:00:00",
          "2010-09-01T00:00:00",
          "2011-03-01T00:00:00",
          "2011-09-01T00:00:00",
          "2012-03-01T00:00:00",
          "2012-09-01T00:00:00",
          "2013-03-01T00:00:00",
          "2013-09-01T00:00:00",
          "2014-03-01T00:00:00",
          "2014-09-01T00:00:00",
          "2015-03-01T00:00:00",
          "2015-09-01T00:00:00",
          "2016-03-01T00:00:00",
          "2016-09-01T00:00:00",
          "2017-03-01T00:00:00",
          "2017-09-01T00:00:00",
          "2018-03-01T00:00:00",
          "2018-09-01T00:00:00",
          "2019-03-01T00:00:00",
          "2019-09-01T00:00:00",
          "2020-03-01T00:00:00",
          "2020-09-01T00:00:00",
          "2021-03-01T00:00:00",
          "2021-09-01T00:00:00",
          "2022-03-01T00:00:00",
          "2022-09-01T00:00:00",
          "2023-03-01T00:00:00",
          "2023-09-01T00:00:00",
          "2024-03-01T00:00:00",
          "2024-09-01T00:00:00",
          "2025-03-01T00:00:00",
          "2025-09-01T00:00:00",
          "2026-03-01T00:00:00",
          "2026-09-01T00:00:00",
          "2027-03-01T00:00:00",
          "2027-09-01T00:00:00",
          "2028-03-01T00:00:00",
          "2028-09-01T00:00:00",
          "2029-03-01T00:00:00",
          "2029-09-01T00:00:00",
          "2030-03-01T00:00:00",
          "2030-09-01T00:00:00",
          "2031-03-01T00:00:00",
          "2031-09-01T00:00:00",
          "2032-03-01T00:00:00",
          "2032-09-01T00:00:00",
          "2033-03-01T00:00:00",
          "2033-09-01T00:00:00",
          "2034-03-01T00:00:00",
          "2034-09-01T00:00:00",
          "2035-03-01T00:00:00",
          "2035-09-01T00:00:00"
         ],
         "xaxis": "x",
         "y": [
          0.007715396660867,
          0.0053163725289134,
          0.0055024860850743,
          0.195116441598781,
          0.1662503195968293,
          0.2859367798690488,
          0.3412333688112031,
          0.4855382691988174,
          0.4329479628737258,
          0.4715936951341089,
          0.5432292025284382,
          0.5054698464255688,
          0.5574809713344552,
          0.4945528881307059,
          0.4869103930582311,
          0.4562862347331556,
          0.4679228816101359,
          0.0672597894574579,
          0.0662996960606688,
          0.0704518657861502,
          0.0791985870732061,
          0.0923420835011516,
          0.0759701541552956,
          0.0753728930674849,
          0.0751096102302069,
          0.0216026702676856,
          0.0211179178043243,
          0.021138222435881,
          0.0161164455800159,
          0.0168131763094289,
          0.0168124654884911,
          0.0163907235618794,
          0.0049458143719173,
          0.0053534865042472,
          0.0055578058811343,
          0.0055572968736269,
          0.0055647442087977,
          0.0055646489076121,
          0.0057688737248576,
          0.0057687628864717,
          0.0057490776361689,
          0.0048631679996967,
          0.0048631222537796,
          0.0048625958212915,
          0.0048625674206601,
          0.0048440609069349,
          0.0048246215531923,
          0.0049953399257264,
          0.0045411956837663,
          0.0042913887458468,
          0.0044074224548369,
          0.0044131916751594,
          0.004412649806211,
          0.0049470551440706,
          0.0048970414994117,
          0.0050450657341373,
          0.0050404831198472,
          0.0050266229276423,
          0.0047082930931601,
          0.0045547756139919,
          0.0036981740304124,
          0.0036947084300853,
          0.0037916829157846,
          0.0016581701959982
         ],
         "yaxis": "y"
        },
        {
         "hovertemplate": "node=Vasquez-Gonzalez<br>period=%{x}<br>eigenvector=%{y}<extra></extra>",
         "legendgroup": "Vasquez-Gonzalez",
         "line": {
          "color": "#00cc96",
          "dash": "solid"
         },
         "marker": {
          "symbol": "circle"
         },
         "mode": "lines",
         "name": "Vasquez-Gonzalez",
         "orientation": "v",
         "showlegend": true,
         "type": "scatter",
         "x": [
          "2004-03-01T00:00:00",
          "2004-09-01T00:00:00",
          "2005-03-01T00:00:00",
          "2005-09-01T00:00:00",
          "2006-03-01T00:00:00",
          "2006-09-01T00:00:00",
          "2007-03-01T00:00:00",
          "2007-09-01T00:00:00",
          "2008-03-01T00:00:00",
          "2008-09-01T00:00:00",
          "2009-03-01T00:00:00",
          "2009-09-01T00:00:00",
          "2010-03-01T00:00:00",
          "2010-09-01T00:00:00",
          "2011-03-01T00:00:00",
          "2011-09-01T00:00:00",
          "2012-03-01T00:00:00",
          "2012-09-01T00:00:00",
          "2013-03-01T00:00:00",
          "2013-09-01T00:00:00",
          "2014-03-01T00:00:00",
          "2014-09-01T00:00:00",
          "2015-03-01T00:00:00",
          "2015-09-01T00:00:00",
          "2016-03-01T00:00:00",
          "2016-09-01T00:00:00",
          "2017-03-01T00:00:00",
          "2017-09-01T00:00:00",
          "2018-03-01T00:00:00",
          "2018-09-01T00:00:00",
          "2019-03-01T00:00:00",
          "2019-09-01T00:00:00",
          "2020-03-01T00:00:00",
          "2020-09-01T00:00:00",
          "2021-03-01T00:00:00",
          "2021-09-01T00:00:00",
          "2022-03-01T00:00:00",
          "2022-09-01T00:00:00",
          "2023-03-01T00:00:00",
          "2023-09-01T00:00:00",
          "2024-03-01T00:00:00",
          "2024-09-01T00:00:00",
          "2025-03-01T00:00:00",
          "2025-09-01T00:00:00",
          "2026-03-01T00:00:00",
          "2026-09-01T00:00:00",
          "2027-03-01T00:00:00",
          "2027-09-01T00:00:00",
          "2028-03-01T00:00:00",
          "2028-09-01T00:00:00",
          "2029-03-01T00:00:00",
          "2029-09-01T00:00:00",
          "2030-03-01T00:00:00",
          "2030-09-01T00:00:00",
          "2031-03-01T00:00:00",
          "2031-09-01T00:00:00",
          "2032-03-01T00:00:00",
          "2032-09-01T00:00:00",
          "2033-03-01T00:00:00",
          "2033-09-01T00:00:00",
          "2034-03-01T00:00:00",
          "2034-09-01T00:00:00",
          "2035-03-01T00:00:00",
          "2035-09-01T00:00:00"
         ],
         "xaxis": "x",
         "y": [
          0.00002978917629678399,
          0.000020061783127975333,
          0.000010059389552238296,
          0.000005255520163733798,
          0.000003860092400492915,
          0.000003156000263452373,
          0.000002714319329370987,
          0.000002423268880287567,
          0.0000022231759954079247,
          0.000002063605472977647,
          0.000001950406621146836,
          0.0000018568158811330664,
          0.0514125591161445,
          0.0456375154639171,
          0.0817001836188649,
          0.0765710949659652,
          0.0725034601605642,
          0.6994708865273795,
          0.6989430304023325,
          0.6980342246081799,
          0.6972603940622419,
          0.695894183765091,
          0.5117481007604546,
          0.5114928252528949,
          0.5097624906785206,
          0.6983187969922025,
          0.6984836116914884,
          0.6984496711262715,
          0.7010689312609674,
          0.7010381175439255,
          0.7010084793266721,
          0.7011410689815014,
          0.0983642861522054,
          0.0983516088292588,
          0.0983509562978514,
          0.098341948898855,
          0.0983319500615447,
          0.0983302660395891,
          0.0983287816528975,
          0.0983268924447135,
          0.0981949707832884,
          0.0740715686084502,
          0.0740708718462095,
          0.0740628536818835,
          0.0740624211080318,
          0.0739520119193745,
          0.0738260183224189,
          0.0738251382331206,
          0.0696667720941184,
          0.0683869172242493,
          0.06783273860857,
          0.0678320443206682,
          0.0678237156367524,
          0.0671859999506897,
          0.0665067641973524,
          0.0665041960023041,
          0.0652845390567133,
          0.0651050212926782,
          0.0632604969527866,
          0.0635459313556699,
          0.0463250442449692,
          0.0462816325268706,
          0.0462600590218099,
          0.0173084553389434
         ],
         "yaxis": "y"
        },
        {
         "hovertemplate": "node=KambalaAqua Delivery Plc<br>period=%{x}<br>eigenvector=%{y}<extra></extra>",
         "legendgroup": "KambalaAqua Delivery Plc",
         "line": {
          "color": "#ab63fa",
          "dash": "solid"
         },
         "marker": {
          "symbol": "circle"
         },
         "mode": "lines",
         "name": "KambalaAqua Delivery Plc",
         "orientation": "v",
         "showlegend": true,
         "type": "scatter",
         "x": [
          "2020-03-01T00:00:00",
          "2020-09-01T00:00:00",
          "2021-03-01T00:00:00",
          "2021-09-01T00:00:00",
          "2022-03-01T00:00:00",
          "2022-09-01T00:00:00",
          "2023-03-01T00:00:00",
          "2023-09-01T00:00:00",
          "2024-03-01T00:00:00",
          "2024-09-01T00:00:00",
          "2025-03-01T00:00:00",
          "2025-09-01T00:00:00",
          "2026-03-01T00:00:00",
          "2026-09-01T00:00:00",
          "2027-03-01T00:00:00",
          "2027-09-01T00:00:00",
          "2028-03-01T00:00:00",
          "2028-09-01T00:00:00",
          "2029-03-01T00:00:00",
          "2029-09-01T00:00:00",
          "2030-03-01T00:00:00",
          "2030-09-01T00:00:00",
          "2031-03-01T00:00:00",
          "2031-09-01T00:00:00",
          "2032-03-01T00:00:00",
          "2032-09-01T00:00:00",
          "2033-03-01T00:00:00",
          "2033-09-01T00:00:00",
          "2034-03-01T00:00:00",
          "2034-09-01T00:00:00",
          "2035-03-01T00:00:00",
          "2035-09-01T00:00:00"
         ],
         "xaxis": "x",
         "y": [
          0.989861623847324,
          0.9898577590230266,
          0.9898511916340006,
          0.9897605368507044,
          0.9896599037567416,
          0.9896429549521508,
          0.9896280153726013,
          0.989609001475406,
          0.98962553491962,
          0.7024198665594549,
          0.7024132591708264,
          0.7023372230071298,
          0.7023331209140756,
          0.7023464024135475,
          0.7022033871887549,
          0.7021950161333967,
          0.6764257550984542,
          0.6775347960008665,
          0.6721320953741379,
          0.6721252159057314,
          0.6720426897408313,
          0.6657237766449043,
          0.6589934549815236,
          0.6589680075890912,
          0.6598063869092571,
          0.6579920680983188,
          0.6518777422223069,
          0.654207447187887,
          0.4499439747568726,
          0.4495223272158793,
          0.4493127889677316,
          0.1544097877605466
         ],
         "yaxis": "y"
        },
        {
         "hovertemplate": "node=ArawakCharter Boat Transit Plc<br>period=%{x}<br>eigenvector=%{y}<extra></extra>",
         "legendgroup": "ArawakCharter Boat Transit Plc",
         "line": {
          "color": "#FFA15A",
          "dash": "solid"
         },
         "marker": {
          "symbol": "circle"
         },
         "mode": "lines",
         "name": "ArawakCharter Boat Transit Plc",
         "orientation": "v",
         "showlegend": true,
         "type": "scatter",
         "x": [
          "2024-09-01T00:00:00",
          "2025-03-01T00:00:00",
          "2025-09-01T00:00:00",
          "2026-03-01T00:00:00",
          "2026-09-01T00:00:00",
          "2027-03-01T00:00:00",
          "2027-09-01T00:00:00",
          "2028-03-01T00:00:00",
          "2028-09-01T00:00:00",
          "2029-03-01T00:00:00",
          "2029-09-01T00:00:00",
          "2030-03-01T00:00:00",
          "2030-09-01T00:00:00",
          "2031-03-01T00:00:00",
          "2031-09-01T00:00:00",
          "2032-03-01T00:00:00",
          "2032-09-01T00:00:00",
          "2033-03-01T00:00:00",
          "2033-09-01T00:00:00",
          "2034-03-01T00:00:00",
          "2034-09-01T00:00:00",
          "2035-03-01T00:00:00",
          "2035-09-01T00:00:00"
         ],
         "xaxis": "x",
         "y": [
          0.7024198665594549,
          0.7024132591708264,
          0.7023372230071298,
          0.7023331209140756,
          0.7023464024135475,
          0.7022033871887549,
          0.7021950161333967,
          0.6764257550984542,
          0.6775347960008665,
          0.6721320953741379,
          0.6721252159057314,
          0.6720426897408313,
          0.6657237766449043,
          0.6589934549815236,
          0.6589680075890912,
          0.6598063869092571,
          0.6579920680983188,
          0.6518777422223069,
          0.654207447187887,
          0.4499439747568726,
          0.4495223272158793,
          0.4493127889677316,
          0.1544097877605466
         ],
         "yaxis": "y"
        },
        {
         "hovertemplate": "node=Francis-Yoder<br>period=%{x}<br>eigenvector=%{y}<extra></extra>",
         "legendgroup": "Francis-Yoder",
         "line": {
          "color": "#19d3f3",
          "dash": "solid"
         },
         "marker": {
          "symbol": "circle"
         },
         "mode": "lines",
         "name": "Francis-Yoder",
         "orientation": "v",
         "showlegend": true,
         "type": "scatter",
         "x": [
          "2025-03-01T00:00:00",
          "2025-09-01T00:00:00",
          "2026-03-01T00:00:00",
          "2026-09-01T00:00:00",
          "2027-03-01T00:00:00",
          "2027-09-01T00:00:00",
          "2028-03-01T00:00:00",
          "2028-09-01T00:00:00",
          "2029-03-01T00:00:00",
          "2029-09-01T00:00:00",
          "2030-03-01T00:00:00",
          "2030-09-01T00:00:00",
          "2031-03-01T00:00:00",
          "2031-09-01T00:00:00",
          "2032-03-01T00:00:00",
          "2032-09-01T00:00:00",
          "2033-03-01T00:00:00",
          "2033-09-01T00:00:00",
          "2034-03-01T00:00:00",
          "2034-09-01T00:00:00",
          "2035-03-01T00:00:00",
          "2035-09-01T00:00:00"
         ],
         "xaxis": "x",
         "y": [
          0.000007318908969358132,
          0.000007318116698208359,
          0.000014489786432452158,
          0.00002872347466111352,
          0.000042839700153259766,
          0.00004283918945577799,
          0.2695465963315857,
          0.2648318954826894,
          0.2911538097717142,
          0.2911508297273904,
          0.2911150810888687,
          0.3189483098448387,
          0.3438113241576626,
          0.3438037482084203,
          0.3379792199300652,
          0.3370551249259596,
          0.327951527719605,
          0.3074555755610844,
          0.2218031204417111,
          0.2215993805330745,
          0.2214960852278676,
          0.081780051613678
         ],
         "yaxis": "y"
        },
        {
         "hovertemplate": "node=ScaniaSeafood Holdings Ltd. Liability Co<br>period=%{x}<br>eigenvector=%{y}<extra></extra>",
         "legendgroup": "ScaniaSeafood Holdings Ltd. Liability Co",
         "line": {
          "color": "#FF6692",
          "dash": "solid"
         },
         "marker": {
          "symbol": "circle"
         },
         "mode": "lines",
         "name": "ScaniaSeafood Holdings Ltd. Liability Co",
         "orientation": "v",
         "showlegend": true,
         "type": "scatter",
         "x": [
          "2030-09-01T00:00:00",
          "2031-03-01T00:00:00",
          "2031-09-01T00:00:00",
          "2032-03-01T00:00:00",
          "2032-09-01T00:00:00",
          "2033-03-01T00:00:00",
          "2033-09-01T00:00:00",
          "2034-03-01T00:00:00",
          "2034-09-01T00:00:00",
          "2035-03-01T00:00:00",
          "2035-09-01T00:00:00"
         ],
         "xaxis": "x",
         "y": [
          0.000005871875541923599,
          0.0000058125121654739046,
          0.000005812287712139842,
          0.0001401856729578,
          0.000139800193962,
          0.0001308747735583,
          0.0001266771992758,
          0.7155722601958973,
          0.7149016894118849,
          0.7145684484613737,
          0.240135327108849
         ],
         "yaxis": "y"
        },
        {
         "hovertemplate": "node=SouthSeafood Express Corp<br>period=%{x}<br>eigenvector=%{y}<extra></extra>",
         "legendgroup": "SouthSeafood Express Corp",
         "line": {
          "color": "#B6E880",
          "dash": "solid"
         },
         "marker": {
          "symbol": "circle"
         },
         "mode": "lines",
         "name": "SouthSeafood Express Corp",
         "orientation": "v",
         "showlegend": true,
         "type": "scatter",
         "x": [
          "2033-03-01T00:00:00",
          "2033-09-01T00:00:00",
          "2034-03-01T00:00:00",
          "2034-09-01T00:00:00",
          "2035-03-01T00:00:00",
          "2035-09-01T00:00:00"
         ],
         "xaxis": "x",
         "y": [
          9.139299829493561e-8,
          9.186163834362332e-8,
          0.0420092332136818,
          0.0419698658904654,
          0.0419503022522626,
          0.9301348721610536
         ],
         "yaxis": "y"
        },
        {
         "hovertemplate": "node=Oka Charter Boat Transport OJSC<br>period=%{x}<br>eigenvector=%{y}<extra></extra>",
         "legendgroup": "Oka Charter Boat Transport OJSC",
         "line": {
          "color": "#FF97FF",
          "dash": "solid"
         },
         "marker": {
          "symbol": "circle"
         },
         "mode": "lines",
         "name": "Oka Charter Boat Transport OJSC",
         "orientation": "v",
         "showlegend": true,
         "type": "scatter",
         "x": [
          "2033-03-01T00:00:00",
          "2033-09-01T00:00:00",
          "2034-03-01T00:00:00",
          "2034-09-01T00:00:00",
          "2035-03-01T00:00:00",
          "2035-09-01T00:00:00"
         ],
         "xaxis": "x",
         "y": [
          0.1158693227402955,
          0.1078460227236055,
          0.0776229105023966,
          0.0775501692030922,
          0.0775140203276869,
          0.0285181231528717
         ],
         "yaxis": "y"
        },
        {
         "hovertemplate": "node=Tainamarine Fishing Co<br>period=%{x}<br>eigenvector=%{y}<extra></extra>",
         "legendgroup": "Tainamarine Fishing Co",
         "line": {
          "color": "#FECB52",
          "dash": "solid"
         },
         "marker": {
          "symbol": "circle"
         },
         "mode": "lines",
         "name": "Tainamarine Fishing Co",
         "orientation": "v",
         "showlegend": true,
         "type": "scatter",
         "x": [
          "2035-09-01T00:00:00"
         ],
         "xaxis": "x",
         "y": [
          0.133090643332052
         ],
         "yaxis": "y"
        }
       ],
       "layout": {
        "legend": {
         "title": {
          "text": "node"
         },
         "tracegroupgap": 0
        },
        "template": {
         "data": {
          "bar": [
           {
            "error_x": {
             "color": "#2a3f5f"
            },
            "error_y": {
             "color": "#2a3f5f"
            },
            "marker": {
             "line": {
              "color": "#E5ECF6",
              "width": 0.5
             },
             "pattern": {
              "fillmode": "overlay",
              "size": 10,
              "solidity": 0.2
             }
            },
            "type": "bar"
           }
          ],
          "barpolar": [
           {
            "marker": {
             "line": {
              "color": "#E5ECF6",
              "width": 0.5
             },
             "pattern": {
              "fillmode": "overlay",
              "size": 10,
              "solidity": 0.2
             }
            },
            "type": "barpolar"
           }
          ],
          "carpet": [
           {
            "aaxis": {
             "endlinecolor": "#2a3f5f",
             "gridcolor": "white",
             "linecolor": "white",
             "minorgridcolor": "white",
             "startlinecolor": "#2a3f5f"
            },
            "baxis": {
             "endlinecolor": "#2a3f5f",
             "gridcolor": "white",
             "linecolor": "white",
             "minorgridcolor": "white",
             "startlinecolor": "#2a3f5f"
            },
            "type": "carpet"
           }
          ],
          "choropleth": [
           {
            "colorbar": {
             "outlinewidth": 0,
             "ticks": ""
            },
            "type": "choropleth"
           }
          ],
          "contour": [
           {
            "colorbar": {
             "outlinewidth": 0,
             "ticks": ""
            },
            "colorscale": [
             [
              0,
              "#0d0887"
             ],
             [
              0.1111111111111111,
              "#46039f"
             ],
             [
              0.2222222222222222,
              "#7201a8"
             ],
             [
              0.3333333333333333,
              "#9c179e"
             ],
             [
              0.4444444444444444,
              "#bd3786"
             ],
             [
              0.5555555555555556,
              "#d8576b"
             ],
             [
              0.6666666666666666,
              "#ed7953"
             ],
             [
              0.7777777777777778,
              "#fb9f3a"
             ],
             [
              0.8888888888888888,
              "#fdca26"
             ],
             [
              1,
              "#f0f921"
             ]
            ],
            "type": "contour"
           }
          ],
          "contourcarpet": [
           {
            "colorbar": {
             "outlinewidth": 0,
             "ticks": ""
            },
            "type": "contourcarpet"
           }
          ],
          "heatmap": [
           {
            "colorbar": {
             "outlinewidth": 0,
             "ticks": ""
            },
            "colorscale": [
             [
              0,
              "#0d0887"
             ],
             [
              0.1111111111111111,
              "#46039f"
             ],
             [
              0.2222222222222222,
              "#7201a8"
             ],
             [
              0.3333333333333333,
              "#9c179e"
             ],
             [
              0.4444444444444444,
              "#bd3786"
             ],
             [
              0.5555555555555556,
              "#d8576b"
             ],
             [
              0.6666666666666666,
              "#ed7953"
             ],
             [
              0.7777777777777778,
              "#fb9f3a"
             ],
             [
              0.8888888888888888,
              "#fdca26"
             ],
             [
              1,
              "#f0f921"
             ]
            ],
            "type": "heatmap"
           }
          ],
          "heatmapgl": [
           {
            "colorbar": {
             "outlinewidth": 0,
             "ticks": ""
            },
            "colorscale": [
             [
              0,
              "#0d0887"
             ],
             [
              0.1111111111111111,
              "#46039f"
             ],
             [
              0.2222222222222222,
              "#7201a8"
             ],
             [
              0.3333333333333333,
              "#9c179e"
             ],
             [
              0.4444444444444444,
              "#bd3786"
             ],
             [
              0.5555555555555556,
              "#d8576b"
             ],
             [
              0.6666666666666666,
              "#ed7953"
             ],
             [
              0.7777777777777778,
              "#fb9f3a"
             ],
             [
              0.8888888888888888,
              "#fdca26"
             ],
             [
              1,
              "#f0f921"
             ]
            ],
            "type": "heatmapgl"
           }
          ],
          "histogram": [
           {
            "marker": {
             "pattern": {
              "fillmode": "overlay",
              "size": 10,
              "solidity": 0.2
             }
            },
            "type": "histogram"
           }
          ],
          "histogram2d": [
           {
            "colorbar": {
             "outlinewidth": 0,
             "ticks": ""
            },
            "colorscale": [
             [
              0,
              "#0d0887"
             ],
             [
              0.1111111111111111,
              "#46039f"
             ],
             [
              0.2222222222222222,
              "#7201a8"
             ],
             [
              0.3333333333333333,
              "#9c179e"
             ],
             [
              0.4444444444444444,
              "#bd3786"
             ],
             [
              0.5555555555555556,
              "#d8576b"
             ],
             [
              0.6666666666666666,
              "#ed7953"
             ],
             [
              0.7777777777777778,
              "#fb9f3a"
             ],
             [
              0.8888888888888888,
              "#fdca26"
             ],
             [
              1,
              "#f0f921"
             ]
            ],
            "type": "histogram2d"
           }
          ],
          "histogram2dcontour": [
           {
            "colorbar": {
             "outlinewidth": 0,
             "ticks": ""
            },
            "colorscale": [
             [
              0,
              "#0d0887"
             ],
             [
              0.1111111111111111,
              "#46039f"
             ],
             [
              0.2222222222222222,
              "#7201a8"
             ],
             [
              0.3333333333333333,
              "#9c179e"
             ],
             [
              0.4444444444444444,
              "#bd3786"
             ],
             [
              0.5555555555555556,
              "#d8576b"
             ],
             [
              0.6666666666666666,
              "#ed7953"
             ],
             [
              0.7777777777777778,
              "#fb9f3a"
             ],
             [
              0.8888888888888888,
              "#fdca26"
             ],
             [
              1,
              "#f0f921"
             ]
            ],
            "type": "histogram2dcontour"
           }
          ],
          "mesh3d": [
           {
            "colorbar": {
             "outlinewidth": 0,
             "ticks": ""
            },
            "type": "mesh3d"
           }
          ],
          "parcoords": [
           {
            "line": {
             "colorbar": {
              "outlinewidth": 0,
              "ticks": ""
             }
            },
            "type": "parcoords"
           }
          ],
          "pie": [
           {
            "automargin": true,
            "type": "pie"
           }
          ],
          "scatter": [
           {
            "fillpattern": {
             "fillmode": "overlay",
             "size": 10,
             "solidity": 0.2
            },
            "type": "scatter"
           }
          ],
          "scatter3d": [
           {
            "line": {
             "colorbar": {
              "outlinewidth": 0,
              "ticks": ""
             }
            },
            "marker": {
             "colorbar": {
              "outlinewidth": 0,
              "ticks": ""
             }
            },
            "type": "scatter3d"
           }
          ],
          "scattercarpet": [
           {
            "marker": {
             "colorbar": {
              "outlinewidth": 0,
              "ticks": ""
             }
            },
            "type": "scattercarpet"
           }
          ],
          "scattergeo": [
           {
            "marker": {
             "colorbar": {
              "outlinewidth": 0,
              "ticks": ""
             }
            },
            "type": "scattergeo"
           }
          ],
          "scattergl": [
           {
            "marker": {
             "colorbar": {
              "outlinewidth": 0,
              "ticks": ""
             }
            },
            "type": "scattergl"
           }
          ],
          "scattermapbox": [
           {
            "marker": {
             "colorbar": {
              "outlinewidth": 0,
              "ticks": ""
             }
            },
            "type": "scattermapbox"
           }
          ],
          "scatterpolar": [
           {
            "marker": {
             "colorbar": {
              "outlinewidth": 0,
              "ticks": ""
             }
            },
            "type": "scatterpolar"
           }
          ],
          "scatterpolargl": [
           {
            "marker": {
             "colorbar": {
              "outlinewidth": 0,
              "ticks": ""
             }
            },
            "type": "scatterpolargl"
           }
          ],
          "scatterternary": [
           {
            "marker": {
             "colorbar": {
              "outlinewidth": 0,
              "ticks": ""
             }
            },
            "type": "scatterternary"
           }
          ],
          "surface": [
           {
            "colorbar": {
             "outlinewidth": 0,
             "ticks": ""
            },
            "colorscale": [
             [
              0,
              "#0d0887"
             ],
             [
              0.1111111111111111,
              "#46039f"
             ],
             [
              0.2222222222222222,
              "#7201a8"
             ],
             [
              0.3333333333333333,
              "#9c179e"
             ],
             [
              0.4444444444444444,
              "#bd3786"
             ],
             [
              0.5555555555555556,
              "#d8576b"
             ],
             [
              0.6666666666666666,
              "#ed7953"
             ],
             [
              0.7777777777777778,
              "#fb9f3a"
             ],
             [
              0.8888888888888888,
              "#fdca26"
             ],
             [
              1,
              "#f0f921"
             ]
            ],
            "type": "surface"
           }
          ],
          "table": [
           {
            "cells": {
             "fill": {
              "color": "#EBF0F8"
             },
             "line": {
              "color": "white"
             }
            },
            "header": {
             "fill": {
              "color": "#C8D4E3"
             },
             "line": {
              "color": "white"
             }
            },
            "type": "table"
           }
          ]
         },
         "layout": {
          "annotationdefaults": {
           "arrowcolor": "#2a3f5f",
           "arrowhead": 0,
           "arrowwidth": 1
          },
          "autotypenumbers": "strict",
          "coloraxis": {
           "colorbar": {
            "outlinewidth": 0,
            "ticks": ""
           }
          },
          "colorscale": {
           "diverging": [
            [
             0,
             "#8e0152"
            ],
            [
             0.1,
             "#c51b7d"
            ],
            [
             0.2,
             "#de77ae"
            ],
            [
             0.3,
             "#f1b6da"
            ],
            [
             0.4,
             "#fde0ef"
            ],
            [
             0.5,
             "#f7f7f7"
            ],
            [
             0.6,
             "#e6f5d0"
            ],
            [
             0.7,
             "#b8e186"
            ],
            [
             0.8,
             "#7fbc41"
            ],
            [
             0.9,
             "#4d9221"
            ],
            [
             1,
             "#276419"
            ]
           ],
           "sequential": [
            [
             0,
             "#0d0887"
            ],
            [
             0.1111111111111111,
             "#46039f"
            ],
            [
             0.2222222222222222,
             "#7201a8"
            ],
            [
             0.3333333333333333,
             "#9c179e"
            ],
            [
             0.4444444444444444,
             "#bd3786"
            ],
            [
             0.5555555555555556,
             "#d8576b"
            ],
            [
             0.6666666666666666,
             "#ed7953"
            ],
            [
             0.7777777777777778,
             "#fb9f3a"
            ],
            [
             0.8888888888888888,
             "#fdca26"
            ],
            [
             1,
             "#f0f921"
            ]
           ],
           "sequentialminus": [
            [
             0,
             "#0d0887"
            ],
            [
             0.1111111111111111,
             "#46039f"
            ],
            [
             0.2222222222222222,
             "#7201a8"
            ],
            [
             0.3333333333333333,
             "#9c179e"
            ],
            [
             0.4444444444444444,
             "#bd3786"
            ],
            [
             0.5555555555555556,
             "#d8576b"
            ],
            [
             0.6666666666666666,
             "#ed7953"
            ],
            [
             0.7777777777777778,
             "#fb9f3a"
            ],
            [
             0.8888888888888888,
             "#fdca26"
            ],
            [
             1,
             "#f0f921"
            ]
           ]
          },
          "colorway": [
           "#636efa",
           "#EF553B",
           "#00cc96",
           "#ab63fa",
           "#FFA15A",
           "#19d3f3",
           "#FF6692",
           "#B6E880",
           "#FF97FF",
           "#FECB52"
          ],
          "font": {
           "color": "#2a3f5f"
          },
          "geo": {
           "bgcolor": "white",
           "lakecolor": "white",
           "landcolor": "#E5ECF6",
           "showlakes": true,
           "showland": true,
           "subunitcolor": "white"
          },
          "hoverlabel": {
           "align": "left"
          },
          "hovermode": "closest",
          "mapbox": {
           "style": "light"
          },
          "paper_bgcolor": "white",
          "plot_bgcolor": "#E5ECF6",
          "polar": {
           "angularaxis": {
            "gridcolor": "white",
            "linecolor": "white",
            "ticks": ""
           },
           "bgcolor": "#E5ECF6",
           "radialaxis": {
            "gridcolor": "white",
            "linecolor": "white",
            "ticks": ""
           }
          },
          "scene": {
           "xaxis": {
            "backgroundcolor": "#E5ECF6",
            "gridcolor": "white",
            "gridwidth": 2,
            "linecolor": "white",
            "showbackground": true,
            "ticks": "",
            "zerolinecolor": "white"
           },
           "yaxis": {
            "backgroundcolor": "#E5ECF6",
            "gridcolor": "white",
            "gridwidth": 2,
            "linecolor": "white",
            "showbackground": true,
            "ticks": "",
            "zerolinecolor": "white"
           },
           "zaxis": {
            "backgroundcolor": "#E5ECF6",
            "gridcolor": "white",
            "gridwidth": 2,
            "linecolor": "white",
            "showbackground": true,
            "ticks": "",
            "zerolinecolor": "white"
           }
          },
          "shapedefaults": {
           "line": {
            "color": "#2a3f5f"
           }
          },
          "ternary": {
           "aaxis": {
            "gridcolor": "white",
            "linecolor": "white",
            "ticks": ""
           },
           "baxis": {
            "gridcolor": "white",
            "linecolor": "white",
            "ticks": ""
           },
           "bgcolor": "#E5ECF6",
           "caxis": {
            "gridcolor": "white",
            "linecolor": "white",
            "ticks": ""
           }
          },
          "title": {
           "x": 0.05
          },
          "xaxis": {
           "automargin": true,
           "gridcolor": "white",
           "linecolor": "white",
           "ticks": "",
           "title": {
            "standoff": 15
           },
           "zerolinecolor": "white",
           "zerolinewidth": 2
          },
          "yaxis": {
           "automargin": true,
           "gridcolor": "white",
           "linecolor": "white",
           "ticks": "",
           "title": {
            "standoff": 15
           },
           "zerolinecolor": "white",
           "zerolinewidth": 2
          }
         }
        },
        "title": {
         "text": "Eigenvector Centrality Over Time"
        },
        "xaxis": {
         "anchor": "y",
         "domain": [
          0,
          1
         ],
         "title": {
          "text": "period"
         }
        },
        "yaxis": {
         "anchor": "x",
         "domain": [
          0,
          1
         ],
         "title": {
          "text": "eigenvector"
         }
        }
       }
      }
     },
     "metadata": {},
     "output_type": "display_data"
    },
    {
     "data": {
      "application/vnd.plotly.v1+json": {
       "config": {
        "plotlyServerURL": "https://plot.ly"
       },
       "data": [
        {
         "hovertemplate": "node=Dyer-Campbell<br>period=%{x}<br>degree=%{y}<extra></extra>",
         "legendgroup": "Dyer-Campbell",
         "line": {
          "color": "#636efa",
          "dash": "solid"
         },
         "marker": {
          "symbol": "circle"
         },
         "mode": "lines",
         "name": "Dyer-Campbell",
         "orientation": "v",
         "showlegend": true,
         "type": "scatter",
         "x": [
          "2004-03-01T00:00:00",
          "2004-09-01T00:00:00",
          "2005-03-01T00:00:00",
          "2005-09-01T00:00:00",
          "2006-03-01T00:00:00",
          "2006-09-01T00:00:00",
          "2007-03-01T00:00:00",
          "2007-09-01T00:00:00",
          "2008-03-01T00:00:00",
          "2008-09-01T00:00:00",
          "2009-03-01T00:00:00",
          "2009-09-01T00:00:00",
          "2010-03-01T00:00:00",
          "2010-09-01T00:00:00",
          "2011-03-01T00:00:00",
          "2011-09-01T00:00:00",
          "2012-03-01T00:00:00",
          "2012-09-01T00:00:00",
          "2013-03-01T00:00:00",
          "2013-09-01T00:00:00",
          "2014-03-01T00:00:00",
          "2014-09-01T00:00:00",
          "2015-03-01T00:00:00",
          "2015-09-01T00:00:00",
          "2016-03-01T00:00:00",
          "2016-09-01T00:00:00",
          "2017-03-01T00:00:00",
          "2017-09-01T00:00:00",
          "2018-03-01T00:00:00",
          "2018-09-01T00:00:00",
          "2019-03-01T00:00:00",
          "2019-09-01T00:00:00",
          "2020-03-01T00:00:00",
          "2020-09-01T00:00:00",
          "2021-03-01T00:00:00",
          "2021-09-01T00:00:00",
          "2022-03-01T00:00:00",
          "2022-09-01T00:00:00",
          "2023-03-01T00:00:00",
          "2023-09-01T00:00:00",
          "2024-03-01T00:00:00",
          "2024-09-01T00:00:00",
          "2025-03-01T00:00:00",
          "2025-09-01T00:00:00",
          "2026-03-01T00:00:00",
          "2026-09-01T00:00:00",
          "2027-03-01T00:00:00",
          "2027-09-01T00:00:00",
          "2028-03-01T00:00:00",
          "2028-09-01T00:00:00",
          "2029-03-01T00:00:00",
          "2029-09-01T00:00:00",
          "2030-03-01T00:00:00",
          "2030-09-01T00:00:00",
          "2031-03-01T00:00:00",
          "2031-09-01T00:00:00",
          "2032-03-01T00:00:00",
          "2032-09-01T00:00:00",
          "2033-03-01T00:00:00",
          "2033-09-01T00:00:00",
          "2034-03-01T00:00:00",
          "2034-09-01T00:00:00",
          "2035-03-01T00:00:00",
          "2035-09-01T00:00:00"
         ],
         "xaxis": "x",
         "y": [
          0,
          0,
          0,
          0.0001433075379764,
          0.0001307189542483,
          0.000119976004799,
          0.0001106194690265,
          0.000103039670273,
          0.0001925669170036,
          0.0001807337791433,
          0.0001702562356346,
          0.0003202818480262,
          0.0004551661356395,
          0.0004311273981461,
          0.0004103405826836,
          0.0003916449086161,
          0.0004370629370629,
          0.0004183100274889,
          0.0004572212379265,
          0.0004934481057075,
          0.0004747837096433,
          0.000456204379562,
          0.0004383828543594,
          0.0004690431519699,
          0.000451508036843,
          0.0004788438098554,
          0.000462768195204,
          0.0004475001017045,
          0.0004341305548977,
          0.0004208593182079,
          0.0004090131627872,
          0.0003979307600477,
          0.0003863987635239,
          0.0003743661300752,
          0.0003640696365923,
          0.0003537204964949,
          0.000344611528822,
          0.0004266211604095,
          0.0004154919127466,
          0.0004340528965796,
          0.0004236689733088,
          0.0004404922500894,
          0.0004840921926686,
          0.0004981385349483,
          0.0005119279205487,
          0.0004994381321013,
          0.0004876027013189,
          0.0004762811964183,
          0.0004650189495221,
          0.0004774029280712,
          0.0004666770372674,
          0.0004774305555555,
          0.0004669921460411,
          0.0004560152557831,
          0.0004655305023681,
          0.0004741677368369,
          0.0004628379681413,
          0.0004516116892158,
          0.0004587071796847,
          0.0004473232178642,
          0.0004362544934212,
          0.0004250905442859,
          0.0004322167733355,
          0.0004307916625244
         ],
         "yaxis": "y"
        },
        {
         "hovertemplate": "node=Hancock and Sons<br>period=%{x}<br>degree=%{y}<extra></extra>",
         "legendgroup": "Hancock and Sons",
         "line": {
          "color": "#EF553B",
          "dash": "solid"
         },
         "marker": {
          "symbol": "circle"
         },
         "mode": "lines",
         "name": "Hancock and Sons",
         "orientation": "v",
         "showlegend": true,
         "type": "scatter",
         "x": [
          "2004-03-01T00:00:00",
          "2004-09-01T00:00:00",
          "2005-03-01T00:00:00",
          "2005-09-01T00:00:00",
          "2006-03-01T00:00:00",
          "2006-09-01T00:00:00",
          "2007-03-01T00:00:00",
          "2007-09-01T00:00:00",
          "2008-03-01T00:00:00",
          "2008-09-01T00:00:00",
          "2009-03-01T00:00:00",
          "2009-09-01T00:00:00",
          "2010-03-01T00:00:00",
          "2010-09-01T00:00:00",
          "2011-03-01T00:00:00",
          "2011-09-01T00:00:00",
          "2012-03-01T00:00:00",
          "2012-09-01T00:00:00",
          "2013-03-01T00:00:00",
          "2013-09-01T00:00:00",
          "2014-03-01T00:00:00",
          "2014-09-01T00:00:00",
          "2015-03-01T00:00:00",
          "2015-09-01T00:00:00",
          "2016-03-01T00:00:00",
          "2016-09-01T00:00:00",
          "2017-03-01T00:00:00",
          "2017-09-01T00:00:00",
          "2018-03-01T00:00:00",
          "2018-09-01T00:00:00",
          "2019-03-01T00:00:00",
          "2019-09-01T00:00:00",
          "2020-03-01T00:00:00",
          "2020-09-01T00:00:00",
          "2021-03-01T00:00:00",
          "2021-09-01T00:00:00",
          "2022-03-01T00:00:00",
          "2022-09-01T00:00:00",
          "2023-03-01T00:00:00",
          "2023-09-01T00:00:00",
          "2024-03-01T00:00:00",
          "2024-09-01T00:00:00",
          "2025-03-01T00:00:00",
          "2025-09-01T00:00:00",
          "2026-03-01T00:00:00",
          "2026-09-01T00:00:00",
          "2027-03-01T00:00:00",
          "2027-09-01T00:00:00",
          "2028-03-01T00:00:00",
          "2028-09-01T00:00:00",
          "2029-03-01T00:00:00",
          "2029-09-01T00:00:00",
          "2030-03-01T00:00:00",
          "2030-09-01T00:00:00",
          "2031-03-01T00:00:00",
          "2031-09-01T00:00:00",
          "2032-03-01T00:00:00",
          "2032-09-01T00:00:00",
          "2033-03-01T00:00:00",
          "2033-09-01T00:00:00",
          "2034-03-01T00:00:00",
          "2034-09-01T00:00:00",
          "2035-03-01T00:00:00",
          "2035-09-01T00:00:00"
         ],
         "xaxis": "x",
         "y": [
          0.0001751006828926,
          0.0001705611461709,
          0.0003210272873194,
          0.0004299226139294,
          0.000392156862745,
          0.0003599280143971,
          0.0003318584070796,
          0.0003091190108191,
          0.0002888503755054,
          0.0002711006687149,
          0.0002553843534519,
          0.0002402113860196,
          0.0002275830678197,
          0.000215563699073,
          0.0002051702913418,
          0.000195822454308,
          0.0001873126873126,
          0.0001792757260666,
          0.0001714579642224,
          0.0001644827019025,
          0.0001582612365477,
          0.0001520681265206,
          0.0001461276181198,
          0.0001407129455909,
          0.0001354524110529,
          0.0001305937663242,
          0.0001262095077829,
          0.0001627273097107,
          0.0001578656563264,
          0.0001530397520756,
          0.0001487320591953,
          0.0001447020945628,
          0.0001756358016017,
          0.0001701664227614,
          0.000165486198451,
          0.0001607820438613,
          0.000187969924812,
          0.0001828376401755,
          0.0001780679626057,
          0.0001736211586318,
          0.0001694675893235,
          0.0001651845937835,
          0.0001613640642228,
          0.0001573069057731,
          0.0001535783761646,
          0.0001498314396304,
          0.0001462808103956,
          0.0001428843589255,
          0.0001627566323327,
          0.000159134309357,
          0.0001777817284828,
          0.0001953125,
          0.0001910422415623,
          0.0001865516955476,
          0.0001821641096223,
          0.0001975698903487,
          0.0001928491533922,
          0.0001881715371732,
          0.0001834828718739,
          0.0001789292871457,
          0.0001745017973685,
          0.0001700362177143,
          0.0001662372205136,
          0.0001656891009709
         ],
         "yaxis": "y"
        },
        {
         "hovertemplate": "node=Vasquez-Gonzalez<br>period=%{x}<br>degree=%{y}<extra></extra>",
         "legendgroup": "Vasquez-Gonzalez",
         "line": {
          "color": "#00cc96",
          "dash": "solid"
         },
         "marker": {
          "symbol": "circle"
         },
         "mode": "lines",
         "name": "Vasquez-Gonzalez",
         "orientation": "v",
         "showlegend": true,
         "type": "scatter",
         "x": [
          "2004-03-01T00:00:00",
          "2004-09-01T00:00:00",
          "2005-03-01T00:00:00",
          "2005-09-01T00:00:00",
          "2006-03-01T00:00:00",
          "2006-09-01T00:00:00",
          "2007-03-01T00:00:00",
          "2007-09-01T00:00:00",
          "2008-03-01T00:00:00",
          "2008-09-01T00:00:00",
          "2009-03-01T00:00:00",
          "2009-09-01T00:00:00",
          "2010-03-01T00:00:00",
          "2010-09-01T00:00:00",
          "2011-03-01T00:00:00",
          "2011-09-01T00:00:00",
          "2012-03-01T00:00:00",
          "2012-09-01T00:00:00",
          "2013-03-01T00:00:00",
          "2013-09-01T00:00:00",
          "2014-03-01T00:00:00",
          "2014-09-01T00:00:00",
          "2015-03-01T00:00:00",
          "2015-09-01T00:00:00",
          "2016-03-01T00:00:00",
          "2016-09-01T00:00:00",
          "2017-03-01T00:00:00",
          "2017-09-01T00:00:00",
          "2018-03-01T00:00:00",
          "2018-09-01T00:00:00",
          "2019-03-01T00:00:00",
          "2019-09-01T00:00:00",
          "2020-03-01T00:00:00",
          "2020-09-01T00:00:00",
          "2021-03-01T00:00:00",
          "2021-09-01T00:00:00",
          "2022-03-01T00:00:00",
          "2022-09-01T00:00:00",
          "2023-03-01T00:00:00",
          "2023-09-01T00:00:00",
          "2024-03-01T00:00:00",
          "2024-09-01T00:00:00",
          "2025-03-01T00:00:00",
          "2025-09-01T00:00:00",
          "2026-03-01T00:00:00",
          "2026-09-01T00:00:00",
          "2027-03-01T00:00:00",
          "2027-09-01T00:00:00",
          "2028-03-01T00:00:00",
          "2028-09-01T00:00:00",
          "2029-03-01T00:00:00",
          "2029-09-01T00:00:00",
          "2030-03-01T00:00:00",
          "2030-09-01T00:00:00",
          "2031-03-01T00:00:00",
          "2031-09-01T00:00:00",
          "2032-03-01T00:00:00",
          "2032-09-01T00:00:00",
          "2033-03-01T00:00:00",
          "2033-09-01T00:00:00",
          "2034-03-01T00:00:00",
          "2034-09-01T00:00:00",
          "2035-03-01T00:00:00",
          "2035-09-01T00:00:00"
         ],
         "xaxis": "x",
         "y": [
          0,
          0,
          0,
          0,
          0,
          0,
          0,
          0,
          0,
          0,
          0,
          0,
          0.0001517220452131,
          0.0001437091327153,
          0.0001367801942278,
          0.000130548302872,
          0.0001248751248751,
          0.0001195171507111,
          0.0001143053094816,
          0.0001096551346016,
          0.0001055074910318,
          0.0001013787510137,
          0.0000974184120798831,
          0.00009380863039399623,
          0.0001354524110529,
          0.0001741250217656,
          0.0002103491796381,
          0.0002440909645661,
          0.0002367984844896,
          0.0002295596281134,
          0.000223098088793,
          0.0002170531418442,
          0.0002458901222425,
          0.0002722662764183,
          0.0002647779175216,
          0.0002572512701781,
          0.000250626566416,
          0.000243783520234,
          0.0002374239501409,
          0.0002314948781758,
          0.0002259567857647,
          0.0002477768906753,
          0.0002420460963343,
          0.0002359603586597,
          0.0002303675642469,
          0.0002247471594456,
          0.0002194212155935,
          0.0002143265383882,
          0.0002092585272849,
          0.0002046012548876,
          0.0002222271606035,
          0.0002170138888888,
          0.0002122691572914,
          0.0002072796617195,
          0.000202404566247,
          0.0001975698903487,
          0.0001928491533922,
          0.0001881715371732,
          0.0001834828718739,
          0.0001968222158602,
          0.0001919519771053,
          0.0001870398394858,
          0.000182860942565,
          0.000182258011068
         ],
         "yaxis": "y"
        },
        {
         "hovertemplate": "node=KambalaAqua Delivery Plc<br>period=%{x}<br>degree=%{y}<extra></extra>",
         "legendgroup": "KambalaAqua Delivery Plc",
         "line": {
          "color": "#ab63fa",
          "dash": "solid"
         },
         "marker": {
          "symbol": "circle"
         },
         "mode": "lines",
         "name": "KambalaAqua Delivery Plc",
         "orientation": "v",
         "showlegend": true,
         "type": "scatter",
         "x": [
          "2020-03-01T00:00:00",
          "2020-09-01T00:00:00",
          "2021-03-01T00:00:00",
          "2021-09-01T00:00:00",
          "2022-03-01T00:00:00",
          "2022-09-01T00:00:00",
          "2023-03-01T00:00:00",
          "2023-09-01T00:00:00",
          "2024-03-01T00:00:00",
          "2024-09-01T00:00:00",
          "2025-03-01T00:00:00",
          "2025-09-01T00:00:00",
          "2026-03-01T00:00:00",
          "2026-09-01T00:00:00",
          "2027-03-01T00:00:00",
          "2027-09-01T00:00:00",
          "2028-03-01T00:00:00",
          "2028-09-01T00:00:00",
          "2029-03-01T00:00:00",
          "2029-09-01T00:00:00",
          "2030-03-01T00:00:00",
          "2030-09-01T00:00:00",
          "2031-03-01T00:00:00",
          "2031-09-01T00:00:00",
          "2032-03-01T00:00:00",
          "2032-09-01T00:00:00",
          "2033-03-01T00:00:00",
          "2033-09-01T00:00:00",
          "2034-03-01T00:00:00",
          "2034-09-01T00:00:00",
          "2035-03-01T00:00:00",
          "2035-09-01T00:00:00"
         ],
         "xaxis": "x",
         "y": [
          0.000105381480961,
          0.0001020998536568,
          0.0000992917190706295,
          0.00009646922631680494,
          0.00009398496240601504,
          0.00009141882008776206,
          0.00008903398130286392,
          0.00008681057931593264,
          0.00008473379466177093,
          0.00008259229689177656,
          0.00008068203211144878,
          0.00007865345288658173,
          0.00007678918808231802,
          0.00007491571981520788,
          0.0000731404051978448,
          0.00007144217946275481,
          0.00006975284242832895,
          0.00006820041829589887,
          0.00006666814818107069,
          0.00006510416666666667,
          0.00006368074718743366,
          0.00006218389851587762,
          0.00006072136987410436,
          0.000059270967104613264,
          0.00005785474601766499,
          0.00005645146115198615,
          0.00005504486156217317,
          0.000053678786143716,
          0.00005235053921055386,
          0.000051010865314311945,
          0.00004987116615410191,
          0.00004970673029128144
         ],
         "yaxis": "y"
        },
        {
         "hovertemplate": "node=ArawakCharter Boat Transit Plc<br>period=%{x}<br>degree=%{y}<extra></extra>",
         "legendgroup": "ArawakCharter Boat Transit Plc",
         "line": {
          "color": "#FFA15A",
          "dash": "solid"
         },
         "marker": {
          "symbol": "circle"
         },
         "mode": "lines",
         "name": "ArawakCharter Boat Transit Plc",
         "orientation": "v",
         "showlegend": true,
         "type": "scatter",
         "x": [
          "2024-09-01T00:00:00",
          "2025-03-01T00:00:00",
          "2025-09-01T00:00:00",
          "2026-03-01T00:00:00",
          "2026-09-01T00:00:00",
          "2027-03-01T00:00:00",
          "2027-09-01T00:00:00",
          "2028-03-01T00:00:00",
          "2028-09-01T00:00:00",
          "2029-03-01T00:00:00",
          "2029-09-01T00:00:00",
          "2030-03-01T00:00:00",
          "2030-09-01T00:00:00",
          "2031-03-01T00:00:00",
          "2031-09-01T00:00:00",
          "2032-03-01T00:00:00",
          "2032-09-01T00:00:00",
          "2033-03-01T00:00:00",
          "2033-09-01T00:00:00",
          "2034-03-01T00:00:00",
          "2034-09-01T00:00:00",
          "2035-03-01T00:00:00",
          "2035-09-01T00:00:00"
         ],
         "xaxis": "x",
         "y": [
          0.00008259229689177656,
          0.00008068203211144878,
          0.00007865345288658173,
          0.00007678918808231802,
          0.00007491571981520788,
          0.0000731404051978448,
          0.00007144217946275481,
          0.00006975284242832895,
          0.00006820041829589887,
          0.00006666814818107069,
          0.00006510416666666667,
          0.00006368074718743366,
          0.00006218389851587762,
          0.00006072136987410436,
          0.000059270967104613264,
          0.00005785474601766499,
          0.00005645146115198615,
          0.00005504486156217317,
          0.000053678786143716,
          0.00005235053921055386,
          0.000051010865314311945,
          0.00004987116615410191,
          0.00004970673029128144
         ],
         "yaxis": "y"
        },
        {
         "hovertemplate": "node=Francis-Yoder<br>period=%{x}<br>degree=%{y}<extra></extra>",
         "legendgroup": "Francis-Yoder",
         "line": {
          "color": "#19d3f3",
          "dash": "solid"
         },
         "marker": {
          "symbol": "circle"
         },
         "mode": "lines",
         "name": "Francis-Yoder",
         "orientation": "v",
         "showlegend": true,
         "type": "scatter",
         "x": [
          "2025-03-01T00:00:00",
          "2025-09-01T00:00:00",
          "2026-03-01T00:00:00",
          "2026-09-01T00:00:00",
          "2027-03-01T00:00:00",
          "2027-09-01T00:00:00",
          "2028-03-01T00:00:00",
          "2028-09-01T00:00:00",
          "2029-03-01T00:00:00",
          "2029-09-01T00:00:00",
          "2030-03-01T00:00:00",
          "2030-09-01T00:00:00",
          "2031-03-01T00:00:00",
          "2031-09-01T00:00:00",
          "2032-03-01T00:00:00",
          "2032-09-01T00:00:00",
          "2033-03-01T00:00:00",
          "2033-09-01T00:00:00",
          "2034-03-01T00:00:00",
          "2034-09-01T00:00:00",
          "2035-03-01T00:00:00",
          "2035-09-01T00:00:00"
         ],
         "xaxis": "x",
         "y": [
          0.00002689401070381626,
          0.000026217817628860572,
          0.00005119279205487868,
          0.00009988762642027718,
          0.0001462808103956,
          0.0001428843589255,
          0.0001860075798088,
          0.0001818677821223,
          0.0001777817284828,
          0.0001736111111111,
          0.0001698153258331,
          0.0001658237293756,
          0.000202404566247,
          0.0002173268793835,
          0.0002314189840706,
          0.0002446229983252,
          0.0002568760206234,
          0.0002683939307185,
          0.0002792028757896,
          0.0002890615701144,
          0.0002826032748732,
          0.0002816714716505
         ],
         "yaxis": "y"
        },
        {
         "hovertemplate": "node=ScaniaSeafood Holdings Ltd. Liability Co<br>period=%{x}<br>degree=%{y}<extra></extra>",
         "legendgroup": "ScaniaSeafood Holdings Ltd. Liability Co",
         "line": {
          "color": "#FF6692",
          "dash": "solid"
         },
         "marker": {
          "symbol": "circle"
         },
         "mode": "lines",
         "name": "ScaniaSeafood Holdings Ltd. Liability Co",
         "orientation": "v",
         "showlegend": true,
         "type": "scatter",
         "x": [
          "2030-09-01T00:00:00",
          "2031-03-01T00:00:00",
          "2031-09-01T00:00:00",
          "2032-03-01T00:00:00",
          "2032-09-01T00:00:00",
          "2033-03-01T00:00:00",
          "2033-09-01T00:00:00",
          "2034-03-01T00:00:00",
          "2034-09-01T00:00:00",
          "2035-03-01T00:00:00",
          "2035-09-01T00:00:00"
         ],
         "xaxis": "x",
         "y": [
          0.000020727966171959207,
          0.00002024045662470145,
          0.000019756989034871087,
          0.000019284915339221666,
          0.00001881715371732872,
          0.000018348287187391057,
          0.000017892928714572,
          0.000017450179736851288,
          0.000017003621771437315,
          0.0000166237220513673,
          0.000016568910097093812
         ],
         "yaxis": "y"
        },
        {
         "hovertemplate": "node=SouthSeafood Express Corp<br>period=%{x}<br>degree=%{y}<extra></extra>",
         "legendgroup": "SouthSeafood Express Corp",
         "line": {
          "color": "#B6E880",
          "dash": "solid"
         },
         "marker": {
          "symbol": "circle"
         },
         "mode": "lines",
         "name": "SouthSeafood Express Corp",
         "orientation": "v",
         "showlegend": true,
         "type": "scatter",
         "x": [
          "2033-03-01T00:00:00",
          "2033-09-01T00:00:00",
          "2034-03-01T00:00:00",
          "2034-09-01T00:00:00",
          "2035-03-01T00:00:00",
          "2035-09-01T00:00:00"
         ],
         "xaxis": "x",
         "y": [
          0,
          0,
          0.000017450179736851288,
          0.000017003621771437315,
          0.0000166237220513673,
          0.000016568910097093812
         ],
         "yaxis": "y"
        },
        {
         "hovertemplate": "node=Oka Charter Boat Transport OJSC<br>period=%{x}<br>degree=%{y}<extra></extra>",
         "legendgroup": "Oka Charter Boat Transport OJSC",
         "line": {
          "color": "#FF97FF",
          "dash": "solid"
         },
         "marker": {
          "symbol": "circle"
         },
         "mode": "lines",
         "name": "Oka Charter Boat Transport OJSC",
         "orientation": "v",
         "showlegend": true,
         "type": "scatter",
         "x": [
          "2033-03-01T00:00:00",
          "2033-09-01T00:00:00",
          "2034-03-01T00:00:00",
          "2034-09-01T00:00:00",
          "2035-03-01T00:00:00",
          "2035-09-01T00:00:00"
         ],
         "xaxis": "x",
         "y": [
          0.000018348287187391057,
          0.000017892928714572,
          0.000017450179736851288,
          0.000017003621771437315,
          0.0000166237220513673,
          0.000016568910097093812
         ],
         "yaxis": "y"
        },
        {
         "hovertemplate": "node=Tainamarine Fishing Co<br>period=%{x}<br>degree=%{y}<extra></extra>",
         "legendgroup": "Tainamarine Fishing Co",
         "line": {
          "color": "#FECB52",
          "dash": "solid"
         },
         "marker": {
          "symbol": "circle"
         },
         "mode": "lines",
         "name": "Tainamarine Fishing Co",
         "orientation": "v",
         "showlegend": true,
         "type": "scatter",
         "x": [
          "2035-09-01T00:00:00"
         ],
         "xaxis": "x",
         "y": [
          0.000033137820194187624
         ],
         "yaxis": "y"
        }
       ],
       "layout": {
        "legend": {
         "title": {
          "text": "node"
         },
         "tracegroupgap": 0
        },
        "template": {
         "data": {
          "bar": [
           {
            "error_x": {
             "color": "#2a3f5f"
            },
            "error_y": {
             "color": "#2a3f5f"
            },
            "marker": {
             "line": {
              "color": "#E5ECF6",
              "width": 0.5
             },
             "pattern": {
              "fillmode": "overlay",
              "size": 10,
              "solidity": 0.2
             }
            },
            "type": "bar"
           }
          ],
          "barpolar": [
           {
            "marker": {
             "line": {
              "color": "#E5ECF6",
              "width": 0.5
             },
             "pattern": {
              "fillmode": "overlay",
              "size": 10,
              "solidity": 0.2
             }
            },
            "type": "barpolar"
           }
          ],
          "carpet": [
           {
            "aaxis": {
             "endlinecolor": "#2a3f5f",
             "gridcolor": "white",
             "linecolor": "white",
             "minorgridcolor": "white",
             "startlinecolor": "#2a3f5f"
            },
            "baxis": {
             "endlinecolor": "#2a3f5f",
             "gridcolor": "white",
             "linecolor": "white",
             "minorgridcolor": "white",
             "startlinecolor": "#2a3f5f"
            },
            "type": "carpet"
           }
          ],
          "choropleth": [
           {
            "colorbar": {
             "outlinewidth": 0,
             "ticks": ""
            },
            "type": "choropleth"
           }
          ],
          "contour": [
           {
            "colorbar": {
             "outlinewidth": 0,
             "ticks": ""
            },
            "colorscale": [
             [
              0,
              "#0d0887"
             ],
             [
              0.1111111111111111,
              "#46039f"
             ],
             [
              0.2222222222222222,
              "#7201a8"
             ],
             [
              0.3333333333333333,
              "#9c179e"
             ],
             [
              0.4444444444444444,
              "#bd3786"
             ],
             [
              0.5555555555555556,
              "#d8576b"
             ],
             [
              0.6666666666666666,
              "#ed7953"
             ],
             [
              0.7777777777777778,
              "#fb9f3a"
             ],
             [
              0.8888888888888888,
              "#fdca26"
             ],
             [
              1,
              "#f0f921"
             ]
            ],
            "type": "contour"
           }
          ],
          "contourcarpet": [
           {
            "colorbar": {
             "outlinewidth": 0,
             "ticks": ""
            },
            "type": "contourcarpet"
           }
          ],
          "heatmap": [
           {
            "colorbar": {
             "outlinewidth": 0,
             "ticks": ""
            },
            "colorscale": [
             [
              0,
              "#0d0887"
             ],
             [
              0.1111111111111111,
              "#46039f"
             ],
             [
              0.2222222222222222,
              "#7201a8"
             ],
             [
              0.3333333333333333,
              "#9c179e"
             ],
             [
              0.4444444444444444,
              "#bd3786"
             ],
             [
              0.5555555555555556,
              "#d8576b"
             ],
             [
              0.6666666666666666,
              "#ed7953"
             ],
             [
              0.7777777777777778,
              "#fb9f3a"
             ],
             [
              0.8888888888888888,
              "#fdca26"
             ],
             [
              1,
              "#f0f921"
             ]
            ],
            "type": "heatmap"
           }
          ],
          "heatmapgl": [
           {
            "colorbar": {
             "outlinewidth": 0,
             "ticks": ""
            },
            "colorscale": [
             [
              0,
              "#0d0887"
             ],
             [
              0.1111111111111111,
              "#46039f"
             ],
             [
              0.2222222222222222,
              "#7201a8"
             ],
             [
              0.3333333333333333,
              "#9c179e"
             ],
             [
              0.4444444444444444,
              "#bd3786"
             ],
             [
              0.5555555555555556,
              "#d8576b"
             ],
             [
              0.6666666666666666,
              "#ed7953"
             ],
             [
              0.7777777777777778,
              "#fb9f3a"
             ],
             [
              0.8888888888888888,
              "#fdca26"
             ],
             [
              1,
              "#f0f921"
             ]
            ],
            "type": "heatmapgl"
           }
          ],
          "histogram": [
           {
            "marker": {
             "pattern": {
              "fillmode": "overlay",
              "size": 10,
              "solidity": 0.2
             }
            },
            "type": "histogram"
           }
          ],
          "histogram2d": [
           {
            "colorbar": {
             "outlinewidth": 0,
             "ticks": ""
            },
            "colorscale": [
             [
              0,
              "#0d0887"
             ],
             [
              0.1111111111111111,
              "#46039f"
             ],
             [
              0.2222222222222222,
              "#7201a8"
             ],
             [
              0.3333333333333333,
              "#9c179e"
             ],
             [
              0.4444444444444444,
              "#bd3786"
             ],
             [
              0.5555555555555556,
              "#d8576b"
             ],
             [
              0.6666666666666666,
              "#ed7953"
             ],
             [
              0.7777777777777778,
              "#fb9f3a"
             ],
             [
              0.8888888888888888,
              "#fdca26"
             ],
             [
              1,
              "#f0f921"
             ]
            ],
            "type": "histogram2d"
           }
          ],
          "histogram2dcontour": [
           {
            "colorbar": {
             "outlinewidth": 0,
             "ticks": ""
            },
            "colorscale": [
             [
              0,
              "#0d0887"
             ],
             [
              0.1111111111111111,
              "#46039f"
             ],
             [
              0.2222222222222222,
              "#7201a8"
             ],
             [
              0.3333333333333333,
              "#9c179e"
             ],
             [
              0.4444444444444444,
              "#bd3786"
             ],
             [
              0.5555555555555556,
              "#d8576b"
             ],
             [
              0.6666666666666666,
              "#ed7953"
             ],
             [
              0.7777777777777778,
              "#fb9f3a"
             ],
             [
              0.8888888888888888,
              "#fdca26"
             ],
             [
              1,
              "#f0f921"
             ]
            ],
            "type": "histogram2dcontour"
           }
          ],
          "mesh3d": [
           {
            "colorbar": {
             "outlinewidth": 0,
             "ticks": ""
            },
            "type": "mesh3d"
           }
          ],
          "parcoords": [
           {
            "line": {
             "colorbar": {
              "outlinewidth": 0,
              "ticks": ""
             }
            },
            "type": "parcoords"
           }
          ],
          "pie": [
           {
            "automargin": true,
            "type": "pie"
           }
          ],
          "scatter": [
           {
            "fillpattern": {
             "fillmode": "overlay",
             "size": 10,
             "solidity": 0.2
            },
            "type": "scatter"
           }
          ],
          "scatter3d": [
           {
            "line": {
             "colorbar": {
              "outlinewidth": 0,
              "ticks": ""
             }
            },
            "marker": {
             "colorbar": {
              "outlinewidth": 0,
              "ticks": ""
             }
            },
            "type": "scatter3d"
           }
          ],
          "scattercarpet": [
           {
            "marker": {
             "colorbar": {
              "outlinewidth": 0,
              "ticks": ""
             }
            },
            "type": "scattercarpet"
           }
          ],
          "scattergeo": [
           {
            "marker": {
             "colorbar": {
              "outlinewidth": 0,
              "ticks": ""
             }
            },
            "type": "scattergeo"
           }
          ],
          "scattergl": [
           {
            "marker": {
             "colorbar": {
              "outlinewidth": 0,
              "ticks": ""
             }
            },
            "type": "scattergl"
           }
          ],
          "scattermapbox": [
           {
            "marker": {
             "colorbar": {
              "outlinewidth": 0,
              "ticks": ""
             }
            },
            "type": "scattermapbox"
           }
          ],
          "scatterpolar": [
           {
            "marker": {
             "colorbar": {
              "outlinewidth": 0,
              "ticks": ""
             }
            },
            "type": "scatterpolar"
           }
          ],
          "scatterpolargl": [
           {
            "marker": {
             "colorbar": {
              "outlinewidth": 0,
              "ticks": ""
             }
            },
            "type": "scatterpolargl"
           }
          ],
          "scatterternary": [
           {
            "marker": {
             "colorbar": {
              "outlinewidth": 0,
              "ticks": ""
             }
            },
            "type": "scatterternary"
           }
          ],
          "surface": [
           {
            "colorbar": {
             "outlinewidth": 0,
             "ticks": ""
            },
            "colorscale": [
             [
              0,
              "#0d0887"
             ],
             [
              0.1111111111111111,
              "#46039f"
             ],
             [
              0.2222222222222222,
              "#7201a8"
             ],
             [
              0.3333333333333333,
              "#9c179e"
             ],
             [
              0.4444444444444444,
              "#bd3786"
             ],
             [
              0.5555555555555556,
              "#d8576b"
             ],
             [
              0.6666666666666666,
              "#ed7953"
             ],
             [
              0.7777777777777778,
              "#fb9f3a"
             ],
             [
              0.8888888888888888,
              "#fdca26"
             ],
             [
              1,
              "#f0f921"
             ]
            ],
            "type": "surface"
           }
          ],
          "table": [
           {
            "cells": {
             "fill": {
              "color": "#EBF0F8"
             },
             "line": {
              "color": "white"
             }
            },
            "header": {
             "fill": {
              "color": "#C8D4E3"
             },
             "line": {
              "color": "white"
             }
            },
            "type": "table"
           }
          ]
         },
         "layout": {
          "annotationdefaults": {
           "arrowcolor": "#2a3f5f",
           "arrowhead": 0,
           "arrowwidth": 1
          },
          "autotypenumbers": "strict",
          "coloraxis": {
           "colorbar": {
            "outlinewidth": 0,
            "ticks": ""
           }
          },
          "colorscale": {
           "diverging": [
            [
             0,
             "#8e0152"
            ],
            [
             0.1,
             "#c51b7d"
            ],
            [
             0.2,
             "#de77ae"
            ],
            [
             0.3,
             "#f1b6da"
            ],
            [
             0.4,
             "#fde0ef"
            ],
            [
             0.5,
             "#f7f7f7"
            ],
            [
             0.6,
             "#e6f5d0"
            ],
            [
             0.7,
             "#b8e186"
            ],
            [
             0.8,
             "#7fbc41"
            ],
            [
             0.9,
             "#4d9221"
            ],
            [
             1,
             "#276419"
            ]
           ],
           "sequential": [
            [
             0,
             "#0d0887"
            ],
            [
             0.1111111111111111,
             "#46039f"
            ],
            [
             0.2222222222222222,
             "#7201a8"
            ],
            [
             0.3333333333333333,
             "#9c179e"
            ],
            [
             0.4444444444444444,
             "#bd3786"
            ],
            [
             0.5555555555555556,
             "#d8576b"
            ],
            [
             0.6666666666666666,
             "#ed7953"
            ],
            [
             0.7777777777777778,
             "#fb9f3a"
            ],
            [
             0.8888888888888888,
             "#fdca26"
            ],
            [
             1,
             "#f0f921"
            ]
           ],
           "sequentialminus": [
            [
             0,
             "#0d0887"
            ],
            [
             0.1111111111111111,
             "#46039f"
            ],
            [
             0.2222222222222222,
             "#7201a8"
            ],
            [
             0.3333333333333333,
             "#9c179e"
            ],
            [
             0.4444444444444444,
             "#bd3786"
            ],
            [
             0.5555555555555556,
             "#d8576b"
            ],
            [
             0.6666666666666666,
             "#ed7953"
            ],
            [
             0.7777777777777778,
             "#fb9f3a"
            ],
            [
             0.8888888888888888,
             "#fdca26"
            ],
            [
             1,
             "#f0f921"
            ]
           ]
          },
          "colorway": [
           "#636efa",
           "#EF553B",
           "#00cc96",
           "#ab63fa",
           "#FFA15A",
           "#19d3f3",
           "#FF6692",
           "#B6E880",
           "#FF97FF",
           "#FECB52"
          ],
          "font": {
           "color": "#2a3f5f"
          },
          "geo": {
           "bgcolor": "white",
           "lakecolor": "white",
           "landcolor": "#E5ECF6",
           "showlakes": true,
           "showland": true,
           "subunitcolor": "white"
          },
          "hoverlabel": {
           "align": "left"
          },
          "hovermode": "closest",
          "mapbox": {
           "style": "light"
          },
          "paper_bgcolor": "white",
          "plot_bgcolor": "#E5ECF6",
          "polar": {
           "angularaxis": {
            "gridcolor": "white",
            "linecolor": "white",
            "ticks": ""
           },
           "bgcolor": "#E5ECF6",
           "radialaxis": {
            "gridcolor": "white",
            "linecolor": "white",
            "ticks": ""
           }
          },
          "scene": {
           "xaxis": {
            "backgroundcolor": "#E5ECF6",
            "gridcolor": "white",
            "gridwidth": 2,
            "linecolor": "white",
            "showbackground": true,
            "ticks": "",
            "zerolinecolor": "white"
           },
           "yaxis": {
            "backgroundcolor": "#E5ECF6",
            "gridcolor": "white",
            "gridwidth": 2,
            "linecolor": "white",
            "showbackground": true,
            "ticks": "",
            "zerolinecolor": "white"
           },
           "zaxis": {
            "backgroundcolor": "#E5ECF6",
            "gridcolor": "white",
            "gridwidth": 2,
            "linecolor": "white",
            "showbackground": true,
            "ticks": "",
            "zerolinecolor": "white"
           }
          },
          "shapedefaults": {
           "line": {
            "color": "#2a3f5f"
           }
          },
          "ternary": {
           "aaxis": {
            "gridcolor": "white",
            "linecolor": "white",
            "ticks": ""
           },
           "baxis": {
            "gridcolor": "white",
            "linecolor": "white",
            "ticks": ""
           },
           "bgcolor": "#E5ECF6",
           "caxis": {
            "gridcolor": "white",
            "linecolor": "white",
            "ticks": ""
           }
          },
          "title": {
           "x": 0.05
          },
          "xaxis": {
           "automargin": true,
           "gridcolor": "white",
           "linecolor": "white",
           "ticks": "",
           "title": {
            "standoff": 15
           },
           "zerolinecolor": "white",
           "zerolinewidth": 2
          },
          "yaxis": {
           "automargin": true,
           "gridcolor": "white",
           "linecolor": "white",
           "ticks": "",
           "title": {
            "standoff": 15
           },
           "zerolinecolor": "white",
           "zerolinewidth": 2
          }
         }
        },
        "title": {
         "text": "Degree Centrality Over Time"
        },
        "xaxis": {
         "anchor": "y",
         "domain": [
          0,
          1
         ],
         "title": {
          "text": "period"
         }
        },
        "yaxis": {
         "anchor": "x",
         "domain": [
          0,
          1
         ],
         "title": {
          "text": "degree"
         }
        }
       }
      }
     },
     "metadata": {},
     "output_type": "display_data"
    },
    {
     "data": {
      "application/vnd.plotly.v1+json": {
       "config": {
        "plotlyServerURL": "https://plot.ly"
       },
       "data": [
        {
         "hovertemplate": "node=Dyer-Campbell<br>period=%{x}<br>betweenness=%{y}<extra></extra>",
         "legendgroup": "Dyer-Campbell",
         "line": {
          "color": "#636efa",
          "dash": "solid"
         },
         "marker": {
          "symbol": "circle"
         },
         "mode": "lines",
         "name": "Dyer-Campbell",
         "orientation": "v",
         "showlegend": true,
         "type": "scatter",
         "x": [
          "2004-03-01T00:00:00",
          "2004-09-01T00:00:00",
          "2005-03-01T00:00:00",
          "2005-09-01T00:00:00",
          "2006-03-01T00:00:00",
          "2006-09-01T00:00:00",
          "2007-03-01T00:00:00",
          "2007-09-01T00:00:00",
          "2008-03-01T00:00:00",
          "2008-09-01T00:00:00",
          "2009-03-01T00:00:00",
          "2009-09-01T00:00:00",
          "2010-03-01T00:00:00",
          "2010-09-01T00:00:00",
          "2011-03-01T00:00:00",
          "2011-09-01T00:00:00",
          "2012-03-01T00:00:00",
          "2012-09-01T00:00:00",
          "2013-03-01T00:00:00",
          "2013-09-01T00:00:00",
          "2014-03-01T00:00:00",
          "2014-09-01T00:00:00",
          "2015-03-01T00:00:00",
          "2015-09-01T00:00:00",
          "2016-03-01T00:00:00",
          "2016-09-01T00:00:00",
          "2017-03-01T00:00:00",
          "2017-09-01T00:00:00",
          "2018-03-01T00:00:00",
          "2018-09-01T00:00:00",
          "2019-03-01T00:00:00",
          "2019-09-01T00:00:00",
          "2020-03-01T00:00:00",
          "2020-09-01T00:00:00",
          "2021-03-01T00:00:00",
          "2021-09-01T00:00:00",
          "2022-03-01T00:00:00",
          "2022-09-01T00:00:00",
          "2023-03-01T00:00:00",
          "2023-09-01T00:00:00",
          "2024-03-01T00:00:00",
          "2024-09-01T00:00:00",
          "2025-03-01T00:00:00",
          "2025-09-01T00:00:00",
          "2026-03-01T00:00:00",
          "2026-09-01T00:00:00",
          "2027-03-01T00:00:00",
          "2027-09-01T00:00:00",
          "2028-03-01T00:00:00",
          "2028-09-01T00:00:00",
          "2029-03-01T00:00:00",
          "2029-09-01T00:00:00",
          "2030-03-01T00:00:00",
          "2030-09-01T00:00:00",
          "2031-03-01T00:00:00",
          "2031-09-01T00:00:00",
          "2032-03-01T00:00:00",
          "2032-09-01T00:00:00",
          "2033-03-01T00:00:00",
          "2033-09-01T00:00:00",
          "2034-03-01T00:00:00",
          "2034-09-01T00:00:00",
          "2035-03-01T00:00:00",
          "2035-09-01T00:00:00"
         ],
         "xaxis": "x",
         "y": [
          0,
          0,
          0,
          0,
          0,
          0,
          0,
          0,
          0,
          0,
          0,
          0,
          0,
          0,
          0,
          0,
          0,
          0,
          0,
          0,
          0,
          0,
          0,
          0,
          0,
          0,
          0,
          0,
          0,
          0,
          0,
          0,
          0,
          0,
          0,
          0,
          0,
          0,
          0,
          0,
          0,
          0,
          0,
          0,
          0,
          0,
          0,
          0,
          0,
          0,
          0,
          0,
          0,
          0,
          0,
          0,
          0,
          0,
          0,
          0,
          0,
          0,
          0,
          0
         ],
         "yaxis": "y"
        },
        {
         "hovertemplate": "node=Hancock and Sons<br>period=%{x}<br>betweenness=%{y}<extra></extra>",
         "legendgroup": "Hancock and Sons",
         "line": {
          "color": "#EF553B",
          "dash": "solid"
         },
         "marker": {
          "symbol": "circle"
         },
         "mode": "lines",
         "name": "Hancock and Sons",
         "orientation": "v",
         "showlegend": true,
         "type": "scatter",
         "x": [
          "2004-03-01T00:00:00",
          "2004-09-01T00:00:00",
          "2005-03-01T00:00:00",
          "2005-09-01T00:00:00",
          "2006-03-01T00:00:00",
          "2006-09-01T00:00:00",
          "2007-03-01T00:00:00",
          "2007-09-01T00:00:00",
          "2008-03-01T00:00:00",
          "2008-09-01T00:00:00",
          "2009-03-01T00:00:00",
          "2009-09-01T00:00:00",
          "2010-03-01T00:00:00",
          "2010-09-01T00:00:00",
          "2011-03-01T00:00:00",
          "2011-09-01T00:00:00",
          "2012-03-01T00:00:00",
          "2012-09-01T00:00:00",
          "2013-03-01T00:00:00",
          "2013-09-01T00:00:00",
          "2014-03-01T00:00:00",
          "2014-09-01T00:00:00",
          "2015-03-01T00:00:00",
          "2015-09-01T00:00:00",
          "2016-03-01T00:00:00",
          "2016-09-01T00:00:00",
          "2017-03-01T00:00:00",
          "2017-09-01T00:00:00",
          "2018-03-01T00:00:00",
          "2018-09-01T00:00:00",
          "2019-03-01T00:00:00",
          "2019-09-01T00:00:00",
          "2020-03-01T00:00:00",
          "2020-09-01T00:00:00",
          "2021-03-01T00:00:00",
          "2021-09-01T00:00:00",
          "2022-03-01T00:00:00",
          "2022-09-01T00:00:00",
          "2023-03-01T00:00:00",
          "2023-09-01T00:00:00",
          "2024-03-01T00:00:00",
          "2024-09-01T00:00:00",
          "2025-03-01T00:00:00",
          "2025-09-01T00:00:00",
          "2026-03-01T00:00:00",
          "2026-09-01T00:00:00",
          "2027-03-01T00:00:00",
          "2027-09-01T00:00:00",
          "2028-03-01T00:00:00",
          "2028-09-01T00:00:00",
          "2029-03-01T00:00:00",
          "2029-09-01T00:00:00",
          "2030-03-01T00:00:00",
          "2030-09-01T00:00:00",
          "2031-03-01T00:00:00",
          "2031-09-01T00:00:00",
          "2032-03-01T00:00:00",
          "2032-09-01T00:00:00",
          "2033-03-01T00:00:00",
          "2033-09-01T00:00:00",
          "2034-03-01T00:00:00",
          "2034-09-01T00:00:00",
          "2035-03-01T00:00:00",
          "2035-09-01T00:00:00"
         ],
         "xaxis": "x",
         "y": [
          0,
          0,
          0,
          0,
          0,
          0,
          0,
          0,
          0,
          0,
          0,
          0,
          0,
          0,
          0,
          0,
          0,
          0,
          0,
          0,
          0,
          0,
          0,
          0,
          0,
          0,
          0,
          0,
          0,
          0,
          0,
          0,
          0,
          0,
          0,
          0,
          0,
          0,
          0,
          0,
          0,
          0,
          0,
          0,
          0,
          0,
          0,
          0,
          0,
          0,
          0,
          0,
          0,
          0,
          0,
          0,
          0,
          0,
          0,
          0,
          0,
          0,
          0,
          0
         ],
         "yaxis": "y"
        },
        {
         "hovertemplate": "node=Vasquez-Gonzalez<br>period=%{x}<br>betweenness=%{y}<extra></extra>",
         "legendgroup": "Vasquez-Gonzalez",
         "line": {
          "color": "#00cc96",
          "dash": "solid"
         },
         "marker": {
          "symbol": "circle"
         },
         "mode": "lines",
         "name": "Vasquez-Gonzalez",
         "orientation": "v",
         "showlegend": true,
         "type": "scatter",
         "x": [
          "2004-03-01T00:00:00",
          "2004-09-01T00:00:00",
          "2005-03-01T00:00:00",
          "2005-09-01T00:00:00",
          "2006-03-01T00:00:00",
          "2006-09-01T00:00:00",
          "2007-03-01T00:00:00",
          "2007-09-01T00:00:00",
          "2008-03-01T00:00:00",
          "2008-09-01T00:00:00",
          "2009-03-01T00:00:00",
          "2009-09-01T00:00:00",
          "2010-03-01T00:00:00",
          "2010-09-01T00:00:00",
          "2011-03-01T00:00:00",
          "2011-09-01T00:00:00",
          "2012-03-01T00:00:00",
          "2012-09-01T00:00:00",
          "2013-03-01T00:00:00",
          "2013-09-01T00:00:00",
          "2014-03-01T00:00:00",
          "2014-09-01T00:00:00",
          "2015-03-01T00:00:00",
          "2015-09-01T00:00:00",
          "2016-03-01T00:00:00",
          "2016-09-01T00:00:00",
          "2017-03-01T00:00:00",
          "2017-09-01T00:00:00",
          "2018-03-01T00:00:00",
          "2018-09-01T00:00:00",
          "2019-03-01T00:00:00",
          "2019-09-01T00:00:00",
          "2020-03-01T00:00:00",
          "2020-09-01T00:00:00",
          "2021-03-01T00:00:00",
          "2021-09-01T00:00:00",
          "2022-03-01T00:00:00",
          "2022-09-01T00:00:00",
          "2023-03-01T00:00:00",
          "2023-09-01T00:00:00",
          "2024-03-01T00:00:00",
          "2024-09-01T00:00:00",
          "2025-03-01T00:00:00",
          "2025-09-01T00:00:00",
          "2026-03-01T00:00:00",
          "2026-09-01T00:00:00",
          "2027-03-01T00:00:00",
          "2027-09-01T00:00:00",
          "2028-03-01T00:00:00",
          "2028-09-01T00:00:00",
          "2029-03-01T00:00:00",
          "2029-09-01T00:00:00",
          "2030-03-01T00:00:00",
          "2030-09-01T00:00:00",
          "2031-03-01T00:00:00",
          "2031-09-01T00:00:00",
          "2032-03-01T00:00:00",
          "2032-09-01T00:00:00",
          "2033-03-01T00:00:00",
          "2033-09-01T00:00:00",
          "2034-03-01T00:00:00",
          "2034-09-01T00:00:00",
          "2035-03-01T00:00:00",
          "2035-09-01T00:00:00"
         ],
         "xaxis": "x",
         "y": [
          0,
          0,
          0,
          0,
          0,
          0,
          0,
          0,
          0,
          0,
          0,
          0,
          0,
          0,
          0,
          0,
          0,
          0,
          0,
          0,
          0,
          0,
          0,
          0,
          0,
          0,
          0,
          0,
          0,
          0,
          0,
          0,
          1.6041489590215904e-8,
          1.6216254296238854e-8,
          1.5336489447024053e-8,
          1.4476950278539936e-8,
          1.3740922059841166e-8,
          1.3000797208884851e-8,
          1.2331332366198682e-8,
          1.1723125178912685e-8,
          1.1966697924213496e-8,
          2.3496881629545668e-8,
          2.2422525195479103e-8,
          2.1309151477273222e-8,
          2.03109600647764e-8,
          2.0579185844752944e-8,
          2.0804191713189718e-8,
          1.984930327289513e-8,
          1.8921669495531945e-8,
          1.8088788659956052e-8,
          1.8272823108431603e-8,
          1.7425538507538984e-8,
          1.6671886093492723e-8,
          1.589732703941485e-8,
          1.515832193328517e-8,
          1.4442814128308972e-8,
          1.3760859883732891e-8,
          1.310140166988752e-8,
          1.245663533822879e-8,
          1.3766992945167858e-8,
          1.3703133900328209e-8,
          1.3010763130669601e-8,
          1.2435872798343062e-8,
          1.2353999873564223e-8
         ],
         "yaxis": "y"
        },
        {
         "hovertemplate": "node=KambalaAqua Delivery Plc<br>period=%{x}<br>betweenness=%{y}<extra></extra>",
         "legendgroup": "KambalaAqua Delivery Plc",
         "line": {
          "color": "#ab63fa",
          "dash": "solid"
         },
         "marker": {
          "symbol": "circle"
         },
         "mode": "lines",
         "name": "KambalaAqua Delivery Plc",
         "orientation": "v",
         "showlegend": true,
         "type": "scatter",
         "x": [
          "2020-03-01T00:00:00",
          "2020-09-01T00:00:00",
          "2021-03-01T00:00:00",
          "2021-09-01T00:00:00",
          "2022-03-01T00:00:00",
          "2022-09-01T00:00:00",
          "2023-03-01T00:00:00",
          "2023-09-01T00:00:00",
          "2024-03-01T00:00:00",
          "2024-09-01T00:00:00",
          "2025-03-01T00:00:00",
          "2025-09-01T00:00:00",
          "2026-03-01T00:00:00",
          "2026-09-01T00:00:00",
          "2027-03-01T00:00:00",
          "2027-09-01T00:00:00",
          "2028-03-01T00:00:00",
          "2028-09-01T00:00:00",
          "2029-03-01T00:00:00",
          "2029-09-01T00:00:00",
          "2030-03-01T00:00:00",
          "2030-09-01T00:00:00",
          "2031-03-01T00:00:00",
          "2031-09-01T00:00:00",
          "2032-03-01T00:00:00",
          "2032-09-01T00:00:00",
          "2033-03-01T00:00:00",
          "2033-09-01T00:00:00",
          "2034-03-01T00:00:00",
          "2034-09-01T00:00:00",
          "2035-03-01T00:00:00",
          "2035-09-01T00:00:00"
         ],
         "xaxis": "x",
         "y": [
          0,
          0,
          0,
          0,
          0,
          0,
          0,
          0,
          0,
          0,
          0,
          0,
          0,
          0,
          0,
          0,
          0,
          0,
          0,
          0,
          0,
          0,
          0,
          0,
          0,
          0,
          0,
          0,
          0,
          0,
          0,
          0
         ],
         "yaxis": "y"
        },
        {
         "hovertemplate": "node=ArawakCharter Boat Transit Plc<br>period=%{x}<br>betweenness=%{y}<extra></extra>",
         "legendgroup": "ArawakCharter Boat Transit Plc",
         "line": {
          "color": "#FFA15A",
          "dash": "solid"
         },
         "marker": {
          "symbol": "circle"
         },
         "mode": "lines",
         "name": "ArawakCharter Boat Transit Plc",
         "orientation": "v",
         "showlegend": true,
         "type": "scatter",
         "x": [
          "2024-09-01T00:00:00",
          "2025-03-01T00:00:00",
          "2025-09-01T00:00:00",
          "2026-03-01T00:00:00",
          "2026-09-01T00:00:00",
          "2027-03-01T00:00:00",
          "2027-09-01T00:00:00",
          "2028-03-01T00:00:00",
          "2028-09-01T00:00:00",
          "2029-03-01T00:00:00",
          "2029-09-01T00:00:00",
          "2030-03-01T00:00:00",
          "2030-09-01T00:00:00",
          "2031-03-01T00:00:00",
          "2031-09-01T00:00:00",
          "2032-03-01T00:00:00",
          "2032-09-01T00:00:00",
          "2033-03-01T00:00:00",
          "2033-09-01T00:00:00",
          "2034-03-01T00:00:00",
          "2034-09-01T00:00:00",
          "2035-03-01T00:00:00",
          "2035-09-01T00:00:00"
         ],
         "xaxis": "x",
         "y": [
          0,
          0,
          0,
          0,
          0,
          0,
          0,
          0,
          0,
          0,
          0,
          0,
          0,
          0,
          0,
          0,
          0,
          0,
          0,
          0,
          0,
          0,
          0
         ],
         "yaxis": "y"
        },
        {
         "hovertemplate": "node=Francis-Yoder<br>period=%{x}<br>betweenness=%{y}<extra></extra>",
         "legendgroup": "Francis-Yoder",
         "line": {
          "color": "#19d3f3",
          "dash": "solid"
         },
         "marker": {
          "symbol": "circle"
         },
         "mode": "lines",
         "name": "Francis-Yoder",
         "orientation": "v",
         "showlegend": true,
         "type": "scatter",
         "x": [
          "2025-03-01T00:00:00",
          "2025-09-01T00:00:00",
          "2026-03-01T00:00:00",
          "2026-09-01T00:00:00",
          "2027-03-01T00:00:00",
          "2027-09-01T00:00:00",
          "2028-03-01T00:00:00",
          "2028-09-01T00:00:00",
          "2029-03-01T00:00:00",
          "2029-09-01T00:00:00",
          "2030-03-01T00:00:00",
          "2030-09-01T00:00:00",
          "2031-03-01T00:00:00",
          "2031-09-01T00:00:00",
          "2032-03-01T00:00:00",
          "2032-09-01T00:00:00",
          "2033-03-01T00:00:00",
          "2033-09-01T00:00:00",
          "2034-03-01T00:00:00",
          "2034-09-01T00:00:00",
          "2035-03-01T00:00:00",
          "2035-09-01T00:00:00"
         ],
         "xaxis": "x",
         "y": [
          0,
          0,
          0,
          0,
          0,
          0,
          0,
          0,
          0,
          0,
          0,
          0,
          0,
          0,
          0,
          0,
          0,
          0,
          0,
          0,
          0,
          0
         ],
         "yaxis": "y"
        },
        {
         "hovertemplate": "node=ScaniaSeafood Holdings Ltd. Liability Co<br>period=%{x}<br>betweenness=%{y}<extra></extra>",
         "legendgroup": "ScaniaSeafood Holdings Ltd. Liability Co",
         "line": {
          "color": "#FF6692",
          "dash": "solid"
         },
         "marker": {
          "symbol": "circle"
         },
         "mode": "lines",
         "name": "ScaniaSeafood Holdings Ltd. Liability Co",
         "orientation": "v",
         "showlegend": true,
         "type": "scatter",
         "x": [
          "2030-09-01T00:00:00",
          "2031-03-01T00:00:00",
          "2031-09-01T00:00:00",
          "2032-03-01T00:00:00",
          "2032-09-01T00:00:00",
          "2033-03-01T00:00:00",
          "2033-09-01T00:00:00",
          "2034-03-01T00:00:00",
          "2034-09-01T00:00:00",
          "2035-03-01T00:00:00",
          "2035-09-01T00:00:00"
         ],
         "xaxis": "x",
         "y": [
          0,
          0,
          0,
          0,
          0,
          0,
          0,
          0,
          0,
          0,
          0
         ],
         "yaxis": "y"
        },
        {
         "hovertemplate": "node=SouthSeafood Express Corp<br>period=%{x}<br>betweenness=%{y}<extra></extra>",
         "legendgroup": "SouthSeafood Express Corp",
         "line": {
          "color": "#B6E880",
          "dash": "solid"
         },
         "marker": {
          "symbol": "circle"
         },
         "mode": "lines",
         "name": "SouthSeafood Express Corp",
         "orientation": "v",
         "showlegend": true,
         "type": "scatter",
         "x": [
          "2033-03-01T00:00:00",
          "2033-09-01T00:00:00",
          "2034-03-01T00:00:00",
          "2034-09-01T00:00:00",
          "2035-03-01T00:00:00",
          "2035-09-01T00:00:00"
         ],
         "xaxis": "x",
         "y": [
          0,
          0,
          0,
          0,
          0,
          0
         ],
         "yaxis": "y"
        },
        {
         "hovertemplate": "node=Oka Charter Boat Transport OJSC<br>period=%{x}<br>betweenness=%{y}<extra></extra>",
         "legendgroup": "Oka Charter Boat Transport OJSC",
         "line": {
          "color": "#FF97FF",
          "dash": "solid"
         },
         "marker": {
          "symbol": "circle"
         },
         "mode": "lines",
         "name": "Oka Charter Boat Transport OJSC",
         "orientation": "v",
         "showlegend": true,
         "type": "scatter",
         "x": [
          "2033-03-01T00:00:00",
          "2033-09-01T00:00:00",
          "2034-03-01T00:00:00",
          "2034-09-01T00:00:00",
          "2035-03-01T00:00:00",
          "2035-09-01T00:00:00"
         ],
         "xaxis": "x",
         "y": [
          0,
          0,
          0,
          0,
          0,
          0
         ],
         "yaxis": "y"
        },
        {
         "hovertemplate": "node=Tainamarine Fishing Co<br>period=%{x}<br>betweenness=%{y}<extra></extra>",
         "legendgroup": "Tainamarine Fishing Co",
         "line": {
          "color": "#FECB52",
          "dash": "solid"
         },
         "marker": {
          "symbol": "circle"
         },
         "mode": "lines",
         "name": "Tainamarine Fishing Co",
         "orientation": "v",
         "showlegend": true,
         "type": "scatter",
         "x": [
          "2035-09-01T00:00:00"
         ],
         "xaxis": "x",
         "y": [
          2.470799974712845e-9
         ],
         "yaxis": "y"
        }
       ],
       "layout": {
        "legend": {
         "title": {
          "text": "node"
         },
         "tracegroupgap": 0
        },
        "template": {
         "data": {
          "bar": [
           {
            "error_x": {
             "color": "#2a3f5f"
            },
            "error_y": {
             "color": "#2a3f5f"
            },
            "marker": {
             "line": {
              "color": "#E5ECF6",
              "width": 0.5
             },
             "pattern": {
              "fillmode": "overlay",
              "size": 10,
              "solidity": 0.2
             }
            },
            "type": "bar"
           }
          ],
          "barpolar": [
           {
            "marker": {
             "line": {
              "color": "#E5ECF6",
              "width": 0.5
             },
             "pattern": {
              "fillmode": "overlay",
              "size": 10,
              "solidity": 0.2
             }
            },
            "type": "barpolar"
           }
          ],
          "carpet": [
           {
            "aaxis": {
             "endlinecolor": "#2a3f5f",
             "gridcolor": "white",
             "linecolor": "white",
             "minorgridcolor": "white",
             "startlinecolor": "#2a3f5f"
            },
            "baxis": {
             "endlinecolor": "#2a3f5f",
             "gridcolor": "white",
             "linecolor": "white",
             "minorgridcolor": "white",
             "startlinecolor": "#2a3f5f"
            },
            "type": "carpet"
           }
          ],
          "choropleth": [
           {
            "colorbar": {
             "outlinewidth": 0,
             "ticks": ""
            },
            "type": "choropleth"
           }
          ],
          "contour": [
           {
            "colorbar": {
             "outlinewidth": 0,
             "ticks": ""
            },
            "colorscale": [
             [
              0,
              "#0d0887"
             ],
             [
              0.1111111111111111,
              "#46039f"
             ],
             [
              0.2222222222222222,
              "#7201a8"
             ],
             [
              0.3333333333333333,
              "#9c179e"
             ],
             [
              0.4444444444444444,
              "#bd3786"
             ],
             [
              0.5555555555555556,
              "#d8576b"
             ],
             [
              0.6666666666666666,
              "#ed7953"
             ],
             [
              0.7777777777777778,
              "#fb9f3a"
             ],
             [
              0.8888888888888888,
              "#fdca26"
             ],
             [
              1,
              "#f0f921"
             ]
            ],
            "type": "contour"
           }
          ],
          "contourcarpet": [
           {
            "colorbar": {
             "outlinewidth": 0,
             "ticks": ""
            },
            "type": "contourcarpet"
           }
          ],
          "heatmap": [
           {
            "colorbar": {
             "outlinewidth": 0,
             "ticks": ""
            },
            "colorscale": [
             [
              0,
              "#0d0887"
             ],
             [
              0.1111111111111111,
              "#46039f"
             ],
             [
              0.2222222222222222,
              "#7201a8"
             ],
             [
              0.3333333333333333,
              "#9c179e"
             ],
             [
              0.4444444444444444,
              "#bd3786"
             ],
             [
              0.5555555555555556,
              "#d8576b"
             ],
             [
              0.6666666666666666,
              "#ed7953"
             ],
             [
              0.7777777777777778,
              "#fb9f3a"
             ],
             [
              0.8888888888888888,
              "#fdca26"
             ],
             [
              1,
              "#f0f921"
             ]
            ],
            "type": "heatmap"
           }
          ],
          "heatmapgl": [
           {
            "colorbar": {
             "outlinewidth": 0,
             "ticks": ""
            },
            "colorscale": [
             [
              0,
              "#0d0887"
             ],
             [
              0.1111111111111111,
              "#46039f"
             ],
             [
              0.2222222222222222,
              "#7201a8"
             ],
             [
              0.3333333333333333,
              "#9c179e"
             ],
             [
              0.4444444444444444,
              "#bd3786"
             ],
             [
              0.5555555555555556,
              "#d8576b"
             ],
             [
              0.6666666666666666,
              "#ed7953"
             ],
             [
              0.7777777777777778,
              "#fb9f3a"
             ],
             [
              0.8888888888888888,
              "#fdca26"
             ],
             [
              1,
              "#f0f921"
             ]
            ],
            "type": "heatmapgl"
           }
          ],
          "histogram": [
           {
            "marker": {
             "pattern": {
              "fillmode": "overlay",
              "size": 10,
              "solidity": 0.2
             }
            },
            "type": "histogram"
           }
          ],
          "histogram2d": [
           {
            "colorbar": {
             "outlinewidth": 0,
             "ticks": ""
            },
            "colorscale": [
             [
              0,
              "#0d0887"
             ],
             [
              0.1111111111111111,
              "#46039f"
             ],
             [
              0.2222222222222222,
              "#7201a8"
             ],
             [
              0.3333333333333333,
              "#9c179e"
             ],
             [
              0.4444444444444444,
              "#bd3786"
             ],
             [
              0.5555555555555556,
              "#d8576b"
             ],
             [
              0.6666666666666666,
              "#ed7953"
             ],
             [
              0.7777777777777778,
              "#fb9f3a"
             ],
             [
              0.8888888888888888,
              "#fdca26"
             ],
             [
              1,
              "#f0f921"
             ]
            ],
            "type": "histogram2d"
           }
          ],
          "histogram2dcontour": [
           {
            "colorbar": {
             "outlinewidth": 0,
             "ticks": ""
            },
            "colorscale": [
             [
              0,
              "#0d0887"
             ],
             [
              0.1111111111111111,
              "#46039f"
             ],
             [
              0.2222222222222222,
              "#7201a8"
             ],
             [
              0.3333333333333333,
              "#9c179e"
             ],
             [
              0.4444444444444444,
              "#bd3786"
             ],
             [
              0.5555555555555556,
              "#d8576b"
             ],
             [
              0.6666666666666666,
              "#ed7953"
             ],
             [
              0.7777777777777778,
              "#fb9f3a"
             ],
             [
              0.8888888888888888,
              "#fdca26"
             ],
             [
              1,
              "#f0f921"
             ]
            ],
            "type": "histogram2dcontour"
           }
          ],
          "mesh3d": [
           {
            "colorbar": {
             "outlinewidth": 0,
             "ticks": ""
            },
            "type": "mesh3d"
           }
          ],
          "parcoords": [
           {
            "line": {
             "colorbar": {
              "outlinewidth": 0,
              "ticks": ""
             }
            },
            "type": "parcoords"
           }
          ],
          "pie": [
           {
            "automargin": true,
            "type": "pie"
           }
          ],
          "scatter": [
           {
            "fillpattern": {
             "fillmode": "overlay",
             "size": 10,
             "solidity": 0.2
            },
            "type": "scatter"
           }
          ],
          "scatter3d": [
           {
            "line": {
             "colorbar": {
              "outlinewidth": 0,
              "ticks": ""
             }
            },
            "marker": {
             "colorbar": {
              "outlinewidth": 0,
              "ticks": ""
             }
            },
            "type": "scatter3d"
           }
          ],
          "scattercarpet": [
           {
            "marker": {
             "colorbar": {
              "outlinewidth": 0,
              "ticks": ""
             }
            },
            "type": "scattercarpet"
           }
          ],
          "scattergeo": [
           {
            "marker": {
             "colorbar": {
              "outlinewidth": 0,
              "ticks": ""
             }
            },
            "type": "scattergeo"
           }
          ],
          "scattergl": [
           {
            "marker": {
             "colorbar": {
              "outlinewidth": 0,
              "ticks": ""
             }
            },
            "type": "scattergl"
           }
          ],
          "scattermapbox": [
           {
            "marker": {
             "colorbar": {
              "outlinewidth": 0,
              "ticks": ""
             }
            },
            "type": "scattermapbox"
           }
          ],
          "scatterpolar": [
           {
            "marker": {
             "colorbar": {
              "outlinewidth": 0,
              "ticks": ""
             }
            },
            "type": "scatterpolar"
           }
          ],
          "scatterpolargl": [
           {
            "marker": {
             "colorbar": {
              "outlinewidth": 0,
              "ticks": ""
             }
            },
            "type": "scatterpolargl"
           }
          ],
          "scatterternary": [
           {
            "marker": {
             "colorbar": {
              "outlinewidth": 0,
              "ticks": ""
             }
            },
            "type": "scatterternary"
           }
          ],
          "surface": [
           {
            "colorbar": {
             "outlinewidth": 0,
             "ticks": ""
            },
            "colorscale": [
             [
              0,
              "#0d0887"
             ],
             [
              0.1111111111111111,
              "#46039f"
             ],
             [
              0.2222222222222222,
              "#7201a8"
             ],
             [
              0.3333333333333333,
              "#9c179e"
             ],
             [
              0.4444444444444444,
              "#bd3786"
             ],
             [
              0.5555555555555556,
              "#d8576b"
             ],
             [
              0.6666666666666666,
              "#ed7953"
             ],
             [
              0.7777777777777778,
              "#fb9f3a"
             ],
             [
              0.8888888888888888,
              "#fdca26"
             ],
             [
              1,
              "#f0f921"
             ]
            ],
            "type": "surface"
           }
          ],
          "table": [
           {
            "cells": {
             "fill": {
              "color": "#EBF0F8"
             },
             "line": {
              "color": "white"
             }
            },
            "header": {
             "fill": {
              "color": "#C8D4E3"
             },
             "line": {
              "color": "white"
             }
            },
            "type": "table"
           }
          ]
         },
         "layout": {
          "annotationdefaults": {
           "arrowcolor": "#2a3f5f",
           "arrowhead": 0,
           "arrowwidth": 1
          },
          "autotypenumbers": "strict",
          "coloraxis": {
           "colorbar": {
            "outlinewidth": 0,
            "ticks": ""
           }
          },
          "colorscale": {
           "diverging": [
            [
             0,
             "#8e0152"
            ],
            [
             0.1,
             "#c51b7d"
            ],
            [
             0.2,
             "#de77ae"
            ],
            [
             0.3,
             "#f1b6da"
            ],
            [
             0.4,
             "#fde0ef"
            ],
            [
             0.5,
             "#f7f7f7"
            ],
            [
             0.6,
             "#e6f5d0"
            ],
            [
             0.7,
             "#b8e186"
            ],
            [
             0.8,
             "#7fbc41"
            ],
            [
             0.9,
             "#4d9221"
            ],
            [
             1,
             "#276419"
            ]
           ],
           "sequential": [
            [
             0,
             "#0d0887"
            ],
            [
             0.1111111111111111,
             "#46039f"
            ],
            [
             0.2222222222222222,
             "#7201a8"
            ],
            [
             0.3333333333333333,
             "#9c179e"
            ],
            [
             0.4444444444444444,
             "#bd3786"
            ],
            [
             0.5555555555555556,
             "#d8576b"
            ],
            [
             0.6666666666666666,
             "#ed7953"
            ],
            [
             0.7777777777777778,
             "#fb9f3a"
            ],
            [
             0.8888888888888888,
             "#fdca26"
            ],
            [
             1,
             "#f0f921"
            ]
           ],
           "sequentialminus": [
            [
             0,
             "#0d0887"
            ],
            [
             0.1111111111111111,
             "#46039f"
            ],
            [
             0.2222222222222222,
             "#7201a8"
            ],
            [
             0.3333333333333333,
             "#9c179e"
            ],
            [
             0.4444444444444444,
             "#bd3786"
            ],
            [
             0.5555555555555556,
             "#d8576b"
            ],
            [
             0.6666666666666666,
             "#ed7953"
            ],
            [
             0.7777777777777778,
             "#fb9f3a"
            ],
            [
             0.8888888888888888,
             "#fdca26"
            ],
            [
             1,
             "#f0f921"
            ]
           ]
          },
          "colorway": [
           "#636efa",
           "#EF553B",
           "#00cc96",
           "#ab63fa",
           "#FFA15A",
           "#19d3f3",
           "#FF6692",
           "#B6E880",
           "#FF97FF",
           "#FECB52"
          ],
          "font": {
           "color": "#2a3f5f"
          },
          "geo": {
           "bgcolor": "white",
           "lakecolor": "white",
           "landcolor": "#E5ECF6",
           "showlakes": true,
           "showland": true,
           "subunitcolor": "white"
          },
          "hoverlabel": {
           "align": "left"
          },
          "hovermode": "closest",
          "mapbox": {
           "style": "light"
          },
          "paper_bgcolor": "white",
          "plot_bgcolor": "#E5ECF6",
          "polar": {
           "angularaxis": {
            "gridcolor": "white",
            "linecolor": "white",
            "ticks": ""
           },
           "bgcolor": "#E5ECF6",
           "radialaxis": {
            "gridcolor": "white",
            "linecolor": "white",
            "ticks": ""
           }
          },
          "scene": {
           "xaxis": {
            "backgroundcolor": "#E5ECF6",
            "gridcolor": "white",
            "gridwidth": 2,
            "linecolor": "white",
            "showbackground": true,
            "ticks": "",
            "zerolinecolor": "white"
           },
           "yaxis": {
            "backgroundcolor": "#E5ECF6",
            "gridcolor": "white",
            "gridwidth": 2,
            "linecolor": "white",
            "showbackground": true,
            "ticks": "",
            "zerolinecolor": "white"
           },
           "zaxis": {
            "backgroundcolor": "#E5ECF6",
            "gridcolor": "white",
            "gridwidth": 2,
            "linecolor": "white",
            "showbackground": true,
            "ticks": "",
            "zerolinecolor": "white"
           }
          },
          "shapedefaults": {
           "line": {
            "color": "#2a3f5f"
           }
          },
          "ternary": {
           "aaxis": {
            "gridcolor": "white",
            "linecolor": "white",
            "ticks": ""
           },
           "baxis": {
            "gridcolor": "white",
            "linecolor": "white",
            "ticks": ""
           },
           "bgcolor": "#E5ECF6",
           "caxis": {
            "gridcolor": "white",
            "linecolor": "white",
            "ticks": ""
           }
          },
          "title": {
           "x": 0.05
          },
          "xaxis": {
           "automargin": true,
           "gridcolor": "white",
           "linecolor": "white",
           "ticks": "",
           "title": {
            "standoff": 15
           },
           "zerolinecolor": "white",
           "zerolinewidth": 2
          },
          "yaxis": {
           "automargin": true,
           "gridcolor": "white",
           "linecolor": "white",
           "ticks": "",
           "title": {
            "standoff": 15
           },
           "zerolinecolor": "white",
           "zerolinewidth": 2
          }
         }
        },
        "title": {
         "text": "Betweenness Centrality Over Time"
        },
        "xaxis": {
         "anchor": "y",
         "domain": [
          0,
          1
         ],
         "title": {
          "text": "period"
         }
        },
        "yaxis": {
         "anchor": "x",
         "domain": [
          0,
          1
         ],
         "title": {
          "text": "betweenness"
         }
        }
       }
      }
     },
     "metadata": {},
     "output_type": "display_data"
    }
   ],
   "source": [
    "import plotly.express as px\n",
    "\n",
    "# Visualização para Eigenvector Centrality\n",
    "fig = px.line(centrality_df_filtered, x='period', y='eigenvector', color='node', title='Eigenvector Centrality Over Time')\n",
    "fig.show()\n",
    "\n",
    "# Visualização para Degree Centrality\n",
    "fig = px.line(centrality_df_filtered, x='period', y='degree', color='node', title='Degree Centrality Over Time')\n",
    "fig.show()\n",
    "\n",
    "# Visualização para Betweenness Centrality\n",
    "fig = px.line(centrality_df_filtered, x='period', y='betweenness', color='node', title='Betweenness Centrality Over Time')\n",
    "fig.show()\n"
   ]
  },
  {
   "cell_type": "code",
   "execution_count": 38,
   "metadata": {},
   "outputs": [
    {
     "data": {
      "text/html": [
       "<div>\n",
       "<style scoped>\n",
       "    .dataframe tbody tr th:only-of-type {\n",
       "        vertical-align: middle;\n",
       "    }\n",
       "\n",
       "    .dataframe tbody tr th {\n",
       "        vertical-align: top;\n",
       "    }\n",
       "\n",
       "    .dataframe thead th {\n",
       "        text-align: right;\n",
       "    }\n",
       "</style>\n",
       "<table border=\"1\" class=\"dataframe\">\n",
       "  <thead>\n",
       "    <tr style=\"text-align: right;\">\n",
       "      <th></th>\n",
       "      <th>Unnamed: 0</th>\n",
       "      <th>Degree_Centrality_before</th>\n",
       "      <th>Eigenvector_Centrality_before</th>\n",
       "      <th>Betweenness Centrality_before</th>\n",
       "      <th>Degree_Centrality_after</th>\n",
       "      <th>Eigenvector_Centrality_after</th>\n",
       "      <th>Betweenness Centrality_after</th>\n",
       "    </tr>\n",
       "  </thead>\n",
       "  <tbody>\n",
       "    <tr>\n",
       "      <th>0</th>\n",
       "      <td>Abbott, Mcbride and Edwards</td>\n",
       "      <td>0.000132</td>\n",
       "      <td>2.463784e-18</td>\n",
       "      <td>8.430224e-05</td>\n",
       "      <td>0.0</td>\n",
       "      <td>1.973425e-16</td>\n",
       "      <td>0.0</td>\n",
       "    </tr>\n",
       "    <tr>\n",
       "      <th>1</th>\n",
       "      <td>Abbott-Gomez</td>\n",
       "      <td>0.000033</td>\n",
       "      <td>2.837294e-124</td>\n",
       "      <td>5.460767e-10</td>\n",
       "      <td>0.0</td>\n",
       "      <td>1.973425e-16</td>\n",
       "      <td>0.0</td>\n",
       "    </tr>\n",
       "    <tr>\n",
       "      <th>2</th>\n",
       "      <td>Abbott-Harrison</td>\n",
       "      <td>0.000099</td>\n",
       "      <td>7.742384e-07</td>\n",
       "      <td>1.347098e-02</td>\n",
       "      <td>0.0</td>\n",
       "      <td>1.973425e-16</td>\n",
       "      <td>0.0</td>\n",
       "    </tr>\n",
       "    <tr>\n",
       "      <th>3</th>\n",
       "      <td>Abbott-Ibarra</td>\n",
       "      <td>0.000083</td>\n",
       "      <td>6.161403e-104</td>\n",
       "      <td>3.385676e-08</td>\n",
       "      <td>0.0</td>\n",
       "      <td>1.973425e-16</td>\n",
       "      <td>0.0</td>\n",
       "    </tr>\n",
       "    <tr>\n",
       "      <th>4</th>\n",
       "      <td>Abbott-Sullivan</td>\n",
       "      <td>0.000116</td>\n",
       "      <td>2.363281e-21</td>\n",
       "      <td>2.527609e-04</td>\n",
       "      <td>0.0</td>\n",
       "      <td>1.973425e-16</td>\n",
       "      <td>0.0</td>\n",
       "    </tr>\n",
       "    <tr>\n",
       "      <th>...</th>\n",
       "      <td>...</td>\n",
       "      <td>...</td>\n",
       "      <td>...</td>\n",
       "      <td>...</td>\n",
       "      <td>...</td>\n",
       "      <td>...</td>\n",
       "      <td>...</td>\n",
       "    </tr>\n",
       "    <tr>\n",
       "      <th>60515</th>\n",
       "      <td>Braydon Mccarthy</td>\n",
       "      <td>0.000033</td>\n",
       "      <td>2.259908e-91</td>\n",
       "      <td>0.000000e+00</td>\n",
       "      <td>0.0</td>\n",
       "      <td>1.973425e-16</td>\n",
       "      <td>0.0</td>\n",
       "    </tr>\n",
       "    <tr>\n",
       "      <th>60516</th>\n",
       "      <td>Lauren Wagner</td>\n",
       "      <td>0.000017</td>\n",
       "      <td>4.611804e-92</td>\n",
       "      <td>0.000000e+00</td>\n",
       "      <td>0.0</td>\n",
       "      <td>1.973425e-16</td>\n",
       "      <td>0.0</td>\n",
       "    </tr>\n",
       "    <tr>\n",
       "      <th>60517</th>\n",
       "      <td>Emily Yates</td>\n",
       "      <td>0.000017</td>\n",
       "      <td>4.521315e-92</td>\n",
       "      <td>0.000000e+00</td>\n",
       "      <td>0.0</td>\n",
       "      <td>1.973425e-16</td>\n",
       "      <td>0.0</td>\n",
       "    </tr>\n",
       "    <tr>\n",
       "      <th>60518</th>\n",
       "      <td>Patrick Mueller</td>\n",
       "      <td>0.000017</td>\n",
       "      <td>6.555828e-92</td>\n",
       "      <td>0.000000e+00</td>\n",
       "      <td>0.0</td>\n",
       "      <td>1.973425e-16</td>\n",
       "      <td>0.0</td>\n",
       "    </tr>\n",
       "    <tr>\n",
       "      <th>60519</th>\n",
       "      <td>Mandy Ramos</td>\n",
       "      <td>0.000017</td>\n",
       "      <td>6.618878e-92</td>\n",
       "      <td>0.000000e+00</td>\n",
       "      <td>0.0</td>\n",
       "      <td>1.973425e-16</td>\n",
       "      <td>0.0</td>\n",
       "    </tr>\n",
       "  </tbody>\n",
       "</table>\n",
       "<p>60520 rows × 7 columns</p>\n",
       "</div>"
      ],
      "text/plain": [
       "                        Unnamed: 0  Degree_Centrality_before  \\\n",
       "0      Abbott, Mcbride and Edwards                  0.000132   \n",
       "1                     Abbott-Gomez                  0.000033   \n",
       "2                  Abbott-Harrison                  0.000099   \n",
       "3                    Abbott-Ibarra                  0.000083   \n",
       "4                  Abbott-Sullivan                  0.000116   \n",
       "...                            ...                       ...   \n",
       "60515             Braydon Mccarthy                  0.000033   \n",
       "60516                Lauren Wagner                  0.000017   \n",
       "60517                  Emily Yates                  0.000017   \n",
       "60518              Patrick Mueller                  0.000017   \n",
       "60519                  Mandy Ramos                  0.000017   \n",
       "\n",
       "       Eigenvector_Centrality_before  Betweenness Centrality_before  \\\n",
       "0                       2.463784e-18                   8.430224e-05   \n",
       "1                      2.837294e-124                   5.460767e-10   \n",
       "2                       7.742384e-07                   1.347098e-02   \n",
       "3                      6.161403e-104                   3.385676e-08   \n",
       "4                       2.363281e-21                   2.527609e-04   \n",
       "...                              ...                            ...   \n",
       "60515                   2.259908e-91                   0.000000e+00   \n",
       "60516                   4.611804e-92                   0.000000e+00   \n",
       "60517                   4.521315e-92                   0.000000e+00   \n",
       "60518                   6.555828e-92                   0.000000e+00   \n",
       "60519                   6.618878e-92                   0.000000e+00   \n",
       "\n",
       "       Degree_Centrality_after  Eigenvector_Centrality_after  \\\n",
       "0                          0.0                  1.973425e-16   \n",
       "1                          0.0                  1.973425e-16   \n",
       "2                          0.0                  1.973425e-16   \n",
       "3                          0.0                  1.973425e-16   \n",
       "4                          0.0                  1.973425e-16   \n",
       "...                        ...                           ...   \n",
       "60515                      0.0                  1.973425e-16   \n",
       "60516                      0.0                  1.973425e-16   \n",
       "60517                      0.0                  1.973425e-16   \n",
       "60518                      0.0                  1.973425e-16   \n",
       "60519                      0.0                  1.973425e-16   \n",
       "\n",
       "       Betweenness Centrality_after  \n",
       "0                               0.0  \n",
       "1                               0.0  \n",
       "2                               0.0  \n",
       "3                               0.0  \n",
       "4                               0.0  \n",
       "...                             ...  \n",
       "60515                           0.0  \n",
       "60516                           0.0  \n",
       "60517                           0.0  \n",
       "60518                           0.0  \n",
       "60519                           0.0  \n",
       "\n",
       "[60520 rows x 7 columns]"
      ]
     },
     "execution_count": 38,
     "metadata": {},
     "output_type": "execute_result"
    }
   ],
   "source": [
    "df_centrality_old = pd.read_csv('centrality_after_before_change_ownership_seafood.csv')\n",
    "df_centrality_old"
   ]
  },
  {
   "cell_type": "code",
   "execution_count": 40,
   "metadata": {},
   "outputs": [],
   "source": [
    "#rename Unnamed: 0 to company\n",
    "df_centrality_old = df_centrality_old.rename(columns={'Unnamed: 0':'Node'})\n",
    "df_centrality_old = df_centrality_old.rename(columns={'Betweenness Centrality_before':'Betweenness_Centrality_before'})\n",
    "df_centrality_old = df_centrality_old.rename(columns={'Betweenness Centrality_after':'Betweenness_Centrality_after'})\n"
   ]
  },
  {
   "cell_type": "code",
   "execution_count": 41,
   "metadata": {},
   "outputs": [
    {
     "data": {
      "text/html": [
       "<div>\n",
       "<style scoped>\n",
       "    .dataframe tbody tr th:only-of-type {\n",
       "        vertical-align: middle;\n",
       "    }\n",
       "\n",
       "    .dataframe tbody tr th {\n",
       "        vertical-align: top;\n",
       "    }\n",
       "\n",
       "    .dataframe thead th {\n",
       "        text-align: right;\n",
       "    }\n",
       "</style>\n",
       "<table border=\"1\" class=\"dataframe\">\n",
       "  <thead>\n",
       "    <tr style=\"text-align: right;\">\n",
       "      <th></th>\n",
       "      <th>Node</th>\n",
       "      <th>Degree_Centrality_before</th>\n",
       "      <th>Eigenvector_Centrality_before</th>\n",
       "      <th>Betweenness_Centrality_before</th>\n",
       "      <th>Degree_Centrality_after</th>\n",
       "      <th>Eigenvector_Centrality_after</th>\n",
       "      <th>Betweenness_Centrality_after</th>\n",
       "    </tr>\n",
       "  </thead>\n",
       "  <tbody>\n",
       "    <tr>\n",
       "      <th>0</th>\n",
       "      <td>Abbott, Mcbride and Edwards</td>\n",
       "      <td>0.000132</td>\n",
       "      <td>2.463784e-18</td>\n",
       "      <td>8.430224e-05</td>\n",
       "      <td>0.0</td>\n",
       "      <td>1.973425e-16</td>\n",
       "      <td>0.0</td>\n",
       "    </tr>\n",
       "    <tr>\n",
       "      <th>1</th>\n",
       "      <td>Abbott-Gomez</td>\n",
       "      <td>0.000033</td>\n",
       "      <td>2.837294e-124</td>\n",
       "      <td>5.460767e-10</td>\n",
       "      <td>0.0</td>\n",
       "      <td>1.973425e-16</td>\n",
       "      <td>0.0</td>\n",
       "    </tr>\n",
       "    <tr>\n",
       "      <th>2</th>\n",
       "      <td>Abbott-Harrison</td>\n",
       "      <td>0.000099</td>\n",
       "      <td>7.742384e-07</td>\n",
       "      <td>1.347098e-02</td>\n",
       "      <td>0.0</td>\n",
       "      <td>1.973425e-16</td>\n",
       "      <td>0.0</td>\n",
       "    </tr>\n",
       "    <tr>\n",
       "      <th>3</th>\n",
       "      <td>Abbott-Ibarra</td>\n",
       "      <td>0.000083</td>\n",
       "      <td>6.161403e-104</td>\n",
       "      <td>3.385676e-08</td>\n",
       "      <td>0.0</td>\n",
       "      <td>1.973425e-16</td>\n",
       "      <td>0.0</td>\n",
       "    </tr>\n",
       "    <tr>\n",
       "      <th>4</th>\n",
       "      <td>Abbott-Sullivan</td>\n",
       "      <td>0.000116</td>\n",
       "      <td>2.363281e-21</td>\n",
       "      <td>2.527609e-04</td>\n",
       "      <td>0.0</td>\n",
       "      <td>1.973425e-16</td>\n",
       "      <td>0.0</td>\n",
       "    </tr>\n",
       "    <tr>\n",
       "      <th>...</th>\n",
       "      <td>...</td>\n",
       "      <td>...</td>\n",
       "      <td>...</td>\n",
       "      <td>...</td>\n",
       "      <td>...</td>\n",
       "      <td>...</td>\n",
       "      <td>...</td>\n",
       "    </tr>\n",
       "    <tr>\n",
       "      <th>60515</th>\n",
       "      <td>Braydon Mccarthy</td>\n",
       "      <td>0.000033</td>\n",
       "      <td>2.259908e-91</td>\n",
       "      <td>0.000000e+00</td>\n",
       "      <td>0.0</td>\n",
       "      <td>1.973425e-16</td>\n",
       "      <td>0.0</td>\n",
       "    </tr>\n",
       "    <tr>\n",
       "      <th>60516</th>\n",
       "      <td>Lauren Wagner</td>\n",
       "      <td>0.000017</td>\n",
       "      <td>4.611804e-92</td>\n",
       "      <td>0.000000e+00</td>\n",
       "      <td>0.0</td>\n",
       "      <td>1.973425e-16</td>\n",
       "      <td>0.0</td>\n",
       "    </tr>\n",
       "    <tr>\n",
       "      <th>60517</th>\n",
       "      <td>Emily Yates</td>\n",
       "      <td>0.000017</td>\n",
       "      <td>4.521315e-92</td>\n",
       "      <td>0.000000e+00</td>\n",
       "      <td>0.0</td>\n",
       "      <td>1.973425e-16</td>\n",
       "      <td>0.0</td>\n",
       "    </tr>\n",
       "    <tr>\n",
       "      <th>60518</th>\n",
       "      <td>Patrick Mueller</td>\n",
       "      <td>0.000017</td>\n",
       "      <td>6.555828e-92</td>\n",
       "      <td>0.000000e+00</td>\n",
       "      <td>0.0</td>\n",
       "      <td>1.973425e-16</td>\n",
       "      <td>0.0</td>\n",
       "    </tr>\n",
       "    <tr>\n",
       "      <th>60519</th>\n",
       "      <td>Mandy Ramos</td>\n",
       "      <td>0.000017</td>\n",
       "      <td>6.618878e-92</td>\n",
       "      <td>0.000000e+00</td>\n",
       "      <td>0.0</td>\n",
       "      <td>1.973425e-16</td>\n",
       "      <td>0.0</td>\n",
       "    </tr>\n",
       "  </tbody>\n",
       "</table>\n",
       "<p>60520 rows × 7 columns</p>\n",
       "</div>"
      ],
      "text/plain": [
       "                              Node  Degree_Centrality_before  \\\n",
       "0      Abbott, Mcbride and Edwards                  0.000132   \n",
       "1                     Abbott-Gomez                  0.000033   \n",
       "2                  Abbott-Harrison                  0.000099   \n",
       "3                    Abbott-Ibarra                  0.000083   \n",
       "4                  Abbott-Sullivan                  0.000116   \n",
       "...                            ...                       ...   \n",
       "60515             Braydon Mccarthy                  0.000033   \n",
       "60516                Lauren Wagner                  0.000017   \n",
       "60517                  Emily Yates                  0.000017   \n",
       "60518              Patrick Mueller                  0.000017   \n",
       "60519                  Mandy Ramos                  0.000017   \n",
       "\n",
       "       Eigenvector_Centrality_before  Betweenness_Centrality_before  \\\n",
       "0                       2.463784e-18                   8.430224e-05   \n",
       "1                      2.837294e-124                   5.460767e-10   \n",
       "2                       7.742384e-07                   1.347098e-02   \n",
       "3                      6.161403e-104                   3.385676e-08   \n",
       "4                       2.363281e-21                   2.527609e-04   \n",
       "...                              ...                            ...   \n",
       "60515                   2.259908e-91                   0.000000e+00   \n",
       "60516                   4.611804e-92                   0.000000e+00   \n",
       "60517                   4.521315e-92                   0.000000e+00   \n",
       "60518                   6.555828e-92                   0.000000e+00   \n",
       "60519                   6.618878e-92                   0.000000e+00   \n",
       "\n",
       "       Degree_Centrality_after  Eigenvector_Centrality_after  \\\n",
       "0                          0.0                  1.973425e-16   \n",
       "1                          0.0                  1.973425e-16   \n",
       "2                          0.0                  1.973425e-16   \n",
       "3                          0.0                  1.973425e-16   \n",
       "4                          0.0                  1.973425e-16   \n",
       "...                        ...                           ...   \n",
       "60515                      0.0                  1.973425e-16   \n",
       "60516                      0.0                  1.973425e-16   \n",
       "60517                      0.0                  1.973425e-16   \n",
       "60518                      0.0                  1.973425e-16   \n",
       "60519                      0.0                  1.973425e-16   \n",
       "\n",
       "       Betweenness_Centrality_after  \n",
       "0                               0.0  \n",
       "1                               0.0  \n",
       "2                               0.0  \n",
       "3                               0.0  \n",
       "4                               0.0  \n",
       "...                             ...  \n",
       "60515                           0.0  \n",
       "60516                           0.0  \n",
       "60517                           0.0  \n",
       "60518                           0.0  \n",
       "60519                           0.0  \n",
       "\n",
       "[60520 rows x 7 columns]"
      ]
     },
     "execution_count": 41,
     "metadata": {},
     "output_type": "execute_result"
    }
   ],
   "source": [
    "df_centrality_old"
   ]
  },
  {
   "cell_type": "code",
   "execution_count": 42,
   "metadata": {},
   "outputs": [
    {
     "name": "stdout",
     "output_type": "stream",
     "text": [
      "                           Node  Degree_Centrality_before  \\\n",
      "0                   Downs Group                  0.001983   \n",
      "1                  Sandra Young                  0.001504   \n",
      "2               Anne Villanueva                  0.001504   \n",
      "3              Jennifer Gardner                  0.001504   \n",
      "4                    Anna Davis                  0.001504   \n",
      "5    Mills, Atkinson and Chavez                  0.001520   \n",
      "6                 Melissa Davis                  0.001487   \n",
      "7                 Joseph Gentry                  0.001487   \n",
      "8                 Breanna Price                  0.001487   \n",
      "9              Kenneth Gonzales                  0.001487   \n",
      "10         Polák Procházka a.s.                  0.000000   \n",
      "11             Catherine Macias                  0.001487   \n",
      "12                   Erica Ford                  0.001487   \n",
      "13                Kelsey Ortega                  0.001487   \n",
      "14                  Sharon Moon                  0.000463   \n",
      "15             Steven Robertson                  0.000066   \n",
      "16  Johnson, Morales and Castro                  0.000958   \n",
      "17              Abbott-Harrison                  0.000099   \n",
      "18                     Hart Ltd                  0.001140   \n",
      "19                      Orr Inc                  0.000760   \n",
      "20       Blankenship-Strickland                  0.000413   \n",
      "21           Michael Howard DDS                  0.000149   \n",
      "22                   Walker LLC                  0.000496   \n",
      "\n",
      "    Eigenvector_Centrality_before  Betweenness_Centrality_before  \\\n",
      "0                    2.072037e-11                       0.006250   \n",
      "1                    1.498857e-01                       0.003766   \n",
      "2                    1.498857e-01                       0.003766   \n",
      "3                    1.498857e-01                       0.003766   \n",
      "4                    1.498858e-01                       0.003790   \n",
      "5                    1.971980e-08                       0.010315   \n",
      "6                    1.498104e-01                       0.003706   \n",
      "7                    1.498104e-01                       0.003706   \n",
      "8                    1.498104e-01                       0.003706   \n",
      "9                    1.498104e-01                       0.003706   \n",
      "10                  4.213984e-161                       0.000000   \n",
      "11                   1.498104e-01                       0.003706   \n",
      "12                   1.498104e-01                       0.003706   \n",
      "13                   1.498104e-01                       0.003706   \n",
      "14                   1.197087e-02                       0.016894   \n",
      "15                   3.432226e-05                       0.015198   \n",
      "16                   7.553055e-02                       0.013667   \n",
      "17                   7.742384e-07                       0.013471   \n",
      "18                   4.058246e-08                       0.013408   \n",
      "19                   7.573090e-02                       0.011855   \n",
      "20                   3.946222e-04                       0.010619   \n",
      "21                   3.361520e-03                       0.010366   \n",
      "22                   7.446604e-02                       0.010188   \n",
      "\n",
      "    Degree_Centrality_after  Eigenvector_Centrality_after  \\\n",
      "0                  0.000000                  1.973425e-16   \n",
      "1                  0.000017                  1.213936e-01   \n",
      "2                  0.000017                  1.213936e-01   \n",
      "3                  0.000017                  1.213936e-01   \n",
      "4                  0.000017                  1.213936e-01   \n",
      "5                  0.000000                  1.973425e-16   \n",
      "6                  0.000017                  1.213936e-01   \n",
      "7                  0.000017                  1.213936e-01   \n",
      "8                  0.000017                  1.213936e-01   \n",
      "9                  0.000017                  1.213936e-01   \n",
      "10                 0.000562                  7.058820e-01   \n",
      "11                 0.000017                  1.213936e-01   \n",
      "12                 0.000017                  1.213936e-01   \n",
      "13                 0.000017                  1.213936e-01   \n",
      "14                 0.000017                  1.213936e-01   \n",
      "15                 0.000000                  1.973425e-16   \n",
      "16                 0.000000                  1.973425e-16   \n",
      "17                 0.000000                  1.973425e-16   \n",
      "18                 0.000000                  1.973425e-16   \n",
      "19                 0.000000                  1.973425e-16   \n",
      "20                 0.000000                  1.973425e-16   \n",
      "21                 0.000000                  1.973425e-16   \n",
      "22                 0.000000                  1.973425e-16   \n",
      "\n",
      "    Betweenness_Centrality_after  Degree_Centrality_mean  \\\n",
      "0                   0.000000e+00                0.000991   \n",
      "1                   0.000000e+00                0.000760   \n",
      "2                   0.000000e+00                0.000760   \n",
      "3                   0.000000e+00                0.000760   \n",
      "4                   0.000000e+00                0.000760   \n",
      "5                   0.000000e+00                0.000760   \n",
      "6                   0.000000e+00                0.000752   \n",
      "7                   0.000000e+00                0.000752   \n",
      "8                   0.000000e+00                0.000752   \n",
      "9                   0.000000e+00                0.000752   \n",
      "10                  3.063491e-07                0.000281   \n",
      "11                  0.000000e+00                0.000752   \n",
      "12                  0.000000e+00                0.000752   \n",
      "13                  0.000000e+00                0.000752   \n",
      "14                  0.000000e+00                0.000240   \n",
      "15                  0.000000e+00                0.000033   \n",
      "16                  0.000000e+00                0.000479   \n",
      "17                  0.000000e+00                0.000050   \n",
      "18                  0.000000e+00                0.000570   \n",
      "19                  0.000000e+00                0.000380   \n",
      "20                  0.000000e+00                0.000207   \n",
      "21                  0.000000e+00                0.000074   \n",
      "22                  0.000000e+00                0.000248   \n",
      "\n",
      "    Eigenvector_Centrality_mean  Betweenness_Centrality_mean  \n",
      "0                  1.036028e-11                 3.124773e-03  \n",
      "1                  1.356396e-01                 1.882961e-03  \n",
      "2                  1.356396e-01                 1.882961e-03  \n",
      "3                  1.356396e-01                 1.882961e-03  \n",
      "4                  1.356397e-01                 1.894999e-03  \n",
      "5                  9.859899e-09                 5.157642e-03  \n",
      "6                  1.356020e-01                 1.852854e-03  \n",
      "7                  1.356020e-01                 1.852854e-03  \n",
      "8                  1.356020e-01                 1.852854e-03  \n",
      "9                  1.356020e-01                 1.852854e-03  \n",
      "10                 3.529410e-01                 1.531745e-07  \n",
      "11                 1.356020e-01                 1.852854e-03  \n",
      "12                 1.356020e-01                 1.852854e-03  \n",
      "13                 1.356020e-01                 1.852854e-03  \n",
      "14                 6.668222e-02                 8.447039e-03  \n",
      "15                 1.716113e-05                 7.599248e-03  \n",
      "16                 3.776527e-02                 6.833677e-03  \n",
      "17                 3.871192e-07                 6.735488e-03  \n",
      "18                 2.029123e-08                 6.704065e-03  \n",
      "19                 3.786545e-02                 5.927663e-03  \n",
      "20                 1.973111e-04                 5.309439e-03  \n",
      "21                 1.680760e-03                 5.182962e-03  \n",
      "22                 3.723302e-02                 5.093981e-03  \n"
     ]
    }
   ],
   "source": [
    "# Calcular a média das centralidades para cada nó\n",
    "df_centrality_old['Degree_Centrality_mean'] = df_centrality_old[['Degree_Centrality_before', 'Degree_Centrality_after']].mean(axis=1)\n",
    "df_centrality_old['Eigenvector_Centrality_mean'] = df_centrality_old[['Eigenvector_Centrality_before', 'Eigenvector_Centrality_after']].mean(axis=1)\n",
    "df_centrality_old['Betweenness_Centrality_mean'] = df_centrality_old[['Betweenness_Centrality_before', 'Betweenness_Centrality_after']].mean(axis=1)\n",
    "\n",
    "# Selecionar os top 10 nós baseados na média das centralidades\n",
    "top_10_degree = df_centrality_old.sort_values(by='Degree_Centrality_mean', ascending=False).head(10)\n",
    "top_10_eigenvector = df_centrality_old.sort_values(by='Eigenvector_Centrality_mean', ascending=False).head(10)\n",
    "top_10_betweenness = df_centrality_old.sort_values(by='Betweenness_Centrality_mean', ascending=False).head(10)\n",
    "\n",
    "# Combinar os top 10 nós em um DataFrame único, removendo duplicatas\n",
    "top_nodes = pd.concat([top_10_degree, top_10_eigenvector, top_10_betweenness]).drop_duplicates().reset_index(drop=True)\n",
    "\n",
    "# Exibir os top nós selecionados\n",
    "print(top_nodes)\n"
   ]
  },
  {
   "cell_type": "code",
   "execution_count": 59,
   "metadata": {},
   "outputs": [
    {
     "data": {
      "application/vnd.plotly.v1+json": {
       "config": {
        "plotlyServerURL": "https://plot.ly"
       },
       "data": [
        {
         "name": "Degree Centrality Antes",
         "type": "bar",
         "x": [
          "Downs Group",
          "Mills, Atkinson and Chavez",
          "Joseph Gentry",
          "Anna Davis",
          "Jennifer Gardner",
          "Melissa Davis",
          "Breanna Price",
          "Sandra Young",
          "Kenneth Gonzales",
          "Anne Villanueva"
         ],
         "y": [
          0.0019828483616715,
          0.0015201837439481,
          0.0014871362712536,
          0.0015036600076009,
          0.0015036600076009,
          0.0014871362712536,
          0.0014871362712536,
          0.0015036600076009,
          0.0014871362712536,
          0.0015036600076009
         ]
        },
        {
         "name": "Degree Centrality Después",
         "type": "bar",
         "x": [
          "Downs Group",
          "Mills, Atkinson and Chavez",
          "Joseph Gentry",
          "Anna Davis",
          "Jennifer Gardner",
          "Melissa Davis",
          "Breanna Price",
          "Sandra Young",
          "Kenneth Gonzales",
          "Anne Villanueva"
         ],
         "y": [
          0,
          0,
          0.00001652373634726284,
          0.00001652373634726284,
          0.00001652373634726284,
          0.00001652373634726284,
          0.00001652373634726284,
          0.00001652373634726284,
          0.00001652373634726284,
          0.00001652373634726284
         ]
        }
       ],
       "layout": {
        "template": {
         "data": {
          "bar": [
           {
            "error_x": {
             "color": "#2a3f5f"
            },
            "error_y": {
             "color": "#2a3f5f"
            },
            "marker": {
             "line": {
              "color": "#E5ECF6",
              "width": 0.5
             },
             "pattern": {
              "fillmode": "overlay",
              "size": 10,
              "solidity": 0.2
             }
            },
            "type": "bar"
           }
          ],
          "barpolar": [
           {
            "marker": {
             "line": {
              "color": "#E5ECF6",
              "width": 0.5
             },
             "pattern": {
              "fillmode": "overlay",
              "size": 10,
              "solidity": 0.2
             }
            },
            "type": "barpolar"
           }
          ],
          "carpet": [
           {
            "aaxis": {
             "endlinecolor": "#2a3f5f",
             "gridcolor": "white",
             "linecolor": "white",
             "minorgridcolor": "white",
             "startlinecolor": "#2a3f5f"
            },
            "baxis": {
             "endlinecolor": "#2a3f5f",
             "gridcolor": "white",
             "linecolor": "white",
             "minorgridcolor": "white",
             "startlinecolor": "#2a3f5f"
            },
            "type": "carpet"
           }
          ],
          "choropleth": [
           {
            "colorbar": {
             "outlinewidth": 0,
             "ticks": ""
            },
            "type": "choropleth"
           }
          ],
          "contour": [
           {
            "colorbar": {
             "outlinewidth": 0,
             "ticks": ""
            },
            "colorscale": [
             [
              0,
              "#0d0887"
             ],
             [
              0.1111111111111111,
              "#46039f"
             ],
             [
              0.2222222222222222,
              "#7201a8"
             ],
             [
              0.3333333333333333,
              "#9c179e"
             ],
             [
              0.4444444444444444,
              "#bd3786"
             ],
             [
              0.5555555555555556,
              "#d8576b"
             ],
             [
              0.6666666666666666,
              "#ed7953"
             ],
             [
              0.7777777777777778,
              "#fb9f3a"
             ],
             [
              0.8888888888888888,
              "#fdca26"
             ],
             [
              1,
              "#f0f921"
             ]
            ],
            "type": "contour"
           }
          ],
          "contourcarpet": [
           {
            "colorbar": {
             "outlinewidth": 0,
             "ticks": ""
            },
            "type": "contourcarpet"
           }
          ],
          "heatmap": [
           {
            "colorbar": {
             "outlinewidth": 0,
             "ticks": ""
            },
            "colorscale": [
             [
              0,
              "#0d0887"
             ],
             [
              0.1111111111111111,
              "#46039f"
             ],
             [
              0.2222222222222222,
              "#7201a8"
             ],
             [
              0.3333333333333333,
              "#9c179e"
             ],
             [
              0.4444444444444444,
              "#bd3786"
             ],
             [
              0.5555555555555556,
              "#d8576b"
             ],
             [
              0.6666666666666666,
              "#ed7953"
             ],
             [
              0.7777777777777778,
              "#fb9f3a"
             ],
             [
              0.8888888888888888,
              "#fdca26"
             ],
             [
              1,
              "#f0f921"
             ]
            ],
            "type": "heatmap"
           }
          ],
          "heatmapgl": [
           {
            "colorbar": {
             "outlinewidth": 0,
             "ticks": ""
            },
            "colorscale": [
             [
              0,
              "#0d0887"
             ],
             [
              0.1111111111111111,
              "#46039f"
             ],
             [
              0.2222222222222222,
              "#7201a8"
             ],
             [
              0.3333333333333333,
              "#9c179e"
             ],
             [
              0.4444444444444444,
              "#bd3786"
             ],
             [
              0.5555555555555556,
              "#d8576b"
             ],
             [
              0.6666666666666666,
              "#ed7953"
             ],
             [
              0.7777777777777778,
              "#fb9f3a"
             ],
             [
              0.8888888888888888,
              "#fdca26"
             ],
             [
              1,
              "#f0f921"
             ]
            ],
            "type": "heatmapgl"
           }
          ],
          "histogram": [
           {
            "marker": {
             "pattern": {
              "fillmode": "overlay",
              "size": 10,
              "solidity": 0.2
             }
            },
            "type": "histogram"
           }
          ],
          "histogram2d": [
           {
            "colorbar": {
             "outlinewidth": 0,
             "ticks": ""
            },
            "colorscale": [
             [
              0,
              "#0d0887"
             ],
             [
              0.1111111111111111,
              "#46039f"
             ],
             [
              0.2222222222222222,
              "#7201a8"
             ],
             [
              0.3333333333333333,
              "#9c179e"
             ],
             [
              0.4444444444444444,
              "#bd3786"
             ],
             [
              0.5555555555555556,
              "#d8576b"
             ],
             [
              0.6666666666666666,
              "#ed7953"
             ],
             [
              0.7777777777777778,
              "#fb9f3a"
             ],
             [
              0.8888888888888888,
              "#fdca26"
             ],
             [
              1,
              "#f0f921"
             ]
            ],
            "type": "histogram2d"
           }
          ],
          "histogram2dcontour": [
           {
            "colorbar": {
             "outlinewidth": 0,
             "ticks": ""
            },
            "colorscale": [
             [
              0,
              "#0d0887"
             ],
             [
              0.1111111111111111,
              "#46039f"
             ],
             [
              0.2222222222222222,
              "#7201a8"
             ],
             [
              0.3333333333333333,
              "#9c179e"
             ],
             [
              0.4444444444444444,
              "#bd3786"
             ],
             [
              0.5555555555555556,
              "#d8576b"
             ],
             [
              0.6666666666666666,
              "#ed7953"
             ],
             [
              0.7777777777777778,
              "#fb9f3a"
             ],
             [
              0.8888888888888888,
              "#fdca26"
             ],
             [
              1,
              "#f0f921"
             ]
            ],
            "type": "histogram2dcontour"
           }
          ],
          "mesh3d": [
           {
            "colorbar": {
             "outlinewidth": 0,
             "ticks": ""
            },
            "type": "mesh3d"
           }
          ],
          "parcoords": [
           {
            "line": {
             "colorbar": {
              "outlinewidth": 0,
              "ticks": ""
             }
            },
            "type": "parcoords"
           }
          ],
          "pie": [
           {
            "automargin": true,
            "type": "pie"
           }
          ],
          "scatter": [
           {
            "fillpattern": {
             "fillmode": "overlay",
             "size": 10,
             "solidity": 0.2
            },
            "type": "scatter"
           }
          ],
          "scatter3d": [
           {
            "line": {
             "colorbar": {
              "outlinewidth": 0,
              "ticks": ""
             }
            },
            "marker": {
             "colorbar": {
              "outlinewidth": 0,
              "ticks": ""
             }
            },
            "type": "scatter3d"
           }
          ],
          "scattercarpet": [
           {
            "marker": {
             "colorbar": {
              "outlinewidth": 0,
              "ticks": ""
             }
            },
            "type": "scattercarpet"
           }
          ],
          "scattergeo": [
           {
            "marker": {
             "colorbar": {
              "outlinewidth": 0,
              "ticks": ""
             }
            },
            "type": "scattergeo"
           }
          ],
          "scattergl": [
           {
            "marker": {
             "colorbar": {
              "outlinewidth": 0,
              "ticks": ""
             }
            },
            "type": "scattergl"
           }
          ],
          "scattermapbox": [
           {
            "marker": {
             "colorbar": {
              "outlinewidth": 0,
              "ticks": ""
             }
            },
            "type": "scattermapbox"
           }
          ],
          "scatterpolar": [
           {
            "marker": {
             "colorbar": {
              "outlinewidth": 0,
              "ticks": ""
             }
            },
            "type": "scatterpolar"
           }
          ],
          "scatterpolargl": [
           {
            "marker": {
             "colorbar": {
              "outlinewidth": 0,
              "ticks": ""
             }
            },
            "type": "scatterpolargl"
           }
          ],
          "scatterternary": [
           {
            "marker": {
             "colorbar": {
              "outlinewidth": 0,
              "ticks": ""
             }
            },
            "type": "scatterternary"
           }
          ],
          "surface": [
           {
            "colorbar": {
             "outlinewidth": 0,
             "ticks": ""
            },
            "colorscale": [
             [
              0,
              "#0d0887"
             ],
             [
              0.1111111111111111,
              "#46039f"
             ],
             [
              0.2222222222222222,
              "#7201a8"
             ],
             [
              0.3333333333333333,
              "#9c179e"
             ],
             [
              0.4444444444444444,
              "#bd3786"
             ],
             [
              0.5555555555555556,
              "#d8576b"
             ],
             [
              0.6666666666666666,
              "#ed7953"
             ],
             [
              0.7777777777777778,
              "#fb9f3a"
             ],
             [
              0.8888888888888888,
              "#fdca26"
             ],
             [
              1,
              "#f0f921"
             ]
            ],
            "type": "surface"
           }
          ],
          "table": [
           {
            "cells": {
             "fill": {
              "color": "#EBF0F8"
             },
             "line": {
              "color": "white"
             }
            },
            "header": {
             "fill": {
              "color": "#C8D4E3"
             },
             "line": {
              "color": "white"
             }
            },
            "type": "table"
           }
          ]
         },
         "layout": {
          "annotationdefaults": {
           "arrowcolor": "#2a3f5f",
           "arrowhead": 0,
           "arrowwidth": 1
          },
          "autotypenumbers": "strict",
          "coloraxis": {
           "colorbar": {
            "outlinewidth": 0,
            "ticks": ""
           }
          },
          "colorscale": {
           "diverging": [
            [
             0,
             "#8e0152"
            ],
            [
             0.1,
             "#c51b7d"
            ],
            [
             0.2,
             "#de77ae"
            ],
            [
             0.3,
             "#f1b6da"
            ],
            [
             0.4,
             "#fde0ef"
            ],
            [
             0.5,
             "#f7f7f7"
            ],
            [
             0.6,
             "#e6f5d0"
            ],
            [
             0.7,
             "#b8e186"
            ],
            [
             0.8,
             "#7fbc41"
            ],
            [
             0.9,
             "#4d9221"
            ],
            [
             1,
             "#276419"
            ]
           ],
           "sequential": [
            [
             0,
             "#0d0887"
            ],
            [
             0.1111111111111111,
             "#46039f"
            ],
            [
             0.2222222222222222,
             "#7201a8"
            ],
            [
             0.3333333333333333,
             "#9c179e"
            ],
            [
             0.4444444444444444,
             "#bd3786"
            ],
            [
             0.5555555555555556,
             "#d8576b"
            ],
            [
             0.6666666666666666,
             "#ed7953"
            ],
            [
             0.7777777777777778,
             "#fb9f3a"
            ],
            [
             0.8888888888888888,
             "#fdca26"
            ],
            [
             1,
             "#f0f921"
            ]
           ],
           "sequentialminus": [
            [
             0,
             "#0d0887"
            ],
            [
             0.1111111111111111,
             "#46039f"
            ],
            [
             0.2222222222222222,
             "#7201a8"
            ],
            [
             0.3333333333333333,
             "#9c179e"
            ],
            [
             0.4444444444444444,
             "#bd3786"
            ],
            [
             0.5555555555555556,
             "#d8576b"
            ],
            [
             0.6666666666666666,
             "#ed7953"
            ],
            [
             0.7777777777777778,
             "#fb9f3a"
            ],
            [
             0.8888888888888888,
             "#fdca26"
            ],
            [
             1,
             "#f0f921"
            ]
           ]
          },
          "colorway": [
           "#636efa",
           "#EF553B",
           "#00cc96",
           "#ab63fa",
           "#FFA15A",
           "#19d3f3",
           "#FF6692",
           "#B6E880",
           "#FF97FF",
           "#FECB52"
          ],
          "font": {
           "color": "#2a3f5f"
          },
          "geo": {
           "bgcolor": "white",
           "lakecolor": "white",
           "landcolor": "#E5ECF6",
           "showlakes": true,
           "showland": true,
           "subunitcolor": "white"
          },
          "hoverlabel": {
           "align": "left"
          },
          "hovermode": "closest",
          "mapbox": {
           "style": "light"
          },
          "paper_bgcolor": "white",
          "plot_bgcolor": "#E5ECF6",
          "polar": {
           "angularaxis": {
            "gridcolor": "white",
            "linecolor": "white",
            "ticks": ""
           },
           "bgcolor": "#E5ECF6",
           "radialaxis": {
            "gridcolor": "white",
            "linecolor": "white",
            "ticks": ""
           }
          },
          "scene": {
           "xaxis": {
            "backgroundcolor": "#E5ECF6",
            "gridcolor": "white",
            "gridwidth": 2,
            "linecolor": "white",
            "showbackground": true,
            "ticks": "",
            "zerolinecolor": "white"
           },
           "yaxis": {
            "backgroundcolor": "#E5ECF6",
            "gridcolor": "white",
            "gridwidth": 2,
            "linecolor": "white",
            "showbackground": true,
            "ticks": "",
            "zerolinecolor": "white"
           },
           "zaxis": {
            "backgroundcolor": "#E5ECF6",
            "gridcolor": "white",
            "gridwidth": 2,
            "linecolor": "white",
            "showbackground": true,
            "ticks": "",
            "zerolinecolor": "white"
           }
          },
          "shapedefaults": {
           "line": {
            "color": "#2a3f5f"
           }
          },
          "ternary": {
           "aaxis": {
            "gridcolor": "white",
            "linecolor": "white",
            "ticks": ""
           },
           "baxis": {
            "gridcolor": "white",
            "linecolor": "white",
            "ticks": ""
           },
           "bgcolor": "#E5ECF6",
           "caxis": {
            "gridcolor": "white",
            "linecolor": "white",
            "ticks": ""
           }
          },
          "title": {
           "x": 0.05
          },
          "xaxis": {
           "automargin": true,
           "gridcolor": "white",
           "linecolor": "white",
           "ticks": "",
           "title": {
            "standoff": 15
           },
           "zerolinecolor": "white",
           "zerolinewidth": 2
          },
          "yaxis": {
           "automargin": true,
           "gridcolor": "white",
           "linecolor": "white",
           "ticks": "",
           "title": {
            "standoff": 15
           },
           "zerolinecolor": "white",
           "zerolinewidth": 2
          }
         }
        },
        "title": {
         "text": "Comparación de Degree Centrality Antes y Después para los 10 Nodos Principales"
        }
       }
      }
     },
     "metadata": {},
     "output_type": "display_data"
    },
    {
     "data": {
      "application/vnd.plotly.v1+json": {
       "config": {
        "plotlyServerURL": "https://plot.ly"
       },
       "data": [
        {
         "name": "Eigenvector Centrality Antes",
         "type": "bar",
         "x": [
          "Kelsey Ortega",
          "Anna Davis",
          "Jennifer Gardner",
          "Breanna Price",
          "Sandra Young",
          "Kenneth Gonzales",
          "Erica Ford",
          "Catherine Macias",
          "Anne Villanueva",
          "Polák Procházka a.s."
         ],
         "y": [
          0.149810428356159,
          0.1498857943325919,
          0.1498857185792383,
          0.149810428356159,
          0.1498857185792383,
          0.149810428356159,
          0.149810428356159,
          0.149810428356159,
          0.1498857185792383,
          4.213983519125513e-161
         ]
        },
        {
         "name": "Eigenvector Centrality Después",
         "type": "bar",
         "x": [
          "Kelsey Ortega",
          "Anna Davis",
          "Jennifer Gardner",
          "Breanna Price",
          "Sandra Young",
          "Kenneth Gonzales",
          "Erica Ford",
          "Catherine Macias",
          "Anne Villanueva",
          "Polák Procházka a.s."
         ],
         "y": [
          0.1213935785333698,
          0.1213935785333698,
          0.1213935785333698,
          0.1213935785333698,
          0.1213935785333698,
          0.1213935785333698,
          0.1213935785333698,
          0.1213935785333698,
          0.1213935785333698,
          0.7058819833451188
         ]
        }
       ],
       "layout": {
        "template": {
         "data": {
          "bar": [
           {
            "error_x": {
             "color": "#2a3f5f"
            },
            "error_y": {
             "color": "#2a3f5f"
            },
            "marker": {
             "line": {
              "color": "#E5ECF6",
              "width": 0.5
             },
             "pattern": {
              "fillmode": "overlay",
              "size": 10,
              "solidity": 0.2
             }
            },
            "type": "bar"
           }
          ],
          "barpolar": [
           {
            "marker": {
             "line": {
              "color": "#E5ECF6",
              "width": 0.5
             },
             "pattern": {
              "fillmode": "overlay",
              "size": 10,
              "solidity": 0.2
             }
            },
            "type": "barpolar"
           }
          ],
          "carpet": [
           {
            "aaxis": {
             "endlinecolor": "#2a3f5f",
             "gridcolor": "white",
             "linecolor": "white",
             "minorgridcolor": "white",
             "startlinecolor": "#2a3f5f"
            },
            "baxis": {
             "endlinecolor": "#2a3f5f",
             "gridcolor": "white",
             "linecolor": "white",
             "minorgridcolor": "white",
             "startlinecolor": "#2a3f5f"
            },
            "type": "carpet"
           }
          ],
          "choropleth": [
           {
            "colorbar": {
             "outlinewidth": 0,
             "ticks": ""
            },
            "type": "choropleth"
           }
          ],
          "contour": [
           {
            "colorbar": {
             "outlinewidth": 0,
             "ticks": ""
            },
            "colorscale": [
             [
              0,
              "#0d0887"
             ],
             [
              0.1111111111111111,
              "#46039f"
             ],
             [
              0.2222222222222222,
              "#7201a8"
             ],
             [
              0.3333333333333333,
              "#9c179e"
             ],
             [
              0.4444444444444444,
              "#bd3786"
             ],
             [
              0.5555555555555556,
              "#d8576b"
             ],
             [
              0.6666666666666666,
              "#ed7953"
             ],
             [
              0.7777777777777778,
              "#fb9f3a"
             ],
             [
              0.8888888888888888,
              "#fdca26"
             ],
             [
              1,
              "#f0f921"
             ]
            ],
            "type": "contour"
           }
          ],
          "contourcarpet": [
           {
            "colorbar": {
             "outlinewidth": 0,
             "ticks": ""
            },
            "type": "contourcarpet"
           }
          ],
          "heatmap": [
           {
            "colorbar": {
             "outlinewidth": 0,
             "ticks": ""
            },
            "colorscale": [
             [
              0,
              "#0d0887"
             ],
             [
              0.1111111111111111,
              "#46039f"
             ],
             [
              0.2222222222222222,
              "#7201a8"
             ],
             [
              0.3333333333333333,
              "#9c179e"
             ],
             [
              0.4444444444444444,
              "#bd3786"
             ],
             [
              0.5555555555555556,
              "#d8576b"
             ],
             [
              0.6666666666666666,
              "#ed7953"
             ],
             [
              0.7777777777777778,
              "#fb9f3a"
             ],
             [
              0.8888888888888888,
              "#fdca26"
             ],
             [
              1,
              "#f0f921"
             ]
            ],
            "type": "heatmap"
           }
          ],
          "heatmapgl": [
           {
            "colorbar": {
             "outlinewidth": 0,
             "ticks": ""
            },
            "colorscale": [
             [
              0,
              "#0d0887"
             ],
             [
              0.1111111111111111,
              "#46039f"
             ],
             [
              0.2222222222222222,
              "#7201a8"
             ],
             [
              0.3333333333333333,
              "#9c179e"
             ],
             [
              0.4444444444444444,
              "#bd3786"
             ],
             [
              0.5555555555555556,
              "#d8576b"
             ],
             [
              0.6666666666666666,
              "#ed7953"
             ],
             [
              0.7777777777777778,
              "#fb9f3a"
             ],
             [
              0.8888888888888888,
              "#fdca26"
             ],
             [
              1,
              "#f0f921"
             ]
            ],
            "type": "heatmapgl"
           }
          ],
          "histogram": [
           {
            "marker": {
             "pattern": {
              "fillmode": "overlay",
              "size": 10,
              "solidity": 0.2
             }
            },
            "type": "histogram"
           }
          ],
          "histogram2d": [
           {
            "colorbar": {
             "outlinewidth": 0,
             "ticks": ""
            },
            "colorscale": [
             [
              0,
              "#0d0887"
             ],
             [
              0.1111111111111111,
              "#46039f"
             ],
             [
              0.2222222222222222,
              "#7201a8"
             ],
             [
              0.3333333333333333,
              "#9c179e"
             ],
             [
              0.4444444444444444,
              "#bd3786"
             ],
             [
              0.5555555555555556,
              "#d8576b"
             ],
             [
              0.6666666666666666,
              "#ed7953"
             ],
             [
              0.7777777777777778,
              "#fb9f3a"
             ],
             [
              0.8888888888888888,
              "#fdca26"
             ],
             [
              1,
              "#f0f921"
             ]
            ],
            "type": "histogram2d"
           }
          ],
          "histogram2dcontour": [
           {
            "colorbar": {
             "outlinewidth": 0,
             "ticks": ""
            },
            "colorscale": [
             [
              0,
              "#0d0887"
             ],
             [
              0.1111111111111111,
              "#46039f"
             ],
             [
              0.2222222222222222,
              "#7201a8"
             ],
             [
              0.3333333333333333,
              "#9c179e"
             ],
             [
              0.4444444444444444,
              "#bd3786"
             ],
             [
              0.5555555555555556,
              "#d8576b"
             ],
             [
              0.6666666666666666,
              "#ed7953"
             ],
             [
              0.7777777777777778,
              "#fb9f3a"
             ],
             [
              0.8888888888888888,
              "#fdca26"
             ],
             [
              1,
              "#f0f921"
             ]
            ],
            "type": "histogram2dcontour"
           }
          ],
          "mesh3d": [
           {
            "colorbar": {
             "outlinewidth": 0,
             "ticks": ""
            },
            "type": "mesh3d"
           }
          ],
          "parcoords": [
           {
            "line": {
             "colorbar": {
              "outlinewidth": 0,
              "ticks": ""
             }
            },
            "type": "parcoords"
           }
          ],
          "pie": [
           {
            "automargin": true,
            "type": "pie"
           }
          ],
          "scatter": [
           {
            "fillpattern": {
             "fillmode": "overlay",
             "size": 10,
             "solidity": 0.2
            },
            "type": "scatter"
           }
          ],
          "scatter3d": [
           {
            "line": {
             "colorbar": {
              "outlinewidth": 0,
              "ticks": ""
             }
            },
            "marker": {
             "colorbar": {
              "outlinewidth": 0,
              "ticks": ""
             }
            },
            "type": "scatter3d"
           }
          ],
          "scattercarpet": [
           {
            "marker": {
             "colorbar": {
              "outlinewidth": 0,
              "ticks": ""
             }
            },
            "type": "scattercarpet"
           }
          ],
          "scattergeo": [
           {
            "marker": {
             "colorbar": {
              "outlinewidth": 0,
              "ticks": ""
             }
            },
            "type": "scattergeo"
           }
          ],
          "scattergl": [
           {
            "marker": {
             "colorbar": {
              "outlinewidth": 0,
              "ticks": ""
             }
            },
            "type": "scattergl"
           }
          ],
          "scattermapbox": [
           {
            "marker": {
             "colorbar": {
              "outlinewidth": 0,
              "ticks": ""
             }
            },
            "type": "scattermapbox"
           }
          ],
          "scatterpolar": [
           {
            "marker": {
             "colorbar": {
              "outlinewidth": 0,
              "ticks": ""
             }
            },
            "type": "scatterpolar"
           }
          ],
          "scatterpolargl": [
           {
            "marker": {
             "colorbar": {
              "outlinewidth": 0,
              "ticks": ""
             }
            },
            "type": "scatterpolargl"
           }
          ],
          "scatterternary": [
           {
            "marker": {
             "colorbar": {
              "outlinewidth": 0,
              "ticks": ""
             }
            },
            "type": "scatterternary"
           }
          ],
          "surface": [
           {
            "colorbar": {
             "outlinewidth": 0,
             "ticks": ""
            },
            "colorscale": [
             [
              0,
              "#0d0887"
             ],
             [
              0.1111111111111111,
              "#46039f"
             ],
             [
              0.2222222222222222,
              "#7201a8"
             ],
             [
              0.3333333333333333,
              "#9c179e"
             ],
             [
              0.4444444444444444,
              "#bd3786"
             ],
             [
              0.5555555555555556,
              "#d8576b"
             ],
             [
              0.6666666666666666,
              "#ed7953"
             ],
             [
              0.7777777777777778,
              "#fb9f3a"
             ],
             [
              0.8888888888888888,
              "#fdca26"
             ],
             [
              1,
              "#f0f921"
             ]
            ],
            "type": "surface"
           }
          ],
          "table": [
           {
            "cells": {
             "fill": {
              "color": "#EBF0F8"
             },
             "line": {
              "color": "white"
             }
            },
            "header": {
             "fill": {
              "color": "#C8D4E3"
             },
             "line": {
              "color": "white"
             }
            },
            "type": "table"
           }
          ]
         },
         "layout": {
          "annotationdefaults": {
           "arrowcolor": "#2a3f5f",
           "arrowhead": 0,
           "arrowwidth": 1
          },
          "autotypenumbers": "strict",
          "coloraxis": {
           "colorbar": {
            "outlinewidth": 0,
            "ticks": ""
           }
          },
          "colorscale": {
           "diverging": [
            [
             0,
             "#8e0152"
            ],
            [
             0.1,
             "#c51b7d"
            ],
            [
             0.2,
             "#de77ae"
            ],
            [
             0.3,
             "#f1b6da"
            ],
            [
             0.4,
             "#fde0ef"
            ],
            [
             0.5,
             "#f7f7f7"
            ],
            [
             0.6,
             "#e6f5d0"
            ],
            [
             0.7,
             "#b8e186"
            ],
            [
             0.8,
             "#7fbc41"
            ],
            [
             0.9,
             "#4d9221"
            ],
            [
             1,
             "#276419"
            ]
           ],
           "sequential": [
            [
             0,
             "#0d0887"
            ],
            [
             0.1111111111111111,
             "#46039f"
            ],
            [
             0.2222222222222222,
             "#7201a8"
            ],
            [
             0.3333333333333333,
             "#9c179e"
            ],
            [
             0.4444444444444444,
             "#bd3786"
            ],
            [
             0.5555555555555556,
             "#d8576b"
            ],
            [
             0.6666666666666666,
             "#ed7953"
            ],
            [
             0.7777777777777778,
             "#fb9f3a"
            ],
            [
             0.8888888888888888,
             "#fdca26"
            ],
            [
             1,
             "#f0f921"
            ]
           ],
           "sequentialminus": [
            [
             0,
             "#0d0887"
            ],
            [
             0.1111111111111111,
             "#46039f"
            ],
            [
             0.2222222222222222,
             "#7201a8"
            ],
            [
             0.3333333333333333,
             "#9c179e"
            ],
            [
             0.4444444444444444,
             "#bd3786"
            ],
            [
             0.5555555555555556,
             "#d8576b"
            ],
            [
             0.6666666666666666,
             "#ed7953"
            ],
            [
             0.7777777777777778,
             "#fb9f3a"
            ],
            [
             0.8888888888888888,
             "#fdca26"
            ],
            [
             1,
             "#f0f921"
            ]
           ]
          },
          "colorway": [
           "#636efa",
           "#EF553B",
           "#00cc96",
           "#ab63fa",
           "#FFA15A",
           "#19d3f3",
           "#FF6692",
           "#B6E880",
           "#FF97FF",
           "#FECB52"
          ],
          "font": {
           "color": "#2a3f5f"
          },
          "geo": {
           "bgcolor": "white",
           "lakecolor": "white",
           "landcolor": "#E5ECF6",
           "showlakes": true,
           "showland": true,
           "subunitcolor": "white"
          },
          "hoverlabel": {
           "align": "left"
          },
          "hovermode": "closest",
          "mapbox": {
           "style": "light"
          },
          "paper_bgcolor": "white",
          "plot_bgcolor": "#E5ECF6",
          "polar": {
           "angularaxis": {
            "gridcolor": "white",
            "linecolor": "white",
            "ticks": ""
           },
           "bgcolor": "#E5ECF6",
           "radialaxis": {
            "gridcolor": "white",
            "linecolor": "white",
            "ticks": ""
           }
          },
          "scene": {
           "xaxis": {
            "backgroundcolor": "#E5ECF6",
            "gridcolor": "white",
            "gridwidth": 2,
            "linecolor": "white",
            "showbackground": true,
            "ticks": "",
            "zerolinecolor": "white"
           },
           "yaxis": {
            "backgroundcolor": "#E5ECF6",
            "gridcolor": "white",
            "gridwidth": 2,
            "linecolor": "white",
            "showbackground": true,
            "ticks": "",
            "zerolinecolor": "white"
           },
           "zaxis": {
            "backgroundcolor": "#E5ECF6",
            "gridcolor": "white",
            "gridwidth": 2,
            "linecolor": "white",
            "showbackground": true,
            "ticks": "",
            "zerolinecolor": "white"
           }
          },
          "shapedefaults": {
           "line": {
            "color": "#2a3f5f"
           }
          },
          "ternary": {
           "aaxis": {
            "gridcolor": "white",
            "linecolor": "white",
            "ticks": ""
           },
           "baxis": {
            "gridcolor": "white",
            "linecolor": "white",
            "ticks": ""
           },
           "bgcolor": "#E5ECF6",
           "caxis": {
            "gridcolor": "white",
            "linecolor": "white",
            "ticks": ""
           }
          },
          "title": {
           "x": 0.05
          },
          "xaxis": {
           "automargin": true,
           "gridcolor": "white",
           "linecolor": "white",
           "ticks": "",
           "title": {
            "standoff": 15
           },
           "zerolinecolor": "white",
           "zerolinewidth": 2
          },
          "yaxis": {
           "automargin": true,
           "gridcolor": "white",
           "linecolor": "white",
           "ticks": "",
           "title": {
            "standoff": 15
           },
           "zerolinecolor": "white",
           "zerolinewidth": 2
          }
         }
        },
        "title": {
         "text": "Comparación de Eigenvector Centrality Antes y Después para los 10 Nodos Principales"
        }
       }
      }
     },
     "metadata": {},
     "output_type": "display_data"
    },
    {
     "data": {
      "application/vnd.plotly.v1+json": {
       "config": {
        "plotlyServerURL": "https://plot.ly"
       },
       "data": [
        {
         "name": "Betweenness Centrality Antes",
         "type": "bar",
         "x": [
          "Abbott-Harrison",
          "Blankenship-Strickland",
          "Hart Ltd",
          "Johnson, Morales and Castro",
          "Mills, Atkinson and Chavez",
          "Orr Inc",
          "Walker LLC",
          "Steven Robertson",
          "Sharon Moon",
          "Michael Howard DDS"
         ],
         "y": [
          0.0134709760059528,
          0.0106188773023266,
          0.0134081308861279,
          0.0136673547237406,
          0.0103152847463036,
          0.0118553264313526,
          0.010187961160832,
          0.0151984958955765,
          0.0168940785796581,
          0.0103659237303155
         ]
        },
        {
         "name": "Betweenness Centrality Después",
         "type": "bar",
         "x": [
          "Abbott-Harrison",
          "Blankenship-Strickland",
          "Hart Ltd",
          "Johnson, Morales and Castro",
          "Mills, Atkinson and Chavez",
          "Orr Inc",
          "Walker LLC",
          "Steven Robertson",
          "Sharon Moon",
          "Michael Howard DDS"
         ],
         "y": [
          0,
          0,
          0,
          0,
          0,
          0,
          0,
          0,
          0,
          0
         ]
        }
       ],
       "layout": {
        "template": {
         "data": {
          "bar": [
           {
            "error_x": {
             "color": "#2a3f5f"
            },
            "error_y": {
             "color": "#2a3f5f"
            },
            "marker": {
             "line": {
              "color": "#E5ECF6",
              "width": 0.5
             },
             "pattern": {
              "fillmode": "overlay",
              "size": 10,
              "solidity": 0.2
             }
            },
            "type": "bar"
           }
          ],
          "barpolar": [
           {
            "marker": {
             "line": {
              "color": "#E5ECF6",
              "width": 0.5
             },
             "pattern": {
              "fillmode": "overlay",
              "size": 10,
              "solidity": 0.2
             }
            },
            "type": "barpolar"
           }
          ],
          "carpet": [
           {
            "aaxis": {
             "endlinecolor": "#2a3f5f",
             "gridcolor": "white",
             "linecolor": "white",
             "minorgridcolor": "white",
             "startlinecolor": "#2a3f5f"
            },
            "baxis": {
             "endlinecolor": "#2a3f5f",
             "gridcolor": "white",
             "linecolor": "white",
             "minorgridcolor": "white",
             "startlinecolor": "#2a3f5f"
            },
            "type": "carpet"
           }
          ],
          "choropleth": [
           {
            "colorbar": {
             "outlinewidth": 0,
             "ticks": ""
            },
            "type": "choropleth"
           }
          ],
          "contour": [
           {
            "colorbar": {
             "outlinewidth": 0,
             "ticks": ""
            },
            "colorscale": [
             [
              0,
              "#0d0887"
             ],
             [
              0.1111111111111111,
              "#46039f"
             ],
             [
              0.2222222222222222,
              "#7201a8"
             ],
             [
              0.3333333333333333,
              "#9c179e"
             ],
             [
              0.4444444444444444,
              "#bd3786"
             ],
             [
              0.5555555555555556,
              "#d8576b"
             ],
             [
              0.6666666666666666,
              "#ed7953"
             ],
             [
              0.7777777777777778,
              "#fb9f3a"
             ],
             [
              0.8888888888888888,
              "#fdca26"
             ],
             [
              1,
              "#f0f921"
             ]
            ],
            "type": "contour"
           }
          ],
          "contourcarpet": [
           {
            "colorbar": {
             "outlinewidth": 0,
             "ticks": ""
            },
            "type": "contourcarpet"
           }
          ],
          "heatmap": [
           {
            "colorbar": {
             "outlinewidth": 0,
             "ticks": ""
            },
            "colorscale": [
             [
              0,
              "#0d0887"
             ],
             [
              0.1111111111111111,
              "#46039f"
             ],
             [
              0.2222222222222222,
              "#7201a8"
             ],
             [
              0.3333333333333333,
              "#9c179e"
             ],
             [
              0.4444444444444444,
              "#bd3786"
             ],
             [
              0.5555555555555556,
              "#d8576b"
             ],
             [
              0.6666666666666666,
              "#ed7953"
             ],
             [
              0.7777777777777778,
              "#fb9f3a"
             ],
             [
              0.8888888888888888,
              "#fdca26"
             ],
             [
              1,
              "#f0f921"
             ]
            ],
            "type": "heatmap"
           }
          ],
          "heatmapgl": [
           {
            "colorbar": {
             "outlinewidth": 0,
             "ticks": ""
            },
            "colorscale": [
             [
              0,
              "#0d0887"
             ],
             [
              0.1111111111111111,
              "#46039f"
             ],
             [
              0.2222222222222222,
              "#7201a8"
             ],
             [
              0.3333333333333333,
              "#9c179e"
             ],
             [
              0.4444444444444444,
              "#bd3786"
             ],
             [
              0.5555555555555556,
              "#d8576b"
             ],
             [
              0.6666666666666666,
              "#ed7953"
             ],
             [
              0.7777777777777778,
              "#fb9f3a"
             ],
             [
              0.8888888888888888,
              "#fdca26"
             ],
             [
              1,
              "#f0f921"
             ]
            ],
            "type": "heatmapgl"
           }
          ],
          "histogram": [
           {
            "marker": {
             "pattern": {
              "fillmode": "overlay",
              "size": 10,
              "solidity": 0.2
             }
            },
            "type": "histogram"
           }
          ],
          "histogram2d": [
           {
            "colorbar": {
             "outlinewidth": 0,
             "ticks": ""
            },
            "colorscale": [
             [
              0,
              "#0d0887"
             ],
             [
              0.1111111111111111,
              "#46039f"
             ],
             [
              0.2222222222222222,
              "#7201a8"
             ],
             [
              0.3333333333333333,
              "#9c179e"
             ],
             [
              0.4444444444444444,
              "#bd3786"
             ],
             [
              0.5555555555555556,
              "#d8576b"
             ],
             [
              0.6666666666666666,
              "#ed7953"
             ],
             [
              0.7777777777777778,
              "#fb9f3a"
             ],
             [
              0.8888888888888888,
              "#fdca26"
             ],
             [
              1,
              "#f0f921"
             ]
            ],
            "type": "histogram2d"
           }
          ],
          "histogram2dcontour": [
           {
            "colorbar": {
             "outlinewidth": 0,
             "ticks": ""
            },
            "colorscale": [
             [
              0,
              "#0d0887"
             ],
             [
              0.1111111111111111,
              "#46039f"
             ],
             [
              0.2222222222222222,
              "#7201a8"
             ],
             [
              0.3333333333333333,
              "#9c179e"
             ],
             [
              0.4444444444444444,
              "#bd3786"
             ],
             [
              0.5555555555555556,
              "#d8576b"
             ],
             [
              0.6666666666666666,
              "#ed7953"
             ],
             [
              0.7777777777777778,
              "#fb9f3a"
             ],
             [
              0.8888888888888888,
              "#fdca26"
             ],
             [
              1,
              "#f0f921"
             ]
            ],
            "type": "histogram2dcontour"
           }
          ],
          "mesh3d": [
           {
            "colorbar": {
             "outlinewidth": 0,
             "ticks": ""
            },
            "type": "mesh3d"
           }
          ],
          "parcoords": [
           {
            "line": {
             "colorbar": {
              "outlinewidth": 0,
              "ticks": ""
             }
            },
            "type": "parcoords"
           }
          ],
          "pie": [
           {
            "automargin": true,
            "type": "pie"
           }
          ],
          "scatter": [
           {
            "fillpattern": {
             "fillmode": "overlay",
             "size": 10,
             "solidity": 0.2
            },
            "type": "scatter"
           }
          ],
          "scatter3d": [
           {
            "line": {
             "colorbar": {
              "outlinewidth": 0,
              "ticks": ""
             }
            },
            "marker": {
             "colorbar": {
              "outlinewidth": 0,
              "ticks": ""
             }
            },
            "type": "scatter3d"
           }
          ],
          "scattercarpet": [
           {
            "marker": {
             "colorbar": {
              "outlinewidth": 0,
              "ticks": ""
             }
            },
            "type": "scattercarpet"
           }
          ],
          "scattergeo": [
           {
            "marker": {
             "colorbar": {
              "outlinewidth": 0,
              "ticks": ""
             }
            },
            "type": "scattergeo"
           }
          ],
          "scattergl": [
           {
            "marker": {
             "colorbar": {
              "outlinewidth": 0,
              "ticks": ""
             }
            },
            "type": "scattergl"
           }
          ],
          "scattermapbox": [
           {
            "marker": {
             "colorbar": {
              "outlinewidth": 0,
              "ticks": ""
             }
            },
            "type": "scattermapbox"
           }
          ],
          "scatterpolar": [
           {
            "marker": {
             "colorbar": {
              "outlinewidth": 0,
              "ticks": ""
             }
            },
            "type": "scatterpolar"
           }
          ],
          "scatterpolargl": [
           {
            "marker": {
             "colorbar": {
              "outlinewidth": 0,
              "ticks": ""
             }
            },
            "type": "scatterpolargl"
           }
          ],
          "scatterternary": [
           {
            "marker": {
             "colorbar": {
              "outlinewidth": 0,
              "ticks": ""
             }
            },
            "type": "scatterternary"
           }
          ],
          "surface": [
           {
            "colorbar": {
             "outlinewidth": 0,
             "ticks": ""
            },
            "colorscale": [
             [
              0,
              "#0d0887"
             ],
             [
              0.1111111111111111,
              "#46039f"
             ],
             [
              0.2222222222222222,
              "#7201a8"
             ],
             [
              0.3333333333333333,
              "#9c179e"
             ],
             [
              0.4444444444444444,
              "#bd3786"
             ],
             [
              0.5555555555555556,
              "#d8576b"
             ],
             [
              0.6666666666666666,
              "#ed7953"
             ],
             [
              0.7777777777777778,
              "#fb9f3a"
             ],
             [
              0.8888888888888888,
              "#fdca26"
             ],
             [
              1,
              "#f0f921"
             ]
            ],
            "type": "surface"
           }
          ],
          "table": [
           {
            "cells": {
             "fill": {
              "color": "#EBF0F8"
             },
             "line": {
              "color": "white"
             }
            },
            "header": {
             "fill": {
              "color": "#C8D4E3"
             },
             "line": {
              "color": "white"
             }
            },
            "type": "table"
           }
          ]
         },
         "layout": {
          "annotationdefaults": {
           "arrowcolor": "#2a3f5f",
           "arrowhead": 0,
           "arrowwidth": 1
          },
          "autotypenumbers": "strict",
          "coloraxis": {
           "colorbar": {
            "outlinewidth": 0,
            "ticks": ""
           }
          },
          "colorscale": {
           "diverging": [
            [
             0,
             "#8e0152"
            ],
            [
             0.1,
             "#c51b7d"
            ],
            [
             0.2,
             "#de77ae"
            ],
            [
             0.3,
             "#f1b6da"
            ],
            [
             0.4,
             "#fde0ef"
            ],
            [
             0.5,
             "#f7f7f7"
            ],
            [
             0.6,
             "#e6f5d0"
            ],
            [
             0.7,
             "#b8e186"
            ],
            [
             0.8,
             "#7fbc41"
            ],
            [
             0.9,
             "#4d9221"
            ],
            [
             1,
             "#276419"
            ]
           ],
           "sequential": [
            [
             0,
             "#0d0887"
            ],
            [
             0.1111111111111111,
             "#46039f"
            ],
            [
             0.2222222222222222,
             "#7201a8"
            ],
            [
             0.3333333333333333,
             "#9c179e"
            ],
            [
             0.4444444444444444,
             "#bd3786"
            ],
            [
             0.5555555555555556,
             "#d8576b"
            ],
            [
             0.6666666666666666,
             "#ed7953"
            ],
            [
             0.7777777777777778,
             "#fb9f3a"
            ],
            [
             0.8888888888888888,
             "#fdca26"
            ],
            [
             1,
             "#f0f921"
            ]
           ],
           "sequentialminus": [
            [
             0,
             "#0d0887"
            ],
            [
             0.1111111111111111,
             "#46039f"
            ],
            [
             0.2222222222222222,
             "#7201a8"
            ],
            [
             0.3333333333333333,
             "#9c179e"
            ],
            [
             0.4444444444444444,
             "#bd3786"
            ],
            [
             0.5555555555555556,
             "#d8576b"
            ],
            [
             0.6666666666666666,
             "#ed7953"
            ],
            [
             0.7777777777777778,
             "#fb9f3a"
            ],
            [
             0.8888888888888888,
             "#fdca26"
            ],
            [
             1,
             "#f0f921"
            ]
           ]
          },
          "colorway": [
           "#636efa",
           "#EF553B",
           "#00cc96",
           "#ab63fa",
           "#FFA15A",
           "#19d3f3",
           "#FF6692",
           "#B6E880",
           "#FF97FF",
           "#FECB52"
          ],
          "font": {
           "color": "#2a3f5f"
          },
          "geo": {
           "bgcolor": "white",
           "lakecolor": "white",
           "landcolor": "#E5ECF6",
           "showlakes": true,
           "showland": true,
           "subunitcolor": "white"
          },
          "hoverlabel": {
           "align": "left"
          },
          "hovermode": "closest",
          "mapbox": {
           "style": "light"
          },
          "paper_bgcolor": "white",
          "plot_bgcolor": "#E5ECF6",
          "polar": {
           "angularaxis": {
            "gridcolor": "white",
            "linecolor": "white",
            "ticks": ""
           },
           "bgcolor": "#E5ECF6",
           "radialaxis": {
            "gridcolor": "white",
            "linecolor": "white",
            "ticks": ""
           }
          },
          "scene": {
           "xaxis": {
            "backgroundcolor": "#E5ECF6",
            "gridcolor": "white",
            "gridwidth": 2,
            "linecolor": "white",
            "showbackground": true,
            "ticks": "",
            "zerolinecolor": "white"
           },
           "yaxis": {
            "backgroundcolor": "#E5ECF6",
            "gridcolor": "white",
            "gridwidth": 2,
            "linecolor": "white",
            "showbackground": true,
            "ticks": "",
            "zerolinecolor": "white"
           },
           "zaxis": {
            "backgroundcolor": "#E5ECF6",
            "gridcolor": "white",
            "gridwidth": 2,
            "linecolor": "white",
            "showbackground": true,
            "ticks": "",
            "zerolinecolor": "white"
           }
          },
          "shapedefaults": {
           "line": {
            "color": "#2a3f5f"
           }
          },
          "ternary": {
           "aaxis": {
            "gridcolor": "white",
            "linecolor": "white",
            "ticks": ""
           },
           "baxis": {
            "gridcolor": "white",
            "linecolor": "white",
            "ticks": ""
           },
           "bgcolor": "#E5ECF6",
           "caxis": {
            "gridcolor": "white",
            "linecolor": "white",
            "ticks": ""
           }
          },
          "title": {
           "x": 0.05
          },
          "xaxis": {
           "automargin": true,
           "gridcolor": "white",
           "linecolor": "white",
           "ticks": "",
           "title": {
            "standoff": 15
           },
           "zerolinecolor": "white",
           "zerolinewidth": 2
          },
          "yaxis": {
           "automargin": true,
           "gridcolor": "white",
           "linecolor": "white",
           "ticks": "",
           "title": {
            "standoff": 15
           },
           "zerolinecolor": "white",
           "zerolinewidth": 2
          }
         }
        },
        "title": {
         "text": "Comparación de Betweenness Centrality Antes y Después para los 10 Nodos Principales"
        }
       }
      }
     },
     "metadata": {},
     "output_type": "display_data"
    }
   ],
   "source": [
    "import plotly.graph_objects as go\n",
    "\n",
    "# Função para criar gráficos comparativos de barras para os top nós\n",
    "# Função para criar gráficos comparativos de barras para os nós principais\n",
    "def plot_comparison(df, metric):\n",
    "    fig = go.Figure()\n",
    "    fig.add_trace(go.Bar(\n",
    "        x=df['Node'],\n",
    "        y=df[f'{metric}_before'],\n",
    "        name=f'{metric.replace(\"_\", \" \")} Antes'\n",
    "    ))\n",
    "    fig.add_trace(go.Bar(\n",
    "        x=df['Node'],\n",
    "        y=df[f'{metric}_after'],\n",
    "        name=f'{metric.replace(\"_\", \" \")} Después'\n",
    "    ))\n",
    "    \n",
    "    fig.update_layout(\n",
    "        title=f'Comparación de {metric.replace(\"_\", \" \")} Antes y Después para los 10 Nodos Principales'\n",
    "    )\n",
    "    \n",
    "    fig.show()\n",
    "\n",
    "# Filtrar o DataFrame para apenas os top nós\n",
    "def filter_top_nodes(df, top_nodes):\n",
    "    return df[df['Node'].isin(top_nodes['Node'])]\n",
    "\n",
    "# Filtrar os dados\n",
    "top_degree_df = filter_top_nodes(df_centrality_old, top_10_degree)\n",
    "top_eigenvector_df = filter_top_nodes(df_centrality_old, top_10_eigenvector)\n",
    "top_betweenness_df = filter_top_nodes(df_centrality_old, top_10_betweenness)\n",
    "\n",
    "# Plotar as comparações\n",
    "plot_comparison(top_degree_df, 'Degree_Centrality')\n",
    "plot_comparison(top_eigenvector_df, 'Eigenvector_Centrality')\n",
    "plot_comparison(top_betweenness_df, 'Betweenness_Centrality')\n"
   ]
  },
  {
   "cell_type": "code",
   "execution_count": 44,
   "metadata": {},
   "outputs": [
    {
     "name": "stdout",
     "output_type": "stream",
     "text": [
      "                           Node  Degree_Centrality_before  \\\n",
      "0                   Downs Group                  0.001983   \n",
      "1                  Sandra Young                  0.001504   \n",
      "2               Anne Villanueva                  0.001504   \n",
      "3              Jennifer Gardner                  0.001504   \n",
      "4                    Anna Davis                  0.001504   \n",
      "5    Mills, Atkinson and Chavez                  0.001520   \n",
      "6                 Melissa Davis                  0.001487   \n",
      "7                 Joseph Gentry                  0.001487   \n",
      "8                 Breanna Price                  0.001487   \n",
      "9              Kenneth Gonzales                  0.001487   \n",
      "10                   Erica Ford                  0.001487   \n",
      "11                Aaron Delgado                  0.001487   \n",
      "12                  Joshua Kent                  0.001487   \n",
      "13             Catherine Macias                  0.001487   \n",
      "14                Kelsey Ortega                  0.001487   \n",
      "15             Cynthia Anderson                  0.001487   \n",
      "16               Alexandra Clay                  0.001487   \n",
      "17                 Sydney Jones                  0.001487   \n",
      "18                  Katie Evans                  0.001487   \n",
      "19              Wesley Phillips                  0.001487   \n",
      "20         Polák Procházka a.s.                  0.000000   \n",
      "21               Zachary Taylor                  0.001487   \n",
      "22               Jason Anderson                  0.001487   \n",
      "23                 Joseph Brown                  0.001487   \n",
      "24              Alan Richardson                  0.001487   \n",
      "25                  Sharon Moon                  0.000463   \n",
      "26             Steven Robertson                  0.000066   \n",
      "27  Johnson, Morales and Castro                  0.000958   \n",
      "28              Abbott-Harrison                  0.000099   \n",
      "29                     Hart Ltd                  0.001140   \n",
      "30                      Orr Inc                  0.000760   \n",
      "31       Blankenship-Strickland                  0.000413   \n",
      "32           Michael Howard DDS                  0.000149   \n",
      "33                   Walker LLC                  0.000496   \n",
      "34  Phelps, Montoya and Barnett                  0.000149   \n",
      "35                  Lee-Fuentes                  0.000297   \n",
      "36             Cervantes-Kramer                  0.000925   \n",
      "37               Carlos Ferrell                  0.000033   \n",
      "38                  Marsh Group                  0.000149   \n",
      "39                    Janet Fox                  0.000033   \n",
      "40       Douglas, Hall and Pena                  0.000116   \n",
      "41               Annette Dennis                  0.000033   \n",
      "42              Austin-Stephens                  0.000314   \n",
      "43               Holloway-Salas                  0.000496   \n",
      "\n",
      "    Eigenvector_Centrality_before  Betweenness_Centrality_before  \\\n",
      "0                    2.072037e-11                       0.006250   \n",
      "1                    1.498857e-01                       0.003766   \n",
      "2                    1.498857e-01                       0.003766   \n",
      "3                    1.498857e-01                       0.003766   \n",
      "4                    1.498858e-01                       0.003790   \n",
      "5                    1.971980e-08                       0.010315   \n",
      "6                    1.498104e-01                       0.003706   \n",
      "7                    1.498104e-01                       0.003706   \n",
      "8                    1.498104e-01                       0.003706   \n",
      "9                    1.498104e-01                       0.003706   \n",
      "10                   1.498104e-01                       0.003706   \n",
      "11                   1.498104e-01                       0.003706   \n",
      "12                   1.498104e-01                       0.003706   \n",
      "13                   1.498104e-01                       0.003706   \n",
      "14                   1.498104e-01                       0.003706   \n",
      "15                   1.498104e-01                       0.003706   \n",
      "16                   1.498104e-01                       0.003706   \n",
      "17                   1.498104e-01                       0.003706   \n",
      "18                   1.498104e-01                       0.003706   \n",
      "19                   1.498104e-01                       0.003706   \n",
      "20                  4.213984e-161                       0.000000   \n",
      "21                   1.498104e-01                       0.003706   \n",
      "22                   1.498104e-01                       0.003706   \n",
      "23                   1.498104e-01                       0.003706   \n",
      "24                   1.498104e-01                       0.003706   \n",
      "25                   1.197087e-02                       0.016894   \n",
      "26                   3.432226e-05                       0.015198   \n",
      "27                   7.553055e-02                       0.013667   \n",
      "28                   7.742384e-07                       0.013471   \n",
      "29                   4.058246e-08                       0.013408   \n",
      "30                   7.573090e-02                       0.011855   \n",
      "31                   3.946222e-04                       0.010619   \n",
      "32                   3.361520e-03                       0.010366   \n",
      "33                   7.446604e-02                       0.010188   \n",
      "34                   1.338876e-07                       0.009966   \n",
      "35                   3.820905e-05                       0.009608   \n",
      "36                   7.751179e-05                       0.009509   \n",
      "37                   1.725805e-08                       0.009495   \n",
      "38                   3.898929e-10                       0.009489   \n",
      "39                   8.690848e-12                       0.009400   \n",
      "40                   1.961459e-13                       0.009395   \n",
      "41                   1.683607e-03                       0.009350   \n",
      "42                   5.985336e-06                       0.009069   \n",
      "43                   7.477270e-02                       0.007943   \n",
      "\n",
      "    Degree_Centrality_after  Eigenvector_Centrality_after  \\\n",
      "0                  0.000000                  1.973425e-16   \n",
      "1                  0.000017                  1.213936e-01   \n",
      "2                  0.000017                  1.213936e-01   \n",
      "3                  0.000017                  1.213936e-01   \n",
      "4                  0.000017                  1.213936e-01   \n",
      "5                  0.000000                  1.973425e-16   \n",
      "6                  0.000017                  1.213936e-01   \n",
      "7                  0.000017                  1.213936e-01   \n",
      "8                  0.000017                  1.213936e-01   \n",
      "9                  0.000017                  1.213936e-01   \n",
      "10                 0.000017                  1.213936e-01   \n",
      "11                 0.000017                  1.213936e-01   \n",
      "12                 0.000017                  1.213936e-01   \n",
      "13                 0.000017                  1.213936e-01   \n",
      "14                 0.000017                  1.213936e-01   \n",
      "15                 0.000017                  1.213936e-01   \n",
      "16                 0.000017                  1.213936e-01   \n",
      "17                 0.000017                  1.213936e-01   \n",
      "18                 0.000017                  1.213936e-01   \n",
      "19                 0.000017                  1.213936e-01   \n",
      "20                 0.000562                  7.058820e-01   \n",
      "21                 0.000017                  1.213936e-01   \n",
      "22                 0.000017                  1.213936e-01   \n",
      "23                 0.000017                  1.213936e-01   \n",
      "24                 0.000017                  1.213936e-01   \n",
      "25                 0.000017                  1.213936e-01   \n",
      "26                 0.000000                  1.973425e-16   \n",
      "27                 0.000000                  1.973425e-16   \n",
      "28                 0.000000                  1.973425e-16   \n",
      "29                 0.000000                  1.973425e-16   \n",
      "30                 0.000000                  1.973425e-16   \n",
      "31                 0.000000                  1.973425e-16   \n",
      "32                 0.000000                  1.973425e-16   \n",
      "33                 0.000000                  1.973425e-16   \n",
      "34                 0.000000                  1.973425e-16   \n",
      "35                 0.000000                  1.973425e-16   \n",
      "36                 0.000000                  1.973425e-16   \n",
      "37                 0.000000                  1.973425e-16   \n",
      "38                 0.000000                  1.973425e-16   \n",
      "39                 0.000017                  5.173217e-11   \n",
      "40                 0.000017                  5.173217e-11   \n",
      "41                 0.000000                  1.973425e-16   \n",
      "42                 0.000000                  1.973425e-16   \n",
      "43                 0.000000                  1.973425e-16   \n",
      "\n",
      "    Betweenness_Centrality_after  Degree_Centrality_mean  \\\n",
      "0                   0.000000e+00                0.000991   \n",
      "1                   0.000000e+00                0.000760   \n",
      "2                   0.000000e+00                0.000760   \n",
      "3                   0.000000e+00                0.000760   \n",
      "4                   0.000000e+00                0.000760   \n",
      "5                   0.000000e+00                0.000760   \n",
      "6                   0.000000e+00                0.000752   \n",
      "7                   0.000000e+00                0.000752   \n",
      "8                   0.000000e+00                0.000752   \n",
      "9                   0.000000e+00                0.000752   \n",
      "10                  0.000000e+00                0.000752   \n",
      "11                  0.000000e+00                0.000752   \n",
      "12                  0.000000e+00                0.000752   \n",
      "13                  0.000000e+00                0.000752   \n",
      "14                  0.000000e+00                0.000752   \n",
      "15                  0.000000e+00                0.000752   \n",
      "16                  0.000000e+00                0.000752   \n",
      "17                  0.000000e+00                0.000752   \n",
      "18                  0.000000e+00                0.000752   \n",
      "19                  0.000000e+00                0.000752   \n",
      "20                  3.063491e-07                0.000281   \n",
      "21                  0.000000e+00                0.000752   \n",
      "22                  0.000000e+00                0.000752   \n",
      "23                  0.000000e+00                0.000752   \n",
      "24                  0.000000e+00                0.000752   \n",
      "25                  0.000000e+00                0.000240   \n",
      "26                  0.000000e+00                0.000033   \n",
      "27                  0.000000e+00                0.000479   \n",
      "28                  0.000000e+00                0.000050   \n",
      "29                  0.000000e+00                0.000570   \n",
      "30                  0.000000e+00                0.000380   \n",
      "31                  0.000000e+00                0.000207   \n",
      "32                  0.000000e+00                0.000074   \n",
      "33                  0.000000e+00                0.000248   \n",
      "34                  0.000000e+00                0.000074   \n",
      "35                  0.000000e+00                0.000149   \n",
      "36                  0.000000e+00                0.000463   \n",
      "37                  0.000000e+00                0.000017   \n",
      "38                  0.000000e+00                0.000074   \n",
      "39                  0.000000e+00                0.000025   \n",
      "40                  0.000000e+00                0.000066   \n",
      "41                  0.000000e+00                0.000017   \n",
      "42                  0.000000e+00                0.000157   \n",
      "43                  0.000000e+00                0.000248   \n",
      "\n",
      "    Eigenvector_Centrality_mean  Betweenness_Centrality_mean  \n",
      "0                  1.036028e-11                 3.124773e-03  \n",
      "1                  1.356396e-01                 1.882961e-03  \n",
      "2                  1.356396e-01                 1.882961e-03  \n",
      "3                  1.356396e-01                 1.882961e-03  \n",
      "4                  1.356397e-01                 1.894999e-03  \n",
      "5                  9.859899e-09                 5.157642e-03  \n",
      "6                  1.356020e-01                 1.852854e-03  \n",
      "7                  1.356020e-01                 1.852854e-03  \n",
      "8                  1.356020e-01                 1.852854e-03  \n",
      "9                  1.356020e-01                 1.852854e-03  \n",
      "10                 1.356020e-01                 1.852854e-03  \n",
      "11                 1.356020e-01                 1.852854e-03  \n",
      "12                 1.356020e-01                 1.852854e-03  \n",
      "13                 1.356020e-01                 1.852854e-03  \n",
      "14                 1.356020e-01                 1.852854e-03  \n",
      "15                 1.356020e-01                 1.852854e-03  \n",
      "16                 1.356020e-01                 1.852854e-03  \n",
      "17                 1.356020e-01                 1.852854e-03  \n",
      "18                 1.356020e-01                 1.852854e-03  \n",
      "19                 1.356020e-01                 1.852854e-03  \n",
      "20                 3.529410e-01                 1.531745e-07  \n",
      "21                 1.356020e-01                 1.852854e-03  \n",
      "22                 1.356020e-01                 1.852854e-03  \n",
      "23                 1.356020e-01                 1.852854e-03  \n",
      "24                 1.356020e-01                 1.852854e-03  \n",
      "25                 6.668222e-02                 8.447039e-03  \n",
      "26                 1.716113e-05                 7.599248e-03  \n",
      "27                 3.776527e-02                 6.833677e-03  \n",
      "28                 3.871192e-07                 6.735488e-03  \n",
      "29                 2.029123e-08                 6.704065e-03  \n",
      "30                 3.786545e-02                 5.927663e-03  \n",
      "31                 1.973111e-04                 5.309439e-03  \n",
      "32                 1.680760e-03                 5.182962e-03  \n",
      "33                 3.723302e-02                 5.093981e-03  \n",
      "34                 6.694378e-08                 4.982907e-03  \n",
      "35                 1.910452e-05                 4.804089e-03  \n",
      "36                 3.875590e-05                 4.754296e-03  \n",
      "37                 8.629027e-09                 4.747546e-03  \n",
      "38                 1.949465e-10                 4.744693e-03  \n",
      "39                 3.021151e-11                 4.699893e-03  \n",
      "40                 2.596416e-11                 4.697605e-03  \n",
      "41                 8.418034e-04                 4.675007e-03  \n",
      "42                 2.992668e-06                 4.534610e-03  \n",
      "43                 3.738635e-02                 3.971414e-03  \n"
     ]
    }
   ],
   "source": [
    "# Calcular a média das centralidades para cada nó\n",
    "df_centrality_old['Degree_Centrality_mean'] = df_centrality_old[['Degree_Centrality_before', 'Degree_Centrality_after']].mean(axis=1)\n",
    "df_centrality_old['Eigenvector_Centrality_mean'] = df_centrality_old[['Eigenvector_Centrality_before', 'Eigenvector_Centrality_after']].mean(axis=1)\n",
    "df_centrality_old['Betweenness_Centrality_mean'] = df_centrality_old[['Betweenness_Centrality_before', 'Betweenness_Centrality_after']].mean(axis=1)\n",
    "\n",
    "# Selecionar os top 20 nós baseados na média das centralidades\n",
    "top_20_degree = df_centrality_old.sort_values(by='Degree_Centrality_mean', ascending=False).head(20)\n",
    "top_20_eigenvector = df_centrality_old.sort_values(by='Eigenvector_Centrality_mean', ascending=False).head(20)\n",
    "top_20_betweenness = df_centrality_old.sort_values(by='Betweenness_Centrality_mean', ascending=False).head(20)\n",
    "\n",
    "# Combinar os top 20 nós em um DataFrame único, removendo duplicatas\n",
    "top_nodes = pd.concat([top_20_degree, top_20_eigenvector, top_20_betweenness]).drop_duplicates().reset_index(drop=True)\n",
    "\n",
    "# Exibir os top nós selecionados\n",
    "print(top_nodes)"
   ]
  },
  {
   "cell_type": "code",
   "execution_count": 45,
   "metadata": {},
   "outputs": [
    {
     "data": {
      "text/html": [
       "<div>\n",
       "<style scoped>\n",
       "    .dataframe tbody tr th:only-of-type {\n",
       "        vertical-align: middle;\n",
       "    }\n",
       "\n",
       "    .dataframe tbody tr th {\n",
       "        vertical-align: top;\n",
       "    }\n",
       "\n",
       "    .dataframe thead th {\n",
       "        text-align: right;\n",
       "    }\n",
       "</style>\n",
       "<table border=\"1\" class=\"dataframe\">\n",
       "  <thead>\n",
       "    <tr style=\"text-align: right;\">\n",
       "      <th></th>\n",
       "      <th>Node</th>\n",
       "      <th>Degree_Centrality_before</th>\n",
       "      <th>Eigenvector_Centrality_before</th>\n",
       "      <th>Betweenness_Centrality_before</th>\n",
       "      <th>Degree_Centrality_after</th>\n",
       "      <th>Eigenvector_Centrality_after</th>\n",
       "      <th>Betweenness_Centrality_after</th>\n",
       "      <th>Degree_Centrality_mean</th>\n",
       "      <th>Eigenvector_Centrality_mean</th>\n",
       "      <th>Betweenness_Centrality_mean</th>\n",
       "    </tr>\n",
       "  </thead>\n",
       "  <tbody>\n",
       "    <tr>\n",
       "      <th>60232</th>\n",
       "      <td>Polák Procházka a.s.</td>\n",
       "      <td>0.0</td>\n",
       "      <td>4.213984e-161</td>\n",
       "      <td>0.0</td>\n",
       "      <td>0.000562</td>\n",
       "      <td>0.705882</td>\n",
       "      <td>3.063491e-07</td>\n",
       "      <td>0.000281</td>\n",
       "      <td>0.352941</td>\n",
       "      <td>1.531745e-07</td>\n",
       "    </tr>\n",
       "  </tbody>\n",
       "</table>\n",
       "</div>"
      ],
      "text/plain": [
       "                       Node  Degree_Centrality_before  \\\n",
       "60232  Polák Procházka a.s.                       0.0   \n",
       "\n",
       "       Eigenvector_Centrality_before  Betweenness_Centrality_before  \\\n",
       "60232                  4.213984e-161                            0.0   \n",
       "\n",
       "       Degree_Centrality_after  Eigenvector_Centrality_after  \\\n",
       "60232                 0.000562                      0.705882   \n",
       "\n",
       "       Betweenness_Centrality_after  Degree_Centrality_mean  \\\n",
       "60232                  3.063491e-07                0.000281   \n",
       "\n",
       "       Eigenvector_Centrality_mean  Betweenness_Centrality_mean  \n",
       "60232                     0.352941                 1.531745e-07  "
      ]
     },
     "execution_count": 45,
     "metadata": {},
     "output_type": "execute_result"
    }
   ],
   "source": [
    "df_centrality_old[df_centrality_old['Node'] == 'Polák Procházka a.s.']"
   ]
  },
  {
   "cell_type": "code",
   "execution_count": 46,
   "metadata": {},
   "outputs": [
    {
     "data": {
      "text/html": [
       "<div>\n",
       "<style scoped>\n",
       "    .dataframe tbody tr th:only-of-type {\n",
       "        vertical-align: middle;\n",
       "    }\n",
       "\n",
       "    .dataframe tbody tr th {\n",
       "        vertical-align: top;\n",
       "    }\n",
       "\n",
       "    .dataframe thead th {\n",
       "        text-align: right;\n",
       "    }\n",
       "</style>\n",
       "<table border=\"1\" class=\"dataframe\">\n",
       "  <thead>\n",
       "    <tr style=\"text-align: right;\">\n",
       "      <th></th>\n",
       "      <th>period</th>\n",
       "      <th>node</th>\n",
       "      <th>eigenvector</th>\n",
       "      <th>degree</th>\n",
       "      <th>betweenness</th>\n",
       "    </tr>\n",
       "  </thead>\n",
       "  <tbody>\n",
       "    <tr>\n",
       "      <th>2178485</th>\n",
       "      <td>2035-09-01</td>\n",
       "      <td>Polák Procházka a.s.</td>\n",
       "      <td>0.000067</td>\n",
       "      <td>0.000563</td>\n",
       "      <td>0.0</td>\n",
       "    </tr>\n",
       "  </tbody>\n",
       "</table>\n",
       "</div>"
      ],
      "text/plain": [
       "            period                  node  eigenvector    degree  betweenness\n",
       "2178485 2035-09-01  Polák Procházka a.s.     0.000067  0.000563          0.0"
      ]
     },
     "execution_count": 46,
     "metadata": {},
     "output_type": "execute_result"
    }
   ],
   "source": [
    "centrality_df[centrality_df['node'] == 'Polák Procházka a.s.']"
   ]
  },
  {
   "cell_type": "code",
   "execution_count": 47,
   "metadata": {},
   "outputs": [],
   "source": [
    "centrality_df_top_degree = df_nodes[df_nodes['id'].isin(top_20_degree['Node'])]\n",
    "centrality_df_top_eigenvector = df_nodes[df_nodes['id'].isin(top_20_eigenvector['Node'])]\n",
    "centrality_df_top_betweenness = df_nodes[df_nodes['id'].isin(top_20_betweenness['Node'])]"
   ]
  },
  {
   "cell_type": "code",
   "execution_count": 48,
   "metadata": {},
   "outputs": [],
   "source": [
    "top_nodes_cambiaron = pd.concat([\n",
    "    centrality_df_top_degree['id'],\n",
    "    centrality_df_top_eigenvector['id'],\n",
    "    centrality_df_top_betweenness['id']\n",
    "]).drop_duplicates().reset_index(drop=True).tolist()\n",
    "#concatenar  os node dos dataframe em uma lista e eliminar os repetidos"
   ]
  },
  {
   "cell_type": "code",
   "execution_count": 49,
   "metadata": {},
   "outputs": [
    {
     "data": {
      "text/plain": [
       "['Downs Group',\n",
       " 'Mills, Atkinson and Chavez',\n",
       " 'Kelsey Ortega',\n",
       " 'Joseph Gentry',\n",
       " 'Cynthia Anderson',\n",
       " 'Anna Davis',\n",
       " 'Katie Evans',\n",
       " 'Jennifer Gardner',\n",
       " 'Wesley Phillips',\n",
       " 'Melissa Davis',\n",
       " 'Joshua Kent',\n",
       " 'Aaron Delgado',\n",
       " 'Breanna Price',\n",
       " 'Sandra Young',\n",
       " 'Alexandra Clay',\n",
       " 'Kenneth Gonzales',\n",
       " 'Erica Ford',\n",
       " 'Catherine Macias',\n",
       " 'Sydney Jones',\n",
       " 'Anne Villanueva',\n",
       " 'Alan Richardson',\n",
       " 'Joseph Brown',\n",
       " 'Jason Anderson',\n",
       " 'Zachary Taylor',\n",
       " 'Polák Procházka a.s.',\n",
       " 'Abbott-Harrison',\n",
       " 'Austin-Stephens',\n",
       " 'Blankenship-Strickland',\n",
       " 'Cervantes-Kramer',\n",
       " 'Douglas, Hall and Pena',\n",
       " 'Hart Ltd',\n",
       " 'Holloway-Salas',\n",
       " 'Johnson, Morales and Castro',\n",
       " 'Lee-Fuentes',\n",
       " 'Marsh Group',\n",
       " 'Orr Inc',\n",
       " 'Phelps, Montoya and Barnett',\n",
       " 'Walker LLC',\n",
       " 'Steven Robertson',\n",
       " 'Sharon Moon',\n",
       " 'Michael Howard DDS',\n",
       " 'Annette Dennis',\n",
       " 'Carlos Ferrell',\n",
       " 'Janet Fox']"
      ]
     },
     "execution_count": 49,
     "metadata": {},
     "output_type": "execute_result"
    }
   ],
   "source": [
    "top_nodes_cambiaron"
   ]
  },
  {
   "cell_type": "code",
   "execution_count": 50,
   "metadata": {},
   "outputs": [],
   "source": [
    "df_nodes_mas_cambio = df_nodes[df_nodes['id'].isin(top_nodes_cambiaron)]"
   ]
  },
  {
   "cell_type": "code",
   "execution_count": 51,
   "metadata": {},
   "outputs": [
    {
     "data": {
      "text/plain": [
       "array(['Abbott-Harrison', 'Austin-Stephens', 'Blankenship-Strickland',\n",
       "       'Cervantes-Kramer', 'Douglas, Hall and Pena', 'Downs Group',\n",
       "       'Hart Ltd', 'Holloway-Salas', 'Johnson, Morales and Castro',\n",
       "       'Lee-Fuentes', 'Marsh Group', 'Mills, Atkinson and Chavez',\n",
       "       'Orr Inc', 'Phelps, Montoya and Barnett', 'Walker LLC',\n",
       "       'Steven Robertson', 'Kelsey Ortega', 'Joseph Gentry',\n",
       "       'Cynthia Anderson', 'Anna Davis', 'Katie Evans',\n",
       "       'Jennifer Gardner', 'Wesley Phillips', 'Alan Richardson',\n",
       "       'Joseph Brown', 'Jason Anderson', 'Melissa Davis', 'Joshua Kent',\n",
       "       'Aaron Delgado', 'Breanna Price', 'Sandra Young', 'Alexandra Clay',\n",
       "       'Zachary Taylor', 'Kenneth Gonzales', 'Erica Ford',\n",
       "       'Catherine Macias', 'Sydney Jones', 'Anne Villanueva',\n",
       "       'Sharon Moon', 'Michael Howard DDS', 'Annette Dennis',\n",
       "       'Carlos Ferrell', 'Janet Fox', 'Polák Procházka a.s.'],\n",
       "      dtype=object)"
      ]
     },
     "execution_count": 51,
     "metadata": {},
     "output_type": "execute_result"
    }
   ],
   "source": [
    "df_nodes_mas_cambio['id'].unique()"
   ]
  },
  {
   "cell_type": "code",
   "execution_count": 52,
   "metadata": {},
   "outputs": [
    {
     "name": "stderr",
     "output_type": "stream",
     "text": [
      "C:\\Users\\maico\\AppData\\Local\\Temp\\ipykernel_45848\\1264908247.py:1: FutureWarning:\n",
      "\n",
      "'Q' is deprecated and will be removed in a future version, please use 'QE' instead.\n",
      "\n"
     ]
    },
    {
     "ename": "KeyboardInterrupt",
     "evalue": "",
     "output_type": "error",
     "traceback": [
      "\u001b[1;31m---------------------------------------------------------------------------\u001b[0m",
      "\u001b[1;31mKeyboardInterrupt\u001b[0m                         Traceback (most recent call last)",
      "Cell \u001b[1;32mIn[52], line 4\u001b[0m\n\u001b[0;32m      1\u001b[0m periods \u001b[38;5;241m=\u001b[39m pd\u001b[38;5;241m.\u001b[39mdate_range(start\u001b[38;5;241m=\u001b[39m\u001b[38;5;124m'\u001b[39m\u001b[38;5;124m2020-01-01\u001b[39m\u001b[38;5;124m'\u001b[39m, end\u001b[38;5;241m=\u001b[39m\u001b[38;5;124m'\u001b[39m\u001b[38;5;124m2023-12-31\u001b[39m\u001b[38;5;124m'\u001b[39m, freq\u001b[38;5;241m=\u001b[39m\u001b[38;5;124m'\u001b[39m\u001b[38;5;124mQ\u001b[39m\u001b[38;5;124m'\u001b[39m)\u001b[38;5;241m.\u001b[39mstrftime(\u001b[38;5;124m'\u001b[39m\u001b[38;5;124m%\u001b[39m\u001b[38;5;124mY-\u001b[39m\u001b[38;5;124m%\u001b[39m\u001b[38;5;124mm\u001b[39m\u001b[38;5;124m'\u001b[39m)\u001b[38;5;241m.\u001b[39mtolist()\n\u001b[0;32m      3\u001b[0m \u001b[38;5;66;03m# Criando grafos para cada período\u001b[39;00m\n\u001b[1;32m----> 4\u001b[0m graphs_mas_cambio \u001b[38;5;241m=\u001b[39m \u001b[43mcreate_dynamic_graphs\u001b[49m\u001b[43m(\u001b[49m\u001b[43mdf_nodes_mas_cambio\u001b[49m\u001b[43m,\u001b[49m\u001b[43m \u001b[49m\u001b[43mdf_edges\u001b[49m\u001b[43m,\u001b[49m\u001b[43m \u001b[49m\u001b[43mperiods\u001b[49m\u001b[43m)\u001b[49m\n",
      "Cell \u001b[1;32mIn[16], line 19\u001b[0m, in \u001b[0;36mcreate_dynamic_graphs\u001b[1;34m(df_nodes, df_edges, periods)\u001b[0m\n\u001b[0;32m     15\u001b[0m     df_edges_period \u001b[38;5;241m=\u001b[39m df_edges[(df_edges[\u001b[38;5;124m'\u001b[39m\u001b[38;5;124mstart_date\u001b[39m\u001b[38;5;124m'\u001b[39m] \u001b[38;5;241m<\u001b[39m\u001b[38;5;241m=\u001b[39m period) \u001b[38;5;241m&\u001b[39m \n\u001b[0;32m     16\u001b[0m                                ((df_edges[\u001b[38;5;124m'\u001b[39m\u001b[38;5;124mend_date\u001b[39m\u001b[38;5;124m'\u001b[39m]\u001b[38;5;241m.\u001b[39misna()) \u001b[38;5;241m|\u001b[39m (df_edges[\u001b[38;5;124m'\u001b[39m\u001b[38;5;124mend_date\u001b[39m\u001b[38;5;124m'\u001b[39m] \u001b[38;5;241m>\u001b[39m\u001b[38;5;241m=\u001b[39m period))]\n\u001b[0;32m     18\u001b[0m     \u001b[38;5;28;01mfor\u001b[39;00m _, row \u001b[38;5;129;01min\u001b[39;00m df_edges_period\u001b[38;5;241m.\u001b[39miterrows():\n\u001b[1;32m---> 19\u001b[0m         G\u001b[38;5;241m.\u001b[39madd_edge(row[\u001b[38;5;124m'\u001b[39m\u001b[38;5;124msource\u001b[39m\u001b[38;5;124m'\u001b[39m], row[\u001b[38;5;124m'\u001b[39m\u001b[38;5;124mtarget\u001b[39m\u001b[38;5;124m'\u001b[39m], \u001b[38;5;241m*\u001b[39m\u001b[38;5;241m*\u001b[39m\u001b[43mrow\u001b[49m\u001b[38;5;241;43m.\u001b[39;49m\u001b[43mto_dict\u001b[49m\u001b[43m(\u001b[49m\u001b[43m)\u001b[49m)\n\u001b[0;32m     21\u001b[0m     graphs[period] \u001b[38;5;241m=\u001b[39m G\n\u001b[0;32m     23\u001b[0m \u001b[38;5;28;01mreturn\u001b[39;00m graphs\n",
      "File \u001b[1;32m~\\AppData\\Roaming\\Python\\Python312\\site-packages\\pandas\\util\\_decorators.py:333\u001b[0m, in \u001b[0;36mdeprecate_nonkeyword_arguments.<locals>.decorate.<locals>.wrapper\u001b[1;34m(*args, **kwargs)\u001b[0m\n\u001b[0;32m    327\u001b[0m \u001b[38;5;28;01mif\u001b[39;00m \u001b[38;5;28mlen\u001b[39m(args) \u001b[38;5;241m>\u001b[39m num_allow_args:\n\u001b[0;32m    328\u001b[0m     warnings\u001b[38;5;241m.\u001b[39mwarn(\n\u001b[0;32m    329\u001b[0m         msg\u001b[38;5;241m.\u001b[39mformat(arguments\u001b[38;5;241m=\u001b[39m_format_argument_list(allow_args)),\n\u001b[0;32m    330\u001b[0m         \u001b[38;5;167;01mFutureWarning\u001b[39;00m,\n\u001b[0;32m    331\u001b[0m         stacklevel\u001b[38;5;241m=\u001b[39mfind_stack_level(),\n\u001b[0;32m    332\u001b[0m     )\n\u001b[1;32m--> 333\u001b[0m \u001b[38;5;28;01mreturn\u001b[39;00m \u001b[43mfunc\u001b[49m\u001b[43m(\u001b[49m\u001b[38;5;241;43m*\u001b[39;49m\u001b[43margs\u001b[49m\u001b[43m,\u001b[49m\u001b[43m \u001b[49m\u001b[38;5;241;43m*\u001b[39;49m\u001b[38;5;241;43m*\u001b[39;49m\u001b[43mkwargs\u001b[49m\u001b[43m)\u001b[49m\n",
      "File \u001b[1;32m~\\AppData\\Roaming\\Python\\Python312\\site-packages\\pandas\\core\\series.py:2077\u001b[0m, in \u001b[0;36mSeries.to_dict\u001b[1;34m(self, into)\u001b[0m\n\u001b[0;32m   2074\u001b[0m into_c \u001b[38;5;241m=\u001b[39m com\u001b[38;5;241m.\u001b[39mstandardize_mapping(into)\n\u001b[0;32m   2076\u001b[0m \u001b[38;5;28;01mif\u001b[39;00m is_object_dtype(\u001b[38;5;28mself\u001b[39m\u001b[38;5;241m.\u001b[39mdtype) \u001b[38;5;129;01mor\u001b[39;00m \u001b[38;5;28misinstance\u001b[39m(\u001b[38;5;28mself\u001b[39m\u001b[38;5;241m.\u001b[39mdtype, ExtensionDtype):\n\u001b[1;32m-> 2077\u001b[0m     \u001b[38;5;28;01mreturn\u001b[39;00m \u001b[43minto_c\u001b[49m\u001b[43m(\u001b[49m\u001b[43m(\u001b[49m\u001b[43mk\u001b[49m\u001b[43m,\u001b[49m\u001b[43m \u001b[49m\u001b[43mmaybe_box_native\u001b[49m\u001b[43m(\u001b[49m\u001b[43mv\u001b[49m\u001b[43m)\u001b[49m\u001b[43m)\u001b[49m\u001b[43m \u001b[49m\u001b[38;5;28;43;01mfor\u001b[39;49;00m\u001b[43m \u001b[49m\u001b[43mk\u001b[49m\u001b[43m,\u001b[49m\u001b[43m \u001b[49m\u001b[43mv\u001b[49m\u001b[43m \u001b[49m\u001b[38;5;129;43;01min\u001b[39;49;00m\u001b[43m \u001b[49m\u001b[38;5;28;43mself\u001b[39;49m\u001b[38;5;241;43m.\u001b[39;49m\u001b[43mitems\u001b[49m\u001b[43m(\u001b[49m\u001b[43m)\u001b[49m\u001b[43m)\u001b[49m\n\u001b[0;32m   2078\u001b[0m \u001b[38;5;28;01melse\u001b[39;00m:\n\u001b[0;32m   2079\u001b[0m     \u001b[38;5;66;03m# Not an object dtype => all types will be the same so let the default\u001b[39;00m\n\u001b[0;32m   2080\u001b[0m     \u001b[38;5;66;03m# indexer return native python type\u001b[39;00m\n\u001b[0;32m   2081\u001b[0m     \u001b[38;5;28;01mreturn\u001b[39;00m into_c(\u001b[38;5;28mself\u001b[39m\u001b[38;5;241m.\u001b[39mitems())\n",
      "File \u001b[1;32m~\\AppData\\Roaming\\Python\\Python312\\site-packages\\pandas\\core\\series.py:2077\u001b[0m, in \u001b[0;36m<genexpr>\u001b[1;34m(.0)\u001b[0m\n\u001b[0;32m   2074\u001b[0m into_c \u001b[38;5;241m=\u001b[39m com\u001b[38;5;241m.\u001b[39mstandardize_mapping(into)\n\u001b[0;32m   2076\u001b[0m \u001b[38;5;28;01mif\u001b[39;00m is_object_dtype(\u001b[38;5;28mself\u001b[39m\u001b[38;5;241m.\u001b[39mdtype) \u001b[38;5;129;01mor\u001b[39;00m \u001b[38;5;28misinstance\u001b[39m(\u001b[38;5;28mself\u001b[39m\u001b[38;5;241m.\u001b[39mdtype, ExtensionDtype):\n\u001b[1;32m-> 2077\u001b[0m     \u001b[38;5;28;01mreturn\u001b[39;00m into_c((k, \u001b[43mmaybe_box_native\u001b[49m\u001b[43m(\u001b[49m\u001b[43mv\u001b[49m\u001b[43m)\u001b[49m) \u001b[38;5;28;01mfor\u001b[39;00m k, v \u001b[38;5;129;01min\u001b[39;00m \u001b[38;5;28mself\u001b[39m\u001b[38;5;241m.\u001b[39mitems())\n\u001b[0;32m   2078\u001b[0m \u001b[38;5;28;01melse\u001b[39;00m:\n\u001b[0;32m   2079\u001b[0m     \u001b[38;5;66;03m# Not an object dtype => all types will be the same so let the default\u001b[39;00m\n\u001b[0;32m   2080\u001b[0m     \u001b[38;5;66;03m# indexer return native python type\u001b[39;00m\n\u001b[0;32m   2081\u001b[0m     \u001b[38;5;28;01mreturn\u001b[39;00m into_c(\u001b[38;5;28mself\u001b[39m\u001b[38;5;241m.\u001b[39mitems())\n",
      "File \u001b[1;32m~\\AppData\\Roaming\\Python\\Python312\\site-packages\\pandas\\core\\dtypes\\cast.py:195\u001b[0m, in \u001b[0;36mmaybe_box_native\u001b[1;34m(value)\u001b[0m\n\u001b[0;32m    183\u001b[0m \u001b[38;5;28;01mdef\u001b[39;00m \u001b[38;5;21mmaybe_box_native\u001b[39m(value: Scalar \u001b[38;5;241m|\u001b[39m \u001b[38;5;28;01mNone\u001b[39;00m \u001b[38;5;241m|\u001b[39m NAType) \u001b[38;5;241m-\u001b[39m\u001b[38;5;241m>\u001b[39m Scalar \u001b[38;5;241m|\u001b[39m \u001b[38;5;28;01mNone\u001b[39;00m \u001b[38;5;241m|\u001b[39m NAType:\n\u001b[0;32m    184\u001b[0m \u001b[38;5;250m    \u001b[39m\u001b[38;5;124;03m\"\"\"\u001b[39;00m\n\u001b[0;32m    185\u001b[0m \u001b[38;5;124;03m    If passed a scalar cast the scalar to a python native type.\u001b[39;00m\n\u001b[0;32m    186\u001b[0m \n\u001b[1;32m   (...)\u001b[0m\n\u001b[0;32m    193\u001b[0m \u001b[38;5;124;03m    scalar or Series\u001b[39;00m\n\u001b[0;32m    194\u001b[0m \u001b[38;5;124;03m    \"\"\"\u001b[39;00m\n\u001b[1;32m--> 195\u001b[0m     \u001b[38;5;28;01mif\u001b[39;00m \u001b[43mis_float\u001b[49m\u001b[43m(\u001b[49m\u001b[43mvalue\u001b[49m\u001b[43m)\u001b[49m:\n\u001b[0;32m    196\u001b[0m         value \u001b[38;5;241m=\u001b[39m \u001b[38;5;28mfloat\u001b[39m(value)\n\u001b[0;32m    197\u001b[0m     \u001b[38;5;28;01melif\u001b[39;00m is_integer(value):\n",
      "\u001b[1;31mKeyboardInterrupt\u001b[0m: "
     ]
    }
   ],
   "source": [
    "periods = pd.date_range(start='2020-01-01', end='2023-12-31', freq='Q').strftime('%Y-%m').tolist()\n",
    "\n",
    "# Criando grafos para cada período\n",
    "graphs_mas_cambio = create_dynamic_graphs(df_nodes_mas_cambio, df_edges, periods)"
   ]
  },
  {
   "cell_type": "code",
   "execution_count": null,
   "metadata": {},
   "outputs": [
    {
     "ename": "NameError",
     "evalue": "name 'graphs_mas_cambio' is not defined",
     "output_type": "error",
     "traceback": [
      "\u001b[1;31m---------------------------------------------------------------------------\u001b[0m",
      "\u001b[1;31mNameError\u001b[0m                                 Traceback (most recent call last)",
      "Cell \u001b[1;32mIn[32], line 3\u001b[0m\n\u001b[0;32m      1\u001b[0m centrality_mas_cambio \u001b[38;5;241m=\u001b[39m []\n\u001b[1;32m----> 3\u001b[0m \u001b[38;5;28;01mfor\u001b[39;00m period, G \u001b[38;5;129;01min\u001b[39;00m \u001b[43mgraphs_mas_cambio\u001b[49m\u001b[38;5;241m.\u001b[39mitems():\n\u001b[0;32m      4\u001b[0m     eigenvector_centrality \u001b[38;5;241m=\u001b[39m nx\u001b[38;5;241m.\u001b[39meigenvector_centrality(G, max_iter\u001b[38;5;241m=\u001b[39m\u001b[38;5;241m1000\u001b[39m)\n\u001b[0;32m      5\u001b[0m     degree_centrality \u001b[38;5;241m=\u001b[39m nx\u001b[38;5;241m.\u001b[39mdegree_centrality(G)\n",
      "\u001b[1;31mNameError\u001b[0m: name 'graphs_mas_cambio' is not defined"
     ]
    }
   ],
   "source": [
    "centrality_mas_cambio = []\n",
    "\n",
    "for period, G in graphs_mas_cambio.items():\n",
    "    eigenvector_centrality = nx.eigenvector_centrality(G, max_iter=1000)\n",
    "    degree_centrality = nx.degree_centrality(G)\n",
    "    betweenness_centrality = nx.betweenness_centrality(G)\n",
    "    \n",
    "    for node in G.nodes():\n",
    "        centrality_mas_cambio.append({\n",
    "            'period': period,\n",
    "            'node': node,\n",
    "            'eigenvector': eigenvector_centrality.get(node, 0),\n",
    "            'degree': degree_centrality.get(node, 0),\n",
    "            'betweenness': betweenness_centrality.get(node, 0)\n",
    "        })\n",
    "\n",
    "centrality_mas_cambio_df = pd.DataFrame(centrality_mas_cambio)\n",
    "\n",
    "#centrality_mas_cambio_df.to_csv('centrality_mas_cambio.csv', index=False)"
   ]
  },
  {
   "cell_type": "code",
   "execution_count": null,
   "metadata": {},
   "outputs": [],
   "source": [
    "import pandas as pd\n",
    "import networkx as nx\n",
    "import plotly.express as px\n"
   ]
  },
  {
   "cell_type": "code",
   "execution_count": null,
   "metadata": {},
   "outputs": [],
   "source": [
    "#centrality_mas_cambio_df.to_csv('centrality_mas_cambio.csv', index=False)\n",
    "centrality_mas_cambio_df = pd.read_csv('centrality_mas_cambio.csv')"
   ]
  },
  {
   "cell_type": "code",
   "execution_count": null,
   "metadata": {},
   "outputs": [],
   "source": [
    "centrality_mas_cambio_df"
   ]
  },
  {
   "cell_type": "code",
   "execution_count": null,
   "metadata": {},
   "outputs": [],
   "source": [
    "centrality_mas_cambio_df[centrality_mas_cambio_df['node'] == 'Polák Procházka a.s.']"
   ]
  },
  {
   "cell_type": "code",
   "execution_count": null,
   "metadata": {},
   "outputs": [],
   "source": [
    "centrality_mas_cambio_df = centrality_mas_cambio_df[centrality_mas_cambio_df['node'].isin(top_nodes_cambiaron)]"
   ]
  },
  {
   "cell_type": "code",
   "execution_count": null,
   "metadata": {},
   "outputs": [],
   "source": [
    "top_nodes_cambiaron"
   ]
  },
  {
   "cell_type": "code",
   "execution_count": null,
   "metadata": {},
   "outputs": [],
   "source": [
    "# Visualização para Eigenvector Centrality\n",
    "fig = px.line(centrality_mas_cambio_df, x='period', y='eigenvector', color='node', title='Eigenvector Centrality Over Time')\n",
    "fig.show()\n"
   ]
  },
  {
   "cell_type": "code",
   "execution_count": null,
   "metadata": {},
   "outputs": [],
   "source": [
    "\n",
    "# Visualização para Degree Centrality\n",
    "fig = px.line(centrality_mas_cambio_df, x='period', y='degree', color='node', title='Degree Centrality Over Time')\n",
    "fig.show()"
   ]
  },
  {
   "cell_type": "code",
   "execution_count": null,
   "metadata": {},
   "outputs": [],
   "source": [
    "# Visualização para Betweenness Centrality\n",
    "fig = px.line(centrality_mas_cambio_df, x='period', y='betweenness', color='node', title='Betweenness Centrality Over Time')\n",
    "fig.show()"
   ]
  }
 ],
 "metadata": {
  "kernelspec": {
   "display_name": "Python 3",
   "language": "python",
   "name": "python3"
  },
  "language_info": {
   "codemirror_mode": {
    "name": "ipython",
    "version": 3
   },
   "file_extension": ".py",
   "mimetype": "text/x-python",
   "name": "python",
   "nbconvert_exporter": "python",
   "pygments_lexer": "ipython3",
   "version": "3.12.4"
  }
 },
 "nbformat": 4,
 "nbformat_minor": 2
}
