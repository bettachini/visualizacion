{
 "cells": [
  {
   "cell_type": "code",
   "execution_count": 1,
   "metadata": {},
   "outputs": [],
   "source": [
    "import pandas as pd\n",
    "import networkx as nx\n",
    "import plotly.express as px\n"
   ]
  },
  {
   "cell_type": "code",
   "execution_count": 8,
   "metadata": {},
   "outputs": [],
   "source": [
    "df_nodes = pd.read_csv('nodes.csv')\n",
    "df_edges = pd.read_csv('links.csv')"
   ]
  },
  {
   "cell_type": "code",
   "execution_count": 10,
   "metadata": {},
   "outputs": [
    {
     "name": "stderr",
     "output_type": "stream",
     "text": [
      "C:\\Users\\maico\\AppData\\Local\\Temp\\ipykernel_3604\\1294282240.py:21: FutureWarning: 'Q' is deprecated and will be removed in a future version, please use 'QE' instead.\n",
      "  periods = pd.date_range(start='2020-01-01', end='2023-12-31', freq='Q').strftime('%Y-%m').tolist()\n"
     ]
    }
   ],
   "source": [
    "\n",
    "\n",
    "def create_dynamic_graphs(df_nodes, df_edges, periods):\n",
    "    graphs = {}\n",
    "    for period in periods:\n",
    "        G = nx.DiGraph()\n",
    "        \n",
    "        # Adicionando nós, filtrando por founding_date\n",
    "        for _, row in df_nodes[df_nodes['founding_date'] <= period].iterrows():\n",
    "            G.add_node(row['id'], **row.to_dict())\n",
    "        \n",
    "        # Adicionando arestas, filtrando por start_date e end_date\n",
    "        for _, row in df_edges[(df_edges['start_date'] <= period) & \n",
    "                               ((df_edges['end_date'].isna()) | (df_edges['end_date'] >= period))].iterrows():\n",
    "            G.add_edge(row['source'], row['target'], **row.to_dict())\n",
    "        \n",
    "        graphs[period] = G\n",
    "    return graphs\n",
    "\n",
    "# Definindo os períodos de interesse\n",
    "periods = pd.date_range(start='2020-01-01', end='2023-12-31', freq='Q').strftime('%Y-%m').tolist()\n",
    "\n",
    "# Criando grafos para cada período\n",
    "graphs = create_dynamic_graphs(df_nodes, df_edges, periods)\n"
   ]
  },
  {
   "cell_type": "code",
   "execution_count": 11,
   "metadata": {},
   "outputs": [],
   "source": [
    "centrality_data = []\n",
    "\n",
    "for period, G in graphs.items():\n",
    "    eigenvector_centrality = nx.eigenvector_centrality(G, max_iter=1000)\n",
    "    degree_centrality = nx.degree_centrality(G)\n",
    "    betweenness_centrality = nx.betweenness_centrality(G)\n",
    "    \n",
    "    for node in G.nodes():\n",
    "        centrality_data.append({\n",
    "            'period': period,\n",
    "            'node': node,\n",
    "            'eigenvector': eigenvector_centrality.get(node, 0),\n",
    "            'degree': degree_centrality.get(node, 0),\n",
    "            'betweenness': betweenness_centrality.get(node, 0)\n",
    "        })\n",
    "\n",
    "centrality_df = pd.DataFrame(centrality_data)\n"
   ]
  },
  {
   "cell_type": "code",
   "execution_count": 13,
   "metadata": {},
   "outputs": [
    {
     "data": {
      "text/html": [
       "<div>\n",
       "<style scoped>\n",
       "    .dataframe tbody tr th:only-of-type {\n",
       "        vertical-align: middle;\n",
       "    }\n",
       "\n",
       "    .dataframe tbody tr th {\n",
       "        vertical-align: top;\n",
       "    }\n",
       "\n",
       "    .dataframe thead th {\n",
       "        text-align: right;\n",
       "    }\n",
       "</style>\n",
       "<table border=\"1\" class=\"dataframe\">\n",
       "  <thead>\n",
       "    <tr style=\"text-align: right;\">\n",
       "      <th></th>\n",
       "      <th>period</th>\n",
       "      <th>node</th>\n",
       "      <th>eigenvector</th>\n",
       "      <th>degree</th>\n",
       "      <th>betweenness</th>\n",
       "    </tr>\n",
       "  </thead>\n",
       "  <tbody>\n",
       "    <tr>\n",
       "      <th>0</th>\n",
       "      <td>2020-03-01</td>\n",
       "      <td>Abbott, Mcbride and Edwards</td>\n",
       "      <td>0.000024</td>\n",
       "      <td>0.000105</td>\n",
       "      <td>0.0</td>\n",
       "    </tr>\n",
       "    <tr>\n",
       "      <th>1</th>\n",
       "      <td>2020-03-01</td>\n",
       "      <td>Abbott-Gomez</td>\n",
       "      <td>0.000008</td>\n",
       "      <td>0.000035</td>\n",
       "      <td>0.0</td>\n",
       "    </tr>\n",
       "    <tr>\n",
       "      <th>2</th>\n",
       "      <td>2020-03-01</td>\n",
       "      <td>Abbott-Ibarra</td>\n",
       "      <td>0.000016</td>\n",
       "      <td>0.000070</td>\n",
       "      <td>0.0</td>\n",
       "    </tr>\n",
       "    <tr>\n",
       "      <th>3</th>\n",
       "      <td>2020-03-01</td>\n",
       "      <td>Abbott-Sullivan</td>\n",
       "      <td>0.000032</td>\n",
       "      <td>0.000141</td>\n",
       "      <td>0.0</td>\n",
       "    </tr>\n",
       "    <tr>\n",
       "      <th>4</th>\n",
       "      <td>2020-03-01</td>\n",
       "      <td>Acevedo PLC</td>\n",
       "      <td>0.000048</td>\n",
       "      <td>0.000211</td>\n",
       "      <td>0.0</td>\n",
       "    </tr>\n",
       "  </tbody>\n",
       "</table>\n",
       "</div>"
      ],
      "text/plain": [
       "      period                         node  eigenvector    degree  betweenness\n",
       "0 2020-03-01  Abbott, Mcbride and Edwards     0.000024  0.000105          0.0\n",
       "1 2020-03-01                 Abbott-Gomez     0.000008  0.000035          0.0\n",
       "2 2020-03-01                Abbott-Ibarra     0.000016  0.000070          0.0\n",
       "3 2020-03-01              Abbott-Sullivan     0.000032  0.000141          0.0\n",
       "4 2020-03-01                  Acevedo PLC     0.000048  0.000211          0.0"
      ]
     },
     "execution_count": 13,
     "metadata": {},
     "output_type": "execute_result"
    }
   ],
   "source": [
    "#centrality_df.to_csv('centrality_new.csv', index=False)\n",
    "centrality_df = pd.read_csv('centrality_new.csv')\n",
    "centrality_df['period'] = pd.to_datetime(centrality_df['period'])\n",
    "centrality_df.head()"
   ]
  },
  {
   "cell_type": "code",
   "execution_count": 14,
   "metadata": {},
   "outputs": [],
   "source": [
    "# Filtrar para incluir apenas dados anuais (primeiro dia do ano)\n",
    "#centrality_df = centrality_df[centrality_df['period'].dt.month == 1]\n",
    "\n",
    "# Garantir que a coluna 'period' esteja no formato de string para plotly\n",
    "#centrality_df['period'] = centrality_df['period'].dt.to_period('Y').astype(str)"
   ]
  },
  {
   "cell_type": "code",
   "execution_count": null,
   "metadata": {},
   "outputs": [],
   "source": [
    "#node_seafood_df = centrality_df[centrality_df['node'] == 'SouthSeafood Express Corp']"
   ]
  },
  {
   "cell_type": "code",
   "execution_count": 21,
   "metadata": {},
   "outputs": [],
   "source": [
    "# Opcional: Filtrar para incluir apenas os nós mais importantes\n",
    "important_nodes = centrality_df.groupby('node')['eigenvector'].mean().sort_values(ascending=False).head(10).index\n",
    "centrality_df_filtered = centrality_df[centrality_df['node'].isin(important_nodes)]\n"
   ]
  },
  {
   "cell_type": "code",
   "execution_count": 22,
   "metadata": {},
   "outputs": [
    {
     "data": {
      "application/vnd.plotly.v1+json": {
       "config": {
        "plotlyServerURL": "https://plot.ly"
       },
       "data": [
        {
         "hovertemplate": "node=Baker and Sons<br>period=%{x}<br>eigenvector=%{y}<extra></extra>",
         "legendgroup": "Baker and Sons",
         "line": {
          "color": "#636efa",
          "dash": "solid"
         },
         "marker": {
          "symbol": "circle"
         },
         "mode": "lines",
         "name": "Baker and Sons",
         "orientation": "v",
         "showlegend": true,
         "type": "scatter",
         "x": [
          "2020-03-01T00:00:00",
          "2020-06-01T00:00:00",
          "2020-09-01T00:00:00",
          "2020-12-01T00:00:00",
          "2021-03-01T00:00:00",
          "2021-06-01T00:00:00",
          "2021-09-01T00:00:00",
          "2021-12-01T00:00:00",
          "2022-03-01T00:00:00",
          "2022-06-01T00:00:00",
          "2022-09-01T00:00:00",
          "2022-12-01T00:00:00",
          "2023-03-01T00:00:00",
          "2023-06-01T00:00:00",
          "2023-09-01T00:00:00",
          "2023-12-01T00:00:00"
         ],
         "xaxis": "x",
         "y": [
          0.0028938062475491,
          0.0028932109306233,
          0.0028931975265745,
          0.0028931892324157,
          0.0030975332211043,
          0.0030975259055396,
          0.0033015858488128,
          0.0033012643459061,
          0.0033012500258929,
          0.0033012329324571,
          0.0037098173043629,
          0.003709782663236,
          0.0039140701190405,
          0.0039140405435,
          0.0041182998121558,
          0.0041182885312044
         ],
         "yaxis": "y"
        },
        {
         "hovertemplate": "node=Davis, Maldonado and Howe<br>period=%{x}<br>eigenvector=%{y}<extra></extra>",
         "legendgroup": "Davis, Maldonado and Howe",
         "line": {
          "color": "#EF553B",
          "dash": "solid"
         },
         "marker": {
          "symbol": "circle"
         },
         "mode": "lines",
         "name": "Davis, Maldonado and Howe",
         "orientation": "v",
         "showlegend": true,
         "type": "scatter",
         "x": [
          "2020-03-01T00:00:00",
          "2020-06-01T00:00:00",
          "2020-09-01T00:00:00",
          "2020-12-01T00:00:00",
          "2021-03-01T00:00:00",
          "2021-06-01T00:00:00",
          "2021-09-01T00:00:00",
          "2021-12-01T00:00:00",
          "2022-03-01T00:00:00",
          "2022-06-01T00:00:00",
          "2022-09-01T00:00:00",
          "2022-12-01T00:00:00",
          "2023-03-01T00:00:00",
          "2023-06-01T00:00:00",
          "2023-09-01T00:00:00",
          "2023-12-01T00:00:00"
         ],
         "xaxis": "x",
         "y": [
          0.0037194188966661,
          0.0037186537338204,
          0.0039229927576282,
          0.0041273371775063,
          0.004127321617712,
          0.0041273118700561,
          0.0041269437860936,
          0.0041265419112118,
          0.0043308394155319,
          0.0045351313372701,
          0.0045350771574247,
          0.0045350348102764,
          0.0045350086924269,
          0.0045349744249433,
          0.0047392264552397,
          0.0047392134734302
         ],
         "yaxis": "y"
        },
        {
         "hovertemplate": "node=Dyer-Campbell<br>period=%{x}<br>eigenvector=%{y}<extra></extra>",
         "legendgroup": "Dyer-Campbell",
         "line": {
          "color": "#00cc96",
          "dash": "solid"
         },
         "marker": {
          "symbol": "circle"
         },
         "mode": "lines",
         "name": "Dyer-Campbell",
         "orientation": "v",
         "showlegend": true,
         "type": "scatter",
         "x": [
          "2020-03-01T00:00:00",
          "2020-06-01T00:00:00",
          "2020-09-01T00:00:00",
          "2020-12-01T00:00:00",
          "2021-03-01T00:00:00",
          "2021-06-01T00:00:00",
          "2021-09-01T00:00:00",
          "2021-12-01T00:00:00",
          "2022-03-01T00:00:00",
          "2022-06-01T00:00:00",
          "2022-09-01T00:00:00",
          "2022-12-01T00:00:00",
          "2023-03-01T00:00:00",
          "2023-06-01T00:00:00",
          "2023-09-01T00:00:00",
          "2023-12-01T00:00:00"
         ],
         "xaxis": "x",
         "y": [
          0.0984043646995244,
          0.0983841208480493,
          0.0983836650411292,
          0.0983833829968763,
          0.0983830120978837,
          0.0983827797428982,
          0.0983740057213213,
          0.0983644262252159,
          0.0983639995463001,
          0.0983715025578327,
          0.0983863518063477,
          0.0983854331050135,
          0.0983848664906343,
          0.0983921351238854,
          0.0983909881456537,
          0.0983907186305606
         ],
         "yaxis": "y"
        },
        {
         "hovertemplate": "node=Friedman, Gibson and Garcia<br>period=%{x}<br>eigenvector=%{y}<extra></extra>",
         "legendgroup": "Friedman, Gibson and Garcia",
         "line": {
          "color": "#ab63fa",
          "dash": "solid"
         },
         "marker": {
          "symbol": "circle"
         },
         "mode": "lines",
         "name": "Friedman, Gibson and Garcia",
         "orientation": "v",
         "showlegend": true,
         "type": "scatter",
         "x": [
          "2020-03-01T00:00:00",
          "2020-06-01T00:00:00",
          "2020-09-01T00:00:00",
          "2020-12-01T00:00:00",
          "2021-03-01T00:00:00",
          "2021-06-01T00:00:00",
          "2021-09-01T00:00:00",
          "2021-12-01T00:00:00",
          "2022-03-01T00:00:00",
          "2022-06-01T00:00:00",
          "2022-09-01T00:00:00",
          "2022-12-01T00:00:00",
          "2023-03-01T00:00:00",
          "2023-06-01T00:00:00",
          "2023-09-01T00:00:00",
          "2023-12-01T00:00:00"
         ],
         "xaxis": "x",
         "y": [
          0.0219189676327837,
          0.0219144584392475,
          0.0219223708817263,
          0.0219223080351275,
          0.0219222253894436,
          0.021930187513428,
          0.0255381710522525,
          0.0289409556952079,
          0.0289408301569817,
          0.0289406803051934,
          0.02914464646499,
          0.0293486843188606,
          0.0293485152960081,
          0.0293563055825107,
          0.0295602682652237,
          0.0295601872929862
         ],
         "yaxis": "y"
        },
        {
         "hovertemplate": "node=Hancock and Sons<br>period=%{x}<br>eigenvector=%{y}<extra></extra>",
         "legendgroup": "Hancock and Sons",
         "line": {
          "color": "#FFA15A",
          "dash": "solid"
         },
         "marker": {
          "symbol": "circle"
         },
         "mode": "lines",
         "name": "Hancock and Sons",
         "orientation": "v",
         "showlegend": true,
         "type": "scatter",
         "x": [
          "2020-03-01T00:00:00",
          "2020-06-01T00:00:00",
          "2020-09-01T00:00:00",
          "2020-12-01T00:00:00",
          "2021-03-01T00:00:00",
          "2021-06-01T00:00:00",
          "2021-09-01T00:00:00",
          "2021-12-01T00:00:00",
          "2022-03-01T00:00:00",
          "2022-06-01T00:00:00",
          "2022-09-01T00:00:00",
          "2022-12-01T00:00:00",
          "2023-03-01T00:00:00",
          "2023-06-01T00:00:00",
          "2023-09-01T00:00:00",
          "2023-12-01T00:00:00"
         ],
         "xaxis": "x",
         "y": [
          0.0049458143851602,
          0.0051491541257688,
          0.0053534865221658,
          0.0053534711749015,
          0.0055578058884862,
          0.0055577927623999,
          0.0055572971045852,
          0.0055567559442901,
          0.0055647442093405,
          0.0055647153958315,
          0.0055646489158561,
          0.0055645969548851,
          0.0057688737285753,
          0.0057688301377469,
          0.0057687628892561,
          0.0057687470873143
         ],
         "yaxis": "y"
        },
        {
         "hovertemplate": "node=Mcpherson-Wright<br>period=%{x}<br>eigenvector=%{y}<extra></extra>",
         "legendgroup": "Mcpherson-Wright",
         "line": {
          "color": "#19d3f3",
          "dash": "solid"
         },
         "marker": {
          "symbol": "circle"
         },
         "mode": "lines",
         "name": "Mcpherson-Wright",
         "orientation": "v",
         "showlegend": true,
         "type": "scatter",
         "x": [
          "2020-03-01T00:00:00",
          "2020-06-01T00:00:00",
          "2020-09-01T00:00:00",
          "2020-12-01T00:00:00",
          "2021-03-01T00:00:00",
          "2021-06-01T00:00:00",
          "2021-09-01T00:00:00",
          "2021-12-01T00:00:00",
          "2022-03-01T00:00:00",
          "2022-06-01T00:00:00",
          "2022-09-01T00:00:00",
          "2022-12-01T00:00:00",
          "2023-03-01T00:00:00",
          "2023-06-01T00:00:00",
          "2023-09-01T00:00:00",
          "2023-12-01T00:00:00"
         ],
         "xaxis": "x",
         "y": [
          0.0076791533497126,
          0.0076775735860472,
          0.0076775380163726,
          0.0076775160065656,
          0.0076774870628267,
          0.0076774689306069,
          0.0076767842347869,
          0.0076760366823808,
          0.0076760033857599,
          0.0076759636404302,
          0.0076758719380093,
          0.0076758002630904,
          0.0076757560571682,
          0.0076756980575342,
          0.0076756085802749,
          0.007675587555053
         ],
         "yaxis": "y"
        },
        {
         "hovertemplate": "node=Parks Ltd<br>period=%{x}<br>eigenvector=%{y}<extra></extra>",
         "legendgroup": "Parks Ltd",
         "line": {
          "color": "#FF6692",
          "dash": "solid"
         },
         "marker": {
          "symbol": "circle"
         },
         "mode": "lines",
         "name": "Parks Ltd",
         "orientation": "v",
         "showlegend": true,
         "type": "scatter",
         "x": [
          "2020-03-01T00:00:00",
          "2020-06-01T00:00:00",
          "2020-09-01T00:00:00",
          "2020-12-01T00:00:00",
          "2021-03-01T00:00:00",
          "2021-06-01T00:00:00",
          "2021-09-01T00:00:00",
          "2021-12-01T00:00:00",
          "2022-03-01T00:00:00",
          "2022-06-01T00:00:00",
          "2022-09-01T00:00:00",
          "2022-12-01T00:00:00",
          "2023-03-01T00:00:00",
          "2023-06-01T00:00:00",
          "2023-09-01T00:00:00",
          "2023-12-01T00:00:00"
         ],
         "xaxis": "x",
         "y": [
          0.00765510637935,
          0.0076535315626531,
          0.0076534961043635,
          0.0076534741634795,
          0.0076534453103767,
          0.0076534272349373,
          0.0076527446832156,
          0.0076519994717408,
          0.007651966279387,
          0.0076519266585183,
          0.0076598474748431,
          0.0076597759495556,
          0.0076597318359195,
          0.0076596739573679,
          0.007659584666905,
          0.0076595636855762
         ],
         "yaxis": "y"
        },
        {
         "hovertemplate": "node=Vasquez-Gonzalez<br>period=%{x}<br>eigenvector=%{y}<extra></extra>",
         "legendgroup": "Vasquez-Gonzalez",
         "line": {
          "color": "#B6E880",
          "dash": "solid"
         },
         "marker": {
          "symbol": "circle"
         },
         "mode": "lines",
         "name": "Vasquez-Gonzalez",
         "orientation": "v",
         "showlegend": true,
         "type": "scatter",
         "x": [
          "2020-03-01T00:00:00",
          "2020-06-01T00:00:00",
          "2020-09-01T00:00:00",
          "2020-12-01T00:00:00",
          "2021-03-01T00:00:00",
          "2021-06-01T00:00:00",
          "2021-09-01T00:00:00",
          "2021-12-01T00:00:00",
          "2022-03-01T00:00:00",
          "2022-06-01T00:00:00",
          "2022-09-01T00:00:00",
          "2022-12-01T00:00:00",
          "2023-03-01T00:00:00",
          "2023-06-01T00:00:00",
          "2023-09-01T00:00:00",
          "2023-12-01T00:00:00"
         ],
         "xaxis": "x",
         "y": [
          0.0983642864155866,
          0.0983520648168572,
          0.0983516091584505,
          0.0983513272060948,
          0.0983509564279504,
          0.0983507241486719,
          0.0983419529858928,
          0.0983323766110293,
          0.0983319500711363,
          0.0983314409213128,
          0.0983302661852656,
          0.0983293480076419,
          0.0983287817162638,
          0.0983280387232204,
          0.0983268924921742,
          0.0983266231526534
         ],
         "yaxis": "y"
        },
        {
         "hovertemplate": "node=TshimbuaDredge Express Incorporated<br>period=%{x}<br>eigenvector=%{y}<extra></extra>",
         "legendgroup": "TshimbuaDredge Express Incorporated",
         "line": {
          "color": "#FF97FF",
          "dash": "solid"
         },
         "marker": {
          "symbol": "circle"
         },
         "mode": "lines",
         "name": "TshimbuaDredge Express Incorporated",
         "orientation": "v",
         "showlegend": true,
         "type": "scatter",
         "x": [
          "2020-03-01T00:00:00",
          "2020-06-01T00:00:00",
          "2020-09-01T00:00:00",
          "2020-12-01T00:00:00",
          "2021-03-01T00:00:00",
          "2021-06-01T00:00:00",
          "2021-09-01T00:00:00",
          "2021-12-01T00:00:00",
          "2022-03-01T00:00:00",
          "2022-06-01T00:00:00",
          "2022-09-01T00:00:00",
          "2022-12-01T00:00:00",
          "2023-03-01T00:00:00",
          "2023-06-01T00:00:00",
          "2023-09-01T00:00:00",
          "2023-12-01T00:00:00"
         ],
         "xaxis": "x",
         "y": [
          0.0072463078831852,
          0.0072448171649536,
          0.0072447836002099,
          0.0072447628310144,
          0.0072447355187269,
          0.0072447184085533,
          0.0072440723065038,
          0.0072433668908613,
          0.0072433354710478,
          0.0074476123122668,
          0.0074475233378903,
          0.00744745379522,
          0.0074474109043745,
          0.0074473546301647,
          0.0074472678147537,
          0.0074472474150086
         ],
         "yaxis": "y"
        },
        {
         "hovertemplate": "node=KambalaAqua Delivery Plc<br>period=%{x}<br>eigenvector=%{y}<extra></extra>",
         "legendgroup": "KambalaAqua Delivery Plc",
         "line": {
          "color": "#FECB52",
          "dash": "solid"
         },
         "marker": {
          "symbol": "circle"
         },
         "mode": "lines",
         "name": "KambalaAqua Delivery Plc",
         "orientation": "v",
         "showlegend": true,
         "type": "scatter",
         "x": [
          "2020-03-01T00:00:00",
          "2020-06-01T00:00:00",
          "2020-09-01T00:00:00",
          "2020-12-01T00:00:00",
          "2021-03-01T00:00:00",
          "2021-06-01T00:00:00",
          "2021-09-01T00:00:00",
          "2021-12-01T00:00:00",
          "2022-03-01T00:00:00",
          "2022-06-01T00:00:00",
          "2022-09-01T00:00:00",
          "2022-12-01T00:00:00",
          "2023-03-01T00:00:00",
          "2023-06-01T00:00:00",
          "2023-09-01T00:00:00",
          "2023-12-01T00:00:00"
         ],
         "xaxis": "x",
         "y": [
          0.989861626497787,
          0.9898623483009016,
          0.9898577623361712,
          0.989854924632444,
          0.9898511929433792,
          0.9898488551733232,
          0.9897605779846144,
          0.98966419675532,
          0.9896599038532764,
          0.9896547795252716,
          0.9896429564183092,
          0.9896337154383624,
          0.9896280160103492,
          0.9896205381720328,
          0.9896090019530726,
          0.989606291190963
         ],
         "yaxis": "y"
        }
       ],
       "layout": {
        "legend": {
         "title": {
          "text": "node"
         },
         "tracegroupgap": 0
        },
        "template": {
         "data": {
          "bar": [
           {
            "error_x": {
             "color": "#2a3f5f"
            },
            "error_y": {
             "color": "#2a3f5f"
            },
            "marker": {
             "line": {
              "color": "#E5ECF6",
              "width": 0.5
             },
             "pattern": {
              "fillmode": "overlay",
              "size": 10,
              "solidity": 0.2
             }
            },
            "type": "bar"
           }
          ],
          "barpolar": [
           {
            "marker": {
             "line": {
              "color": "#E5ECF6",
              "width": 0.5
             },
             "pattern": {
              "fillmode": "overlay",
              "size": 10,
              "solidity": 0.2
             }
            },
            "type": "barpolar"
           }
          ],
          "carpet": [
           {
            "aaxis": {
             "endlinecolor": "#2a3f5f",
             "gridcolor": "white",
             "linecolor": "white",
             "minorgridcolor": "white",
             "startlinecolor": "#2a3f5f"
            },
            "baxis": {
             "endlinecolor": "#2a3f5f",
             "gridcolor": "white",
             "linecolor": "white",
             "minorgridcolor": "white",
             "startlinecolor": "#2a3f5f"
            },
            "type": "carpet"
           }
          ],
          "choropleth": [
           {
            "colorbar": {
             "outlinewidth": 0,
             "ticks": ""
            },
            "type": "choropleth"
           }
          ],
          "contour": [
           {
            "colorbar": {
             "outlinewidth": 0,
             "ticks": ""
            },
            "colorscale": [
             [
              0,
              "#0d0887"
             ],
             [
              0.1111111111111111,
              "#46039f"
             ],
             [
              0.2222222222222222,
              "#7201a8"
             ],
             [
              0.3333333333333333,
              "#9c179e"
             ],
             [
              0.4444444444444444,
              "#bd3786"
             ],
             [
              0.5555555555555556,
              "#d8576b"
             ],
             [
              0.6666666666666666,
              "#ed7953"
             ],
             [
              0.7777777777777778,
              "#fb9f3a"
             ],
             [
              0.8888888888888888,
              "#fdca26"
             ],
             [
              1,
              "#f0f921"
             ]
            ],
            "type": "contour"
           }
          ],
          "contourcarpet": [
           {
            "colorbar": {
             "outlinewidth": 0,
             "ticks": ""
            },
            "type": "contourcarpet"
           }
          ],
          "heatmap": [
           {
            "colorbar": {
             "outlinewidth": 0,
             "ticks": ""
            },
            "colorscale": [
             [
              0,
              "#0d0887"
             ],
             [
              0.1111111111111111,
              "#46039f"
             ],
             [
              0.2222222222222222,
              "#7201a8"
             ],
             [
              0.3333333333333333,
              "#9c179e"
             ],
             [
              0.4444444444444444,
              "#bd3786"
             ],
             [
              0.5555555555555556,
              "#d8576b"
             ],
             [
              0.6666666666666666,
              "#ed7953"
             ],
             [
              0.7777777777777778,
              "#fb9f3a"
             ],
             [
              0.8888888888888888,
              "#fdca26"
             ],
             [
              1,
              "#f0f921"
             ]
            ],
            "type": "heatmap"
           }
          ],
          "heatmapgl": [
           {
            "colorbar": {
             "outlinewidth": 0,
             "ticks": ""
            },
            "colorscale": [
             [
              0,
              "#0d0887"
             ],
             [
              0.1111111111111111,
              "#46039f"
             ],
             [
              0.2222222222222222,
              "#7201a8"
             ],
             [
              0.3333333333333333,
              "#9c179e"
             ],
             [
              0.4444444444444444,
              "#bd3786"
             ],
             [
              0.5555555555555556,
              "#d8576b"
             ],
             [
              0.6666666666666666,
              "#ed7953"
             ],
             [
              0.7777777777777778,
              "#fb9f3a"
             ],
             [
              0.8888888888888888,
              "#fdca26"
             ],
             [
              1,
              "#f0f921"
             ]
            ],
            "type": "heatmapgl"
           }
          ],
          "histogram": [
           {
            "marker": {
             "pattern": {
              "fillmode": "overlay",
              "size": 10,
              "solidity": 0.2
             }
            },
            "type": "histogram"
           }
          ],
          "histogram2d": [
           {
            "colorbar": {
             "outlinewidth": 0,
             "ticks": ""
            },
            "colorscale": [
             [
              0,
              "#0d0887"
             ],
             [
              0.1111111111111111,
              "#46039f"
             ],
             [
              0.2222222222222222,
              "#7201a8"
             ],
             [
              0.3333333333333333,
              "#9c179e"
             ],
             [
              0.4444444444444444,
              "#bd3786"
             ],
             [
              0.5555555555555556,
              "#d8576b"
             ],
             [
              0.6666666666666666,
              "#ed7953"
             ],
             [
              0.7777777777777778,
              "#fb9f3a"
             ],
             [
              0.8888888888888888,
              "#fdca26"
             ],
             [
              1,
              "#f0f921"
             ]
            ],
            "type": "histogram2d"
           }
          ],
          "histogram2dcontour": [
           {
            "colorbar": {
             "outlinewidth": 0,
             "ticks": ""
            },
            "colorscale": [
             [
              0,
              "#0d0887"
             ],
             [
              0.1111111111111111,
              "#46039f"
             ],
             [
              0.2222222222222222,
              "#7201a8"
             ],
             [
              0.3333333333333333,
              "#9c179e"
             ],
             [
              0.4444444444444444,
              "#bd3786"
             ],
             [
              0.5555555555555556,
              "#d8576b"
             ],
             [
              0.6666666666666666,
              "#ed7953"
             ],
             [
              0.7777777777777778,
              "#fb9f3a"
             ],
             [
              0.8888888888888888,
              "#fdca26"
             ],
             [
              1,
              "#f0f921"
             ]
            ],
            "type": "histogram2dcontour"
           }
          ],
          "mesh3d": [
           {
            "colorbar": {
             "outlinewidth": 0,
             "ticks": ""
            },
            "type": "mesh3d"
           }
          ],
          "parcoords": [
           {
            "line": {
             "colorbar": {
              "outlinewidth": 0,
              "ticks": ""
             }
            },
            "type": "parcoords"
           }
          ],
          "pie": [
           {
            "automargin": true,
            "type": "pie"
           }
          ],
          "scatter": [
           {
            "fillpattern": {
             "fillmode": "overlay",
             "size": 10,
             "solidity": 0.2
            },
            "type": "scatter"
           }
          ],
          "scatter3d": [
           {
            "line": {
             "colorbar": {
              "outlinewidth": 0,
              "ticks": ""
             }
            },
            "marker": {
             "colorbar": {
              "outlinewidth": 0,
              "ticks": ""
             }
            },
            "type": "scatter3d"
           }
          ],
          "scattercarpet": [
           {
            "marker": {
             "colorbar": {
              "outlinewidth": 0,
              "ticks": ""
             }
            },
            "type": "scattercarpet"
           }
          ],
          "scattergeo": [
           {
            "marker": {
             "colorbar": {
              "outlinewidth": 0,
              "ticks": ""
             }
            },
            "type": "scattergeo"
           }
          ],
          "scattergl": [
           {
            "marker": {
             "colorbar": {
              "outlinewidth": 0,
              "ticks": ""
             }
            },
            "type": "scattergl"
           }
          ],
          "scattermapbox": [
           {
            "marker": {
             "colorbar": {
              "outlinewidth": 0,
              "ticks": ""
             }
            },
            "type": "scattermapbox"
           }
          ],
          "scatterpolar": [
           {
            "marker": {
             "colorbar": {
              "outlinewidth": 0,
              "ticks": ""
             }
            },
            "type": "scatterpolar"
           }
          ],
          "scatterpolargl": [
           {
            "marker": {
             "colorbar": {
              "outlinewidth": 0,
              "ticks": ""
             }
            },
            "type": "scatterpolargl"
           }
          ],
          "scatterternary": [
           {
            "marker": {
             "colorbar": {
              "outlinewidth": 0,
              "ticks": ""
             }
            },
            "type": "scatterternary"
           }
          ],
          "surface": [
           {
            "colorbar": {
             "outlinewidth": 0,
             "ticks": ""
            },
            "colorscale": [
             [
              0,
              "#0d0887"
             ],
             [
              0.1111111111111111,
              "#46039f"
             ],
             [
              0.2222222222222222,
              "#7201a8"
             ],
             [
              0.3333333333333333,
              "#9c179e"
             ],
             [
              0.4444444444444444,
              "#bd3786"
             ],
             [
              0.5555555555555556,
              "#d8576b"
             ],
             [
              0.6666666666666666,
              "#ed7953"
             ],
             [
              0.7777777777777778,
              "#fb9f3a"
             ],
             [
              0.8888888888888888,
              "#fdca26"
             ],
             [
              1,
              "#f0f921"
             ]
            ],
            "type": "surface"
           }
          ],
          "table": [
           {
            "cells": {
             "fill": {
              "color": "#EBF0F8"
             },
             "line": {
              "color": "white"
             }
            },
            "header": {
             "fill": {
              "color": "#C8D4E3"
             },
             "line": {
              "color": "white"
             }
            },
            "type": "table"
           }
          ]
         },
         "layout": {
          "annotationdefaults": {
           "arrowcolor": "#2a3f5f",
           "arrowhead": 0,
           "arrowwidth": 1
          },
          "autotypenumbers": "strict",
          "coloraxis": {
           "colorbar": {
            "outlinewidth": 0,
            "ticks": ""
           }
          },
          "colorscale": {
           "diverging": [
            [
             0,
             "#8e0152"
            ],
            [
             0.1,
             "#c51b7d"
            ],
            [
             0.2,
             "#de77ae"
            ],
            [
             0.3,
             "#f1b6da"
            ],
            [
             0.4,
             "#fde0ef"
            ],
            [
             0.5,
             "#f7f7f7"
            ],
            [
             0.6,
             "#e6f5d0"
            ],
            [
             0.7,
             "#b8e186"
            ],
            [
             0.8,
             "#7fbc41"
            ],
            [
             0.9,
             "#4d9221"
            ],
            [
             1,
             "#276419"
            ]
           ],
           "sequential": [
            [
             0,
             "#0d0887"
            ],
            [
             0.1111111111111111,
             "#46039f"
            ],
            [
             0.2222222222222222,
             "#7201a8"
            ],
            [
             0.3333333333333333,
             "#9c179e"
            ],
            [
             0.4444444444444444,
             "#bd3786"
            ],
            [
             0.5555555555555556,
             "#d8576b"
            ],
            [
             0.6666666666666666,
             "#ed7953"
            ],
            [
             0.7777777777777778,
             "#fb9f3a"
            ],
            [
             0.8888888888888888,
             "#fdca26"
            ],
            [
             1,
             "#f0f921"
            ]
           ],
           "sequentialminus": [
            [
             0,
             "#0d0887"
            ],
            [
             0.1111111111111111,
             "#46039f"
            ],
            [
             0.2222222222222222,
             "#7201a8"
            ],
            [
             0.3333333333333333,
             "#9c179e"
            ],
            [
             0.4444444444444444,
             "#bd3786"
            ],
            [
             0.5555555555555556,
             "#d8576b"
            ],
            [
             0.6666666666666666,
             "#ed7953"
            ],
            [
             0.7777777777777778,
             "#fb9f3a"
            ],
            [
             0.8888888888888888,
             "#fdca26"
            ],
            [
             1,
             "#f0f921"
            ]
           ]
          },
          "colorway": [
           "#636efa",
           "#EF553B",
           "#00cc96",
           "#ab63fa",
           "#FFA15A",
           "#19d3f3",
           "#FF6692",
           "#B6E880",
           "#FF97FF",
           "#FECB52"
          ],
          "font": {
           "color": "#2a3f5f"
          },
          "geo": {
           "bgcolor": "white",
           "lakecolor": "white",
           "landcolor": "#E5ECF6",
           "showlakes": true,
           "showland": true,
           "subunitcolor": "white"
          },
          "hoverlabel": {
           "align": "left"
          },
          "hovermode": "closest",
          "mapbox": {
           "style": "light"
          },
          "paper_bgcolor": "white",
          "plot_bgcolor": "#E5ECF6",
          "polar": {
           "angularaxis": {
            "gridcolor": "white",
            "linecolor": "white",
            "ticks": ""
           },
           "bgcolor": "#E5ECF6",
           "radialaxis": {
            "gridcolor": "white",
            "linecolor": "white",
            "ticks": ""
           }
          },
          "scene": {
           "xaxis": {
            "backgroundcolor": "#E5ECF6",
            "gridcolor": "white",
            "gridwidth": 2,
            "linecolor": "white",
            "showbackground": true,
            "ticks": "",
            "zerolinecolor": "white"
           },
           "yaxis": {
            "backgroundcolor": "#E5ECF6",
            "gridcolor": "white",
            "gridwidth": 2,
            "linecolor": "white",
            "showbackground": true,
            "ticks": "",
            "zerolinecolor": "white"
           },
           "zaxis": {
            "backgroundcolor": "#E5ECF6",
            "gridcolor": "white",
            "gridwidth": 2,
            "linecolor": "white",
            "showbackground": true,
            "ticks": "",
            "zerolinecolor": "white"
           }
          },
          "shapedefaults": {
           "line": {
            "color": "#2a3f5f"
           }
          },
          "ternary": {
           "aaxis": {
            "gridcolor": "white",
            "linecolor": "white",
            "ticks": ""
           },
           "baxis": {
            "gridcolor": "white",
            "linecolor": "white",
            "ticks": ""
           },
           "bgcolor": "#E5ECF6",
           "caxis": {
            "gridcolor": "white",
            "linecolor": "white",
            "ticks": ""
           }
          },
          "title": {
           "x": 0.05
          },
          "xaxis": {
           "automargin": true,
           "gridcolor": "white",
           "linecolor": "white",
           "ticks": "",
           "title": {
            "standoff": 15
           },
           "zerolinecolor": "white",
           "zerolinewidth": 2
          },
          "yaxis": {
           "automargin": true,
           "gridcolor": "white",
           "linecolor": "white",
           "ticks": "",
           "title": {
            "standoff": 15
           },
           "zerolinecolor": "white",
           "zerolinewidth": 2
          }
         }
        },
        "title": {
         "text": "Eigenvector Centrality Over Time"
        },
        "xaxis": {
         "anchor": "y",
         "domain": [
          0,
          1
         ],
         "title": {
          "text": "period"
         }
        },
        "yaxis": {
         "anchor": "x",
         "domain": [
          0,
          1
         ],
         "title": {
          "text": "eigenvector"
         }
        }
       }
      }
     },
     "metadata": {},
     "output_type": "display_data"
    },
    {
     "data": {
      "application/vnd.plotly.v1+json": {
       "config": {
        "plotlyServerURL": "https://plot.ly"
       },
       "data": [
        {
         "hovertemplate": "node=Baker and Sons<br>period=%{x}<br>degree=%{y}<extra></extra>",
         "legendgroup": "Baker and Sons",
         "line": {
          "color": "#636efa",
          "dash": "solid"
         },
         "marker": {
          "symbol": "circle"
         },
         "mode": "lines",
         "name": "Baker and Sons",
         "orientation": "v",
         "showlegend": true,
         "type": "scatter",
         "x": [
          "2020-03-01T00:00:00",
          "2020-06-01T00:00:00",
          "2020-09-01T00:00:00",
          "2020-12-01T00:00:00",
          "2021-03-01T00:00:00",
          "2021-06-01T00:00:00",
          "2021-09-01T00:00:00",
          "2021-12-01T00:00:00",
          "2022-03-01T00:00:00",
          "2022-06-01T00:00:00",
          "2022-09-01T00:00:00",
          "2022-12-01T00:00:00",
          "2023-03-01T00:00:00",
          "2023-06-01T00:00:00",
          "2023-09-01T00:00:00",
          "2023-12-01T00:00:00"
         ],
         "xaxis": "x",
         "y": [
          0.0001405431994659,
          0.0001383269357125,
          0.0001361516729636,
          0.0001342101731311,
          0.0001324108709325,
          0.000130437618209,
          0.0001286421817714,
          0.0001269518852354,
          0.0001253172091857,
          0.0001236170344273,
          0.0001219103349486,
          0.0001203985190982,
          0.0001187190217552,
          0.00011725047633,
          0.0001157507885522,
          0.0001144164759725
         ],
         "yaxis": "y"
        },
        {
         "hovertemplate": "node=Davis, Maldonado and Howe<br>period=%{x}<br>degree=%{y}<extra></extra>",
         "legendgroup": "Davis, Maldonado and Howe",
         "line": {
          "color": "#EF553B",
          "dash": "solid"
         },
         "marker": {
          "symbol": "circle"
         },
         "mode": "lines",
         "name": "Davis, Maldonado and Howe",
         "orientation": "v",
         "showlegend": true,
         "type": "scatter",
         "x": [
          "2020-03-01T00:00:00",
          "2020-06-01T00:00:00",
          "2020-09-01T00:00:00",
          "2020-12-01T00:00:00",
          "2021-03-01T00:00:00",
          "2021-06-01T00:00:00",
          "2021-09-01T00:00:00",
          "2021-12-01T00:00:00",
          "2022-03-01T00:00:00",
          "2022-06-01T00:00:00",
          "2022-09-01T00:00:00",
          "2022-12-01T00:00:00",
          "2023-03-01T00:00:00",
          "2023-06-01T00:00:00",
          "2023-09-01T00:00:00",
          "2023-12-01T00:00:00"
         ],
         "xaxis": "x",
         "y": [
          0.0001756789993324,
          0.0001729086696406,
          0.0001701895912046,
          0.0001677627164139,
          0.0001655135886656,
          0.0001630470227613,
          0.0001608027272142,
          0.0001586898565443,
          0.0001566465114821,
          0.0001545212930341,
          0.0001523879186858,
          0.0001504981488727,
          0.000148398777194,
          0.0001465630954125,
          0.0001446884856903,
          0.0001430205949656
         ],
         "yaxis": "y"
        },
        {
         "hovertemplate": "node=Dyer-Campbell<br>period=%{x}<br>degree=%{y}<extra></extra>",
         "legendgroup": "Dyer-Campbell",
         "line": {
          "color": "#00cc96",
          "dash": "solid"
         },
         "marker": {
          "symbol": "circle"
         },
         "mode": "lines",
         "name": "Dyer-Campbell",
         "orientation": "v",
         "showlegend": true,
         "type": "scatter",
         "x": [
          "2020-03-01T00:00:00",
          "2020-06-01T00:00:00",
          "2020-09-01T00:00:00",
          "2020-12-01T00:00:00",
          "2021-03-01T00:00:00",
          "2021-06-01T00:00:00",
          "2021-09-01T00:00:00",
          "2021-12-01T00:00:00",
          "2022-03-01T00:00:00",
          "2022-06-01T00:00:00",
          "2022-09-01T00:00:00",
          "2022-12-01T00:00:00",
          "2023-03-01T00:00:00",
          "2023-06-01T00:00:00",
          "2023-09-01T00:00:00",
          "2023-12-01T00:00:00"
         ],
         "xaxis": "x",
         "y": [
          0.0003864937985313,
          0.0003803990732095,
          0.0003744171006501,
          0.0003690779761105,
          0.0003641298950643,
          0.000358703450075,
          0.0003537659998713,
          0.0003491176843976,
          0.0003446223252608,
          0.000370851103282,
          0.0004266861723202,
          0.0004213948168437,
          0.0004155165761434,
          0.0004396892862377,
          0.0004340654570709,
          0.000429061784897
         ],
         "yaxis": "y"
        },
        {
         "hovertemplate": "node=Friedman, Gibson and Garcia<br>period=%{x}<br>degree=%{y}<extra></extra>",
         "legendgroup": "Friedman, Gibson and Garcia",
         "line": {
          "color": "#ab63fa",
          "dash": "solid"
         },
         "marker": {
          "symbol": "circle"
         },
         "mode": "lines",
         "name": "Friedman, Gibson and Garcia",
         "orientation": "v",
         "showlegend": true,
         "type": "scatter",
         "x": [
          "2020-03-01T00:00:00",
          "2020-06-01T00:00:00",
          "2020-09-01T00:00:00",
          "2020-12-01T00:00:00",
          "2021-03-01T00:00:00",
          "2021-06-01T00:00:00",
          "2021-09-01T00:00:00",
          "2021-12-01T00:00:00",
          "2022-03-01T00:00:00",
          "2022-06-01T00:00:00",
          "2022-09-01T00:00:00",
          "2022-12-01T00:00:00",
          "2023-03-01T00:00:00",
          "2023-06-01T00:00:00",
          "2023-09-01T00:00:00",
          "2023-12-01T00:00:00"
         ],
         "xaxis": "x",
         "y": [
          0.0002108147991989,
          0.0002074904035688,
          0.0002382654276864,
          0.0002348678029794,
          0.0002317190241318,
          0.0002608752364181,
          0.0002572843635428,
          0.0002539037704709,
          0.0002506344183715,
          0.0002472340688546,
          0.0002438206698972,
          0.0002407970381964,
          0.0002374380435105,
          0.0002638135717426,
          0.0002604392742425,
          0.0002574370709382
         ],
         "yaxis": "y"
        },
        {
         "hovertemplate": "node=Hancock and Sons<br>period=%{x}<br>degree=%{y}<extra></extra>",
         "legendgroup": "Hancock and Sons",
         "line": {
          "color": "#FFA15A",
          "dash": "solid"
         },
         "marker": {
          "symbol": "circle"
         },
         "mode": "lines",
         "name": "Hancock and Sons",
         "orientation": "v",
         "showlegend": true,
         "type": "scatter",
         "x": [
          "2020-03-01T00:00:00",
          "2020-06-01T00:00:00",
          "2020-09-01T00:00:00",
          "2020-12-01T00:00:00",
          "2021-03-01T00:00:00",
          "2021-06-01T00:00:00",
          "2021-09-01T00:00:00",
          "2021-12-01T00:00:00",
          "2022-03-01T00:00:00",
          "2022-06-01T00:00:00",
          "2022-09-01T00:00:00",
          "2022-12-01T00:00:00",
          "2023-03-01T00:00:00",
          "2023-06-01T00:00:00",
          "2023-09-01T00:00:00",
          "2023-12-01T00:00:00"
         ],
         "xaxis": "x",
         "y": [
          0.0001756789993324,
          0.0001729086696406,
          0.0001701895912046,
          0.0001677627164139,
          0.0001655135886656,
          0.0001630470227613,
          0.0001608027272142,
          0.0001586898565443,
          0.0001879758137786,
          0.000185425551641,
          0.0001828655024229,
          0.0001805977786473,
          0.0001780785326328,
          0.000175875714495,
          0.0001736261828283,
          0.0001716247139588
         ],
         "yaxis": "y"
        },
        {
         "hovertemplate": "node=Mcpherson-Wright<br>period=%{x}<br>degree=%{y}<extra></extra>",
         "legendgroup": "Mcpherson-Wright",
         "line": {
          "color": "#19d3f3",
          "dash": "solid"
         },
         "marker": {
          "symbol": "circle"
         },
         "mode": "lines",
         "name": "Mcpherson-Wright",
         "orientation": "v",
         "showlegend": true,
         "type": "scatter",
         "x": [
          "2020-03-01T00:00:00",
          "2020-06-01T00:00:00",
          "2020-09-01T00:00:00",
          "2020-12-01T00:00:00",
          "2021-03-01T00:00:00",
          "2021-06-01T00:00:00",
          "2021-09-01T00:00:00",
          "2021-12-01T00:00:00",
          "2022-03-01T00:00:00",
          "2022-06-01T00:00:00",
          "2022-09-01T00:00:00",
          "2022-12-01T00:00:00",
          "2023-03-01T00:00:00",
          "2023-06-01T00:00:00",
          "2023-09-01T00:00:00",
          "2023-12-01T00:00:00"
         ],
         "xaxis": "x",
         "y": [
          0.0002810863989318,
          0.0002766538714251,
          0.0002723033459273,
          0.0002684203462622,
          0.000264821741865,
          0.0002608752364181,
          0.0002572843635428,
          0.0002539037704709,
          0.0002506344183715,
          0.0002472340688546,
          0.0002438206698972,
          0.0002407970381964,
          0.0002374380435105,
          0.0002345009526601,
          0.0002315015771044,
          0.000228832951945
         ],
         "yaxis": "y"
        },
        {
         "hovertemplate": "node=Parks Ltd<br>period=%{x}<br>degree=%{y}<extra></extra>",
         "legendgroup": "Parks Ltd",
         "line": {
          "color": "#FF6692",
          "dash": "solid"
         },
         "marker": {
          "symbol": "circle"
         },
         "mode": "lines",
         "name": "Parks Ltd",
         "orientation": "v",
         "showlegend": true,
         "type": "scatter",
         "x": [
          "2020-03-01T00:00:00",
          "2020-06-01T00:00:00",
          "2020-09-01T00:00:00",
          "2020-12-01T00:00:00",
          "2021-03-01T00:00:00",
          "2021-06-01T00:00:00",
          "2021-09-01T00:00:00",
          "2021-12-01T00:00:00",
          "2022-03-01T00:00:00",
          "2022-06-01T00:00:00",
          "2022-09-01T00:00:00",
          "2022-12-01T00:00:00",
          "2023-03-01T00:00:00",
          "2023-06-01T00:00:00",
          "2023-09-01T00:00:00",
          "2023-12-01T00:00:00"
         ],
         "xaxis": "x",
         "y": [
          0.0001054073995994,
          0.0001037452017844,
          0.0001021137547227,
          0.0001006576298483,
          0.00009930815319937768,
          0.00009782821365681864,
          0.00009648163632855216,
          0.00009521391392662184,
          0.00009398790688931358,
          0.00009271277582050806,
          0.0001219103349486,
          0.0001203985190982,
          0.0001187190217552,
          0.00011725047633,
          0.0001157507885522,
          0.0001144164759725
         ],
         "yaxis": "y"
        },
        {
         "hovertemplate": "node=Vasquez-Gonzalez<br>period=%{x}<br>degree=%{y}<extra></extra>",
         "legendgroup": "Vasquez-Gonzalez",
         "line": {
          "color": "#B6E880",
          "dash": "solid"
         },
         "marker": {
          "symbol": "circle"
         },
         "mode": "lines",
         "name": "Vasquez-Gonzalez",
         "orientation": "v",
         "showlegend": true,
         "type": "scatter",
         "x": [
          "2020-03-01T00:00:00",
          "2020-06-01T00:00:00",
          "2020-09-01T00:00:00",
          "2020-12-01T00:00:00",
          "2021-03-01T00:00:00",
          "2021-06-01T00:00:00",
          "2021-09-01T00:00:00",
          "2021-12-01T00:00:00",
          "2022-03-01T00:00:00",
          "2022-06-01T00:00:00",
          "2022-09-01T00:00:00",
          "2022-12-01T00:00:00",
          "2023-03-01T00:00:00",
          "2023-06-01T00:00:00",
          "2023-09-01T00:00:00",
          "2023-12-01T00:00:00"
         ],
         "xaxis": "x",
         "y": [
          0.0002459505990653,
          0.0002766538714251,
          0.0002723033459273,
          0.0002684203462622,
          0.000264821741865,
          0.0002608752364181,
          0.0002572843635428,
          0.0002539037704709,
          0.0002506344183715,
          0.0002472340688546,
          0.0002438206698972,
          0.0002407970381964,
          0.0002374380435105,
          0.0002345009526601,
          0.0002315015771044,
          0.000228832951945
         ],
         "yaxis": "y"
        },
        {
         "hovertemplate": "node=TshimbuaDredge Express Incorporated<br>period=%{x}<br>degree=%{y}<extra></extra>",
         "legendgroup": "TshimbuaDredge Express Incorporated",
         "line": {
          "color": "#FF97FF",
          "dash": "solid"
         },
         "marker": {
          "symbol": "circle"
         },
         "mode": "lines",
         "name": "TshimbuaDredge Express Incorporated",
         "orientation": "v",
         "showlegend": true,
         "type": "scatter",
         "x": [
          "2020-03-01T00:00:00",
          "2020-06-01T00:00:00",
          "2020-09-01T00:00:00",
          "2020-12-01T00:00:00",
          "2021-03-01T00:00:00",
          "2021-06-01T00:00:00",
          "2021-09-01T00:00:00",
          "2021-12-01T00:00:00",
          "2022-03-01T00:00:00",
          "2022-06-01T00:00:00",
          "2022-09-01T00:00:00",
          "2022-12-01T00:00:00",
          "2023-03-01T00:00:00",
          "2023-06-01T00:00:00",
          "2023-09-01T00:00:00",
          "2023-12-01T00:00:00"
         ],
         "xaxis": "x",
         "y": [
          0.0001054073995994,
          0.0001037452017844,
          0.0001021137547227,
          0.0001006576298483,
          0.00009930815319937768,
          0.00009782821365681864,
          0.00009648163632855216,
          0.00009521391392662184,
          0.00009398790688931358,
          0.00009271277582050806,
          0.00009143275121148396,
          0.00009029888932366133,
          0.00008903926631644555,
          0.00008793785724754507,
          0.00008681309141418526,
          0.00008581235697940505
         ],
         "yaxis": "y"
        },
        {
         "hovertemplate": "node=KambalaAqua Delivery Plc<br>period=%{x}<br>degree=%{y}<extra></extra>",
         "legendgroup": "KambalaAqua Delivery Plc",
         "line": {
          "color": "#FECB52",
          "dash": "solid"
         },
         "marker": {
          "symbol": "circle"
         },
         "mode": "lines",
         "name": "KambalaAqua Delivery Plc",
         "orientation": "v",
         "showlegend": true,
         "type": "scatter",
         "x": [
          "2020-03-01T00:00:00",
          "2020-06-01T00:00:00",
          "2020-09-01T00:00:00",
          "2020-12-01T00:00:00",
          "2021-03-01T00:00:00",
          "2021-06-01T00:00:00",
          "2021-09-01T00:00:00",
          "2021-12-01T00:00:00",
          "2022-03-01T00:00:00",
          "2022-06-01T00:00:00",
          "2022-09-01T00:00:00",
          "2022-12-01T00:00:00",
          "2023-03-01T00:00:00",
          "2023-06-01T00:00:00",
          "2023-09-01T00:00:00",
          "2023-12-01T00:00:00"
         ],
         "xaxis": "x",
         "y": [
          0.0001054073995994,
          0.0001037452017844,
          0.0001021137547227,
          0.0001006576298483,
          0.00009930815319937768,
          0.00009782821365681864,
          0.00009648163632855216,
          0.00009521391392662184,
          0.00009398790688931358,
          0.00009271277582050806,
          0.00009143275121148396,
          0.00009029888932366133,
          0.00008903926631644555,
          0.00008793785724754507,
          0.00008681309141418526,
          0.00008581235697940505
         ],
         "yaxis": "y"
        }
       ],
       "layout": {
        "legend": {
         "title": {
          "text": "node"
         },
         "tracegroupgap": 0
        },
        "template": {
         "data": {
          "bar": [
           {
            "error_x": {
             "color": "#2a3f5f"
            },
            "error_y": {
             "color": "#2a3f5f"
            },
            "marker": {
             "line": {
              "color": "#E5ECF6",
              "width": 0.5
             },
             "pattern": {
              "fillmode": "overlay",
              "size": 10,
              "solidity": 0.2
             }
            },
            "type": "bar"
           }
          ],
          "barpolar": [
           {
            "marker": {
             "line": {
              "color": "#E5ECF6",
              "width": 0.5
             },
             "pattern": {
              "fillmode": "overlay",
              "size": 10,
              "solidity": 0.2
             }
            },
            "type": "barpolar"
           }
          ],
          "carpet": [
           {
            "aaxis": {
             "endlinecolor": "#2a3f5f",
             "gridcolor": "white",
             "linecolor": "white",
             "minorgridcolor": "white",
             "startlinecolor": "#2a3f5f"
            },
            "baxis": {
             "endlinecolor": "#2a3f5f",
             "gridcolor": "white",
             "linecolor": "white",
             "minorgridcolor": "white",
             "startlinecolor": "#2a3f5f"
            },
            "type": "carpet"
           }
          ],
          "choropleth": [
           {
            "colorbar": {
             "outlinewidth": 0,
             "ticks": ""
            },
            "type": "choropleth"
           }
          ],
          "contour": [
           {
            "colorbar": {
             "outlinewidth": 0,
             "ticks": ""
            },
            "colorscale": [
             [
              0,
              "#0d0887"
             ],
             [
              0.1111111111111111,
              "#46039f"
             ],
             [
              0.2222222222222222,
              "#7201a8"
             ],
             [
              0.3333333333333333,
              "#9c179e"
             ],
             [
              0.4444444444444444,
              "#bd3786"
             ],
             [
              0.5555555555555556,
              "#d8576b"
             ],
             [
              0.6666666666666666,
              "#ed7953"
             ],
             [
              0.7777777777777778,
              "#fb9f3a"
             ],
             [
              0.8888888888888888,
              "#fdca26"
             ],
             [
              1,
              "#f0f921"
             ]
            ],
            "type": "contour"
           }
          ],
          "contourcarpet": [
           {
            "colorbar": {
             "outlinewidth": 0,
             "ticks": ""
            },
            "type": "contourcarpet"
           }
          ],
          "heatmap": [
           {
            "colorbar": {
             "outlinewidth": 0,
             "ticks": ""
            },
            "colorscale": [
             [
              0,
              "#0d0887"
             ],
             [
              0.1111111111111111,
              "#46039f"
             ],
             [
              0.2222222222222222,
              "#7201a8"
             ],
             [
              0.3333333333333333,
              "#9c179e"
             ],
             [
              0.4444444444444444,
              "#bd3786"
             ],
             [
              0.5555555555555556,
              "#d8576b"
             ],
             [
              0.6666666666666666,
              "#ed7953"
             ],
             [
              0.7777777777777778,
              "#fb9f3a"
             ],
             [
              0.8888888888888888,
              "#fdca26"
             ],
             [
              1,
              "#f0f921"
             ]
            ],
            "type": "heatmap"
           }
          ],
          "heatmapgl": [
           {
            "colorbar": {
             "outlinewidth": 0,
             "ticks": ""
            },
            "colorscale": [
             [
              0,
              "#0d0887"
             ],
             [
              0.1111111111111111,
              "#46039f"
             ],
             [
              0.2222222222222222,
              "#7201a8"
             ],
             [
              0.3333333333333333,
              "#9c179e"
             ],
             [
              0.4444444444444444,
              "#bd3786"
             ],
             [
              0.5555555555555556,
              "#d8576b"
             ],
             [
              0.6666666666666666,
              "#ed7953"
             ],
             [
              0.7777777777777778,
              "#fb9f3a"
             ],
             [
              0.8888888888888888,
              "#fdca26"
             ],
             [
              1,
              "#f0f921"
             ]
            ],
            "type": "heatmapgl"
           }
          ],
          "histogram": [
           {
            "marker": {
             "pattern": {
              "fillmode": "overlay",
              "size": 10,
              "solidity": 0.2
             }
            },
            "type": "histogram"
           }
          ],
          "histogram2d": [
           {
            "colorbar": {
             "outlinewidth": 0,
             "ticks": ""
            },
            "colorscale": [
             [
              0,
              "#0d0887"
             ],
             [
              0.1111111111111111,
              "#46039f"
             ],
             [
              0.2222222222222222,
              "#7201a8"
             ],
             [
              0.3333333333333333,
              "#9c179e"
             ],
             [
              0.4444444444444444,
              "#bd3786"
             ],
             [
              0.5555555555555556,
              "#d8576b"
             ],
             [
              0.6666666666666666,
              "#ed7953"
             ],
             [
              0.7777777777777778,
              "#fb9f3a"
             ],
             [
              0.8888888888888888,
              "#fdca26"
             ],
             [
              1,
              "#f0f921"
             ]
            ],
            "type": "histogram2d"
           }
          ],
          "histogram2dcontour": [
           {
            "colorbar": {
             "outlinewidth": 0,
             "ticks": ""
            },
            "colorscale": [
             [
              0,
              "#0d0887"
             ],
             [
              0.1111111111111111,
              "#46039f"
             ],
             [
              0.2222222222222222,
              "#7201a8"
             ],
             [
              0.3333333333333333,
              "#9c179e"
             ],
             [
              0.4444444444444444,
              "#bd3786"
             ],
             [
              0.5555555555555556,
              "#d8576b"
             ],
             [
              0.6666666666666666,
              "#ed7953"
             ],
             [
              0.7777777777777778,
              "#fb9f3a"
             ],
             [
              0.8888888888888888,
              "#fdca26"
             ],
             [
              1,
              "#f0f921"
             ]
            ],
            "type": "histogram2dcontour"
           }
          ],
          "mesh3d": [
           {
            "colorbar": {
             "outlinewidth": 0,
             "ticks": ""
            },
            "type": "mesh3d"
           }
          ],
          "parcoords": [
           {
            "line": {
             "colorbar": {
              "outlinewidth": 0,
              "ticks": ""
             }
            },
            "type": "parcoords"
           }
          ],
          "pie": [
           {
            "automargin": true,
            "type": "pie"
           }
          ],
          "scatter": [
           {
            "fillpattern": {
             "fillmode": "overlay",
             "size": 10,
             "solidity": 0.2
            },
            "type": "scatter"
           }
          ],
          "scatter3d": [
           {
            "line": {
             "colorbar": {
              "outlinewidth": 0,
              "ticks": ""
             }
            },
            "marker": {
             "colorbar": {
              "outlinewidth": 0,
              "ticks": ""
             }
            },
            "type": "scatter3d"
           }
          ],
          "scattercarpet": [
           {
            "marker": {
             "colorbar": {
              "outlinewidth": 0,
              "ticks": ""
             }
            },
            "type": "scattercarpet"
           }
          ],
          "scattergeo": [
           {
            "marker": {
             "colorbar": {
              "outlinewidth": 0,
              "ticks": ""
             }
            },
            "type": "scattergeo"
           }
          ],
          "scattergl": [
           {
            "marker": {
             "colorbar": {
              "outlinewidth": 0,
              "ticks": ""
             }
            },
            "type": "scattergl"
           }
          ],
          "scattermapbox": [
           {
            "marker": {
             "colorbar": {
              "outlinewidth": 0,
              "ticks": ""
             }
            },
            "type": "scattermapbox"
           }
          ],
          "scatterpolar": [
           {
            "marker": {
             "colorbar": {
              "outlinewidth": 0,
              "ticks": ""
             }
            },
            "type": "scatterpolar"
           }
          ],
          "scatterpolargl": [
           {
            "marker": {
             "colorbar": {
              "outlinewidth": 0,
              "ticks": ""
             }
            },
            "type": "scatterpolargl"
           }
          ],
          "scatterternary": [
           {
            "marker": {
             "colorbar": {
              "outlinewidth": 0,
              "ticks": ""
             }
            },
            "type": "scatterternary"
           }
          ],
          "surface": [
           {
            "colorbar": {
             "outlinewidth": 0,
             "ticks": ""
            },
            "colorscale": [
             [
              0,
              "#0d0887"
             ],
             [
              0.1111111111111111,
              "#46039f"
             ],
             [
              0.2222222222222222,
              "#7201a8"
             ],
             [
              0.3333333333333333,
              "#9c179e"
             ],
             [
              0.4444444444444444,
              "#bd3786"
             ],
             [
              0.5555555555555556,
              "#d8576b"
             ],
             [
              0.6666666666666666,
              "#ed7953"
             ],
             [
              0.7777777777777778,
              "#fb9f3a"
             ],
             [
              0.8888888888888888,
              "#fdca26"
             ],
             [
              1,
              "#f0f921"
             ]
            ],
            "type": "surface"
           }
          ],
          "table": [
           {
            "cells": {
             "fill": {
              "color": "#EBF0F8"
             },
             "line": {
              "color": "white"
             }
            },
            "header": {
             "fill": {
              "color": "#C8D4E3"
             },
             "line": {
              "color": "white"
             }
            },
            "type": "table"
           }
          ]
         },
         "layout": {
          "annotationdefaults": {
           "arrowcolor": "#2a3f5f",
           "arrowhead": 0,
           "arrowwidth": 1
          },
          "autotypenumbers": "strict",
          "coloraxis": {
           "colorbar": {
            "outlinewidth": 0,
            "ticks": ""
           }
          },
          "colorscale": {
           "diverging": [
            [
             0,
             "#8e0152"
            ],
            [
             0.1,
             "#c51b7d"
            ],
            [
             0.2,
             "#de77ae"
            ],
            [
             0.3,
             "#f1b6da"
            ],
            [
             0.4,
             "#fde0ef"
            ],
            [
             0.5,
             "#f7f7f7"
            ],
            [
             0.6,
             "#e6f5d0"
            ],
            [
             0.7,
             "#b8e186"
            ],
            [
             0.8,
             "#7fbc41"
            ],
            [
             0.9,
             "#4d9221"
            ],
            [
             1,
             "#276419"
            ]
           ],
           "sequential": [
            [
             0,
             "#0d0887"
            ],
            [
             0.1111111111111111,
             "#46039f"
            ],
            [
             0.2222222222222222,
             "#7201a8"
            ],
            [
             0.3333333333333333,
             "#9c179e"
            ],
            [
             0.4444444444444444,
             "#bd3786"
            ],
            [
             0.5555555555555556,
             "#d8576b"
            ],
            [
             0.6666666666666666,
             "#ed7953"
            ],
            [
             0.7777777777777778,
             "#fb9f3a"
            ],
            [
             0.8888888888888888,
             "#fdca26"
            ],
            [
             1,
             "#f0f921"
            ]
           ],
           "sequentialminus": [
            [
             0,
             "#0d0887"
            ],
            [
             0.1111111111111111,
             "#46039f"
            ],
            [
             0.2222222222222222,
             "#7201a8"
            ],
            [
             0.3333333333333333,
             "#9c179e"
            ],
            [
             0.4444444444444444,
             "#bd3786"
            ],
            [
             0.5555555555555556,
             "#d8576b"
            ],
            [
             0.6666666666666666,
             "#ed7953"
            ],
            [
             0.7777777777777778,
             "#fb9f3a"
            ],
            [
             0.8888888888888888,
             "#fdca26"
            ],
            [
             1,
             "#f0f921"
            ]
           ]
          },
          "colorway": [
           "#636efa",
           "#EF553B",
           "#00cc96",
           "#ab63fa",
           "#FFA15A",
           "#19d3f3",
           "#FF6692",
           "#B6E880",
           "#FF97FF",
           "#FECB52"
          ],
          "font": {
           "color": "#2a3f5f"
          },
          "geo": {
           "bgcolor": "white",
           "lakecolor": "white",
           "landcolor": "#E5ECF6",
           "showlakes": true,
           "showland": true,
           "subunitcolor": "white"
          },
          "hoverlabel": {
           "align": "left"
          },
          "hovermode": "closest",
          "mapbox": {
           "style": "light"
          },
          "paper_bgcolor": "white",
          "plot_bgcolor": "#E5ECF6",
          "polar": {
           "angularaxis": {
            "gridcolor": "white",
            "linecolor": "white",
            "ticks": ""
           },
           "bgcolor": "#E5ECF6",
           "radialaxis": {
            "gridcolor": "white",
            "linecolor": "white",
            "ticks": ""
           }
          },
          "scene": {
           "xaxis": {
            "backgroundcolor": "#E5ECF6",
            "gridcolor": "white",
            "gridwidth": 2,
            "linecolor": "white",
            "showbackground": true,
            "ticks": "",
            "zerolinecolor": "white"
           },
           "yaxis": {
            "backgroundcolor": "#E5ECF6",
            "gridcolor": "white",
            "gridwidth": 2,
            "linecolor": "white",
            "showbackground": true,
            "ticks": "",
            "zerolinecolor": "white"
           },
           "zaxis": {
            "backgroundcolor": "#E5ECF6",
            "gridcolor": "white",
            "gridwidth": 2,
            "linecolor": "white",
            "showbackground": true,
            "ticks": "",
            "zerolinecolor": "white"
           }
          },
          "shapedefaults": {
           "line": {
            "color": "#2a3f5f"
           }
          },
          "ternary": {
           "aaxis": {
            "gridcolor": "white",
            "linecolor": "white",
            "ticks": ""
           },
           "baxis": {
            "gridcolor": "white",
            "linecolor": "white",
            "ticks": ""
           },
           "bgcolor": "#E5ECF6",
           "caxis": {
            "gridcolor": "white",
            "linecolor": "white",
            "ticks": ""
           }
          },
          "title": {
           "x": 0.05
          },
          "xaxis": {
           "automargin": true,
           "gridcolor": "white",
           "linecolor": "white",
           "ticks": "",
           "title": {
            "standoff": 15
           },
           "zerolinecolor": "white",
           "zerolinewidth": 2
          },
          "yaxis": {
           "automargin": true,
           "gridcolor": "white",
           "linecolor": "white",
           "ticks": "",
           "title": {
            "standoff": 15
           },
           "zerolinecolor": "white",
           "zerolinewidth": 2
          }
         }
        },
        "title": {
         "text": "Degree Centrality Over Time"
        },
        "xaxis": {
         "anchor": "y",
         "domain": [
          0,
          1
         ],
         "title": {
          "text": "period"
         }
        },
        "yaxis": {
         "anchor": "x",
         "domain": [
          0,
          1
         ],
         "title": {
          "text": "degree"
         }
        }
       }
      }
     },
     "metadata": {},
     "output_type": "display_data"
    },
    {
     "data": {
      "application/vnd.plotly.v1+json": {
       "config": {
        "plotlyServerURL": "https://plot.ly"
       },
       "data": [
        {
         "hovertemplate": "node=Baker and Sons<br>period=%{x}<br>betweenness=%{y}<extra></extra>",
         "legendgroup": "Baker and Sons",
         "line": {
          "color": "#636efa",
          "dash": "solid"
         },
         "marker": {
          "symbol": "circle"
         },
         "mode": "lines",
         "name": "Baker and Sons",
         "orientation": "v",
         "showlegend": true,
         "type": "scatter",
         "x": [
          "2020-03-01T00:00:00",
          "2020-06-01T00:00:00",
          "2020-09-01T00:00:00",
          "2020-12-01T00:00:00",
          "2021-03-01T00:00:00",
          "2021-06-01T00:00:00",
          "2021-09-01T00:00:00",
          "2021-12-01T00:00:00",
          "2022-03-01T00:00:00",
          "2022-06-01T00:00:00",
          "2022-09-01T00:00:00",
          "2022-12-01T00:00:00",
          "2023-03-01T00:00:00",
          "2023-06-01T00:00:00",
          "2023-09-01T00:00:00",
          "2023-12-01T00:00:00"
         ],
         "xaxis": "x",
         "y": [
          0,
          0,
          0,
          0,
          0,
          0,
          0,
          0,
          0,
          0,
          0,
          0,
          0,
          0,
          0,
          0
         ],
         "yaxis": "y"
        },
        {
         "hovertemplate": "node=Davis, Maldonado and Howe<br>period=%{x}<br>betweenness=%{y}<extra></extra>",
         "legendgroup": "Davis, Maldonado and Howe",
         "line": {
          "color": "#EF553B",
          "dash": "solid"
         },
         "marker": {
          "symbol": "circle"
         },
         "mode": "lines",
         "name": "Davis, Maldonado and Howe",
         "orientation": "v",
         "showlegend": true,
         "type": "scatter",
         "x": [
          "2020-03-01T00:00:00",
          "2020-06-01T00:00:00",
          "2020-09-01T00:00:00",
          "2020-12-01T00:00:00",
          "2021-03-01T00:00:00",
          "2021-06-01T00:00:00",
          "2021-09-01T00:00:00",
          "2021-12-01T00:00:00",
          "2022-03-01T00:00:00",
          "2022-06-01T00:00:00",
          "2022-09-01T00:00:00",
          "2022-12-01T00:00:00",
          "2023-03-01T00:00:00",
          "2023-06-01T00:00:00",
          "2023-09-01T00:00:00",
          "2023-12-01T00:00:00"
         ],
         "xaxis": "x",
         "y": [
          0,
          0,
          0,
          0,
          0,
          0,
          0,
          0,
          0,
          0,
          0,
          0,
          0,
          0,
          0,
          0
         ],
         "yaxis": "y"
        },
        {
         "hovertemplate": "node=Dyer-Campbell<br>period=%{x}<br>betweenness=%{y}<extra></extra>",
         "legendgroup": "Dyer-Campbell",
         "line": {
          "color": "#00cc96",
          "dash": "solid"
         },
         "marker": {
          "symbol": "circle"
         },
         "mode": "lines",
         "name": "Dyer-Campbell",
         "orientation": "v",
         "showlegend": true,
         "type": "scatter",
         "x": [
          "2020-03-01T00:00:00",
          "2020-06-01T00:00:00",
          "2020-09-01T00:00:00",
          "2020-12-01T00:00:00",
          "2021-03-01T00:00:00",
          "2021-06-01T00:00:00",
          "2021-09-01T00:00:00",
          "2021-12-01T00:00:00",
          "2022-03-01T00:00:00",
          "2022-06-01T00:00:00",
          "2022-09-01T00:00:00",
          "2022-12-01T00:00:00",
          "2023-03-01T00:00:00",
          "2023-06-01T00:00:00",
          "2023-09-01T00:00:00",
          "2023-12-01T00:00:00"
         ],
         "xaxis": "x",
         "y": [
          0,
          0,
          0,
          0,
          0,
          0,
          0,
          0,
          0,
          0,
          0,
          0,
          0,
          0,
          0,
          0
         ],
         "yaxis": "y"
        },
        {
         "hovertemplate": "node=Friedman, Gibson and Garcia<br>period=%{x}<br>betweenness=%{y}<extra></extra>",
         "legendgroup": "Friedman, Gibson and Garcia",
         "line": {
          "color": "#ab63fa",
          "dash": "solid"
         },
         "marker": {
          "symbol": "circle"
         },
         "mode": "lines",
         "name": "Friedman, Gibson and Garcia",
         "orientation": "v",
         "showlegend": true,
         "type": "scatter",
         "x": [
          "2020-03-01T00:00:00",
          "2020-06-01T00:00:00",
          "2020-09-01T00:00:00",
          "2020-12-01T00:00:00",
          "2021-03-01T00:00:00",
          "2021-06-01T00:00:00",
          "2021-09-01T00:00:00",
          "2021-12-01T00:00:00",
          "2022-03-01T00:00:00",
          "2022-06-01T00:00:00",
          "2022-09-01T00:00:00",
          "2022-12-01T00:00:00",
          "2023-03-01T00:00:00",
          "2023-06-01T00:00:00",
          "2023-09-01T00:00:00",
          "2023-12-01T00:00:00"
         ],
         "xaxis": "x",
         "y": [
          0,
          0,
          0,
          0,
          0,
          0,
          0,
          0,
          0,
          0,
          0,
          0,
          0,
          0,
          0,
          0
         ],
         "yaxis": "y"
        },
        {
         "hovertemplate": "node=Hancock and Sons<br>period=%{x}<br>betweenness=%{y}<extra></extra>",
         "legendgroup": "Hancock and Sons",
         "line": {
          "color": "#FFA15A",
          "dash": "solid"
         },
         "marker": {
          "symbol": "circle"
         },
         "mode": "lines",
         "name": "Hancock and Sons",
         "orientation": "v",
         "showlegend": true,
         "type": "scatter",
         "x": [
          "2020-03-01T00:00:00",
          "2020-06-01T00:00:00",
          "2020-09-01T00:00:00",
          "2020-12-01T00:00:00",
          "2021-03-01T00:00:00",
          "2021-06-01T00:00:00",
          "2021-09-01T00:00:00",
          "2021-12-01T00:00:00",
          "2022-03-01T00:00:00",
          "2022-06-01T00:00:00",
          "2022-09-01T00:00:00",
          "2022-12-01T00:00:00",
          "2023-03-01T00:00:00",
          "2023-06-01T00:00:00",
          "2023-09-01T00:00:00",
          "2023-12-01T00:00:00"
         ],
         "xaxis": "x",
         "y": [
          0,
          0,
          0,
          0,
          0,
          0,
          0,
          0,
          0,
          0,
          0,
          0,
          0,
          0,
          0,
          0
         ],
         "yaxis": "y"
        },
        {
         "hovertemplate": "node=Mcpherson-Wright<br>period=%{x}<br>betweenness=%{y}<extra></extra>",
         "legendgroup": "Mcpherson-Wright",
         "line": {
          "color": "#19d3f3",
          "dash": "solid"
         },
         "marker": {
          "symbol": "circle"
         },
         "mode": "lines",
         "name": "Mcpherson-Wright",
         "orientation": "v",
         "showlegend": true,
         "type": "scatter",
         "x": [
          "2020-03-01T00:00:00",
          "2020-06-01T00:00:00",
          "2020-09-01T00:00:00",
          "2020-12-01T00:00:00",
          "2021-03-01T00:00:00",
          "2021-06-01T00:00:00",
          "2021-09-01T00:00:00",
          "2021-12-01T00:00:00",
          "2022-03-01T00:00:00",
          "2022-06-01T00:00:00",
          "2022-09-01T00:00:00",
          "2022-12-01T00:00:00",
          "2023-03-01T00:00:00",
          "2023-06-01T00:00:00",
          "2023-09-01T00:00:00",
          "2023-12-01T00:00:00"
         ],
         "xaxis": "x",
         "y": [
          3.333333086419772e-8,
          3.229031733503103e-8,
          3.128272150945777e-8,
          3.0396895233200764e-8,
          2.9587307295895096e-8,
          2.8712014443546967e-8,
          2.7927016593991226e-8,
          2.71979314228456e-8,
          2.6502010213792285e-8,
          2.578777335304795e-8,
          2.50806083786454e-8,
          2.4462404548580816e-8,
          2.378467876196159e-8,
          2.31998802611217e-8,
          2.261019280957481e-8,
          2.2091913750812247e-8
         ],
         "yaxis": "y"
        },
        {
         "hovertemplate": "node=Parks Ltd<br>period=%{x}<br>betweenness=%{y}<extra></extra>",
         "legendgroup": "Parks Ltd",
         "line": {
          "color": "#FF6692",
          "dash": "solid"
         },
         "marker": {
          "symbol": "circle"
         },
         "mode": "lines",
         "name": "Parks Ltd",
         "orientation": "v",
         "showlegend": true,
         "type": "scatter",
         "x": [
          "2020-03-01T00:00:00",
          "2020-06-01T00:00:00",
          "2020-09-01T00:00:00",
          "2020-12-01T00:00:00",
          "2021-03-01T00:00:00",
          "2021-06-01T00:00:00",
          "2021-09-01T00:00:00",
          "2021-12-01T00:00:00",
          "2022-03-01T00:00:00",
          "2022-06-01T00:00:00",
          "2022-09-01T00:00:00",
          "2022-12-01T00:00:00",
          "2023-03-01T00:00:00",
          "2023-06-01T00:00:00",
          "2023-09-01T00:00:00",
          "2023-12-01T00:00:00"
         ],
         "xaxis": "x",
         "y": [
          0,
          0,
          0,
          0,
          0,
          0,
          0,
          0,
          0,
          0,
          0,
          0,
          0,
          0,
          0,
          0
         ],
         "yaxis": "y"
        },
        {
         "hovertemplate": "node=Vasquez-Gonzalez<br>period=%{x}<br>betweenness=%{y}<extra></extra>",
         "legendgroup": "Vasquez-Gonzalez",
         "line": {
          "color": "#B6E880",
          "dash": "solid"
         },
         "marker": {
          "symbol": "circle"
         },
         "mode": "lines",
         "name": "Vasquez-Gonzalez",
         "orientation": "v",
         "showlegend": true,
         "type": "scatter",
         "x": [
          "2020-03-01T00:00:00",
          "2020-06-01T00:00:00",
          "2020-09-01T00:00:00",
          "2020-12-01T00:00:00",
          "2021-03-01T00:00:00",
          "2021-06-01T00:00:00",
          "2021-09-01T00:00:00",
          "2021-12-01T00:00:00",
          "2022-03-01T00:00:00",
          "2022-06-01T00:00:00",
          "2022-09-01T00:00:00",
          "2022-12-01T00:00:00",
          "2023-03-01T00:00:00",
          "2023-06-01T00:00:00",
          "2023-09-01T00:00:00",
          "2023-12-01T00:00:00"
         ],
         "xaxis": "x",
         "y": [
          1.6049381527206306e-8,
          1.674312750705313e-8,
          1.6220670412311436e-8,
          1.5761353083881883e-8,
          1.5341566746019682e-8,
          1.4887711192950278e-8,
          1.4480675270958411e-8,
          1.4102631108142164e-8,
          1.3741783073818222e-8,
          1.3371438034913752e-8,
          1.3004759900038356e-8,
          1.2684209765930792e-8,
          1.2332796395091196e-8,
          1.2029567542803844e-8,
          1.1723803679038792e-8,
          1.1455066389310054e-8
         ],
         "yaxis": "y"
        },
        {
         "hovertemplate": "node=TshimbuaDredge Express Incorporated<br>period=%{x}<br>betweenness=%{y}<extra></extra>",
         "legendgroup": "TshimbuaDredge Express Incorporated",
         "line": {
          "color": "#FF97FF",
          "dash": "solid"
         },
         "marker": {
          "symbol": "circle"
         },
         "mode": "lines",
         "name": "TshimbuaDredge Express Incorporated",
         "orientation": "v",
         "showlegend": true,
         "type": "scatter",
         "x": [
          "2020-03-01T00:00:00",
          "2020-06-01T00:00:00",
          "2020-09-01T00:00:00",
          "2020-12-01T00:00:00",
          "2021-03-01T00:00:00",
          "2021-06-01T00:00:00",
          "2021-09-01T00:00:00",
          "2021-12-01T00:00:00",
          "2022-03-01T00:00:00",
          "2022-06-01T00:00:00",
          "2022-09-01T00:00:00",
          "2022-12-01T00:00:00",
          "2023-03-01T00:00:00",
          "2023-06-01T00:00:00",
          "2023-09-01T00:00:00",
          "2023-12-01T00:00:00"
         ],
         "xaxis": "x",
         "y": [
          0,
          0,
          0,
          0,
          0,
          0,
          0,
          0,
          0,
          0,
          0,
          0,
          0,
          0,
          0,
          0
         ],
         "yaxis": "y"
        },
        {
         "hovertemplate": "node=KambalaAqua Delivery Plc<br>period=%{x}<br>betweenness=%{y}<extra></extra>",
         "legendgroup": "KambalaAqua Delivery Plc",
         "line": {
          "color": "#FECB52",
          "dash": "solid"
         },
         "marker": {
          "symbol": "circle"
         },
         "mode": "lines",
         "name": "KambalaAqua Delivery Plc",
         "orientation": "v",
         "showlegend": true,
         "type": "scatter",
         "x": [
          "2020-03-01T00:00:00",
          "2020-06-01T00:00:00",
          "2020-09-01T00:00:00",
          "2020-12-01T00:00:00",
          "2021-03-01T00:00:00",
          "2021-06-01T00:00:00",
          "2021-09-01T00:00:00",
          "2021-12-01T00:00:00",
          "2022-03-01T00:00:00",
          "2022-06-01T00:00:00",
          "2022-09-01T00:00:00",
          "2022-12-01T00:00:00",
          "2023-03-01T00:00:00",
          "2023-06-01T00:00:00",
          "2023-09-01T00:00:00",
          "2023-12-01T00:00:00"
         ],
         "xaxis": "x",
         "y": [
          0,
          0,
          0,
          0,
          0,
          0,
          0,
          0,
          0,
          0,
          0,
          0,
          0,
          0,
          0,
          0
         ],
         "yaxis": "y"
        }
       ],
       "layout": {
        "legend": {
         "title": {
          "text": "node"
         },
         "tracegroupgap": 0
        },
        "template": {
         "data": {
          "bar": [
           {
            "error_x": {
             "color": "#2a3f5f"
            },
            "error_y": {
             "color": "#2a3f5f"
            },
            "marker": {
             "line": {
              "color": "#E5ECF6",
              "width": 0.5
             },
             "pattern": {
              "fillmode": "overlay",
              "size": 10,
              "solidity": 0.2
             }
            },
            "type": "bar"
           }
          ],
          "barpolar": [
           {
            "marker": {
             "line": {
              "color": "#E5ECF6",
              "width": 0.5
             },
             "pattern": {
              "fillmode": "overlay",
              "size": 10,
              "solidity": 0.2
             }
            },
            "type": "barpolar"
           }
          ],
          "carpet": [
           {
            "aaxis": {
             "endlinecolor": "#2a3f5f",
             "gridcolor": "white",
             "linecolor": "white",
             "minorgridcolor": "white",
             "startlinecolor": "#2a3f5f"
            },
            "baxis": {
             "endlinecolor": "#2a3f5f",
             "gridcolor": "white",
             "linecolor": "white",
             "minorgridcolor": "white",
             "startlinecolor": "#2a3f5f"
            },
            "type": "carpet"
           }
          ],
          "choropleth": [
           {
            "colorbar": {
             "outlinewidth": 0,
             "ticks": ""
            },
            "type": "choropleth"
           }
          ],
          "contour": [
           {
            "colorbar": {
             "outlinewidth": 0,
             "ticks": ""
            },
            "colorscale": [
             [
              0,
              "#0d0887"
             ],
             [
              0.1111111111111111,
              "#46039f"
             ],
             [
              0.2222222222222222,
              "#7201a8"
             ],
             [
              0.3333333333333333,
              "#9c179e"
             ],
             [
              0.4444444444444444,
              "#bd3786"
             ],
             [
              0.5555555555555556,
              "#d8576b"
             ],
             [
              0.6666666666666666,
              "#ed7953"
             ],
             [
              0.7777777777777778,
              "#fb9f3a"
             ],
             [
              0.8888888888888888,
              "#fdca26"
             ],
             [
              1,
              "#f0f921"
             ]
            ],
            "type": "contour"
           }
          ],
          "contourcarpet": [
           {
            "colorbar": {
             "outlinewidth": 0,
             "ticks": ""
            },
            "type": "contourcarpet"
           }
          ],
          "heatmap": [
           {
            "colorbar": {
             "outlinewidth": 0,
             "ticks": ""
            },
            "colorscale": [
             [
              0,
              "#0d0887"
             ],
             [
              0.1111111111111111,
              "#46039f"
             ],
             [
              0.2222222222222222,
              "#7201a8"
             ],
             [
              0.3333333333333333,
              "#9c179e"
             ],
             [
              0.4444444444444444,
              "#bd3786"
             ],
             [
              0.5555555555555556,
              "#d8576b"
             ],
             [
              0.6666666666666666,
              "#ed7953"
             ],
             [
              0.7777777777777778,
              "#fb9f3a"
             ],
             [
              0.8888888888888888,
              "#fdca26"
             ],
             [
              1,
              "#f0f921"
             ]
            ],
            "type": "heatmap"
           }
          ],
          "heatmapgl": [
           {
            "colorbar": {
             "outlinewidth": 0,
             "ticks": ""
            },
            "colorscale": [
             [
              0,
              "#0d0887"
             ],
             [
              0.1111111111111111,
              "#46039f"
             ],
             [
              0.2222222222222222,
              "#7201a8"
             ],
             [
              0.3333333333333333,
              "#9c179e"
             ],
             [
              0.4444444444444444,
              "#bd3786"
             ],
             [
              0.5555555555555556,
              "#d8576b"
             ],
             [
              0.6666666666666666,
              "#ed7953"
             ],
             [
              0.7777777777777778,
              "#fb9f3a"
             ],
             [
              0.8888888888888888,
              "#fdca26"
             ],
             [
              1,
              "#f0f921"
             ]
            ],
            "type": "heatmapgl"
           }
          ],
          "histogram": [
           {
            "marker": {
             "pattern": {
              "fillmode": "overlay",
              "size": 10,
              "solidity": 0.2
             }
            },
            "type": "histogram"
           }
          ],
          "histogram2d": [
           {
            "colorbar": {
             "outlinewidth": 0,
             "ticks": ""
            },
            "colorscale": [
             [
              0,
              "#0d0887"
             ],
             [
              0.1111111111111111,
              "#46039f"
             ],
             [
              0.2222222222222222,
              "#7201a8"
             ],
             [
              0.3333333333333333,
              "#9c179e"
             ],
             [
              0.4444444444444444,
              "#bd3786"
             ],
             [
              0.5555555555555556,
              "#d8576b"
             ],
             [
              0.6666666666666666,
              "#ed7953"
             ],
             [
              0.7777777777777778,
              "#fb9f3a"
             ],
             [
              0.8888888888888888,
              "#fdca26"
             ],
             [
              1,
              "#f0f921"
             ]
            ],
            "type": "histogram2d"
           }
          ],
          "histogram2dcontour": [
           {
            "colorbar": {
             "outlinewidth": 0,
             "ticks": ""
            },
            "colorscale": [
             [
              0,
              "#0d0887"
             ],
             [
              0.1111111111111111,
              "#46039f"
             ],
             [
              0.2222222222222222,
              "#7201a8"
             ],
             [
              0.3333333333333333,
              "#9c179e"
             ],
             [
              0.4444444444444444,
              "#bd3786"
             ],
             [
              0.5555555555555556,
              "#d8576b"
             ],
             [
              0.6666666666666666,
              "#ed7953"
             ],
             [
              0.7777777777777778,
              "#fb9f3a"
             ],
             [
              0.8888888888888888,
              "#fdca26"
             ],
             [
              1,
              "#f0f921"
             ]
            ],
            "type": "histogram2dcontour"
           }
          ],
          "mesh3d": [
           {
            "colorbar": {
             "outlinewidth": 0,
             "ticks": ""
            },
            "type": "mesh3d"
           }
          ],
          "parcoords": [
           {
            "line": {
             "colorbar": {
              "outlinewidth": 0,
              "ticks": ""
             }
            },
            "type": "parcoords"
           }
          ],
          "pie": [
           {
            "automargin": true,
            "type": "pie"
           }
          ],
          "scatter": [
           {
            "fillpattern": {
             "fillmode": "overlay",
             "size": 10,
             "solidity": 0.2
            },
            "type": "scatter"
           }
          ],
          "scatter3d": [
           {
            "line": {
             "colorbar": {
              "outlinewidth": 0,
              "ticks": ""
             }
            },
            "marker": {
             "colorbar": {
              "outlinewidth": 0,
              "ticks": ""
             }
            },
            "type": "scatter3d"
           }
          ],
          "scattercarpet": [
           {
            "marker": {
             "colorbar": {
              "outlinewidth": 0,
              "ticks": ""
             }
            },
            "type": "scattercarpet"
           }
          ],
          "scattergeo": [
           {
            "marker": {
             "colorbar": {
              "outlinewidth": 0,
              "ticks": ""
             }
            },
            "type": "scattergeo"
           }
          ],
          "scattergl": [
           {
            "marker": {
             "colorbar": {
              "outlinewidth": 0,
              "ticks": ""
             }
            },
            "type": "scattergl"
           }
          ],
          "scattermapbox": [
           {
            "marker": {
             "colorbar": {
              "outlinewidth": 0,
              "ticks": ""
             }
            },
            "type": "scattermapbox"
           }
          ],
          "scatterpolar": [
           {
            "marker": {
             "colorbar": {
              "outlinewidth": 0,
              "ticks": ""
             }
            },
            "type": "scatterpolar"
           }
          ],
          "scatterpolargl": [
           {
            "marker": {
             "colorbar": {
              "outlinewidth": 0,
              "ticks": ""
             }
            },
            "type": "scatterpolargl"
           }
          ],
          "scatterternary": [
           {
            "marker": {
             "colorbar": {
              "outlinewidth": 0,
              "ticks": ""
             }
            },
            "type": "scatterternary"
           }
          ],
          "surface": [
           {
            "colorbar": {
             "outlinewidth": 0,
             "ticks": ""
            },
            "colorscale": [
             [
              0,
              "#0d0887"
             ],
             [
              0.1111111111111111,
              "#46039f"
             ],
             [
              0.2222222222222222,
              "#7201a8"
             ],
             [
              0.3333333333333333,
              "#9c179e"
             ],
             [
              0.4444444444444444,
              "#bd3786"
             ],
             [
              0.5555555555555556,
              "#d8576b"
             ],
             [
              0.6666666666666666,
              "#ed7953"
             ],
             [
              0.7777777777777778,
              "#fb9f3a"
             ],
             [
              0.8888888888888888,
              "#fdca26"
             ],
             [
              1,
              "#f0f921"
             ]
            ],
            "type": "surface"
           }
          ],
          "table": [
           {
            "cells": {
             "fill": {
              "color": "#EBF0F8"
             },
             "line": {
              "color": "white"
             }
            },
            "header": {
             "fill": {
              "color": "#C8D4E3"
             },
             "line": {
              "color": "white"
             }
            },
            "type": "table"
           }
          ]
         },
         "layout": {
          "annotationdefaults": {
           "arrowcolor": "#2a3f5f",
           "arrowhead": 0,
           "arrowwidth": 1
          },
          "autotypenumbers": "strict",
          "coloraxis": {
           "colorbar": {
            "outlinewidth": 0,
            "ticks": ""
           }
          },
          "colorscale": {
           "diverging": [
            [
             0,
             "#8e0152"
            ],
            [
             0.1,
             "#c51b7d"
            ],
            [
             0.2,
             "#de77ae"
            ],
            [
             0.3,
             "#f1b6da"
            ],
            [
             0.4,
             "#fde0ef"
            ],
            [
             0.5,
             "#f7f7f7"
            ],
            [
             0.6,
             "#e6f5d0"
            ],
            [
             0.7,
             "#b8e186"
            ],
            [
             0.8,
             "#7fbc41"
            ],
            [
             0.9,
             "#4d9221"
            ],
            [
             1,
             "#276419"
            ]
           ],
           "sequential": [
            [
             0,
             "#0d0887"
            ],
            [
             0.1111111111111111,
             "#46039f"
            ],
            [
             0.2222222222222222,
             "#7201a8"
            ],
            [
             0.3333333333333333,
             "#9c179e"
            ],
            [
             0.4444444444444444,
             "#bd3786"
            ],
            [
             0.5555555555555556,
             "#d8576b"
            ],
            [
             0.6666666666666666,
             "#ed7953"
            ],
            [
             0.7777777777777778,
             "#fb9f3a"
            ],
            [
             0.8888888888888888,
             "#fdca26"
            ],
            [
             1,
             "#f0f921"
            ]
           ],
           "sequentialminus": [
            [
             0,
             "#0d0887"
            ],
            [
             0.1111111111111111,
             "#46039f"
            ],
            [
             0.2222222222222222,
             "#7201a8"
            ],
            [
             0.3333333333333333,
             "#9c179e"
            ],
            [
             0.4444444444444444,
             "#bd3786"
            ],
            [
             0.5555555555555556,
             "#d8576b"
            ],
            [
             0.6666666666666666,
             "#ed7953"
            ],
            [
             0.7777777777777778,
             "#fb9f3a"
            ],
            [
             0.8888888888888888,
             "#fdca26"
            ],
            [
             1,
             "#f0f921"
            ]
           ]
          },
          "colorway": [
           "#636efa",
           "#EF553B",
           "#00cc96",
           "#ab63fa",
           "#FFA15A",
           "#19d3f3",
           "#FF6692",
           "#B6E880",
           "#FF97FF",
           "#FECB52"
          ],
          "font": {
           "color": "#2a3f5f"
          },
          "geo": {
           "bgcolor": "white",
           "lakecolor": "white",
           "landcolor": "#E5ECF6",
           "showlakes": true,
           "showland": true,
           "subunitcolor": "white"
          },
          "hoverlabel": {
           "align": "left"
          },
          "hovermode": "closest",
          "mapbox": {
           "style": "light"
          },
          "paper_bgcolor": "white",
          "plot_bgcolor": "#E5ECF6",
          "polar": {
           "angularaxis": {
            "gridcolor": "white",
            "linecolor": "white",
            "ticks": ""
           },
           "bgcolor": "#E5ECF6",
           "radialaxis": {
            "gridcolor": "white",
            "linecolor": "white",
            "ticks": ""
           }
          },
          "scene": {
           "xaxis": {
            "backgroundcolor": "#E5ECF6",
            "gridcolor": "white",
            "gridwidth": 2,
            "linecolor": "white",
            "showbackground": true,
            "ticks": "",
            "zerolinecolor": "white"
           },
           "yaxis": {
            "backgroundcolor": "#E5ECF6",
            "gridcolor": "white",
            "gridwidth": 2,
            "linecolor": "white",
            "showbackground": true,
            "ticks": "",
            "zerolinecolor": "white"
           },
           "zaxis": {
            "backgroundcolor": "#E5ECF6",
            "gridcolor": "white",
            "gridwidth": 2,
            "linecolor": "white",
            "showbackground": true,
            "ticks": "",
            "zerolinecolor": "white"
           }
          },
          "shapedefaults": {
           "line": {
            "color": "#2a3f5f"
           }
          },
          "ternary": {
           "aaxis": {
            "gridcolor": "white",
            "linecolor": "white",
            "ticks": ""
           },
           "baxis": {
            "gridcolor": "white",
            "linecolor": "white",
            "ticks": ""
           },
           "bgcolor": "#E5ECF6",
           "caxis": {
            "gridcolor": "white",
            "linecolor": "white",
            "ticks": ""
           }
          },
          "title": {
           "x": 0.05
          },
          "xaxis": {
           "automargin": true,
           "gridcolor": "white",
           "linecolor": "white",
           "ticks": "",
           "title": {
            "standoff": 15
           },
           "zerolinecolor": "white",
           "zerolinewidth": 2
          },
          "yaxis": {
           "automargin": true,
           "gridcolor": "white",
           "linecolor": "white",
           "ticks": "",
           "title": {
            "standoff": 15
           },
           "zerolinecolor": "white",
           "zerolinewidth": 2
          }
         }
        },
        "title": {
         "text": "Betweenness Centrality Over Time"
        },
        "xaxis": {
         "anchor": "y",
         "domain": [
          0,
          1
         ],
         "title": {
          "text": "period"
         }
        },
        "yaxis": {
         "anchor": "x",
         "domain": [
          0,
          1
         ],
         "title": {
          "text": "betweenness"
         }
        }
       }
      }
     },
     "metadata": {},
     "output_type": "display_data"
    }
   ],
   "source": [
    "import plotly.express as px\n",
    "\n",
    "# Visualização para Eigenvector Centrality\n",
    "fig = px.line(centrality_df_filtered, x='period', y='eigenvector', color='node', title='Eigenvector Centrality Over Time')\n",
    "fig.show()\n",
    "\n",
    "# Visualização para Degree Centrality\n",
    "fig = px.line(centrality_df_filtered, x='period', y='degree', color='node', title='Degree Centrality Over Time')\n",
    "fig.show()\n",
    "\n",
    "# Visualização para Betweenness Centrality\n",
    "fig = px.line(centrality_df_filtered, x='period', y='betweenness', color='node', title='Betweenness Centrality Over Time')\n",
    "fig.show()\n"
   ]
  },
  {
   "cell_type": "code",
   "execution_count": null,
   "metadata": {},
   "outputs": [],
   "source": [
    "df_centrality_old = pd.read_csv('centrality.csv')\n",
    "df_centrality_old"
   ]
  },
  {
   "cell_type": "code",
   "execution_count": 43,
   "metadata": {},
   "outputs": [],
   "source": [
    "#rename Unnamed: 0 to company\n",
    "df_centrality_old = df_centrality_old.rename(columns={'Unnamed: 0':'Node'})\n",
    "df_centrality_old = df_centrality_old.rename(columns={'Betweenness Centrality_before':'Betweenness_Centrality_before'})\n",
    "df_centrality_old = df_centrality_old.rename(columns={'Betweenness Centrality_after':'Betweenness_Centrality_after'})\n"
   ]
  },
  {
   "cell_type": "code",
   "execution_count": 46,
   "metadata": {},
   "outputs": [
    {
     "data": {
      "text/html": [
       "<div>\n",
       "<style scoped>\n",
       "    .dataframe tbody tr th:only-of-type {\n",
       "        vertical-align: middle;\n",
       "    }\n",
       "\n",
       "    .dataframe tbody tr th {\n",
       "        vertical-align: top;\n",
       "    }\n",
       "\n",
       "    .dataframe thead th {\n",
       "        text-align: right;\n",
       "    }\n",
       "</style>\n",
       "<table border=\"1\" class=\"dataframe\">\n",
       "  <thead>\n",
       "    <tr style=\"text-align: right;\">\n",
       "      <th></th>\n",
       "      <th>Node</th>\n",
       "      <th>Degree_Centrality_before</th>\n",
       "      <th>Eigenvector_Centrality_before</th>\n",
       "      <th>Betweenness_Centrality_before</th>\n",
       "      <th>Degree_Centrality_after</th>\n",
       "      <th>Eigenvector_Centrality_after</th>\n",
       "      <th>Betweenness_Centrality_after</th>\n",
       "    </tr>\n",
       "  </thead>\n",
       "  <tbody>\n",
       "    <tr>\n",
       "      <th>60463</th>\n",
       "      <td>SouthSeafood Express Corp</td>\n",
       "      <td>0.000017</td>\n",
       "      <td>8.506850e-98</td>\n",
       "      <td>0.0</td>\n",
       "      <td>0.000017</td>\n",
       "      <td>5.173217e-11</td>\n",
       "      <td>0.0</td>\n",
       "    </tr>\n",
       "  </tbody>\n",
       "</table>\n",
       "</div>"
      ],
      "text/plain": [
       "                            Node  Degree_Centrality_before  \\\n",
       "60463  SouthSeafood Express Corp                  0.000017   \n",
       "\n",
       "       Eigenvector_Centrality_before  Betweenness_Centrality_before  \\\n",
       "60463                   8.506850e-98                            0.0   \n",
       "\n",
       "       Degree_Centrality_after  Eigenvector_Centrality_after  \\\n",
       "60463                 0.000017                  5.173217e-11   \n",
       "\n",
       "       Betweenness_Centrality_after  \n",
       "60463                           0.0  "
      ]
     },
     "execution_count": 46,
     "metadata": {},
     "output_type": "execute_result"
    }
   ],
   "source": [
    "#company com nome southseafood\n",
    "df_centrality_old[df_centrality_old['Node'] == 'SouthSeafood Express Corp']"
   ]
  },
  {
   "cell_type": "code",
   "execution_count": 50,
   "metadata": {},
   "outputs": [
    {
     "name": "stdout",
     "output_type": "stream",
     "text": [
      "                           Node  Degree_Centrality_before  \\\n",
      "0                   Downs Group                  0.001983   \n",
      "1                  Sandra Young                  0.001504   \n",
      "2               Anne Villanueva                  0.001504   \n",
      "3              Jennifer Gardner                  0.001504   \n",
      "4                    Anna Davis                  0.001504   \n",
      "5    Mills, Atkinson and Chavez                  0.001520   \n",
      "6                 Melissa Davis                  0.001487   \n",
      "7                 Joseph Gentry                  0.001487   \n",
      "8                 Breanna Price                  0.001487   \n",
      "9              Kenneth Gonzales                  0.001487   \n",
      "10         Polák Procházka a.s.                  0.000000   \n",
      "11             Catherine Macias                  0.001487   \n",
      "12                   Erica Ford                  0.001487   \n",
      "13                Kelsey Ortega                  0.001487   \n",
      "14                  Sharon Moon                  0.000463   \n",
      "15             Steven Robertson                  0.000066   \n",
      "16  Johnson, Morales and Castro                  0.000958   \n",
      "17              Abbott-Harrison                  0.000099   \n",
      "18                     Hart Ltd                  0.001140   \n",
      "19                      Orr Inc                  0.000760   \n",
      "20       Blankenship-Strickland                  0.000413   \n",
      "21           Michael Howard DDS                  0.000149   \n",
      "22                   Walker LLC                  0.000496   \n",
      "\n",
      "    Eigenvector_Centrality_before  Betweenness_Centrality_before  \\\n",
      "0                    2.072037e-11                       0.006250   \n",
      "1                    1.498857e-01                       0.003766   \n",
      "2                    1.498857e-01                       0.003766   \n",
      "3                    1.498857e-01                       0.003766   \n",
      "4                    1.498858e-01                       0.003790   \n",
      "5                    1.971980e-08                       0.010315   \n",
      "6                    1.498104e-01                       0.003706   \n",
      "7                    1.498104e-01                       0.003706   \n",
      "8                    1.498104e-01                       0.003706   \n",
      "9                    1.498104e-01                       0.003706   \n",
      "10                  4.213984e-161                       0.000000   \n",
      "11                   1.498104e-01                       0.003706   \n",
      "12                   1.498104e-01                       0.003706   \n",
      "13                   1.498104e-01                       0.003706   \n",
      "14                   1.197087e-02                       0.016894   \n",
      "15                   3.432226e-05                       0.015198   \n",
      "16                   7.553055e-02                       0.013667   \n",
      "17                   7.742384e-07                       0.013471   \n",
      "18                   4.058246e-08                       0.013408   \n",
      "19                   7.573090e-02                       0.011855   \n",
      "20                   3.946222e-04                       0.010619   \n",
      "21                   3.361520e-03                       0.010366   \n",
      "22                   7.446604e-02                       0.010188   \n",
      "\n",
      "    Degree_Centrality_after  Eigenvector_Centrality_after  \\\n",
      "0                  0.000000                  1.973425e-16   \n",
      "1                  0.000017                  1.213936e-01   \n",
      "2                  0.000017                  1.213936e-01   \n",
      "3                  0.000017                  1.213936e-01   \n",
      "4                  0.000017                  1.213936e-01   \n",
      "5                  0.000000                  1.973425e-16   \n",
      "6                  0.000017                  1.213936e-01   \n",
      "7                  0.000017                  1.213936e-01   \n",
      "8                  0.000017                  1.213936e-01   \n",
      "9                  0.000017                  1.213936e-01   \n",
      "10                 0.000562                  7.058820e-01   \n",
      "11                 0.000017                  1.213936e-01   \n",
      "12                 0.000017                  1.213936e-01   \n",
      "13                 0.000017                  1.213936e-01   \n",
      "14                 0.000017                  1.213936e-01   \n",
      "15                 0.000000                  1.973425e-16   \n",
      "16                 0.000000                  1.973425e-16   \n",
      "17                 0.000000                  1.973425e-16   \n",
      "18                 0.000000                  1.973425e-16   \n",
      "19                 0.000000                  1.973425e-16   \n",
      "20                 0.000000                  1.973425e-16   \n",
      "21                 0.000000                  1.973425e-16   \n",
      "22                 0.000000                  1.973425e-16   \n",
      "\n",
      "    Betweenness_Centrality_after  Degree_Centrality_mean  \\\n",
      "0                   0.000000e+00                0.000991   \n",
      "1                   0.000000e+00                0.000760   \n",
      "2                   0.000000e+00                0.000760   \n",
      "3                   0.000000e+00                0.000760   \n",
      "4                   0.000000e+00                0.000760   \n",
      "5                   0.000000e+00                0.000760   \n",
      "6                   0.000000e+00                0.000752   \n",
      "7                   0.000000e+00                0.000752   \n",
      "8                   0.000000e+00                0.000752   \n",
      "9                   0.000000e+00                0.000752   \n",
      "10                  3.063491e-07                0.000281   \n",
      "11                  0.000000e+00                0.000752   \n",
      "12                  0.000000e+00                0.000752   \n",
      "13                  0.000000e+00                0.000752   \n",
      "14                  0.000000e+00                0.000240   \n",
      "15                  0.000000e+00                0.000033   \n",
      "16                  0.000000e+00                0.000479   \n",
      "17                  0.000000e+00                0.000050   \n",
      "18                  0.000000e+00                0.000570   \n",
      "19                  0.000000e+00                0.000380   \n",
      "20                  0.000000e+00                0.000207   \n",
      "21                  0.000000e+00                0.000074   \n",
      "22                  0.000000e+00                0.000248   \n",
      "\n",
      "    Eigenvector_Centrality_mean  Betweenness_Centrality_mean  \n",
      "0                  1.036028e-11                 3.124773e-03  \n",
      "1                  1.356396e-01                 1.882961e-03  \n",
      "2                  1.356396e-01                 1.882961e-03  \n",
      "3                  1.356396e-01                 1.882961e-03  \n",
      "4                  1.356397e-01                 1.894999e-03  \n",
      "5                  9.859899e-09                 5.157642e-03  \n",
      "6                  1.356020e-01                 1.852854e-03  \n",
      "7                  1.356020e-01                 1.852854e-03  \n",
      "8                  1.356020e-01                 1.852854e-03  \n",
      "9                  1.356020e-01                 1.852854e-03  \n",
      "10                 3.529410e-01                 1.531745e-07  \n",
      "11                 1.356020e-01                 1.852854e-03  \n",
      "12                 1.356020e-01                 1.852854e-03  \n",
      "13                 1.356020e-01                 1.852854e-03  \n",
      "14                 6.668222e-02                 8.447039e-03  \n",
      "15                 1.716113e-05                 7.599248e-03  \n",
      "16                 3.776527e-02                 6.833677e-03  \n",
      "17                 3.871192e-07                 6.735488e-03  \n",
      "18                 2.029123e-08                 6.704065e-03  \n",
      "19                 3.786545e-02                 5.927663e-03  \n",
      "20                 1.973111e-04                 5.309439e-03  \n",
      "21                 1.680760e-03                 5.182962e-03  \n",
      "22                 3.723302e-02                 5.093981e-03  \n"
     ]
    }
   ],
   "source": [
    "# Calcular a média das centralidades para cada nó\n",
    "df_centrality_old['Degree_Centrality_mean'] = df_centrality_old[['Degree_Centrality_before', 'Degree_Centrality_after']].mean(axis=1)\n",
    "df_centrality_old['Eigenvector_Centrality_mean'] = df_centrality_old[['Eigenvector_Centrality_before', 'Eigenvector_Centrality_after']].mean(axis=1)\n",
    "df_centrality_old['Betweenness_Centrality_mean'] = df_centrality_old[['Betweenness_Centrality_before', 'Betweenness_Centrality_after']].mean(axis=1)\n",
    "\n",
    "# Selecionar os top 10 nós baseados na média das centralidades\n",
    "top_10_degree = df_centrality_old.sort_values(by='Degree_Centrality_mean', ascending=False).head(10)\n",
    "top_10_eigenvector = df_centrality_old.sort_values(by='Eigenvector_Centrality_mean', ascending=False).head(10)\n",
    "top_10_betweenness = df_centrality_old.sort_values(by='Betweenness_Centrality_mean', ascending=False).head(10)\n",
    "\n",
    "# Combinar os top 10 nós em um DataFrame único, removendo duplicatas\n",
    "top_nodes = pd.concat([top_10_degree, top_10_eigenvector, top_10_betweenness]).drop_duplicates().reset_index(drop=True)\n",
    "\n",
    "# Exibir os top nós selecionados\n",
    "print(top_nodes)\n"
   ]
  },
  {
   "cell_type": "code",
   "execution_count": 51,
   "metadata": {},
   "outputs": [
    {
     "data": {
      "application/vnd.plotly.v1+json": {
       "config": {
        "plotlyServerURL": "https://plot.ly"
       },
       "data": [
        {
         "name": "Degree Centrality Before",
         "type": "bar",
         "x": [
          "Downs Group",
          "Mills, Atkinson and Chavez",
          "Joseph Gentry",
          "Anna Davis",
          "Jennifer Gardner",
          "Melissa Davis",
          "Breanna Price",
          "Sandra Young",
          "Kenneth Gonzales",
          "Anne Villanueva"
         ],
         "y": [
          0.0019828483616715,
          0.0015201837439481,
          0.0014871362712536,
          0.0015036600076009,
          0.0015036600076009,
          0.0014871362712536,
          0.0014871362712536,
          0.0015036600076009,
          0.0014871362712536,
          0.0015036600076009
         ]
        },
        {
         "name": "Degree Centrality After",
         "type": "bar",
         "x": [
          "Downs Group",
          "Mills, Atkinson and Chavez",
          "Joseph Gentry",
          "Anna Davis",
          "Jennifer Gardner",
          "Melissa Davis",
          "Breanna Price",
          "Sandra Young",
          "Kenneth Gonzales",
          "Anne Villanueva"
         ],
         "y": [
          0,
          0,
          0.00001652373634726284,
          0.00001652373634726284,
          0.00001652373634726284,
          0.00001652373634726284,
          0.00001652373634726284,
          0.00001652373634726284,
          0.00001652373634726284,
          0.00001652373634726284
         ]
        }
       ],
       "layout": {
        "barmode": "group",
        "template": {
         "data": {
          "bar": [
           {
            "error_x": {
             "color": "#2a3f5f"
            },
            "error_y": {
             "color": "#2a3f5f"
            },
            "marker": {
             "line": {
              "color": "#E5ECF6",
              "width": 0.5
             },
             "pattern": {
              "fillmode": "overlay",
              "size": 10,
              "solidity": 0.2
             }
            },
            "type": "bar"
           }
          ],
          "barpolar": [
           {
            "marker": {
             "line": {
              "color": "#E5ECF6",
              "width": 0.5
             },
             "pattern": {
              "fillmode": "overlay",
              "size": 10,
              "solidity": 0.2
             }
            },
            "type": "barpolar"
           }
          ],
          "carpet": [
           {
            "aaxis": {
             "endlinecolor": "#2a3f5f",
             "gridcolor": "white",
             "linecolor": "white",
             "minorgridcolor": "white",
             "startlinecolor": "#2a3f5f"
            },
            "baxis": {
             "endlinecolor": "#2a3f5f",
             "gridcolor": "white",
             "linecolor": "white",
             "minorgridcolor": "white",
             "startlinecolor": "#2a3f5f"
            },
            "type": "carpet"
           }
          ],
          "choropleth": [
           {
            "colorbar": {
             "outlinewidth": 0,
             "ticks": ""
            },
            "type": "choropleth"
           }
          ],
          "contour": [
           {
            "colorbar": {
             "outlinewidth": 0,
             "ticks": ""
            },
            "colorscale": [
             [
              0,
              "#0d0887"
             ],
             [
              0.1111111111111111,
              "#46039f"
             ],
             [
              0.2222222222222222,
              "#7201a8"
             ],
             [
              0.3333333333333333,
              "#9c179e"
             ],
             [
              0.4444444444444444,
              "#bd3786"
             ],
             [
              0.5555555555555556,
              "#d8576b"
             ],
             [
              0.6666666666666666,
              "#ed7953"
             ],
             [
              0.7777777777777778,
              "#fb9f3a"
             ],
             [
              0.8888888888888888,
              "#fdca26"
             ],
             [
              1,
              "#f0f921"
             ]
            ],
            "type": "contour"
           }
          ],
          "contourcarpet": [
           {
            "colorbar": {
             "outlinewidth": 0,
             "ticks": ""
            },
            "type": "contourcarpet"
           }
          ],
          "heatmap": [
           {
            "colorbar": {
             "outlinewidth": 0,
             "ticks": ""
            },
            "colorscale": [
             [
              0,
              "#0d0887"
             ],
             [
              0.1111111111111111,
              "#46039f"
             ],
             [
              0.2222222222222222,
              "#7201a8"
             ],
             [
              0.3333333333333333,
              "#9c179e"
             ],
             [
              0.4444444444444444,
              "#bd3786"
             ],
             [
              0.5555555555555556,
              "#d8576b"
             ],
             [
              0.6666666666666666,
              "#ed7953"
             ],
             [
              0.7777777777777778,
              "#fb9f3a"
             ],
             [
              0.8888888888888888,
              "#fdca26"
             ],
             [
              1,
              "#f0f921"
             ]
            ],
            "type": "heatmap"
           }
          ],
          "heatmapgl": [
           {
            "colorbar": {
             "outlinewidth": 0,
             "ticks": ""
            },
            "colorscale": [
             [
              0,
              "#0d0887"
             ],
             [
              0.1111111111111111,
              "#46039f"
             ],
             [
              0.2222222222222222,
              "#7201a8"
             ],
             [
              0.3333333333333333,
              "#9c179e"
             ],
             [
              0.4444444444444444,
              "#bd3786"
             ],
             [
              0.5555555555555556,
              "#d8576b"
             ],
             [
              0.6666666666666666,
              "#ed7953"
             ],
             [
              0.7777777777777778,
              "#fb9f3a"
             ],
             [
              0.8888888888888888,
              "#fdca26"
             ],
             [
              1,
              "#f0f921"
             ]
            ],
            "type": "heatmapgl"
           }
          ],
          "histogram": [
           {
            "marker": {
             "pattern": {
              "fillmode": "overlay",
              "size": 10,
              "solidity": 0.2
             }
            },
            "type": "histogram"
           }
          ],
          "histogram2d": [
           {
            "colorbar": {
             "outlinewidth": 0,
             "ticks": ""
            },
            "colorscale": [
             [
              0,
              "#0d0887"
             ],
             [
              0.1111111111111111,
              "#46039f"
             ],
             [
              0.2222222222222222,
              "#7201a8"
             ],
             [
              0.3333333333333333,
              "#9c179e"
             ],
             [
              0.4444444444444444,
              "#bd3786"
             ],
             [
              0.5555555555555556,
              "#d8576b"
             ],
             [
              0.6666666666666666,
              "#ed7953"
             ],
             [
              0.7777777777777778,
              "#fb9f3a"
             ],
             [
              0.8888888888888888,
              "#fdca26"
             ],
             [
              1,
              "#f0f921"
             ]
            ],
            "type": "histogram2d"
           }
          ],
          "histogram2dcontour": [
           {
            "colorbar": {
             "outlinewidth": 0,
             "ticks": ""
            },
            "colorscale": [
             [
              0,
              "#0d0887"
             ],
             [
              0.1111111111111111,
              "#46039f"
             ],
             [
              0.2222222222222222,
              "#7201a8"
             ],
             [
              0.3333333333333333,
              "#9c179e"
             ],
             [
              0.4444444444444444,
              "#bd3786"
             ],
             [
              0.5555555555555556,
              "#d8576b"
             ],
             [
              0.6666666666666666,
              "#ed7953"
             ],
             [
              0.7777777777777778,
              "#fb9f3a"
             ],
             [
              0.8888888888888888,
              "#fdca26"
             ],
             [
              1,
              "#f0f921"
             ]
            ],
            "type": "histogram2dcontour"
           }
          ],
          "mesh3d": [
           {
            "colorbar": {
             "outlinewidth": 0,
             "ticks": ""
            },
            "type": "mesh3d"
           }
          ],
          "parcoords": [
           {
            "line": {
             "colorbar": {
              "outlinewidth": 0,
              "ticks": ""
             }
            },
            "type": "parcoords"
           }
          ],
          "pie": [
           {
            "automargin": true,
            "type": "pie"
           }
          ],
          "scatter": [
           {
            "fillpattern": {
             "fillmode": "overlay",
             "size": 10,
             "solidity": 0.2
            },
            "type": "scatter"
           }
          ],
          "scatter3d": [
           {
            "line": {
             "colorbar": {
              "outlinewidth": 0,
              "ticks": ""
             }
            },
            "marker": {
             "colorbar": {
              "outlinewidth": 0,
              "ticks": ""
             }
            },
            "type": "scatter3d"
           }
          ],
          "scattercarpet": [
           {
            "marker": {
             "colorbar": {
              "outlinewidth": 0,
              "ticks": ""
             }
            },
            "type": "scattercarpet"
           }
          ],
          "scattergeo": [
           {
            "marker": {
             "colorbar": {
              "outlinewidth": 0,
              "ticks": ""
             }
            },
            "type": "scattergeo"
           }
          ],
          "scattergl": [
           {
            "marker": {
             "colorbar": {
              "outlinewidth": 0,
              "ticks": ""
             }
            },
            "type": "scattergl"
           }
          ],
          "scattermapbox": [
           {
            "marker": {
             "colorbar": {
              "outlinewidth": 0,
              "ticks": ""
             }
            },
            "type": "scattermapbox"
           }
          ],
          "scatterpolar": [
           {
            "marker": {
             "colorbar": {
              "outlinewidth": 0,
              "ticks": ""
             }
            },
            "type": "scatterpolar"
           }
          ],
          "scatterpolargl": [
           {
            "marker": {
             "colorbar": {
              "outlinewidth": 0,
              "ticks": ""
             }
            },
            "type": "scatterpolargl"
           }
          ],
          "scatterternary": [
           {
            "marker": {
             "colorbar": {
              "outlinewidth": 0,
              "ticks": ""
             }
            },
            "type": "scatterternary"
           }
          ],
          "surface": [
           {
            "colorbar": {
             "outlinewidth": 0,
             "ticks": ""
            },
            "colorscale": [
             [
              0,
              "#0d0887"
             ],
             [
              0.1111111111111111,
              "#46039f"
             ],
             [
              0.2222222222222222,
              "#7201a8"
             ],
             [
              0.3333333333333333,
              "#9c179e"
             ],
             [
              0.4444444444444444,
              "#bd3786"
             ],
             [
              0.5555555555555556,
              "#d8576b"
             ],
             [
              0.6666666666666666,
              "#ed7953"
             ],
             [
              0.7777777777777778,
              "#fb9f3a"
             ],
             [
              0.8888888888888888,
              "#fdca26"
             ],
             [
              1,
              "#f0f921"
             ]
            ],
            "type": "surface"
           }
          ],
          "table": [
           {
            "cells": {
             "fill": {
              "color": "#EBF0F8"
             },
             "line": {
              "color": "white"
             }
            },
            "header": {
             "fill": {
              "color": "#C8D4E3"
             },
             "line": {
              "color": "white"
             }
            },
            "type": "table"
           }
          ]
         },
         "layout": {
          "annotationdefaults": {
           "arrowcolor": "#2a3f5f",
           "arrowhead": 0,
           "arrowwidth": 1
          },
          "autotypenumbers": "strict",
          "coloraxis": {
           "colorbar": {
            "outlinewidth": 0,
            "ticks": ""
           }
          },
          "colorscale": {
           "diverging": [
            [
             0,
             "#8e0152"
            ],
            [
             0.1,
             "#c51b7d"
            ],
            [
             0.2,
             "#de77ae"
            ],
            [
             0.3,
             "#f1b6da"
            ],
            [
             0.4,
             "#fde0ef"
            ],
            [
             0.5,
             "#f7f7f7"
            ],
            [
             0.6,
             "#e6f5d0"
            ],
            [
             0.7,
             "#b8e186"
            ],
            [
             0.8,
             "#7fbc41"
            ],
            [
             0.9,
             "#4d9221"
            ],
            [
             1,
             "#276419"
            ]
           ],
           "sequential": [
            [
             0,
             "#0d0887"
            ],
            [
             0.1111111111111111,
             "#46039f"
            ],
            [
             0.2222222222222222,
             "#7201a8"
            ],
            [
             0.3333333333333333,
             "#9c179e"
            ],
            [
             0.4444444444444444,
             "#bd3786"
            ],
            [
             0.5555555555555556,
             "#d8576b"
            ],
            [
             0.6666666666666666,
             "#ed7953"
            ],
            [
             0.7777777777777778,
             "#fb9f3a"
            ],
            [
             0.8888888888888888,
             "#fdca26"
            ],
            [
             1,
             "#f0f921"
            ]
           ],
           "sequentialminus": [
            [
             0,
             "#0d0887"
            ],
            [
             0.1111111111111111,
             "#46039f"
            ],
            [
             0.2222222222222222,
             "#7201a8"
            ],
            [
             0.3333333333333333,
             "#9c179e"
            ],
            [
             0.4444444444444444,
             "#bd3786"
            ],
            [
             0.5555555555555556,
             "#d8576b"
            ],
            [
             0.6666666666666666,
             "#ed7953"
            ],
            [
             0.7777777777777778,
             "#fb9f3a"
            ],
            [
             0.8888888888888888,
             "#fdca26"
            ],
            [
             1,
             "#f0f921"
            ]
           ]
          },
          "colorway": [
           "#636efa",
           "#EF553B",
           "#00cc96",
           "#ab63fa",
           "#FFA15A",
           "#19d3f3",
           "#FF6692",
           "#B6E880",
           "#FF97FF",
           "#FECB52"
          ],
          "font": {
           "color": "#2a3f5f"
          },
          "geo": {
           "bgcolor": "white",
           "lakecolor": "white",
           "landcolor": "#E5ECF6",
           "showlakes": true,
           "showland": true,
           "subunitcolor": "white"
          },
          "hoverlabel": {
           "align": "left"
          },
          "hovermode": "closest",
          "mapbox": {
           "style": "light"
          },
          "paper_bgcolor": "white",
          "plot_bgcolor": "#E5ECF6",
          "polar": {
           "angularaxis": {
            "gridcolor": "white",
            "linecolor": "white",
            "ticks": ""
           },
           "bgcolor": "#E5ECF6",
           "radialaxis": {
            "gridcolor": "white",
            "linecolor": "white",
            "ticks": ""
           }
          },
          "scene": {
           "xaxis": {
            "backgroundcolor": "#E5ECF6",
            "gridcolor": "white",
            "gridwidth": 2,
            "linecolor": "white",
            "showbackground": true,
            "ticks": "",
            "zerolinecolor": "white"
           },
           "yaxis": {
            "backgroundcolor": "#E5ECF6",
            "gridcolor": "white",
            "gridwidth": 2,
            "linecolor": "white",
            "showbackground": true,
            "ticks": "",
            "zerolinecolor": "white"
           },
           "zaxis": {
            "backgroundcolor": "#E5ECF6",
            "gridcolor": "white",
            "gridwidth": 2,
            "linecolor": "white",
            "showbackground": true,
            "ticks": "",
            "zerolinecolor": "white"
           }
          },
          "shapedefaults": {
           "line": {
            "color": "#2a3f5f"
           }
          },
          "ternary": {
           "aaxis": {
            "gridcolor": "white",
            "linecolor": "white",
            "ticks": ""
           },
           "baxis": {
            "gridcolor": "white",
            "linecolor": "white",
            "ticks": ""
           },
           "bgcolor": "#E5ECF6",
           "caxis": {
            "gridcolor": "white",
            "linecolor": "white",
            "ticks": ""
           }
          },
          "title": {
           "x": 0.05
          },
          "xaxis": {
           "automargin": true,
           "gridcolor": "white",
           "linecolor": "white",
           "ticks": "",
           "title": {
            "standoff": 15
           },
           "zerolinecolor": "white",
           "zerolinewidth": 2
          },
          "yaxis": {
           "automargin": true,
           "gridcolor": "white",
           "linecolor": "white",
           "ticks": "",
           "title": {
            "standoff": 15
           },
           "zerolinecolor": "white",
           "zerolinewidth": 2
          }
         }
        },
        "title": {
         "text": "Comparison of Degree Centrality Before and After for Top 10 Nodes"
        },
        "xaxis": {
         "title": {
          "text": "Node"
         }
        },
        "yaxis": {
         "title": {
          "text": "Degree Centrality"
         }
        }
       }
      }
     },
     "metadata": {},
     "output_type": "display_data"
    },
    {
     "data": {
      "application/vnd.plotly.v1+json": {
       "config": {
        "plotlyServerURL": "https://plot.ly"
       },
       "data": [
        {
         "name": "Eigenvector Centrality Before",
         "type": "bar",
         "x": [
          "Kelsey Ortega",
          "Anna Davis",
          "Jennifer Gardner",
          "Breanna Price",
          "Sandra Young",
          "Kenneth Gonzales",
          "Erica Ford",
          "Catherine Macias",
          "Anne Villanueva",
          "Polák Procházka a.s."
         ],
         "y": [
          0.149810428356159,
          0.1498857943325919,
          0.1498857185792383,
          0.149810428356159,
          0.1498857185792383,
          0.149810428356159,
          0.149810428356159,
          0.149810428356159,
          0.1498857185792383,
          4.213983519125513e-161
         ]
        },
        {
         "name": "Eigenvector Centrality After",
         "type": "bar",
         "x": [
          "Kelsey Ortega",
          "Anna Davis",
          "Jennifer Gardner",
          "Breanna Price",
          "Sandra Young",
          "Kenneth Gonzales",
          "Erica Ford",
          "Catherine Macias",
          "Anne Villanueva",
          "Polák Procházka a.s."
         ],
         "y": [
          0.1213935785333698,
          0.1213935785333698,
          0.1213935785333698,
          0.1213935785333698,
          0.1213935785333698,
          0.1213935785333698,
          0.1213935785333698,
          0.1213935785333698,
          0.1213935785333698,
          0.7058819833451188
         ]
        }
       ],
       "layout": {
        "barmode": "group",
        "template": {
         "data": {
          "bar": [
           {
            "error_x": {
             "color": "#2a3f5f"
            },
            "error_y": {
             "color": "#2a3f5f"
            },
            "marker": {
             "line": {
              "color": "#E5ECF6",
              "width": 0.5
             },
             "pattern": {
              "fillmode": "overlay",
              "size": 10,
              "solidity": 0.2
             }
            },
            "type": "bar"
           }
          ],
          "barpolar": [
           {
            "marker": {
             "line": {
              "color": "#E5ECF6",
              "width": 0.5
             },
             "pattern": {
              "fillmode": "overlay",
              "size": 10,
              "solidity": 0.2
             }
            },
            "type": "barpolar"
           }
          ],
          "carpet": [
           {
            "aaxis": {
             "endlinecolor": "#2a3f5f",
             "gridcolor": "white",
             "linecolor": "white",
             "minorgridcolor": "white",
             "startlinecolor": "#2a3f5f"
            },
            "baxis": {
             "endlinecolor": "#2a3f5f",
             "gridcolor": "white",
             "linecolor": "white",
             "minorgridcolor": "white",
             "startlinecolor": "#2a3f5f"
            },
            "type": "carpet"
           }
          ],
          "choropleth": [
           {
            "colorbar": {
             "outlinewidth": 0,
             "ticks": ""
            },
            "type": "choropleth"
           }
          ],
          "contour": [
           {
            "colorbar": {
             "outlinewidth": 0,
             "ticks": ""
            },
            "colorscale": [
             [
              0,
              "#0d0887"
             ],
             [
              0.1111111111111111,
              "#46039f"
             ],
             [
              0.2222222222222222,
              "#7201a8"
             ],
             [
              0.3333333333333333,
              "#9c179e"
             ],
             [
              0.4444444444444444,
              "#bd3786"
             ],
             [
              0.5555555555555556,
              "#d8576b"
             ],
             [
              0.6666666666666666,
              "#ed7953"
             ],
             [
              0.7777777777777778,
              "#fb9f3a"
             ],
             [
              0.8888888888888888,
              "#fdca26"
             ],
             [
              1,
              "#f0f921"
             ]
            ],
            "type": "contour"
           }
          ],
          "contourcarpet": [
           {
            "colorbar": {
             "outlinewidth": 0,
             "ticks": ""
            },
            "type": "contourcarpet"
           }
          ],
          "heatmap": [
           {
            "colorbar": {
             "outlinewidth": 0,
             "ticks": ""
            },
            "colorscale": [
             [
              0,
              "#0d0887"
             ],
             [
              0.1111111111111111,
              "#46039f"
             ],
             [
              0.2222222222222222,
              "#7201a8"
             ],
             [
              0.3333333333333333,
              "#9c179e"
             ],
             [
              0.4444444444444444,
              "#bd3786"
             ],
             [
              0.5555555555555556,
              "#d8576b"
             ],
             [
              0.6666666666666666,
              "#ed7953"
             ],
             [
              0.7777777777777778,
              "#fb9f3a"
             ],
             [
              0.8888888888888888,
              "#fdca26"
             ],
             [
              1,
              "#f0f921"
             ]
            ],
            "type": "heatmap"
           }
          ],
          "heatmapgl": [
           {
            "colorbar": {
             "outlinewidth": 0,
             "ticks": ""
            },
            "colorscale": [
             [
              0,
              "#0d0887"
             ],
             [
              0.1111111111111111,
              "#46039f"
             ],
             [
              0.2222222222222222,
              "#7201a8"
             ],
             [
              0.3333333333333333,
              "#9c179e"
             ],
             [
              0.4444444444444444,
              "#bd3786"
             ],
             [
              0.5555555555555556,
              "#d8576b"
             ],
             [
              0.6666666666666666,
              "#ed7953"
             ],
             [
              0.7777777777777778,
              "#fb9f3a"
             ],
             [
              0.8888888888888888,
              "#fdca26"
             ],
             [
              1,
              "#f0f921"
             ]
            ],
            "type": "heatmapgl"
           }
          ],
          "histogram": [
           {
            "marker": {
             "pattern": {
              "fillmode": "overlay",
              "size": 10,
              "solidity": 0.2
             }
            },
            "type": "histogram"
           }
          ],
          "histogram2d": [
           {
            "colorbar": {
             "outlinewidth": 0,
             "ticks": ""
            },
            "colorscale": [
             [
              0,
              "#0d0887"
             ],
             [
              0.1111111111111111,
              "#46039f"
             ],
             [
              0.2222222222222222,
              "#7201a8"
             ],
             [
              0.3333333333333333,
              "#9c179e"
             ],
             [
              0.4444444444444444,
              "#bd3786"
             ],
             [
              0.5555555555555556,
              "#d8576b"
             ],
             [
              0.6666666666666666,
              "#ed7953"
             ],
             [
              0.7777777777777778,
              "#fb9f3a"
             ],
             [
              0.8888888888888888,
              "#fdca26"
             ],
             [
              1,
              "#f0f921"
             ]
            ],
            "type": "histogram2d"
           }
          ],
          "histogram2dcontour": [
           {
            "colorbar": {
             "outlinewidth": 0,
             "ticks": ""
            },
            "colorscale": [
             [
              0,
              "#0d0887"
             ],
             [
              0.1111111111111111,
              "#46039f"
             ],
             [
              0.2222222222222222,
              "#7201a8"
             ],
             [
              0.3333333333333333,
              "#9c179e"
             ],
             [
              0.4444444444444444,
              "#bd3786"
             ],
             [
              0.5555555555555556,
              "#d8576b"
             ],
             [
              0.6666666666666666,
              "#ed7953"
             ],
             [
              0.7777777777777778,
              "#fb9f3a"
             ],
             [
              0.8888888888888888,
              "#fdca26"
             ],
             [
              1,
              "#f0f921"
             ]
            ],
            "type": "histogram2dcontour"
           }
          ],
          "mesh3d": [
           {
            "colorbar": {
             "outlinewidth": 0,
             "ticks": ""
            },
            "type": "mesh3d"
           }
          ],
          "parcoords": [
           {
            "line": {
             "colorbar": {
              "outlinewidth": 0,
              "ticks": ""
             }
            },
            "type": "parcoords"
           }
          ],
          "pie": [
           {
            "automargin": true,
            "type": "pie"
           }
          ],
          "scatter": [
           {
            "fillpattern": {
             "fillmode": "overlay",
             "size": 10,
             "solidity": 0.2
            },
            "type": "scatter"
           }
          ],
          "scatter3d": [
           {
            "line": {
             "colorbar": {
              "outlinewidth": 0,
              "ticks": ""
             }
            },
            "marker": {
             "colorbar": {
              "outlinewidth": 0,
              "ticks": ""
             }
            },
            "type": "scatter3d"
           }
          ],
          "scattercarpet": [
           {
            "marker": {
             "colorbar": {
              "outlinewidth": 0,
              "ticks": ""
             }
            },
            "type": "scattercarpet"
           }
          ],
          "scattergeo": [
           {
            "marker": {
             "colorbar": {
              "outlinewidth": 0,
              "ticks": ""
             }
            },
            "type": "scattergeo"
           }
          ],
          "scattergl": [
           {
            "marker": {
             "colorbar": {
              "outlinewidth": 0,
              "ticks": ""
             }
            },
            "type": "scattergl"
           }
          ],
          "scattermapbox": [
           {
            "marker": {
             "colorbar": {
              "outlinewidth": 0,
              "ticks": ""
             }
            },
            "type": "scattermapbox"
           }
          ],
          "scatterpolar": [
           {
            "marker": {
             "colorbar": {
              "outlinewidth": 0,
              "ticks": ""
             }
            },
            "type": "scatterpolar"
           }
          ],
          "scatterpolargl": [
           {
            "marker": {
             "colorbar": {
              "outlinewidth": 0,
              "ticks": ""
             }
            },
            "type": "scatterpolargl"
           }
          ],
          "scatterternary": [
           {
            "marker": {
             "colorbar": {
              "outlinewidth": 0,
              "ticks": ""
             }
            },
            "type": "scatterternary"
           }
          ],
          "surface": [
           {
            "colorbar": {
             "outlinewidth": 0,
             "ticks": ""
            },
            "colorscale": [
             [
              0,
              "#0d0887"
             ],
             [
              0.1111111111111111,
              "#46039f"
             ],
             [
              0.2222222222222222,
              "#7201a8"
             ],
             [
              0.3333333333333333,
              "#9c179e"
             ],
             [
              0.4444444444444444,
              "#bd3786"
             ],
             [
              0.5555555555555556,
              "#d8576b"
             ],
             [
              0.6666666666666666,
              "#ed7953"
             ],
             [
              0.7777777777777778,
              "#fb9f3a"
             ],
             [
              0.8888888888888888,
              "#fdca26"
             ],
             [
              1,
              "#f0f921"
             ]
            ],
            "type": "surface"
           }
          ],
          "table": [
           {
            "cells": {
             "fill": {
              "color": "#EBF0F8"
             },
             "line": {
              "color": "white"
             }
            },
            "header": {
             "fill": {
              "color": "#C8D4E3"
             },
             "line": {
              "color": "white"
             }
            },
            "type": "table"
           }
          ]
         },
         "layout": {
          "annotationdefaults": {
           "arrowcolor": "#2a3f5f",
           "arrowhead": 0,
           "arrowwidth": 1
          },
          "autotypenumbers": "strict",
          "coloraxis": {
           "colorbar": {
            "outlinewidth": 0,
            "ticks": ""
           }
          },
          "colorscale": {
           "diverging": [
            [
             0,
             "#8e0152"
            ],
            [
             0.1,
             "#c51b7d"
            ],
            [
             0.2,
             "#de77ae"
            ],
            [
             0.3,
             "#f1b6da"
            ],
            [
             0.4,
             "#fde0ef"
            ],
            [
             0.5,
             "#f7f7f7"
            ],
            [
             0.6,
             "#e6f5d0"
            ],
            [
             0.7,
             "#b8e186"
            ],
            [
             0.8,
             "#7fbc41"
            ],
            [
             0.9,
             "#4d9221"
            ],
            [
             1,
             "#276419"
            ]
           ],
           "sequential": [
            [
             0,
             "#0d0887"
            ],
            [
             0.1111111111111111,
             "#46039f"
            ],
            [
             0.2222222222222222,
             "#7201a8"
            ],
            [
             0.3333333333333333,
             "#9c179e"
            ],
            [
             0.4444444444444444,
             "#bd3786"
            ],
            [
             0.5555555555555556,
             "#d8576b"
            ],
            [
             0.6666666666666666,
             "#ed7953"
            ],
            [
             0.7777777777777778,
             "#fb9f3a"
            ],
            [
             0.8888888888888888,
             "#fdca26"
            ],
            [
             1,
             "#f0f921"
            ]
           ],
           "sequentialminus": [
            [
             0,
             "#0d0887"
            ],
            [
             0.1111111111111111,
             "#46039f"
            ],
            [
             0.2222222222222222,
             "#7201a8"
            ],
            [
             0.3333333333333333,
             "#9c179e"
            ],
            [
             0.4444444444444444,
             "#bd3786"
            ],
            [
             0.5555555555555556,
             "#d8576b"
            ],
            [
             0.6666666666666666,
             "#ed7953"
            ],
            [
             0.7777777777777778,
             "#fb9f3a"
            ],
            [
             0.8888888888888888,
             "#fdca26"
            ],
            [
             1,
             "#f0f921"
            ]
           ]
          },
          "colorway": [
           "#636efa",
           "#EF553B",
           "#00cc96",
           "#ab63fa",
           "#FFA15A",
           "#19d3f3",
           "#FF6692",
           "#B6E880",
           "#FF97FF",
           "#FECB52"
          ],
          "font": {
           "color": "#2a3f5f"
          },
          "geo": {
           "bgcolor": "white",
           "lakecolor": "white",
           "landcolor": "#E5ECF6",
           "showlakes": true,
           "showland": true,
           "subunitcolor": "white"
          },
          "hoverlabel": {
           "align": "left"
          },
          "hovermode": "closest",
          "mapbox": {
           "style": "light"
          },
          "paper_bgcolor": "white",
          "plot_bgcolor": "#E5ECF6",
          "polar": {
           "angularaxis": {
            "gridcolor": "white",
            "linecolor": "white",
            "ticks": ""
           },
           "bgcolor": "#E5ECF6",
           "radialaxis": {
            "gridcolor": "white",
            "linecolor": "white",
            "ticks": ""
           }
          },
          "scene": {
           "xaxis": {
            "backgroundcolor": "#E5ECF6",
            "gridcolor": "white",
            "gridwidth": 2,
            "linecolor": "white",
            "showbackground": true,
            "ticks": "",
            "zerolinecolor": "white"
           },
           "yaxis": {
            "backgroundcolor": "#E5ECF6",
            "gridcolor": "white",
            "gridwidth": 2,
            "linecolor": "white",
            "showbackground": true,
            "ticks": "",
            "zerolinecolor": "white"
           },
           "zaxis": {
            "backgroundcolor": "#E5ECF6",
            "gridcolor": "white",
            "gridwidth": 2,
            "linecolor": "white",
            "showbackground": true,
            "ticks": "",
            "zerolinecolor": "white"
           }
          },
          "shapedefaults": {
           "line": {
            "color": "#2a3f5f"
           }
          },
          "ternary": {
           "aaxis": {
            "gridcolor": "white",
            "linecolor": "white",
            "ticks": ""
           },
           "baxis": {
            "gridcolor": "white",
            "linecolor": "white",
            "ticks": ""
           },
           "bgcolor": "#E5ECF6",
           "caxis": {
            "gridcolor": "white",
            "linecolor": "white",
            "ticks": ""
           }
          },
          "title": {
           "x": 0.05
          },
          "xaxis": {
           "automargin": true,
           "gridcolor": "white",
           "linecolor": "white",
           "ticks": "",
           "title": {
            "standoff": 15
           },
           "zerolinecolor": "white",
           "zerolinewidth": 2
          },
          "yaxis": {
           "automargin": true,
           "gridcolor": "white",
           "linecolor": "white",
           "ticks": "",
           "title": {
            "standoff": 15
           },
           "zerolinecolor": "white",
           "zerolinewidth": 2
          }
         }
        },
        "title": {
         "text": "Comparison of Eigenvector Centrality Before and After for Top 10 Nodes"
        },
        "xaxis": {
         "title": {
          "text": "Node"
         }
        },
        "yaxis": {
         "title": {
          "text": "Eigenvector Centrality"
         }
        }
       }
      }
     },
     "metadata": {},
     "output_type": "display_data"
    },
    {
     "data": {
      "application/vnd.plotly.v1+json": {
       "config": {
        "plotlyServerURL": "https://plot.ly"
       },
       "data": [
        {
         "name": "Betweenness Centrality Before",
         "type": "bar",
         "x": [
          "Abbott-Harrison",
          "Blankenship-Strickland",
          "Hart Ltd",
          "Johnson, Morales and Castro",
          "Mills, Atkinson and Chavez",
          "Orr Inc",
          "Walker LLC",
          "Steven Robertson",
          "Sharon Moon",
          "Michael Howard DDS"
         ],
         "y": [
          0.0134709760059528,
          0.0106188773023266,
          0.0134081308861279,
          0.0136673547237406,
          0.0103152847463036,
          0.0118553264313526,
          0.010187961160832,
          0.0151984958955765,
          0.0168940785796581,
          0.0103659237303155
         ]
        },
        {
         "name": "Betweenness Centrality After",
         "type": "bar",
         "x": [
          "Abbott-Harrison",
          "Blankenship-Strickland",
          "Hart Ltd",
          "Johnson, Morales and Castro",
          "Mills, Atkinson and Chavez",
          "Orr Inc",
          "Walker LLC",
          "Steven Robertson",
          "Sharon Moon",
          "Michael Howard DDS"
         ],
         "y": [
          0,
          0,
          0,
          0,
          0,
          0,
          0,
          0,
          0,
          0
         ]
        }
       ],
       "layout": {
        "barmode": "group",
        "template": {
         "data": {
          "bar": [
           {
            "error_x": {
             "color": "#2a3f5f"
            },
            "error_y": {
             "color": "#2a3f5f"
            },
            "marker": {
             "line": {
              "color": "#E5ECF6",
              "width": 0.5
             },
             "pattern": {
              "fillmode": "overlay",
              "size": 10,
              "solidity": 0.2
             }
            },
            "type": "bar"
           }
          ],
          "barpolar": [
           {
            "marker": {
             "line": {
              "color": "#E5ECF6",
              "width": 0.5
             },
             "pattern": {
              "fillmode": "overlay",
              "size": 10,
              "solidity": 0.2
             }
            },
            "type": "barpolar"
           }
          ],
          "carpet": [
           {
            "aaxis": {
             "endlinecolor": "#2a3f5f",
             "gridcolor": "white",
             "linecolor": "white",
             "minorgridcolor": "white",
             "startlinecolor": "#2a3f5f"
            },
            "baxis": {
             "endlinecolor": "#2a3f5f",
             "gridcolor": "white",
             "linecolor": "white",
             "minorgridcolor": "white",
             "startlinecolor": "#2a3f5f"
            },
            "type": "carpet"
           }
          ],
          "choropleth": [
           {
            "colorbar": {
             "outlinewidth": 0,
             "ticks": ""
            },
            "type": "choropleth"
           }
          ],
          "contour": [
           {
            "colorbar": {
             "outlinewidth": 0,
             "ticks": ""
            },
            "colorscale": [
             [
              0,
              "#0d0887"
             ],
             [
              0.1111111111111111,
              "#46039f"
             ],
             [
              0.2222222222222222,
              "#7201a8"
             ],
             [
              0.3333333333333333,
              "#9c179e"
             ],
             [
              0.4444444444444444,
              "#bd3786"
             ],
             [
              0.5555555555555556,
              "#d8576b"
             ],
             [
              0.6666666666666666,
              "#ed7953"
             ],
             [
              0.7777777777777778,
              "#fb9f3a"
             ],
             [
              0.8888888888888888,
              "#fdca26"
             ],
             [
              1,
              "#f0f921"
             ]
            ],
            "type": "contour"
           }
          ],
          "contourcarpet": [
           {
            "colorbar": {
             "outlinewidth": 0,
             "ticks": ""
            },
            "type": "contourcarpet"
           }
          ],
          "heatmap": [
           {
            "colorbar": {
             "outlinewidth": 0,
             "ticks": ""
            },
            "colorscale": [
             [
              0,
              "#0d0887"
             ],
             [
              0.1111111111111111,
              "#46039f"
             ],
             [
              0.2222222222222222,
              "#7201a8"
             ],
             [
              0.3333333333333333,
              "#9c179e"
             ],
             [
              0.4444444444444444,
              "#bd3786"
             ],
             [
              0.5555555555555556,
              "#d8576b"
             ],
             [
              0.6666666666666666,
              "#ed7953"
             ],
             [
              0.7777777777777778,
              "#fb9f3a"
             ],
             [
              0.8888888888888888,
              "#fdca26"
             ],
             [
              1,
              "#f0f921"
             ]
            ],
            "type": "heatmap"
           }
          ],
          "heatmapgl": [
           {
            "colorbar": {
             "outlinewidth": 0,
             "ticks": ""
            },
            "colorscale": [
             [
              0,
              "#0d0887"
             ],
             [
              0.1111111111111111,
              "#46039f"
             ],
             [
              0.2222222222222222,
              "#7201a8"
             ],
             [
              0.3333333333333333,
              "#9c179e"
             ],
             [
              0.4444444444444444,
              "#bd3786"
             ],
             [
              0.5555555555555556,
              "#d8576b"
             ],
             [
              0.6666666666666666,
              "#ed7953"
             ],
             [
              0.7777777777777778,
              "#fb9f3a"
             ],
             [
              0.8888888888888888,
              "#fdca26"
             ],
             [
              1,
              "#f0f921"
             ]
            ],
            "type": "heatmapgl"
           }
          ],
          "histogram": [
           {
            "marker": {
             "pattern": {
              "fillmode": "overlay",
              "size": 10,
              "solidity": 0.2
             }
            },
            "type": "histogram"
           }
          ],
          "histogram2d": [
           {
            "colorbar": {
             "outlinewidth": 0,
             "ticks": ""
            },
            "colorscale": [
             [
              0,
              "#0d0887"
             ],
             [
              0.1111111111111111,
              "#46039f"
             ],
             [
              0.2222222222222222,
              "#7201a8"
             ],
             [
              0.3333333333333333,
              "#9c179e"
             ],
             [
              0.4444444444444444,
              "#bd3786"
             ],
             [
              0.5555555555555556,
              "#d8576b"
             ],
             [
              0.6666666666666666,
              "#ed7953"
             ],
             [
              0.7777777777777778,
              "#fb9f3a"
             ],
             [
              0.8888888888888888,
              "#fdca26"
             ],
             [
              1,
              "#f0f921"
             ]
            ],
            "type": "histogram2d"
           }
          ],
          "histogram2dcontour": [
           {
            "colorbar": {
             "outlinewidth": 0,
             "ticks": ""
            },
            "colorscale": [
             [
              0,
              "#0d0887"
             ],
             [
              0.1111111111111111,
              "#46039f"
             ],
             [
              0.2222222222222222,
              "#7201a8"
             ],
             [
              0.3333333333333333,
              "#9c179e"
             ],
             [
              0.4444444444444444,
              "#bd3786"
             ],
             [
              0.5555555555555556,
              "#d8576b"
             ],
             [
              0.6666666666666666,
              "#ed7953"
             ],
             [
              0.7777777777777778,
              "#fb9f3a"
             ],
             [
              0.8888888888888888,
              "#fdca26"
             ],
             [
              1,
              "#f0f921"
             ]
            ],
            "type": "histogram2dcontour"
           }
          ],
          "mesh3d": [
           {
            "colorbar": {
             "outlinewidth": 0,
             "ticks": ""
            },
            "type": "mesh3d"
           }
          ],
          "parcoords": [
           {
            "line": {
             "colorbar": {
              "outlinewidth": 0,
              "ticks": ""
             }
            },
            "type": "parcoords"
           }
          ],
          "pie": [
           {
            "automargin": true,
            "type": "pie"
           }
          ],
          "scatter": [
           {
            "fillpattern": {
             "fillmode": "overlay",
             "size": 10,
             "solidity": 0.2
            },
            "type": "scatter"
           }
          ],
          "scatter3d": [
           {
            "line": {
             "colorbar": {
              "outlinewidth": 0,
              "ticks": ""
             }
            },
            "marker": {
             "colorbar": {
              "outlinewidth": 0,
              "ticks": ""
             }
            },
            "type": "scatter3d"
           }
          ],
          "scattercarpet": [
           {
            "marker": {
             "colorbar": {
              "outlinewidth": 0,
              "ticks": ""
             }
            },
            "type": "scattercarpet"
           }
          ],
          "scattergeo": [
           {
            "marker": {
             "colorbar": {
              "outlinewidth": 0,
              "ticks": ""
             }
            },
            "type": "scattergeo"
           }
          ],
          "scattergl": [
           {
            "marker": {
             "colorbar": {
              "outlinewidth": 0,
              "ticks": ""
             }
            },
            "type": "scattergl"
           }
          ],
          "scattermapbox": [
           {
            "marker": {
             "colorbar": {
              "outlinewidth": 0,
              "ticks": ""
             }
            },
            "type": "scattermapbox"
           }
          ],
          "scatterpolar": [
           {
            "marker": {
             "colorbar": {
              "outlinewidth": 0,
              "ticks": ""
             }
            },
            "type": "scatterpolar"
           }
          ],
          "scatterpolargl": [
           {
            "marker": {
             "colorbar": {
              "outlinewidth": 0,
              "ticks": ""
             }
            },
            "type": "scatterpolargl"
           }
          ],
          "scatterternary": [
           {
            "marker": {
             "colorbar": {
              "outlinewidth": 0,
              "ticks": ""
             }
            },
            "type": "scatterternary"
           }
          ],
          "surface": [
           {
            "colorbar": {
             "outlinewidth": 0,
             "ticks": ""
            },
            "colorscale": [
             [
              0,
              "#0d0887"
             ],
             [
              0.1111111111111111,
              "#46039f"
             ],
             [
              0.2222222222222222,
              "#7201a8"
             ],
             [
              0.3333333333333333,
              "#9c179e"
             ],
             [
              0.4444444444444444,
              "#bd3786"
             ],
             [
              0.5555555555555556,
              "#d8576b"
             ],
             [
              0.6666666666666666,
              "#ed7953"
             ],
             [
              0.7777777777777778,
              "#fb9f3a"
             ],
             [
              0.8888888888888888,
              "#fdca26"
             ],
             [
              1,
              "#f0f921"
             ]
            ],
            "type": "surface"
           }
          ],
          "table": [
           {
            "cells": {
             "fill": {
              "color": "#EBF0F8"
             },
             "line": {
              "color": "white"
             }
            },
            "header": {
             "fill": {
              "color": "#C8D4E3"
             },
             "line": {
              "color": "white"
             }
            },
            "type": "table"
           }
          ]
         },
         "layout": {
          "annotationdefaults": {
           "arrowcolor": "#2a3f5f",
           "arrowhead": 0,
           "arrowwidth": 1
          },
          "autotypenumbers": "strict",
          "coloraxis": {
           "colorbar": {
            "outlinewidth": 0,
            "ticks": ""
           }
          },
          "colorscale": {
           "diverging": [
            [
             0,
             "#8e0152"
            ],
            [
             0.1,
             "#c51b7d"
            ],
            [
             0.2,
             "#de77ae"
            ],
            [
             0.3,
             "#f1b6da"
            ],
            [
             0.4,
             "#fde0ef"
            ],
            [
             0.5,
             "#f7f7f7"
            ],
            [
             0.6,
             "#e6f5d0"
            ],
            [
             0.7,
             "#b8e186"
            ],
            [
             0.8,
             "#7fbc41"
            ],
            [
             0.9,
             "#4d9221"
            ],
            [
             1,
             "#276419"
            ]
           ],
           "sequential": [
            [
             0,
             "#0d0887"
            ],
            [
             0.1111111111111111,
             "#46039f"
            ],
            [
             0.2222222222222222,
             "#7201a8"
            ],
            [
             0.3333333333333333,
             "#9c179e"
            ],
            [
             0.4444444444444444,
             "#bd3786"
            ],
            [
             0.5555555555555556,
             "#d8576b"
            ],
            [
             0.6666666666666666,
             "#ed7953"
            ],
            [
             0.7777777777777778,
             "#fb9f3a"
            ],
            [
             0.8888888888888888,
             "#fdca26"
            ],
            [
             1,
             "#f0f921"
            ]
           ],
           "sequentialminus": [
            [
             0,
             "#0d0887"
            ],
            [
             0.1111111111111111,
             "#46039f"
            ],
            [
             0.2222222222222222,
             "#7201a8"
            ],
            [
             0.3333333333333333,
             "#9c179e"
            ],
            [
             0.4444444444444444,
             "#bd3786"
            ],
            [
             0.5555555555555556,
             "#d8576b"
            ],
            [
             0.6666666666666666,
             "#ed7953"
            ],
            [
             0.7777777777777778,
             "#fb9f3a"
            ],
            [
             0.8888888888888888,
             "#fdca26"
            ],
            [
             1,
             "#f0f921"
            ]
           ]
          },
          "colorway": [
           "#636efa",
           "#EF553B",
           "#00cc96",
           "#ab63fa",
           "#FFA15A",
           "#19d3f3",
           "#FF6692",
           "#B6E880",
           "#FF97FF",
           "#FECB52"
          ],
          "font": {
           "color": "#2a3f5f"
          },
          "geo": {
           "bgcolor": "white",
           "lakecolor": "white",
           "landcolor": "#E5ECF6",
           "showlakes": true,
           "showland": true,
           "subunitcolor": "white"
          },
          "hoverlabel": {
           "align": "left"
          },
          "hovermode": "closest",
          "mapbox": {
           "style": "light"
          },
          "paper_bgcolor": "white",
          "plot_bgcolor": "#E5ECF6",
          "polar": {
           "angularaxis": {
            "gridcolor": "white",
            "linecolor": "white",
            "ticks": ""
           },
           "bgcolor": "#E5ECF6",
           "radialaxis": {
            "gridcolor": "white",
            "linecolor": "white",
            "ticks": ""
           }
          },
          "scene": {
           "xaxis": {
            "backgroundcolor": "#E5ECF6",
            "gridcolor": "white",
            "gridwidth": 2,
            "linecolor": "white",
            "showbackground": true,
            "ticks": "",
            "zerolinecolor": "white"
           },
           "yaxis": {
            "backgroundcolor": "#E5ECF6",
            "gridcolor": "white",
            "gridwidth": 2,
            "linecolor": "white",
            "showbackground": true,
            "ticks": "",
            "zerolinecolor": "white"
           },
           "zaxis": {
            "backgroundcolor": "#E5ECF6",
            "gridcolor": "white",
            "gridwidth": 2,
            "linecolor": "white",
            "showbackground": true,
            "ticks": "",
            "zerolinecolor": "white"
           }
          },
          "shapedefaults": {
           "line": {
            "color": "#2a3f5f"
           }
          },
          "ternary": {
           "aaxis": {
            "gridcolor": "white",
            "linecolor": "white",
            "ticks": ""
           },
           "baxis": {
            "gridcolor": "white",
            "linecolor": "white",
            "ticks": ""
           },
           "bgcolor": "#E5ECF6",
           "caxis": {
            "gridcolor": "white",
            "linecolor": "white",
            "ticks": ""
           }
          },
          "title": {
           "x": 0.05
          },
          "xaxis": {
           "automargin": true,
           "gridcolor": "white",
           "linecolor": "white",
           "ticks": "",
           "title": {
            "standoff": 15
           },
           "zerolinecolor": "white",
           "zerolinewidth": 2
          },
          "yaxis": {
           "automargin": true,
           "gridcolor": "white",
           "linecolor": "white",
           "ticks": "",
           "title": {
            "standoff": 15
           },
           "zerolinecolor": "white",
           "zerolinewidth": 2
          }
         }
        },
        "title": {
         "text": "Comparison of Betweenness Centrality Before and After for Top 10 Nodes"
        },
        "xaxis": {
         "title": {
          "text": "Node"
         }
        },
        "yaxis": {
         "title": {
          "text": "Betweenness Centrality"
         }
        }
       }
      }
     },
     "metadata": {},
     "output_type": "display_data"
    }
   ],
   "source": [
    "import plotly.graph_objects as go\n",
    "\n",
    "# Função para criar gráficos comparativos de barras para os top nós\n",
    "def plot_comparison(df, metric):\n",
    "    fig = go.Figure()\n",
    "    fig.add_trace(go.Bar(\n",
    "        x=df['Node'],\n",
    "        y=df[f'{metric}_before'],\n",
    "        name=f'{metric.replace(\"_\", \" \")} Before'\n",
    "    ))\n",
    "    fig.add_trace(go.Bar(\n",
    "        x=df['Node'],\n",
    "        y=df[f'{metric}_after'],\n",
    "        name=f'{metric.replace(\"_\", \" \")} After'\n",
    "    ))\n",
    "    \n",
    "    fig.update_layout(\n",
    "        title=f'Comparison of {metric.replace(\"_\", \" \")} Before and After for Top 10 Nodes',\n",
    "        xaxis_title='Node',\n",
    "        yaxis_title=metric.replace(\"_\", \" \"),\n",
    "        barmode='group'\n",
    "    )\n",
    "    \n",
    "    fig.show()\n",
    "\n",
    "# Filtrar o DataFrame para apenas os top nós\n",
    "def filter_top_nodes(df, top_nodes):\n",
    "    return df[df['Node'].isin(top_nodes['Node'])]\n",
    "\n",
    "# Filtrar os dados\n",
    "top_degree_df = filter_top_nodes(df_centrality_old, top_10_degree)\n",
    "top_eigenvector_df = filter_top_nodes(df_centrality_old, top_10_eigenvector)\n",
    "top_betweenness_df = filter_top_nodes(df_centrality_old, top_10_betweenness)\n",
    "\n",
    "# Plotar as comparações\n",
    "plot_comparison(top_degree_df, 'Degree_Centrality')\n",
    "plot_comparison(top_eigenvector_df, 'Eigenvector_Centrality')\n",
    "plot_comparison(top_betweenness_df, 'Betweenness_Centrality')\n"
   ]
  }
 ],
 "metadata": {
  "kernelspec": {
   "display_name": "Python 3",
   "language": "python",
   "name": "python3"
  },
  "language_info": {
   "codemirror_mode": {
    "name": "ipython",
    "version": 3
   },
   "file_extension": ".py",
   "mimetype": "text/x-python",
   "name": "python",
   "nbconvert_exporter": "python",
   "pygments_lexer": "ipython3",
   "version": "3.12.3"
  }
 },
 "nbformat": 4,
 "nbformat_minor": 2
}
