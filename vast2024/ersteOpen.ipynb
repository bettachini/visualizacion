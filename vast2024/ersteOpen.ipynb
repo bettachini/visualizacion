{
 "cells": [
  {
   "cell_type": "markdown",
   "id": "3a31e8d1-9d9b-413f-a114-33c5a4c2f9f8",
   "metadata": {},
   "source": [
    "> Can you suggest a visualization that addresses the following point?\n",
    ">\n",
    "> FishEye analysts want to better visualize changes in corporate structures over time. Create a visual analytics approach that analysts can use to highlight temporal patterns and changes in corporate structures. Examine the most active people and businesses using visual analytics."
   ]
  },
  {
   "cell_type": "markdown",
   "id": "342f2795-f5b7-46b9-afa0-4d28a6b3818b",
   "metadata": {},
   "source": [
    "To visualize changes in corporate structures over time and highlight the most active entities, consider using the following visual analytics approach:\n",
    "1. Interactive Temporal Network Graph\n",
    "\n",
    "    Nodes: Represent persons and organizations.\n",
    "    Edges: Show relationships (e.g., ownership, employment).\n",
    "    Time Slider: Allow users to explore changes over specific time periods.\n",
    "    Color Coding: Differentiate node types (e.g., CEOs, companies) and edge types (e.g., shareholdership, family relationships).\n",
    "    Size Scaling: Scale node sizes based on activity level (e.g., number of connections or transactions).\n",
    "\n",
    "2. Heatmap for Activity Analysis\n",
    "\n",
    "    Axes: Time (x-axis) vs. Entities (y-axis).\n",
    "    Cells: Color intensity to represent activity levels (e.g., number of transactions or changes in relationships).\n",
    "    Hover Information: Display detailed info on activities for specific time periods and entities.\n",
    "\n",
    "3. Temporal Bar Charts\n",
    "\n",
    "    Bars: Represent the number of changes in corporate structures over time.\n",
    "    Stacked Bars: Different colors to indicate different types of changes (e.g., new relationships, terminations).\n",
    "\n",
    "4. Interactive Dashboards\n",
    "\n",
    "    Combine the above visualizations into a single dashboard.\n",
    "    Filters: Enable filtering by entity type, relationship type, or specific time frames.\n",
    "    Drill-Down Features: Click on nodes or bars to see detailed subgraphs or lists of activities.\n",
    "\n",
    "5. Summary Tables and Lists\n",
    "\n",
    "    Highlight the most active people and businesses based on the number of transactions and changes over time.\n",
    "\n",
    "Tools:\n",
    "\n",
    "    NetworkX: For network graph creation and manipulation.\n",
    "    Plotly/D3.js: For interactive and dynamic visualizations.\n",
    "    Dash/Streamlit: For creating interactive dashboards.\n",
    "\n",
    "Example Workflow:\n",
    "\n",
    "    Data Preprocessing: Load the JSON data into a NetworkX graph object.\n",
    "    Temporal Analysis: Use time-based attributes to filter and analyze data over different periods.\n",
    "    Visualization: Create interactive and dynamic visualizations to reveal temporal patterns and active entities.\n",
    "    Interaction: Implement features that allow analysts to explore data and drill down into specifics.\n",
    "\n",
    "This approach will help FishEye analysts visually track and analyze corporate structure changes over time, highlighting key patterns and active participants in the network."
   ]
  },
  {
   "cell_type": "markdown",
   "id": "1646f3dc-7e74-4622-9348-5c309fb0dbee",
   "metadata": {},
   "source": [
    "> Can you provide code to perform what you suggest as the \"Interactive Temporal Network Graph\". In particular how to have a Time Slider that is aware of \"start_date\" and \"end_date\" at the links?"
   ]
  },
  {
   "cell_type": "markdown",
   "id": "0a9f0f6b-f389-4bcf-a3f5-c5c13e876556",
   "metadata": {},
   "source": [
    "Certainly! Below is an example code to create an interactive temporal network graph using Python libraries such as NetworkX for graph manipulation and Plotly for visualization. The code includes a time slider that is aware of the start_date and end_date attributes of the edges."
   ]
  },
  {
   "cell_type": "code",
   "execution_count": 2,
   "id": "4a379e9d-2939-46f3-8676-cc4ef4687485",
   "metadata": {},
   "outputs": [],
   "source": [
    "import networkx as nx\n",
    "import plotly.graph_objects as go\n",
    "from plotly.subplots import make_subplots\n",
    "import pandas as pd\n",
    "import json"
   ]
  },
  {
   "cell_type": "code",
   "execution_count": 3,
   "id": "ccf358a5-6707-4eb1-b493-6a97ee0be461",
   "metadata": {},
   "outputs": [],
   "source": [
    "json_path = './MC3/mc3.json'"
   ]
  },
  {
   "cell_type": "code",
   "execution_count": 4,
   "id": "012234aa-5762-4b36-b766-f5ad361323b7",
   "metadata": {},
   "outputs": [],
   "source": [
    "# open json file\n",
    "with open(json_path) as json_file:\n",
    "    data = json.load(json_file)"
   ]
  },
  {
   "cell_type": "code",
   "execution_count": 7,
   "id": "f135ac80-0f53-4287-946d-b493ffb9e09b",
   "metadata": {},
   "outputs": [],
   "source": [
    "# Create a NetworkX graph from the JSON data\n",
    "G = nx.node_link_graph(data)"
   ]
  },
  {
   "cell_type": "code",
   "execution_count": 9,
   "id": "712816d2-2093-4daa-8305-46f2261ac74f",
   "metadata": {},
   "outputs": [
    {
     "name": "stdout",
     "output_type": "stream",
     "text": [
      "Sample nodes with attributes:\n",
      "Node Abbott, Mcbride and Edwards: {'type': 'Entity.Organization.Company', 'country': 'Uziland', 'ProductServices': 'Unknown', 'PointOfContact': 'Rebecca Lewis', 'HeadOfOrg': 'Émilie-Susan Benoit', 'founding_date': '1954-04-24T00:00:00', 'revenue': 5994.73, 'TradeDescription': 'Unknown', '_last_edited_by': 'Pelagia Alethea Mordoch', '_last_edited_date': '2035-01-01T00:00:00', '_date_added': '2035-01-01T00:00:00', '_raw_source': 'Existing Corporate Structure Data', '_algorithm': 'Automatic Import'}\n",
      "Node Abbott-Gomez: {'type': 'Entity.Organization.Company', 'country': 'Mawalara', 'ProductServices': 'Furniture and home accessories', 'PointOfContact': 'Michael Lopez', 'HeadOfOrg': 'Honoré Lemoine', 'founding_date': '2009-06-12T00:00:00', 'revenue': 71766.67, 'TradeDescription': 'Abbott-Gomez is a leading manufacturer and supplier of high-quality furniture and home accessories, catering to both residential and commercial clients. Their product line includes a wide range of styles, materials, and designs to suit diverse tastes and preferences.', '_last_edited_by': 'Pelagia Alethea Mordoch', '_last_edited_date': '2035-01-01T00:00:00', '_date_added': '2035-01-01T00:00:00', '_raw_source': 'Existing Corporate Structure Data', '_algorithm': 'Automatic Import'}\n",
      "Node Abbott-Harrison: {'type': 'Entity.Organization.Company', 'country': 'Uzifrica', 'ProductServices': 'Food products', 'PointOfContact': 'Steven Robertson', 'HeadOfOrg': 'Jules Labbé', 'founding_date': '2029-12-15T00:00:00', 'revenue': 0.0, 'TradeDescription': 'Abbott-Harrison is a leading manufacturer of high-quality food products, including baked goods, snacks, and beverages. With a focus on sustainability and nutritional value, their products are designed to meet the diverse needs of consumers.', '_last_edited_by': 'Pelagia Alethea Mordoch', '_last_edited_date': '2035-01-01T00:00:00', '_date_added': '2035-01-01T00:00:00', '_raw_source': 'Existing Corporate Structure Data', '_algorithm': 'Automatic Import'}\n",
      "Node Abbott-Ibarra: {'type': 'Entity.Organization.Company', 'country': 'Islavaragon', 'ProductServices': 'Unknown', 'PointOfContact': 'Anthony Wyatt', 'HeadOfOrg': 'Dr. Víctor Hurtado', 'founding_date': '1972-02-16T00:00:00', 'revenue': 0.0, 'TradeDescription': 'Unknown', '_last_edited_by': 'Pelagia Alethea Mordoch', '_last_edited_date': '2035-01-01T00:00:00', '_date_added': '2035-01-01T00:00:00', '_raw_source': 'Existing Corporate Structure Data', '_algorithm': 'Automatic Import'}\n",
      "Node Abbott-Sullivan: {'type': 'Entity.Organization.Company', 'country': 'Oceanus', 'ProductServices': 'Unknown', 'PointOfContact': 'Tracy Schmidt', 'HeadOfOrg': 'Jacques Le Roux de Leclercq', 'founding_date': '1954-04-06T00:00:00', 'revenue': 4746.67, 'TradeDescription': 'Unknown', '_last_edited_by': 'Pelagia Alethea Mordoch', '_last_edited_date': '2035-01-01T00:00:00', '_date_added': '2035-01-01T00:00:00', '_raw_source': 'Existing Corporate Structure Data', '_algorithm': 'Automatic Import'}\n"
     ]
    }
   ],
   "source": [
    "# Print the first 5 nodes with their attributes\n",
    "print(\"Sample nodes with attributes:\")\n",
    "for node, attrs in list(G.nodes(data=True))[:5]:\n",
    "    print(f\"Node {node}: {attrs}\")\n"
   ]
  },
  {
   "cell_type": "code",
   "execution_count": 8,
   "id": "2b8fddbe-5ced-4be0-8e15-ce2ae6fa4eba",
   "metadata": {},
   "outputs": [
    {
     "data": {
      "text/plain": [
       "<networkx.classes.multidigraph.MultiDiGraph at 0x7f37f1eca210>"
      ]
     },
     "execution_count": 8,
     "metadata": {},
     "output_type": "execute_result"
    }
   ],
   "source": [
    "G"
   ]
  },
  {
   "cell_type": "code",
   "execution_count": 6,
   "id": "8b1dbd10-fcd0-4dab-b3e3-ffeefb6ce43a",
   "metadata": {},
   "outputs": [
    {
     "ename": "KeyError",
     "evalue": "'start_date'",
     "output_type": "error",
     "traceback": [
      "\u001b[0;31m---------------------------------------------------------------------------\u001b[0m",
      "\u001b[0;31mKeyError\u001b[0m                                  Traceback (most recent call last)",
      "Cell \u001b[0;32mIn[6], line 6\u001b[0m\n\u001b[1;32m      4\u001b[0m \u001b[38;5;66;03m# Convert dates to datetime objects\u001b[39;00m\n\u001b[1;32m      5\u001b[0m \u001b[38;5;28;01mfor\u001b[39;00m u, v, d \u001b[38;5;129;01min\u001b[39;00m G\u001b[38;5;241m.\u001b[39medges(data\u001b[38;5;241m=\u001b[39m\u001b[38;5;28;01mTrue\u001b[39;00m):\n\u001b[0;32m----> 6\u001b[0m     d[\u001b[38;5;124m'\u001b[39m\u001b[38;5;124mstart_date\u001b[39m\u001b[38;5;124m'\u001b[39m] \u001b[38;5;241m=\u001b[39m pd\u001b[38;5;241m.\u001b[39mto_datetime(\u001b[43md\u001b[49m\u001b[43m[\u001b[49m\u001b[38;5;124;43m'\u001b[39;49m\u001b[38;5;124;43mstart_date\u001b[39;49m\u001b[38;5;124;43m'\u001b[39;49m\u001b[43m]\u001b[49m)\n\u001b[1;32m      7\u001b[0m     \u001b[38;5;28;01mif\u001b[39;00m \u001b[38;5;124m'\u001b[39m\u001b[38;5;124mend_date\u001b[39m\u001b[38;5;124m'\u001b[39m \u001b[38;5;129;01min\u001b[39;00m d:\n\u001b[1;32m      8\u001b[0m         d[\u001b[38;5;124m'\u001b[39m\u001b[38;5;124mend_date\u001b[39m\u001b[38;5;124m'\u001b[39m] \u001b[38;5;241m=\u001b[39m pd\u001b[38;5;241m.\u001b[39mto_datetime(d[\u001b[38;5;124m'\u001b[39m\u001b[38;5;124mend_date\u001b[39m\u001b[38;5;124m'\u001b[39m])\n",
      "\u001b[0;31mKeyError\u001b[0m: 'start_date'"
     ]
    }
   ],
   "source": [
    "\n",
    "# Convert dates to datetime objects\n",
    "for u, v, d in G.edges(data=True):\n",
    "    d['start_date'] = pd.to_datetime(d['start_date'])\n",
    "    if 'end_date' in d:\n",
    "        d['end_date'] = pd.to_datetime(d['end_date'])\n",
    "    else:\n",
    "        d['end_date'] = pd.Timestamp.now()\n",
    "\n",
    "# Extract all unique dates for the time slider\n",
    "all_dates = sorted(set(d['start_date'] for _, _, d in G.edges(data=True)).union(\n",
    "    d['end_date'] for _, _, d in G.edges(data=True)))\n",
    "\n",
    "# Function to filter edges based on the selected date\n",
    "def filter_edges(date):\n",
    "    edges = [(u, v, d) for u, v, d in G.edges(data=True) if d['start_date'] <= date <= d['end_date']]\n",
    "    return edges\n",
    "\n",
    "# Create the figure\n",
    "fig = make_subplots(rows=1, cols=1)\n",
    "\n",
    "# Initial plot with the first date\n",
    "initial_date = all_dates[0]\n",
    "edges = filter_edges(initial_date)\n",
    "edge_x = []\n",
    "edge_y = []\n",
    "\n",
    "for edge in edges:\n",
    "    x0, y0 = G.nodes[edge[0]]['x'], G.nodes[edge[0]]['y']\n",
    "    x1, y1 = G.nodes[edge[1]]['x'], G.nodes[edge[1]]['y']\n",
    "    edge_x.extend([x0, x1, None])\n",
    "    edge_y.extend([y0, y1, None])\n",
    "\n",
    "edge_trace = go.Scatter(\n",
    "    x=edge_x, y=edge_y,\n",
    "    line=dict(width=0.5, color='#888'),\n",
    "    hoverinfo='none',\n",
    "    mode='lines')\n",
    "\n",
    "fig.add_trace(edge_trace)\n",
    "\n",
    "# Adding nodes\n",
    "node_x = []\n",
    "node_y = []\n",
    "node_text = []\n",
    "\n",
    "for node in G.nodes(data=True):\n",
    "    x, y = node[1]['x'], node[1]['y']\n",
    "    node_x.append(x)\n",
    "    node_y.append(y)\n",
    "    node_text.append(node[0])\n",
    "\n",
    "node_trace = go.Scatter(\n",
    "    x=node_x, y=node_y,\n",
    "    mode='markers',\n",
    "    hoverinfo='text',\n",
    "    marker=dict(\n",
    "        showscale=True,\n",
    "        colorscale='YlGnBu',\n",
    "        size=10,\n",
    "        colorbar=dict(\n",
    "            thickness=15,\n",
    "            title='Node Connections',\n",
    "            xanchor='left',\n",
    "            titleside='right'\n",
    "        )),\n",
    "    text=node_text)\n",
    "\n",
    "fig.add_trace(node_trace)\n",
    "\n",
    "# Adding time slider\n",
    "fig.update_layout(\n",
    "    sliders=[{\n",
    "        'steps': [{\n",
    "            'args': [[str(date)], {'frame': {'duration': 300, 'redraw': True}, 'mode': 'immediate'}],\n",
    "            'label': str(date),\n",
    "            'method': 'animate'\n",
    "        } for date in all_dates],\n",
    "        'transition': {'duration': 300},\n",
    "        'x': 0.1,\n",
    "        'len': 0.9\n",
    "    }],\n",
    "    updatemenus=[{\n",
    "        'buttons': [\n",
    "            {\n",
    "                'args': [None, {'frame': {'duration': 500, 'redraw': True}, 'fromcurrent': True}],\n",
    "                'label': 'Play',\n",
    "                'method': 'animate'\n",
    "            },\n",
    "            {\n",
    "                'args': [[None], {'frame': {'duration': 0, 'redraw': True}, 'mode': 'immediate'}],\n",
    "                'label': 'Pause',\n",
    "                'method': 'animate'\n",
    "            }\n",
    "        ],\n",
    "        'direction': 'left',\n",
    "        'pad': {'r': 10, 't': 87},\n",
    "        'showactive': False,\n",
    "        'type': 'buttons',\n",
    "        'x': 0.1,\n",
    "        'xanchor': 'right',\n",
    "        'y': 0,\n",
    "        'yanchor': 'top'\n",
    "    }]\n",
    ")\n",
    "\n",
    "# Adding frames for the animation\n",
    "frames = []\n",
    "for date in all_dates:\n",
    "    edges = filter_edges(date)\n",
    "    edge_x = []\n",
    "    edge_y = []\n",
    "\n",
    "    for edge in edges:\n",
    "        x0, y0 = G.nodes[edge[0]]['x'], G.nodes[edge[0]]['y']\n",
    "        x1, y1 = G.nodes[edge[1]]['x'], G.nodes[edge[1]]['y']\n",
    "        edge_x.extend([x0, x1, None])\n",
    "        edge_y.extend([y0, y1, None])\n",
    "\n",
    "    frames.append(go.Frame(data=[go.Scatter(x=edge_x, y=edge_y, mode='lines')], name=str(date)))\n",
    "\n",
    "fig.frames = frames\n",
    "\n",
    "fig.update_layout(title_text='Interactive Temporal Network Graph', showlegend=False)\n",
    "\n",
    "fig.show()\n"
   ]
  },
  {
   "cell_type": "code",
   "execution_count": null,
   "id": "4257e437-11a4-453e-8d82-73c1ae5e79f6",
   "metadata": {},
   "outputs": [],
   "source": []
  }
 ],
 "metadata": {
  "kernelspec": {
   "display_name": "Python 3 (ipykernel)",
   "language": "python",
   "name": "python3"
  },
  "language_info": {
   "codemirror_mode": {
    "name": "ipython",
    "version": 3
   },
   "file_extension": ".py",
   "mimetype": "text/x-python",
   "name": "python",
   "nbconvert_exporter": "python",
   "pygments_lexer": "ipython3",
   "version": "3.11.2"
  }
 },
 "nbformat": 4,
 "nbformat_minor": 5
}
